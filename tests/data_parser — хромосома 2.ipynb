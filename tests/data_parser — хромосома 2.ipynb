{
 "cells": [
  {
   "cell_type": "code",
   "execution_count": 1,
   "id": "7b00e8cb-3955-4ddf-b638-c4a5f58c9695",
   "metadata": {},
   "outputs": [],
   "source": [
    "from Bio import SeqIO\n",
    "from BCBio import GFF\n",
    "import numpy as np\n",
    "import pandas as pd"
   ]
  },
  {
   "attachments": {},
   "cell_type": "markdown",
   "id": "ee8f10a4-e1d1-4937-bc66-cd09c5f7d3b3",
   "metadata": {
    "tags": []
   },
   "source": [
    "## Parse data"
   ]
  },
  {
   "cell_type": "code",
   "execution_count": 2,
   "id": "9a2bb0fe-f459-453f-b9bb-714e2e5a1fa9",
   "metadata": {},
   "outputs": [],
   "source": [
    "sequence_fasta = '/home/Anton2008/projects/my_github/dna_ai/data/chromosome1.fasta'# последовательность \n",
    "gene_data_gff = '/home/Anton2008/projects/my_github/dna_ai/data/genomic.gff' # описание последовательности  "
   ]
  },
  {
   "cell_type": "code",
   "execution_count": 3,
   "id": "e5ca80cc",
   "metadata": {},
   "outputs": [],
   "source": [
    "source = \"BestRefSeq\""
   ]
  },
  {
   "cell_type": "code",
   "execution_count": 4,
   "id": "b5c328c5",
   "metadata": {},
   "outputs": [],
   "source": [
    "with open(sequence_fasta) as file:\n",
    "    seq_dict = SeqIO.to_dict(SeqIO.parse(file, \"fasta\"))\n"
   ]
  },
  {
   "cell_type": "code",
   "execution_count": 5,
   "id": "fc114e18",
   "metadata": {},
   "outputs": [
    {
     "data": {
      "text/plain": [
       "'NC_000001.11'"
      ]
     },
     "execution_count": 5,
     "metadata": {},
     "output_type": "execute_result"
    }
   ],
   "source": [
    "record_id = list(seq_dict.keys())[0]\n",
    "record_id"
   ]
  },
  {
   "cell_type": "code",
   "execution_count": 6,
   "id": "31aa6202",
   "metadata": {},
   "outputs": [],
   "source": [
    "limit_info = dict(gff_id=[record_id,], gff_source=[source,])"
   ]
  },
  {
   "cell_type": "code",
   "execution_count": 7,
   "id": "c8033233",
   "metadata": {},
   "outputs": [],
   "source": [
    "with open(gene_data_gff) as file:\n",
    "    gen_data = next(GFF.parse(file, limit_info=limit_info, base_dict=seq_dict))\n",
    "        \n",
    "        "
   ]
  },
  {
   "cell_type": "code",
   "execution_count": 8,
   "id": "741cdfce",
   "metadata": {},
   "outputs": [
    {
     "data": {
      "text/plain": [
       "3177"
      ]
     },
     "execution_count": 8,
     "metadata": {},
     "output_type": "execute_result"
    }
   ],
   "source": [
    "len(gen_data.features)"
   ]
  },
  {
   "cell_type": "code",
   "execution_count": 9,
   "id": "57e1f0e8",
   "metadata": {},
   "outputs": [
    {
     "data": {
      "text/plain": [
       "248956422"
      ]
     },
     "execution_count": 9,
     "metadata": {},
     "output_type": "execute_result"
    }
   ],
   "source": [
    "len(gen_data.seq)"
   ]
  },
  {
   "cell_type": "code",
   "execution_count": 10,
   "id": "2cfe5d09",
   "metadata": {},
   "outputs": [
    {
     "data": {
      "text/plain": [
       "ExactPosition(14409)"
      ]
     },
     "execution_count": 10,
     "metadata": {},
     "output_type": "execute_result"
    }
   ],
   "source": [
    "gen_data.features[0].location.end"
   ]
  },
  {
   "cell_type": "code",
   "execution_count": 11,
   "id": "2ba288f2",
   "metadata": {},
   "outputs": [],
   "source": [
    "target_mask = np.zeros(len(gen_data.seq))\n",
    "target = \"CDS\"\n",
    "\n",
    "def dfs(feature, target_mask):\n",
    "    for feature in feature.sub_features:\n",
    "        if feature.type == target:\n",
    "            start_index = int(feature.location.start)\n",
    "            end_index = int(feature.location.end)\n",
    "            if not np.all(target_mask[start_index:end_index]):\n",
    "                target_mask[start_index:end_index] = 1\n",
    "        dfs(feature, target_mask)\n",
    "\n",
    "\n",
    "for feature in gen_data.features:\n",
    "    if feature.type == target:\n",
    "        start_index = int(feature.location.start)\n",
    "        end_index = int(feature.location.end)\n",
    "        if not np.all(target_mask[start_index:end_index]):\n",
    "            target_mask[start_index:end_index] = 1\n",
    "    dfs(feature, target_mask)"
   ]
  },
  {
   "cell_type": "code",
   "execution_count": 12,
   "id": "c46dda59",
   "metadata": {},
   "outputs": [
    {
     "data": {
      "text/plain": [
       "0.01410900338212605"
      ]
     },
     "execution_count": 12,
     "metadata": {},
     "output_type": "execute_result"
    }
   ],
   "source": [
    "3512527.0 / len(target_mask)"
   ]
  },
  {
   "cell_type": "code",
   "execution_count": 13,
   "id": "27ddae1a",
   "metadata": {},
   "outputs": [],
   "source": [
    "def make_masked_sequence(sequence: list):\n",
    "    masked_sequence = np.zeros((len(sequence), 5), dtype=int) # columns are A, C, G, T, N\n",
    "    letter_index_dict = {\n",
    "        'A': 0,\n",
    "        'C': 1,\n",
    "        'G': 2,\n",
    "        'T': 3,\n",
    "        'N': 4\n",
    "    }\n",
    "    for i in range(len(sequence)):\n",
    "         \n",
    "         if sequence[i] not in letter_index_dict:    # if letter is unclear, make in N as NaN\n",
    "               column = letter_index_dict['N']\n",
    "         else:\n",
    "               column = letter_index_dict[sequence[i]]\n",
    "         masked_sequence[i][column] = 1\n",
    "    return masked_sequence"
   ]
  },
  {
   "cell_type": "code",
   "execution_count": 15,
   "id": "3e74c214",
   "metadata": {},
   "outputs": [],
   "source": [
    "sequence = list(gen_data.seq)"
   ]
  },
  {
   "cell_type": "code",
   "execution_count": 4,
   "id": "6af5f34a",
   "metadata": {},
   "outputs": [],
   "source": [
    "mem = list('ASdasdasdsdasda')"
   ]
  },
  {
   "cell_type": "code",
   "execution_count": 22,
   "id": "2b9448e3",
   "metadata": {},
   "outputs": [],
   "source": [
    "kek = make_masked_sequence(sequence)"
   ]
  },
  {
   "cell_type": "code",
   "execution_count": 82,
   "id": "571a217d",
   "metadata": {},
   "outputs": [
    {
     "data": {
      "text/plain": [
       "248956422"
      ]
     },
     "execution_count": 82,
     "metadata": {},
     "output_type": "execute_result"
    }
   ],
   "source": [
    "len(target_mask)\n",
    "\n"
   ]
  },
  {
   "cell_type": "code",
   "execution_count": 134,
   "id": "78532c18",
   "metadata": {},
   "outputs": [
    {
     "name": "stdout",
     "output_type": "stream",
     "text": [
      "<bound method SeqFeature.extract of SeqFeature(FeatureLocation(ExactPosition(685715), ExactPosition(686654), strand=-1), type='mRNA', id='rna-NM_001005277.1')>\n",
      "<bound method SeqFeature.extract of SeqFeature(FeatureLocation(ExactPosition(960583), ExactPosition(965719), strand=1), type='mRNA', id='rna-NM_198317.3')>\n",
      "<bound method SeqFeature.extract of SeqFeature(FeatureLocation(ExactPosition(1242452), ExactPosition(1246722), strand=-1), type='mRNA', id='rna-NM_001014980.3')>\n",
      "<bound method SeqFeature.extract of SeqFeature(FeatureLocation(ExactPosition(1292390), ExactPosition(1307930), strand=-1), type='mRNA', id='rna-NM_030649.3')>\n",
      "<bound method SeqFeature.extract of SeqFeature(FeatureLocation(ExactPosition(1324801), ExactPosition(1328896), strand=1), type='mRNA', id='rna-NM_001029885.2')>\n",
      "<bound method SeqFeature.extract of SeqFeature(FeatureLocation(ExactPosition(1331279), ExactPosition(1335314), strand=1), type='mRNA', id='rna-NM_152228.3')>\n",
      "<bound method SeqFeature.extract of SeqFeature(FeatureLocation(ExactPosition(1632172), ExactPosition(1634654), strand=1), type='mRNA', id='rna-NM_006983.2')>\n",
      "<bound method SeqFeature.extract of SeqFeature(FeatureLocation(ExactPosition(1917590), ExactPosition(1919279), strand=-1), type='mRNA', id='rna-NM_178545.4')>\n",
      "<bound method SeqFeature.extract of SeqFeature(FeatureLocation(ExactPosition(2019344), ExactPosition(2030758), strand=1), type='mRNA', id='rna-NM_000815.5')>\n",
      "<bound method SeqFeature.extract of SeqFeature(FeatureLocation(ExactPosition(2228318), ExactPosition(2310213), strand=1), type='mRNA', id='rna-NM_003036.4')>\n",
      "<bound method SeqFeature.extract of SeqFeature(FeatureLocation(ExactPosition(2508536), ExactPosition(2526596), strand=-1), type='mRNA', id='rna-NM_018216.4')>\n",
      "<bound method SeqFeature.extract of SeqFeature(FeatureLocation(ExactPosition(2528744), ExactPosition(2530263), strand=-1), type='mRNA', id='rna-NM_001010926.4')>\n",
      "<bound method SeqFeature.extract of SeqFeature(FeatureLocation(ExactPosition(3454664), ExactPosition(3481113), strand=1), type='mRNA', id='rna-NM_014448.4')>\n",
      "<bound method SeqFeature.extract of SeqFeature(FeatureLocation(ExactPosition(3630769), ExactPosition(3650103), strand=-1), type='mRNA', id='rna-NM_017818.4')>\n",
      "<bound method SeqFeature.extract of SeqFeature(FeatureLocation(ExactPosition(3812085), ExactPosition(3857211), strand=-1), type='mRNA', id='rna-NM_014704.4')>\n",
      "<bound method SeqFeature.extract of SeqFeature(FeatureLocation(ExactPosition(3889132), ExactPosition(3900272), strand=-1), type='mRNA', id='rna-NM_207356.3')>\n",
      "<bound method SeqFeature.extract of SeqFeature(FeatureLocation(ExactPosition(6206118), ExactPosition(6221299), strand=1), type='mRNA', id='rna-NM_207396.3')>\n",
      "<bound method SeqFeature.extract of SeqFeature(FeatureLocation(ExactPosition(6221192), ExactPosition(6235964), strand=-1), type='mRNA', id='rna-NM_012405.4')>\n",
      "<bound method SeqFeature.extract of SeqFeature(FeatureLocation(ExactPosition(6247352), ExactPosition(6261098), strand=-1), type='mRNA', id='rna-NM_207370.4')>\n",
      "<bound method SeqFeature.extract of SeqFeature(FeatureLocation(ExactPosition(6521346), ExactPosition(6554513), strand=-1), type='mRNA', id='rna-NM_024654.5')>\n",
      "<bound method SeqFeature.extract of SeqFeature(FeatureLocation(ExactPosition(6613730), ExactPosition(6624030), strand=1), type='mRNA', id='rna-NM_153812.3')>\n",
      "<bound method SeqFeature.extract of SeqFeature(FeatureLocation(ExactPosition(6634169), ExactPosition(6701816), strand=-1), type='mRNA', id='rna-NM_018198.4')>\n",
      "<bound method SeqFeature.extract of SeqFeature(FeatureLocation(ExactPosition(7915870), ExactPosition(7940839), strand=-1), type='mRNA', id='rna-NM_001561.6')>\n",
      "<bound method SeqFeature.extract of SeqFeature(FeatureLocation(ExactPosition(8011726), ExactPosition(8026309), strand=-1), type='mRNA', id='rna-NM_018948.4')>\n",
      "<bound method SeqFeature.extract of SeqFeature(FeatureLocation(ExactPosition(9002972), ExactPosition(9026423), strand=-1), type='mRNA', id='rna-NM_207420.3')>\n",
      "<bound method SeqFeature.extract of SeqFeature(FeatureLocation(ExactPosition(9100304), ExactPosition(9129102), strand=-1), type='mRNA', id='rna-NM_024980.5')>\n",
      "<bound method SeqFeature.extract of SeqFeature(FeatureLocation(ExactPosition(10474949), ExactPosition(10630758), strand=1), type='mRNA', id='rna-NM_004565.3')>\n",
      "<bound method SeqFeature.extract of SeqFeature(FeatureLocation(ExactPosition(11012653), ExactPosition(11025492), strand=1), type='mRNA', id='rna-NM_007375.4')>\n",
      "<bound method SeqFeature.extract of SeqFeature(FeatureLocation(ExactPosition(11189354), ExactPosition(11195981), strand=1), type='mRNA', id='rna-NM_021146.4')>\n",
      "<bound method SeqFeature.extract of SeqFeature(FeatureLocation(ExactPosition(11479154), ExactPosition(11537551), strand=1), type='mRNA', id='rna-NM_020780.2')>\n",
      "<bound method SeqFeature.extract of SeqFeature(FeatureLocation(ExactPosition(11664199), ExactPosition(11674354), strand=1), type='mRNA', id='rna-NM_018438.6')>\n",
      "<bound method SeqFeature.extract of SeqFeature(FeatureLocation(ExactPosition(11691709), ExactPosition(11725857), strand=1), type='mRNA', id='rna-NM_198545.4')>\n",
      "<bound method SeqFeature.extract of SeqFeature(FeatureLocation(ExactPosition(11762192), ExactPosition(11789585), strand=1), type='mRNA', id='rna-NM_001010881.2')>\n",
      "<bound method SeqFeature.extract of SeqFeature(FeatureLocation(ExactPosition(12019497), ExactPosition(12032045), strand=1), type='mRNA', id='rna-NM_021933.4')>\n",
      "<bound method SeqFeature.extract of SeqFeature(FeatureLocation(ExactPosition(12166990), ExactPosition(12209220), strand=1), type='mRNA', id='rna-NM_001066.3')>\n",
      "<bound method SeqFeature.extract of SeqFeature(FeatureLocation(ExactPosition(12644084), ExactPosition(12667076), strand=1), type='mRNA', id='rna-NM_001013630.2')>\n",
      "<bound method SeqFeature.extract of SeqFeature(FeatureLocation(ExactPosition(12824604), ExactPosition(12831410), strand=-1), type='mRNA', id='rna-NM_001146344.3')>\n",
      "<bound method SeqFeature.extract of SeqFeature(FeatureLocation(ExactPosition(12857085), ExactPosition(12861909), strand=1), type='mRNA', id='rna-NM_023014.1')>\n",
      "<bound method SeqFeature.extract of SeqFeature(FeatureLocation(ExactPosition(13196187), ExactPosition(13201409), strand=-1), type='mRNA', id='rna-NM_001291380.1')>\n",
      "<bound method SeqFeature.extract of SeqFeature(FeatureLocation(ExactPosition(13281303), ExactPosition(13285137), strand=-1), type='mRNA', id='rna-NM_001012276.3')>\n",
      "<bound method SeqFeature.extract of SeqFeature(FeatureLocation(ExactPosition(13474972), ExactPosition(13514003), strand=-1), type='mRNA', id='rna-NM_001010847.2')>\n",
      "<bound method SeqFeature.extract of SeqFeature(FeatureLocation(ExactPosition(15409887), ExactPosition(15430339), strand=1), type='mRNA', id='rna-NM_024329.6')>\n",
      "<bound method SeqFeature.extract of SeqFeature(FeatureLocation(ExactPosition(15438442), ExactPosition(15449242), strand=1), type='mRNA', id='rna-NM_007272.3')>\n",
      "<bound method SeqFeature.extract of SeqFeature(FeatureLocation(ExactPosition(15736257), ExactPosition(15741392), strand=1), type='mRNA', id='rna-NM_207348.3')>\n",
      "<bound method SeqFeature.extract of SeqFeature(FeatureLocation(ExactPosition(16197853), ExactPosition(16212652), strand=-1), type='mRNA', id='rna-NM_153213.5')>\n",
      "<bound method SeqFeature.extract of SeqFeature(FeatureLocation(ExactPosition(16231691), ExactPosition(16237183), strand=-1), type='mRNA', id='rna-NM_030907.4')>\n",
      "<bound method SeqFeature.extract of SeqFeature(FeatureLocation(ExactPosition(16246839), ExactPosition(16352480), strand=-1), type='mRNA', id='rna-NM_018994.3')>\n",
      "<bound method SeqFeature.extract of SeqFeature(FeatureLocation(ExactPosition(16921930), ExactPosition(16972964), strand=1), type='mRNA', id='rna-NM_014675.5')>\n",
      "<bound method SeqFeature.extract of SeqFeature(FeatureLocation(ExactPosition(17066760), ExactPosition(17119451), strand=-1), type='mRNA', id='rna-NM_007365.3')>\n",
      "<bound method SeqFeature.extract of SeqFeature(FeatureLocation(ExactPosition(17205127), ExactPosition(17246007), strand=1), type='mRNA', id='rna-NM_013358.3')>\n",
      "<bound method SeqFeature.extract of SeqFeature(FeatureLocation(ExactPosition(17249097), ExactPosition(17284233), strand=1), type='mRNA', id='rna-NM_016233.2')>\n",
      "<bound method SeqFeature.extract of SeqFeature(FeatureLocation(ExactPosition(17308196), ExactPosition(17364004), strand=1), type='mRNA', id='rna-NM_012387.3')>\n",
      "<bound method SeqFeature.extract of SeqFeature(FeatureLocation(ExactPosition(17755332), ExactPosition(17827063), strand=1), type='mRNA', id='rna-NM_030812.3')>\n",
      "<bound method SeqFeature.extract of SeqFeature(FeatureLocation(ExactPosition(18107797), ExactPosition(18378483), strand=1), type='mRNA', id='rna-NM_032880.5')>\n",
      "<bound method SeqFeature.extract of SeqFeature(FeatureLocation(ExactPosition(18904279), ExactPosition(18956676), strand=-1), type='mRNA', id='rna-NM_001136265.2')>\n",
      "<bound method SeqFeature.extract of SeqFeature(FeatureLocation(ExactPosition(19074509), ExactPosition(19210266), strand=-1), type='mRNA', id='rna-NM_020765.3')>\n",
      "<bound method SeqFeature.extract of SeqFeature(FeatureLocation(ExactPosition(19251804), ExactPosition(19260128), strand=1), type='mRNA', id='rna-NM_016183.4')>\n",
      "<bound method SeqFeature.extract of SeqFeature(FeatureLocation(ExactPosition(19282572), ExactPosition(19288770), strand=-1), type='mRNA', id='rna-NM_012067.3')>\n",
      "<bound method SeqFeature.extract of SeqFeature(FeatureLocation(ExactPosition(19882394), ExactPosition(19912945), strand=1), type='mRNA', id='rna-NM_015207.2')>\n",
      "<bound method SeqFeature.extract of SeqFeature(FeatureLocation(ExactPosition(20070193), ExactPosition(20091911), strand=1), type='mRNA', id='rna-NM_000929.3')>\n",
      "<bound method SeqFeature.extract of SeqFeature(FeatureLocation(ExactPosition(20186095), ExactPosition(20196050), strand=1), type='mRNA', id='rna-NM_152376.5')>\n",
      "<bound method SeqFeature.extract of SeqFeature(FeatureLocation(ExactPosition(20499447), ExactPosition(20508151), strand=-1), type='mRNA', id='rna-NM_024544.3')>\n",
      "<bound method SeqFeature.extract of SeqFeature(FeatureLocation(ExactPosition(21977021), ExactPosition(21989354), strand=1), type='mRNA', id='rna-NM_007352.4')>\n",
      "<bound method SeqFeature.extract of SeqFeature(FeatureLocation(ExactPosition(22117312), ExactPosition(22143097), strand=-1), type='mRNA', id='rna-NM_030761.5')>\n",
      "<bound method SeqFeature.extract of SeqFeature(FeatureLocation(ExactPosition(23380908), ExactPosition(23424748), strand=-1), type='mRNA', id='rna-NM_003196.3')>\n",
      "<bound method SeqFeature.extract of SeqFeature(FeatureLocation(ExactPosition(23506437), ExactPosition(23531233), strand=-1), type='mRNA', id='rna-NM_004091.4')>\n",
      "<bound method SeqFeature.extract of SeqFeature(FeatureLocation(ExactPosition(23778417), ExactPosition(23788232), strand=1), type='mRNA', id='rna-NM_020362.5')>\n",
      "<bound method SeqFeature.extract of SeqFeature(FeatureLocation(ExactPosition(23791144), ExactPosition(23795539), strand=1), type='mRNA', id='rna-NM_007260.3')>\n",
      "<bound method SeqFeature.extract of SeqFeature(FeatureLocation(ExactPosition(23870514), ExactPosition(23913362), strand=-1), type='mRNA', id='rna-NM_001841.3')>\n",
      "<bound method SeqFeature.extract of SeqFeature(FeatureLocation(ExactPosition(23959827), ExactPosition(23963462), strand=1), type='mRNA', id='rna-NM_017761.4')>\n",
      "<bound method SeqFeature.extract of SeqFeature(FeatureLocation(ExactPosition(24556086), ExactPosition(24609328), strand=1), type='mRNA', id='rna-NM_001010980.5')>\n",
      "<bound method SeqFeature.extract of SeqFeature(FeatureLocation(ExactPosition(25338333), ExactPosition(25362361), strand=1), type='mRNA', id='rna-NM_014313.4')>\n",
      "<bound method SeqFeature.extract of SeqFeature(FeatureLocation(ExactPosition(25543605), ExactPosition(25568886), strand=1), type='mRNA', id='rna-NM_015627.3')>\n",
      "<bound method SeqFeature.extract of SeqFeature(FeatureLocation(ExactPosition(25861483), ExactPosition(25875708), strand=-1), type='mRNA', id='rna-NM_178422.6')>\n",
      "<bound method SeqFeature.extract of SeqFeature(FeatureLocation(ExactPosition(25959766), ExactPosition(25998063), strand=-1), type='mRNA', id='rna-NM_000437.4')>\n",
      "<bound method SeqFeature.extract of SeqFeature(FeatureLocation(ExactPosition(26021774), ExactPosition(26036464), strand=1), type='mRNA', id='rna-NM_004455.3')>\n",
      "<bound method SeqFeature.extract of SeqFeature(FeatureLocation(ExactPosition(26190601), ExactPosition(26202964), strand=1), type='mRNA', id='rna-NM_198137.2')>\n",
      "<bound method SeqFeature.extract of SeqFeature(FeatureLocation(ExactPosition(26321864), ExactPosition(26354130), strand=-1), type='mRNA', id='rna-NM_001039775.4')>\n",
      "<bound method SeqFeature.extract of SeqFeature(FeatureLocation(ExactPosition(26410816), ExactPosition(26429728), strand=1), type='mRNA', id='rna-NM_024674.6')>\n",
      "<bound method SeqFeature.extract of SeqFeature(FeatureLocation(ExactPosition(26890487), ExactPosition(26900467), strand=-1), type='mRNA', id='rna-NM_022078.3')>\n",
      "<bound method SeqFeature.extract of SeqFeature(FeatureLocation(ExactPosition(26921742), ExactPosition(26946871), strand=1), type='mRNA', id='rna-NM_006600.4')>\n",
      "<bound method SeqFeature.extract of SeqFeature(FeatureLocation(ExactPosition(26911488), ExactPosition(26913975), strand=-1), type='mRNA', id='rna-NM_021969.3')>\n",
      "<bound method SeqFeature.extract of SeqFeature(FeatureLocation(ExactPosition(26949561), ExactPosition(26960468), strand=-1), type='mRNA', id='rna-NM_152365.3')>\n",
      "<bound method SeqFeature.extract of SeqFeature(FeatureLocation(ExactPosition(26993691), ExactPosition(27000886), strand=1), type='mRNA', id='rna-NM_001013642.3')>\n",
      "<bound method SeqFeature.extract of SeqFeature(FeatureLocation(ExactPosition(27959972), ExactPosition(27968093), strand=1), type='mRNA', id='rna-NM_018053.4')>\n",
      "<bound method SeqFeature.extract of SeqFeature(FeatureLocation(ExactPosition(28259517), ExactPosition(28282491), strand=1), type='mRNA', id='rna-NM_031459.5')>\n",
      "<bound method SeqFeature.extract of SeqFeature(FeatureLocation(ExactPosition(29147742), ExactPosition(29181900), strand=-1), type='mRNA', id='rna-NM_005626.5')>\n",
      "<bound method SeqFeature.extract of SeqFeature(FeatureLocation(ExactPosition(30732468), ExactPosition(30757774), strand=-1), type='mRNA', id='rna-NM_006762.3')>\n",
      "<bound method SeqFeature.extract of SeqFeature(FeatureLocation(ExactPosition(30869465), ExactPosition(30908758), strand=-1), type='mRNA', id='rna-NM_014654.4')>\n",
      "<bound method SeqFeature.extract of SeqFeature(FeatureLocation(ExactPosition(31617688), ExactPosition(31627613), strand=1), type='mRNA', id='rna-NM_001525.3')>\n",
      "<bound method SeqFeature.extract of SeqFeature(FeatureLocation(ExactPosition(31652262), ExactPosition(31704017), strand=-1), type='mRNA', id='rna-NM_001856.4')>\n",
      "<bound method SeqFeature.extract of SeqFeature(FeatureLocation(ExactPosition(32108055), ExactPosition(32176563), strand=1), type='mRNA', id='rna-NM_012316.5')>\n",
      "<bound method SeqFeature.extract of SeqFeature(FeatureLocation(ExactPosition(32292082), ExactPosition(32333626), strand=1), type='mRNA', id='rna-NM_004964.3')>\n",
      "<bound method SeqFeature.extract of SeqFeature(FeatureLocation(ExactPosition(32775238), ExactPosition(32817358), strand=-1), type='mRNA', id='rna-NM_003680.4')>\n",
      "<bound method SeqFeature.extract of SeqFeature(FeatureLocation(ExactPosition(32886490), ExactPosition(32894646), strand=1), type='mRNA', id='rna-NM_002143.3')>\n",
      "<bound method SeqFeature.extract of SeqFeature(FeatureLocation(ExactPosition(34755046), ExactPosition(34758512), strand=1), type='mRNA', id='rna-NM_005268.4')>\n",
      "<bound method SeqFeature.extract of SeqFeature(FeatureLocation(ExactPosition(34759739), ExactPosition(34762327), strand=1), type='mRNA', id='rna-NM_153212.3')>\n",
      "<bound method SeqFeature.extract of SeqFeature(FeatureLocation(ExactPosition(34792998), ExactPosition(34795747), strand=1), type='mRNA', id='rna-NM_002060.3')>\n",
      "<bound method SeqFeature.extract of SeqFeature(FeatureLocation(ExactPosition(34865435), ExactPosition(34929650), strand=-1), type='mRNA', id='rna-NM_001080418.3')>\n",
      "<bound method SeqFeature.extract of SeqFeature(FeatureLocation(ExactPosition(35433491), ExactPosition(35557403), strand=-1), type='mRNA', id='rna-NM_024874.5')>\n",
      "<bound method SeqFeature.extract of SeqFeature(FeatureLocation(ExactPosition(35573313), ExactPosition(35595328), strand=1), type='mRNA', id='rna-NM_178548.4')>\n",
      "<bound method SeqFeature.extract of SeqFeature(FeatureLocation(ExactPosition(36084093), ExactPosition(36088275), strand=1), type='mRNA', id='rna-NM_014466.3')>\n",
      "<bound method SeqFeature.extract of SeqFeature(FeatureLocation(ExactPosition(36088891), ExactPosition(36093932), strand=1), type='mRNA', id='rna-NM_017825.3')>\n",
      "<bound method SeqFeature.extract of SeqFeature(FeatureLocation(ExactPosition(37809573), ExactPosition(37859592), strand=-1), type='mRNA', id='rna-NM_005955.3')>\n",
      "<bound method SeqFeature.extract of SeqFeature(FeatureLocation(ExactPosition(38012733), ExactPosition(38024820), strand=1), type='mRNA', id='rna-NM_016037.4')>\n",
      "<bound method SeqFeature.extract of SeqFeature(FeatureLocation(ExactPosition(39491635), ExactPosition(39529869), strand=1), type='mRNA', id='rna-NM_181809.4')>\n",
      "<bound method SeqFeature.extract of SeqFeature(FeatureLocation(ExactPosition(39623434), ExactPosition(39639643), strand=-1), type='mRNA', id='rna-NM_014571.4')>\n",
      "<bound method SeqFeature.extract of SeqFeature(FeatureLocation(ExactPosition(39757181), ExactPosition(39788865), strand=-1), type='mRNA', id='rna-NM_001720.5')>\n",
      "<bound method SeqFeature.extract of SeqFeature(FeatureLocation(ExactPosition(40161386), ExactPosition(40240921), strand=1), type='mRNA', id='rna-NM_012421.4')>\n",
      "<bound method SeqFeature.extract of SeqFeature(FeatureLocation(ExactPosition(40258235), ExactPosition(40294180), strand=1), type='mRNA', id='rna-NM_005857.5')>\n",
      "<bound method SeqFeature.extract of SeqFeature(FeatureLocation(ExactPosition(40300488), ExactPosition(40317286), strand=-1), type='mRNA', id='rna-NM_001852.4')>\n",
      "<bound method SeqFeature.extract of SeqFeature(FeatureLocation(ExactPosition(40620679), ExactPosition(40665682), strand=-1), type='mRNA', id='rna-NM_014747.3')>\n",
      "<bound method SeqFeature.extract of SeqFeature(FeatureLocation(ExactPosition(42380791), ExactPosition(42424232), strand=1), type='mRNA', id='rna-NM_173642.4')>\n",
      "<bound method SeqFeature.extract of SeqFeature(FeatureLocation(ExactPosition(42807051), ExactPosition(42817397), strand=-1), type='mRNA', id='rna-NM_199342.4')>\n",
      "<bound method SeqFeature.extract of SeqFeature(FeatureLocation(ExactPosition(43147903), ExactPosition(43156396), strand=1), type='mRNA', id='rna-NM_001101376.3')>\n",
      "<bound method SeqFeature.extract of SeqFeature(FeatureLocation(ExactPosition(43946949), ExactPosition(43968022), strand=1), type='mRNA', id='rna-NM_014652.4')>\n",
      "<bound method SeqFeature.extract of SeqFeature(FeatureLocation(ExactPosition(44118820), ExactPosition(44135140), strand=1), type='mRNA', id='rna-NM_173484.4')>\n",
      "<bound method SeqFeature.extract of SeqFeature(FeatureLocation(ExactPosition(44674713), ExactPosition(44725591), strand=1), type='mRNA', id='rna-NM_001145636.2')>\n",
      "<bound method SeqFeature.extract of SeqFeature(FeatureLocation(ExactPosition(44783584), ExactPosition(44788170), strand=-1), type='mRNA', id='rna-NM_153274.3')>\n",
      "<bound method SeqFeature.extract of SeqFeature(FeatureLocation(ExactPosition(44800376), ExactPosition(44805990), strand=1), type='mRNA', id='rna-NM_004073.4')>\n",
      "<bound method SeqFeature.extract of SeqFeature(FeatureLocation(ExactPosition(45002547), ExactPosition(45011324), strand=-1), type='mRNA', id='rna-NM_024602.6')>\n",
      "<bound method SeqFeature.extract of SeqFeature(FeatureLocation(ExactPosition(45016398), ExactPosition(45206605), strand=-1), type='mRNA', id='rna-NM_020883.2')>\n",
      "<bound method SeqFeature.extract of SeqFeature(FeatureLocation(ExactPosition(45340169), ExactPosition(45343973), strand=1), type='mRNA', id='rna-NM_025077.4')>\n",
      "<bound method SeqFeature.extract of SeqFeature(FeatureLocation(ExactPosition(45627303), ExactPosition(45686533), strand=-1), type='mRNA', id='rna-NM_021639.5')>\n",
      "<bound method SeqFeature.extract of SeqFeature(FeatureLocation(ExactPosition(46175086), ExactPosition(46185962), strand=1), type='mRNA', id='rna-NM_005727.4')>\n",
      "<bound method SeqFeature.extract of SeqFeature(FeatureLocation(ExactPosition(46277461), ExactPosition(46303616), strand=-1), type='mRNA', id='rna-NM_006369.5')>\n",
      "<bound method SeqFeature.extract of SeqFeature(FeatureLocation(ExactPosition(47067230), ExactPosition(47118318), strand=1), type='mRNA', id='rna-NM_178134.3')>\n",
      "<bound method SeqFeature.extract of SeqFeature(FeatureLocation(ExactPosition(47760527), ExactPosition(47997385), strand=-1), type='mRNA', id='rna-NM_001194986.2')>\n",
      "<bound method SeqFeature.extract of SeqFeature(FeatureLocation(ExactPosition(50417549), ExactPosition(50423443), strand=-1), type='mRNA', id='rna-NM_032110.3')>\n",
      "<bound method SeqFeature.extract of SeqFeature(FeatureLocation(ExactPosition(50437027), ExactPosition(50960267), strand=-1), type='mRNA', id='rna-NM_007051.3')>\n",
      "<bound method SeqFeature.extract of SeqFeature(FeatureLocation(ExactPosition(51907955), ExactPosition(51990700), strand=-1), type='mRNA', id='rna-NM_002867.4')>\n",
      "<bound method SeqFeature.extract of SeqFeature(FeatureLocation(ExactPosition(52602370), ExactPosition(52609051), strand=1), type='mRNA', id='rna-NM_015696.5')>\n",
      "<bound method SeqFeature.extract of SeqFeature(FeatureLocation(ExactPosition(52726452), ExactPosition(52827336), strand=1), type='mRNA', id='rna-NM_024646.3')>\n",
      "<bound method SeqFeature.extract of SeqFeature(FeatureLocation(ExactPosition(54609180), ExactPosition(54623525), strand=-1), type='mRNA', id='rna-NM_176782.3')>\n",
      "<bound method SeqFeature.extract of SeqFeature(FeatureLocation(ExactPosition(54980627), ExactPosition(54992288), strand=1), type='mRNA', id='rna-NM_182532.3')>\n",
      "<bound method SeqFeature.extract of SeqFeature(FeatureLocation(ExactPosition(55066358), ExactPosition(55215364), strand=-1), type='mRNA', id='rna-NM_015306.3')>\n",
      "<bound method SeqFeature.extract of SeqFeature(FeatureLocation(ExactPosition(56645313), ExactPosition(56715335), strand=1), type='mRNA', id='rna-NM_006252.4')>\n",
      "<bound method SeqFeature.extract of SeqFeature(FeatureLocation(ExactPosition(56718788), ExactPosition(56819404), strand=-1), type='mRNA', id='rna-NM_001004303.5')>\n",
      "<bound method SeqFeature.extract of SeqFeature(FeatureLocation(ExactPosition(56854796), ExactPosition(56918223), strand=1), type='mRNA', id='rna-NM_000562.3')>\n",
      "<bound method SeqFeature.extract of SeqFeature(FeatureLocation(ExactPosition(58654742), ExactPosition(58700062), strand=-1), type='mRNA', id='rna-NM_001085487.3')>\n",
      "<bound method SeqFeature.extract of SeqFeature(FeatureLocation(ExactPosition(59814948), ExactPosition(59876322), strand=1), type='mRNA', id='rna-NM_015888.6')>\n",
      "<bound method SeqFeature.extract of SeqFeature(FeatureLocation(ExactPosition(59990393), ExactPosition(60073770), strand=-1), type='mRNA', id='rna-NM_152377.3')>\n",
      "<bound method SeqFeature.extract of SeqFeature(FeatureLocation(ExactPosition(63523524), ExactPosition(63572693), strand=1), type='mRNA', id='rna-NM_032437.4')>\n",
      "<bound method SeqFeature.extract of SeqFeature(FeatureLocation(ExactPosition(66752458), ExactPosition(66779047), strand=1), type='mRNA', id='rna-NM_152665.3')>\n",
      "<bound method SeqFeature.extract of SeqFeature(FeatureLocation(ExactPosition(66999349), ExactPosition(67054148), strand=-1), type='mRNA', id='rna-NM_015139.3')>\n",
      "<bound method SeqFeature.extract of SeqFeature(FeatureLocation(ExactPosition(67166453), ExactPosition(67259979), strand=1), type='mRNA', id='rna-NM_144701.3')>\n",
      "<bound method SeqFeature.extract of SeqFeature(FeatureLocation(ExactPosition(67701474), ExactPosition(67833467), strand=-1), type='mRNA', id='rna-NM_018841.6')>\n",
      "<bound method SeqFeature.extract of SeqFeature(FeatureLocation(ExactPosition(70144804), ExactPosition(70205579), strand=-1), type='mRNA', id='rna-NM_017768.5')>\n",
      "<bound method SeqFeature.extract of SeqFeature(FeatureLocation(ExactPosition(70258998), ExactPosition(70354722), strand=-1), type='mRNA', id='rna-NM_030816.5')>\n",
      "<bound method SeqFeature.extract of SeqFeature(FeatureLocation(ExactPosition(71395942), ExactPosition(72282539), strand=-1), type='mRNA', id='rna-NM_173808.3')>\n",
      "<bound method SeqFeature.extract of SeqFeature(FeatureLocation(ExactPosition(74568122), ExactPosition(74673792), strand=-1), type='mRNA', id='rna-NM_001002912.5')>\n",
      "<bound method SeqFeature.extract of SeqFeature(FeatureLocation(ExactPosition(85156888), ExactPosition(85201016), strand=-1), type='mRNA', id='rna-NM_032184.2')>\n",
      "<bound method SeqFeature.extract of SeqFeature(FeatureLocation(ExactPosition(86424170), ExactPosition(86456553), strand=1), type='mRNA', id='rna-NM_006536.7')>\n",
      "<bound method SeqFeature.extract of SeqFeature(FeatureLocation(ExactPosition(88852632), ExactPosition(88891567), strand=-1), type='mRNA', id='rna-NM_001514.6')>\n",
      "<bound method SeqFeature.extract of SeqFeature(FeatureLocation(ExactPosition(89633119), ExactPosition(89719533), strand=1), type='mRNA', id='rna-NM_032270.5')>\n",
      "<bound method SeqFeature.extract of SeqFeature(FeatureLocation(ExactPosition(90711538), ExactPosition(90717302), strand=-1), type='mRNA', id='rna-NM_020063.2')>\n",
      "<bound method SeqFeature.extract of SeqFeature(FeatureLocation(ExactPosition(92217914), ExactPosition(92245813), strand=1), type='mRNA', id='rna-NM_001012425.2')>\n",
      "<bound method SeqFeature.extract of SeqFeature(FeatureLocation(ExactPosition(92299058), ExactPosition(92402056), strand=1), type='mRNA', id='rna-NM_024813.3')>\n",
      "<bound method SeqFeature.extract of SeqFeature(FeatureLocation(ExactPosition(93992833), ExactPosition(94121148), strand=-1), type='mRNA', id='rna-NM_000350.3')>\n",
      "<bound method SeqFeature.extract of SeqFeature(FeatureLocation(ExactPosition(100038094), ExactPosition(100083377), strand=1), type='mRNA', id='rna-NM_033055.3')>\n",
      "<bound method SeqFeature.extract of SeqFeature(FeatureLocation(ExactPosition(103617426), ExactPosition(103625780), strand=1), type='mRNA', id='rna-NM_000699.4')>\n",
      "<bound method SeqFeature.extract of SeqFeature(FeatureLocation(ExactPosition(108222463), ExactPosition(108244076), strand=-1), type='mRNA', id='rna-NM_001143989.3')>\n",
      "<bound method SeqFeature.extract of SeqFeature(FeatureLocation(ExactPosition(109466545), ExactPosition(109482134), strand=1), type='mRNA', id='rna-NM_001040709.2')>\n",
      "<bound method SeqFeature.extract of SeqFeature(FeatureLocation(ExactPosition(109504177), ExactPosition(109509727), strand=-1), type='mRNA', id='rna-NM_020703.4')>\n",
      "<bound method SeqFeature.extract of SeqFeature(FeatureLocation(ExactPosition(109712250), ExactPosition(109718268), strand=1), type='mRNA', id='rna-NM_000851.4')>\n",
      "<bound method SeqFeature.extract of SeqFeature(FeatureLocation(ExactPosition(112396213), ExactPosition(112461164), strand=1), type='mRNA', id='rna-NM_018704.3')>\n",
      "<bound method SeqFeature.extract of SeqFeature(FeatureLocation(ExactPosition(112619831), ExactPosition(112671616), strand=1), type='mRNA', id='rna-NM_006135.3')>\n",
      "<bound method SeqFeature.extract of SeqFeature(FeatureLocation(ExactPosition(115285916), ExactPosition(115338249), strand=-1), type='mRNA', id='rna-NM_002506.3')>\n",
      "<bound method SeqFeature.extract of SeqFeature(FeatureLocation(ExactPosition(115976512), ExactPosition(116070054), strand=1), type='mRNA', id='rna-NM_018420.3')>\n",
      "<bound method SeqFeature.extract of SeqFeature(FeatureLocation(ExactPosition(116111398), ExactPosition(116138149), strand=1), type='mRNA', id='rna-NM_152367.3')>\n",
      "<bound method SeqFeature.extract of SeqFeature(FeatureLocation(ExactPosition(116909915), ExactPosition(116990353), strand=1), type='mRNA', id='rna-NM_020440.4')>\n",
      "<bound method SeqFeature.extract of SeqFeature(FeatureLocation(ExactPosition(117060325), ExactPosition(117107453), strand=1), type='mRNA', id='rna-NM_003594.4')>\n",
      "<bound method SeqFeature.extract of SeqFeature(FeatureLocation(ExactPosition(117367448), ExactPosition(117528872), strand=1), type='mRNA', id='rna-NM_006699.5')>\n",
      "<bound method SeqFeature.extract of SeqFeature(FeatureLocation(ExactPosition(117953589), ExactPosition(118185228), strand=-1), type='mRNA', id='rna-NM_206996.4')>\n",
      "<bound method SeqFeature.extract of SeqFeature(FeatureLocation(ExactPosition(119619376), ExactPosition(119648266), strand=-1), type='mRNA', id='rna-NM_001080470.2')>\n",
      "<bound method SeqFeature.extract of SeqFeature(FeatureLocation(ExactPosition(119711933), ExactPosition(119744215), strand=1), type='mRNA', id='rna-NM_006623.4')>\n",
      "<bound method SeqFeature.extract of SeqFeature(FeatureLocation(ExactPosition(145738867), ExactPosition(145824095), strand=-1), type='mRNA', id='rna-NM_014455.4')>\n",
      "<bound method SeqFeature.extract of SeqFeature(FeatureLocation(ExactPosition(145845629), ExactPosition(145848954), strand=1), type='mRNA', id='rna-NM_001012758.3')>\n",
      "<bound method SeqFeature.extract of SeqFeature(FeatureLocation(ExactPosition(146938323), ExactPosition(146996198), strand=1), type='mRNA', id='rna-NM_001278141.3')>\n",
      "<bound method SeqFeature.extract of SeqFeature(FeatureLocation(ExactPosition(147902794), ExactPosition(147909269), strand=1), type='mRNA', id='rna-NM_005267.5')>\n",
      "<bound method SeqFeature.extract of SeqFeature(FeatureLocation(ExactPosition(149937811), ExactPosition(150010726), strand=-1), type='mRNA', id='rna-NM_020205.4')>\n",
      "<bound method SeqFeature.extract of SeqFeature(FeatureLocation(ExactPosition(150257773), ExactPosition(150265078), strand=1), type='mRNA', id='rna-NM_012113.3')>\n",
      "<bound method SeqFeature.extract of SeqFeature(FeatureLocation(ExactPosition(150646229), ExactPosition(150697154), strand=-1), type='mRNA', id='rna-NM_018178.6')>\n",
      "<bound method SeqFeature.extract of SeqFeature(FeatureLocation(ExactPosition(150982291), ExactPosition(150995634), strand=1), type='mRNA', id='rna-NM_003568.3')>\n",
      "<bound method SeqFeature.extract of SeqFeature(FeatureLocation(ExactPosition(151169986), ExactPosition(151175981), strand=-1), type='mRNA', id='rna-NM_013353.3')>\n",
      "<bound method SeqFeature.extract of SeqFeature(FeatureLocation(ExactPosition(151511386), ExactPosition(151538692), strand=1), type='mRNA', id='rna-NM_020770.3')>\n",
      "<bound method SeqFeature.extract of SeqFeature(FeatureLocation(ExactPosition(151721521), ExactPosition(151729805), strand=1), type='mRNA', id='rna-NM_001144956.3')>\n",
      "<bound method SeqFeature.extract of SeqFeature(FeatureLocation(ExactPosition(151847100), ExactPosition(151853712), strand=-1), type='mRNA', id='rna-NM_182578.4')>\n",
      "<bound method SeqFeature.extract of SeqFeature(FeatureLocation(ExactPosition(152514481), ExactPosition(152516008), strand=1), type='mRNA', id='rna-NM_019060.3')>\n",
      "<bound method SeqFeature.extract of SeqFeature(FeatureLocation(ExactPosition(152758024), ExactPosition(152762056), strand=1), type='mRNA', id='rna-NM_001025231.3')>\n",
      "<bound method SeqFeature.extract of SeqFeature(FeatureLocation(ExactPosition(152842855), ExactPosition(152843983), strand=1), type='mRNA', id='rna-NM_001128600.2')>\n",
      "<bound method SeqFeature.extract of SeqFeature(FeatureLocation(ExactPosition(152970647), ExactPosition(152972574), strand=1), type='mRNA', id='rna-NM_173080.3')>\n",
      "<bound method SeqFeature.extract of SeqFeature(FeatureLocation(ExactPosition(153149581), ExactPosition(153150890), strand=-1), type='mRNA', id='rna-NM_001014291.4')>\n",
      "<bound method SeqFeature.extract of SeqFeature(FeatureLocation(ExactPosition(153297115), ExactPosition(153312952), strand=-1), type='mRNA', id='rna-NM_052891.3')>\n",
      "<bound method SeqFeature.extract of SeqFeature(FeatureLocation(ExactPosition(153330119), ExactPosition(153348841), strand=-1), type='mRNA', id='rna-NM_020393.4')>\n",
      "<bound method SeqFeature.extract of SeqFeature(FeatureLocation(ExactPosition(153534598), ExactPosition(153535991), strand=-1), type='mRNA', id='rna-NM_014624.4')>\n",
      "<bound method SeqFeature.extract of SeqFeature(FeatureLocation(ExactPosition(153614254), ExactPosition(153616325), strand=-1), type='mRNA', id='rna-NM_020672.3')>\n",
      "<bound method SeqFeature.extract of SeqFeature(FeatureLocation(ExactPosition(153678687), ExactPosition(153693992), strand=1), type='mRNA', id='rna-NM_000906.4')>\n",
      "<bound method SeqFeature.extract of SeqFeature(FeatureLocation(ExactPosition(153804724), ExactPosition(153922972), strand=-1), type='mRNA', id='rna-NM_020699.4')>\n",
      "<bound method SeqFeature.extract of SeqFeature(FeatureLocation(ExactPosition(153947674), ExactPosition(153958612), strand=-1), type='mRNA', id='rna-NM_181715.3')>\n",
      "<bound method SeqFeature.extract of SeqFeature(FeatureLocation(ExactPosition(154321092), ExactPosition(154325325), strand=1), type='mRNA', id='rna-NM_080429.3')>\n",
      "<bound method SeqFeature.extract of SeqFeature(FeatureLocation(ExactPosition(154548576), ExactPosition(154558662), strand=-1), type='mRNA', id='rna-NM_017582.7')>\n",
      "<bound method SeqFeature.extract of SeqFeature(FeatureLocation(ExactPosition(154567777), ExactPosition(154580013), strand=1), type='mRNA', id='rna-NM_000748.3')>\n",
      "<bound method SeqFeature.extract of SeqFeature(FeatureLocation(ExactPosition(155018526), ExactPosition(155033781), strand=-1), type='mRNA', id='rna-NM_144622.3')>\n",
      "<bound method SeqFeature.extract of SeqFeature(FeatureLocation(ExactPosition(155859566), ExactPosition(155885199), strand=1), type='mRNA', id='rna-NM_152280.5')>\n",
      "<bound method SeqFeature.extract of SeqFeature(FeatureLocation(ExactPosition(156525404), ExactPosition(156572565), strand=-1), type='mRNA', id='rna-NM_178229.5')>\n",
      "<bound method SeqFeature.extract of SeqFeature(FeatureLocation(ExactPosition(156579722), ExactPosition(156587719), strand=1), type='mRNA', id='rna-NM_001105669.4')>\n",
      "<bound method SeqFeature.extract of SeqFeature(FeatureLocation(ExactPosition(156619414), ExactPosition(156625725), strand=1), type='mRNA', id='rna-NM_021817.3')>\n",
      "<bound method SeqFeature.extract of SeqFeature(FeatureLocation(ExactPosition(156920631), ExactPosition(156933094), strand=1), type='mRNA', id='rna-NM_144702.3')>\n",
      "<bound method SeqFeature.extract of SeqFeature(FeatureLocation(ExactPosition(157573746), ExactPosition(157598085), strand=-1), type='mRNA', id='rna-NM_031282.3')>\n",
      "<bound method SeqFeature.extract of SeqFeature(FeatureLocation(ExactPosition(158327954), ExactPosition(158331531), strand=-1), type='mRNA', id='rna-NM_001764.3')>\n",
      "<bound method SeqFeature.extract of SeqFeature(FeatureLocation(ExactPosition(158289922), ExactPosition(158294774), strand=1), type='mRNA', id='rna-NM_001765.3')>\n",
      "<bound method SeqFeature.extract of SeqFeature(FeatureLocation(ExactPosition(158610703), ExactPosition(158686715), strand=-1), type='mRNA', id='rna-NM_003126.4')>\n",
      "<bound method SeqFeature.extract of SeqFeature(FeatureLocation(ExactPosition(158716326), ExactPosition(158720720), strand=-1), type='mRNA', id='rna-NM_001005327.3')>\n",
      "<bound method SeqFeature.extract of SeqFeature(FeatureLocation(ExactPosition(158764235), ExactPosition(158772195), strand=-1), type='mRNA', id='rna-NM_001005185.2')>\n",
      "<bound method SeqFeature.extract of SeqFeature(FeatureLocation(ExactPosition(160081537), ExactPosition(160090563), strand=1), type='mRNA', id='rna-NM_004983.3')>\n",
      "<bound method SeqFeature.extract of SeqFeature(FeatureLocation(ExactPosition(160115758), ExactPosition(160143591), strand=1), type='mRNA', id='rna-NM_000702.4')>\n",
      "<bound method SeqFeature.extract of SeqFeature(FeatureLocation(ExactPosition(160400563), ExactPosition(160428670), strand=1), type='mRNA', id='rna-NM_020335.3')>\n",
      "<bound method SeqFeature.extract of SeqFeature(FeatureLocation(ExactPosition(160945024), ExactPosition(160954809), strand=-1), type='mRNA', id='rna-NM_080878.3')>\n",
      "<bound method SeqFeature.extract of SeqFeature(FeatureLocation(ExactPosition(161070997), ExactPosition(161089558), strand=-1), type='mRNA', id='rna-NM_030916.3')>\n",
      "<bound method SeqFeature.extract of SeqFeature(FeatureLocation(ExactPosition(161100560), ExactPosition(161118037), strand=-1), type='mRNA', id='rna-NM_012394.4')>\n",
      "<bound method SeqFeature.extract of SeqFeature(FeatureLocation(ExactPosition(161153977), ExactPosition(161158856), strand=1), type='mRNA', id='rna-NM_016406.4')>\n",
      "<bound method SeqFeature.extract of SeqFeature(FeatureLocation(ExactPosition(161258744), ExactPosition(161285450), strand=1), type='mRNA', id='rna-NM_001102566.2')>\n",
      "<bound method SeqFeature.extract of SeqFeature(FeatureLocation(ExactPosition(161749785), ExactPosition(161757238), strand=1), type='mRNA', id='rna-NM_007240.3')>\n",
      "<bound method SeqFeature.extract of SeqFeature(FeatureLocation(ExactPosition(162373202), ExactPosition(162376854), strand=-1), type='mRNA', id='rna-NM_182581.4')>\n",
      "<bound method SeqFeature.extract of SeqFeature(FeatureLocation(ExactPosition(165631233), ExactPosition(165656136), strand=1), type='mRNA', id='rna-NM_004528.4')>\n",
      "<bound method SeqFeature.extract of SeqFeature(FeatureLocation(ExactPosition(167052835), ExactPosition(167090377), strand=-1), type='mRNA', id='rna-NM_005814.3')>\n",
      "<bound method SeqFeature.extract of SeqFeature(FeatureLocation(ExactPosition(167094074), ExactPosition(167129165), strand=1), type='mRNA', id='rna-NM_001080426.3')>\n",
      "<bound method SeqFeature.extract of SeqFeature(FeatureLocation(ExactPosition(169588848), ExactPosition(169630124), strand=-1), type='mRNA', id='rna-NM_003005.4')>\n",
      "<bound method SeqFeature.extract of SeqFeature(FeatureLocation(ExactPosition(170145958), ExactPosition(170168866), strand=1), type='mRNA', id='rna-NM_001136107.2')>\n",
      "<bound method SeqFeature.extract of SeqFeature(FeatureLocation(ExactPosition(171314182), ExactPosition(171342084), strand=1), type='mRNA', id='rna-NM_002022.3')>\n",
      "<bound method SeqFeature.extract of SeqFeature(FeatureLocation(ExactPosition(173500459), ExactPosition(173603072), strand=-1), type='mRNA', id='rna-NM_178527.4')>\n",
      "<bound method SeqFeature.extract of SeqFeature(FeatureLocation(ExactPosition(173714980), ExactPosition(173786692), strand=1), type='mRNA', id='rna-NM_014458.4')>\n",
      "<bound method SeqFeature.extract of SeqFeature(FeatureLocation(ExactPosition(175067832), ExactPosition(175148075), strand=1), type='mRNA', id='rna-NM_022093.2')>\n",
      "<bound method SeqFeature.extract of SeqFeature(FeatureLocation(ExactPosition(177170957), ExactPosition(177282422), strand=1), type='mRNA', id='rna-NM_021165.4')>\n",
      "<bound method SeqFeature.extract of SeqFeature(FeatureLocation(ExactPosition(178479239), ExactPosition(178496964), strand=-1), type='mRNA', id='rna-NM_001395331.1')>\n",
      "<bound method SeqFeature.extract of SeqFeature(FeatureLocation(ExactPosition(179954809), ExactPosition(180114875), strand=1), type='mRNA', id='rna-NM_014810.5')>\n",
      "<bound method SeqFeature.extract of SeqFeature(FeatureLocation(ExactPosition(180230263), ExactPosition(180278984), strand=1), type='mRNA', id='rna-NM_033343.4')>\n",
      "<bound method SeqFeature.extract of SeqFeature(FeatureLocation(ExactPosition(180288229), ExactPosition(180502577), strand=-1), type='mRNA', id='rna-NM_032360.4')>\n",
      "<bound method SeqFeature.extract of SeqFeature(FeatureLocation(ExactPosition(182054569), ExactPosition(182061712), strand=-1), type='mRNA', id='rna-NM_001009992.1')>\n",
      "<bound method SeqFeature.extract of SeqFeature(FeatureLocation(ExactPosition(182573633), ExactPosition(182589256), strand=-1), type='mRNA', id='rna-NM_021133.4')>\n",
      "<bound method SeqFeature.extract of SeqFeature(FeatureLocation(ExactPosition(182598622), ExactPosition(182604389), strand=-1), type='mRNA', id='rna-NM_002928.4')>\n",
      "<bound method SeqFeature.extract of SeqFeature(FeatureLocation(ExactPosition(184791031), ExactPosition(184974508), strand=-1), type='mRNA', id='rna-NM_052966.4')>\n",
      "<bound method SeqFeature.extract of SeqFeature(FeatureLocation(ExactPosition(185045557), ExactPosition(185102603), strand=1), type='mRNA', id='rna-NM_007212.4')>\n",
      "<bound method SeqFeature.extract of SeqFeature(FeatureLocation(ExactPosition(185296387), ExactPosition(185317243), strand=-1), type='mRNA', id='rna-NM_006469.5')>\n",
      "<bound method SeqFeature.extract of SeqFeature(FeatureLocation(ExactPosition(185734390), ExactPosition(186190949), strand=1), type='mRNA', id='rna-NM_031935.3')>\n",
      "<bound method SeqFeature.extract of SeqFeature(FeatureLocation(ExactPosition(193122030), ExactPosition(193254815), strand=1), type='mRNA', id='rna-NM_024529.5')>\n",
      "<bound method SeqFeature.extract of SeqFeature(FeatureLocation(ExactPosition(196977555), ExactPosition(197009678), strand=1), type='mRNA', id='rna-NM_030787.4')>\n",
      "<bound method SeqFeature.extract of SeqFeature(FeatureLocation(ExactPosition(197038740), ExactPosition(197067260), strand=-1), type='mRNA', id='rna-NM_001994.3')>\n",
      "<bound method SeqFeature.extract of SeqFeature(FeatureLocation(ExactPosition(198156997), ExactPosition(198322420), strand=1), type='mRNA', id='rna-NM_133494.3')>\n",
      "<bound method SeqFeature.extract of SeqFeature(FeatureLocation(ExactPosition(201039511), ExactPosition(201112426), strand=-1), type='mRNA', id='rna-NM_000069.3')>\n",
      "<bound method SeqFeature.extract of SeqFeature(FeatureLocation(ExactPosition(203167810), ExactPosition(203175826), strand=-1), type='mRNA', id='rna-NM_004997.3')>\n",
      "<bound method SeqFeature.extract of SeqFeature(FeatureLocation(ExactPosition(203178930), ExactPosition(203186704), strand=-1), type='mRNA', id='rna-NM_001276.4')>\n",
      "<bound method SeqFeature.extract of SeqFeature(FeatureLocation(ExactPosition(204073114), ExactPosition(204127743), strand=1), type='mRNA', id='rna-NM_005686.3')>\n",
      "<bound method SeqFeature.extract of SeqFeature(FeatureLocation(ExactPosition(204198162), ExactPosition(204213988), strand=-1), type='mRNA', id='rna-NM_198447.2')>\n",
      "<bound method SeqFeature.extract of SeqFeature(FeatureLocation(ExactPosition(204218852), ExactPosition(204359929), strand=-1), type='mRNA', id='rna-NM_014935.5')>\n",
      "<bound method SeqFeature.extract of SeqFeature(FeatureLocation(ExactPosition(204403380), ExactPosition(204411817), strand=-1), type='mRNA', id='rna-NM_032833.5')>\n",
      "<bound method SeqFeature.extract of SeqFeature(FeatureLocation(ExactPosition(205302062), ExactPosition(205321745), strand=-1), type='mRNA', id='rna-NM_030952.3')>\n",
      "<bound method SeqFeature.extract of SeqFeature(FeatureLocation(ExactPosition(205434885), ExactPosition(205456045), strand=-1), type='mRNA', id='rna-NM_001397426.2')>\n",
      "<bound method SeqFeature.extract of SeqFeature(FeatureLocation(ExactPosition(205712821), ExactPosition(205750182), strand=-1), type='mRNA', id='rna-NM_022731.5')>\n",
      "<bound method SeqFeature.extract of SeqFeature(FeatureLocation(ExactPosition(205789094), ExactPosition(205813198), strand=-1), type='mRNA', id='rna-NM_173854.6')>\n",
      "<bound method SeqFeature.extract of SeqFeature(FeatureLocation(ExactPosition(206928521), ExactPosition(206946466), strand=-1), type='mRNA', id='rna-NM_002644.4')>\n",
      "<bound method SeqFeature.extract of SeqFeature(FeatureLocation(ExactPosition(207104232), ExactPosition(207144972), strand=1), type='mRNA', id='rna-NM_000715.4')>\n",
      "<bound method SeqFeature.extract of SeqFeature(FeatureLocation(ExactPosition(208022241), ExactPosition(208244384), strand=-1), type='mRNA', id='rna-NM_025179.4')>\n",
      "<bound method SeqFeature.extract of SeqFeature(FeatureLocation(ExactPosition(209583713), ExactPosition(209613939), strand=1), type='mRNA', id='rna-NM_020439.3')>\n",
      "<bound method SeqFeature.extract of SeqFeature(FeatureLocation(ExactPosition(209827971), ExactPosition(209857565), strand=1), type='mRNA', id='rna-NM_014388.7')>\n",
      "<bound method SeqFeature.extract of SeqFeature(FeatureLocation(ExactPosition(212686416), ExactPosition(212699840), strand=-1), type='mRNA', id='rna-NM_018664.3')>\n",
      "<bound method SeqFeature.extract of SeqFeature(FeatureLocation(ExactPosition(212858274), ExactPosition(212899363), strand=1), type='mRNA', id='rna-NM_014053.4')>\n",
      "<bound method SeqFeature.extract of SeqFeature(FeatureLocation(ExactPosition(214281158), ExactPosition(214337131), strand=1), type='mRNA', id='rna-NM_020197.3')>\n",
      "<bound method SeqFeature.extract of SeqFeature(FeatureLocation(ExactPosition(214348699), ExactPosition(214551602), strand=-1), type='mRNA', id='rna-NM_005401.5')>\n",
      "<bound method SeqFeature.extract of SeqFeature(FeatureLocation(ExactPosition(214603194), ExactPosition(214664571), strand=1), type='mRNA', id='rna-NM_016343.4')>\n",
      "<bound method SeqFeature.extract of SeqFeature(FeatureLocation(ExactPosition(218285292), ExactPosition(218337983), strand=1), type='mRNA', id='rna-NM_016052.4')>\n",
      "<bound method SeqFeature.extract of SeqFeature(FeatureLocation(ExactPosition(220786912), ExactPosition(220819659), strand=1), type='mRNA', id='rna-NM_022746.4')>\n",
      "<bound method SeqFeature.extract of SeqFeature(FeatureLocation(ExactPosition(222522263), ExactPosition(222548104), strand=-1), type='mRNA', id='rna-NM_024746.4')>\n",
      "<bound method SeqFeature.extract of SeqFeature(FeatureLocation(ExactPosition(222668012), ExactPosition(222712491), strand=-1), type='mRNA', id='rna-NM_022831.4')>\n",
      "<bound method SeqFeature.extract of SeqFeature(FeatureLocation(ExactPosition(223109403), ExactPosition(223143248), strand=-1), type='mRNA', id='rna-NM_003268.6')>\n",
      "<bound method SeqFeature.extract of SeqFeature(FeatureLocation(ExactPosition(223541615), ExactPosition(223665701), strand=-1), type='mRNA', id='rna-NM_001143962.2')>\n",
      "<bound method SeqFeature.extract of SeqFeature(FeatureLocation(ExactPosition(225845535), ExactPosition(225882380), strand=-1), type='mRNA', id='rna-NM_014698.3')>\n",
      "<bound method SeqFeature.extract of SeqFeature(FeatureLocation(ExactPosition(226940293), ExactPosition(226987544), strand=1), type='mRNA', id='rna-NM_020247.5')>\n",
      "<bound method SeqFeature.extract of SeqFeature(FeatureLocation(ExactPosition(227918655), ExactPosition(227947932), strand=-1), type='mRNA', id='rna-NM_003395.4')>\n",
      "<bound method SeqFeature.extract of SeqFeature(FeatureLocation(ExactPosition(228393675), ExactPosition(228406835), strand=-1), type='mRNA', id='rna-NM_145214.3')>\n",
      "<bound method SeqFeature.extract of SeqFeature(FeatureLocation(ExactPosition(229440258), ExactPosition(229508341), strand=-1), type='mRNA', id='rna-NM_018230.3')>\n",
      "<bound method SeqFeature.extract of SeqFeature(FeatureLocation(ExactPosition(229516581), ExactPosition(229558707), strand=-1), type='mRNA', id='rna-NM_012089.3')>\n",
      "<bound method SeqFeature.extract of SeqFeature(FeatureLocation(ExactPosition(233614105), ExactPosition(233672514), strand=1), type='mRNA', id='rna-NM_002245.4')>\n",
      "<bound method SeqFeature.extract of SeqFeature(FeatureLocation(ExactPosition(234391312), ExactPosition(234479179), strand=-1), type='mRNA', id='rna-NM_005646.4')>\n",
      "<bound method SeqFeature.extract of SeqFeature(FeatureLocation(ExactPosition(236142538), ExactPosition(236208907), strand=1), type='mRNA', id='rna-NM_003272.4')>\n",
      "<bound method SeqFeature.extract of SeqFeature(FeatureLocation(ExactPosition(237042183), ExactPosition(237833988), strand=1), type='mRNA', id='rna-NM_001035.3')>\n",
      "<bound method SeqFeature.extract of SeqFeature(FeatureLocation(ExactPosition(240489572), ExactPosition(240612155), strand=-1), type='mRNA', id='rna-NM_022469.4')>\n",
      "<bound method SeqFeature.extract of SeqFeature(FeatureLocation(ExactPosition(241652280), ExactPosition(241802777), strand=1), type='mRNA', id='rna-NM_001367482.1')>\n",
      "<bound method SeqFeature.extract of SeqFeature(FeatureLocation(ExactPosition(241995489), ExactPosition(241999098), strand=-1), type='mRNA', id='rna-NM_001004343.3')>\n",
      "<bound method SeqFeature.extract of SeqFeature(FeatureLocation(ExactPosition(246540560), ExactPosition(246566261), strand=-1), type='mRNA', id='rna-NM_022366.3')>\n",
      "<bound method SeqFeature.extract of SeqFeature(FeatureLocation(ExactPosition(247722956), ExactPosition(247748141), strand=-1), type='mRNA', id='rna-NM_001355292.3')>\n",
      "<bound method SeqFeature.extract of SeqFeature(FeatureLocation(ExactPosition(248678137), ExactPosition(248702780), strand=-1), type='mRNA', id='rna-NM_001004734.3')>\n",
      "<bound method SeqFeature.extract of SeqFeature(FeatureLocation(ExactPosition(248838223), ExactPosition(248849517), strand=1), type='mRNA', id='rna-NM_024836.3')>\n",
      "['pseudogene', 'gene', 'mRNA', 'inferred_parent'] 294\n"
     ]
    }
   ],
   "source": [
    "types = []\n",
    "count = 0\n",
    "for feature in gen_data.features:\n",
    "    if feature.type == 'mRNA':\n",
    "        count += 1\n",
    "        print(feature.extract)\n",
    "    if feature.type not in types:\n",
    "        types.append(feature.type)\n",
    "print(types, count)"
   ]
  },
  {
   "cell_type": "code",
   "execution_count": 4,
   "id": "294ac9b7",
   "metadata": {},
   "outputs": [],
   "source": [
    "import numpy as np"
   ]
  },
  {
   "cell_type": "code",
   "execution_count": 14,
   "id": "9556f102",
   "metadata": {},
   "outputs": [],
   "source": [
    "def making_masked_sequence(sequence: list):\n",
    "    masked_sequence = np.zeros((len(sequence), 5)) # columns are A, C, G, T, N\n",
    "    letter_index_dict = {\n",
    "        'A': 0,\n",
    "        'C': 1,\n",
    "        'G': 2,\n",
    "        'T': 3,\n",
    "        'N': 4\n",
    "    }\n",
    "    for i, letter in enumerate(sequence):\n",
    "         if letter not in letter_index_dict:    # if letter is unclear, make in N as NaN\n",
    "              letter = 'N'\n",
    "         column = letter_index_dict[letter]\n",
    "         masked_sequence[i][column] = 1\n",
    "\n",
    "    return masked_sequence\n",
    "    "
   ]
  },
  {
   "cell_type": "code",
   "execution_count": 15,
   "id": "567f804d",
   "metadata": {},
   "outputs": [
    {
     "data": {
      "text/plain": [
       "array([[0., 0., 0., 0., 1.],\n",
       "       [0., 0., 0., 0., 1.],\n",
       "       [0., 0., 0., 0., 1.],\n",
       "       [1., 0., 0., 0., 0.]])"
      ]
     },
     "execution_count": 15,
     "metadata": {},
     "output_type": "execute_result"
    }
   ],
   "source": [
    "making_masked_sequence(list('SUKA'))"
   ]
  },
  {
   "cell_type": "code",
   "execution_count": null,
   "id": "6e22b9c7",
   "metadata": {},
   "outputs": [],
   "source": []
  },
  {
   "cell_type": "code",
   "execution_count": null,
   "id": "20219b0e",
   "metadata": {},
   "outputs": [],
   "source": []
  },
  {
   "cell_type": "code",
   "execution_count": null,
   "id": "2bd40ae1",
   "metadata": {},
   "outputs": [],
   "source": []
  },
  {
   "cell_type": "code",
   "execution_count": null,
   "id": "0007a775",
   "metadata": {},
   "outputs": [],
   "source": [
    "aa"
   ]
  },
  {
   "cell_type": "code",
   "execution_count": null,
   "id": "e357aa58-0326-47cf-b985-593797d1099c",
   "metadata": {},
   "outputs": [
    {
     "data": {
      "text/plain": [
       "(4718553, 8)"
      ]
     },
     "execution_count": 9,
     "metadata": {},
     "output_type": "execute_result"
    }
   ],
   "source": [
    "data.head()\n",
    "data.shape"
   ]
  },
  {
   "cell_type": "code",
   "execution_count": 11,
   "id": "d5d80c48",
   "metadata": {},
   "outputs": [
    {
     "name": "stdout",
     "output_type": "stream",
     "text": [
      "['region' 'pseudogene' 'transcript' 'exon' 'gene' 'primary_transcript'\n",
      " 'miRNA' 'enhancer' 'biological_region' 'lnc_RNA' 'mRNA' 'CDS' 'snRNA'\n",
      " 'silencer' 'transcriptional_cis_regulatory_region'\n",
      " 'meiotic_recombination_region' 'repeat_instability_region'\n",
      " 'nucleotide_motif' 'tandem_repeat' 'snoRNA' 'CAGE_cluster'\n",
      " 'DNaseI_hypersensitive_site' 'epigenetically_modified_region' 'ncRNA'\n",
      " 'antisense_RNA' 'non_allelic_homologous_recombination_region' 'tRNA'\n",
      " 'promoter' 'conserved_region' 'enhancer_blocking_element'\n",
      " 'mobile_genetic_element' 'minisatellite' 'protein_binding_site'\n",
      " 'locus_control_region' 'centromere' 'V_gene_segment' 'response_element'\n",
      " 'TATA_box' 'sequence_comparison' 'rRNA' 'sequence_feature'\n",
      " 'sequence_alteration' 'match' 'cDNA_match' 'insulator'\n",
      " 'matrix_attachment_site' 'repeat_region' 'regulatory_region'\n",
      " 'sequence_secondary_structure' 'C_gene_segment' 'J_gene_segment'\n",
      " 'origin_of_replication' 'mitotic_recombination_region' 'telomerase_RNA'\n",
      " 'CAAT_signal' 'dispersed_repeat' 'recombination_feature' 'vault_RNA'\n",
      " 'GC_rich_promoter_region' 'D_gene_segment' 'Y_RNA'\n",
      " 'replication_regulatory_region' 'RNase_MRP_RNA'\n",
      " 'sequence_alteration_artifact' 'microsatellite'\n",
      " 'imprinting_control_region' 'direct_repeat' 'chromosome_breakpoint'\n",
      " 'scRNA' 'RNase_P_RNA' 'replication_start_site' 'nucleotide_cleavage_site'\n",
      " 'D_loop']\n"
     ]
    }
   ],
   "source": [
    "unique_types = data['Type'].unique()\n",
    "print(unique_types)\n"
   ]
  },
  {
   "cell_type": "code",
   "execution_count": 12,
   "id": "1b5e51e3",
   "metadata": {},
   "outputs": [
    {
     "name": "stdout",
     "output_type": "stream",
     "text": [
      "['RefSeq' 'BestRefSeq' 'RefSeqFE' 'Gnomon' 'Curated Genomic' 'cmsearch'\n",
      " 'BestRefSeq%2CGnomon' 'tRNAscan-SE']\n",
      "Gnomon                 2367884\n",
      "BestRefSeq             1991671\n",
      "RefSeqFE                176817\n",
      "RefSeq                  136213\n",
      "Curated Genomic          29238\n",
      "BestRefSeq%2CGnomon      11308\n",
      "cmsearch                  3372\n",
      "tRNAscan-SE               2050\n",
      "Name: Source, dtype: int64\n"
     ]
    }
   ],
   "source": [
    "unique_source = data['Source'].unique()\n",
    "print(unique_source)\n",
    "\n",
    "unique_source1 = data['Source'].value_counts()\n",
    "# Sort the unique sources based on their frequency\n",
    "unique_source_sorted = unique_source1.sort_values(ascending=False)\n",
    "\n",
    "print(unique_source_sorted)"
   ]
  },
  {
   "cell_type": "code",
   "execution_count": 13,
   "id": "8b350dca",
   "metadata": {},
   "outputs": [
    {
     "data": {
      "text/html": [
       "<div>\n",
       "<style scoped>\n",
       "    .dataframe tbody tr th:only-of-type {\n",
       "        vertical-align: middle;\n",
       "    }\n",
       "\n",
       "    .dataframe tbody tr th {\n",
       "        vertical-align: top;\n",
       "    }\n",
       "\n",
       "    .dataframe thead th {\n",
       "        text-align: right;\n",
       "    }\n",
       "</style>\n",
       "<table border=\"1\" class=\"dataframe\">\n",
       "  <thead>\n",
       "    <tr style=\"text-align: right;\">\n",
       "      <th></th>\n",
       "      <th>Type</th>\n",
       "      <th>Count</th>\n",
       "    </tr>\n",
       "  </thead>\n",
       "  <tbody>\n",
       "    <tr>\n",
       "      <th>0</th>\n",
       "      <td>exon</td>\n",
       "      <td>2301289</td>\n",
       "    </tr>\n",
       "    <tr>\n",
       "      <th>1</th>\n",
       "      <td>CDS</td>\n",
       "      <td>1836136</td>\n",
       "    </tr>\n",
       "    <tr>\n",
       "      <th>2</th>\n",
       "      <td>mRNA</td>\n",
       "      <td>144447</td>\n",
       "    </tr>\n",
       "    <tr>\n",
       "      <th>3</th>\n",
       "      <td>match</td>\n",
       "      <td>107863</td>\n",
       "    </tr>\n",
       "    <tr>\n",
       "      <th>4</th>\n",
       "      <td>biological_region</td>\n",
       "      <td>83821</td>\n",
       "    </tr>\n",
       "    <tr>\n",
       "      <th>5</th>\n",
       "      <td>enhancer</td>\n",
       "      <td>81572</td>\n",
       "    </tr>\n",
       "    <tr>\n",
       "      <th>6</th>\n",
       "      <td>gene</td>\n",
       "      <td>47876</td>\n",
       "    </tr>\n",
       "    <tr>\n",
       "      <th>7</th>\n",
       "      <td>lnc_RNA</td>\n",
       "      <td>32088</td>\n",
       "    </tr>\n",
       "    <tr>\n",
       "      <th>8</th>\n",
       "      <td>cDNA_match</td>\n",
       "      <td>25870</td>\n",
       "    </tr>\n",
       "    <tr>\n",
       "      <th>9</th>\n",
       "      <td>pseudogene</td>\n",
       "      <td>19251</td>\n",
       "    </tr>\n",
       "    <tr>\n",
       "      <th>10</th>\n",
       "      <td>transcript</td>\n",
       "      <td>14995</td>\n",
       "    </tr>\n",
       "    <tr>\n",
       "      <th>11</th>\n",
       "      <td>silencer</td>\n",
       "      <td>4917</td>\n",
       "    </tr>\n",
       "    <tr>\n",
       "      <th>12</th>\n",
       "      <td>miRNA</td>\n",
       "      <td>3218</td>\n",
       "    </tr>\n",
       "    <tr>\n",
       "      <th>13</th>\n",
       "      <td>primary_transcript</td>\n",
       "      <td>2139</td>\n",
       "    </tr>\n",
       "    <tr>\n",
       "      <th>14</th>\n",
       "      <td>sequence_feature</td>\n",
       "      <td>1964</td>\n",
       "    </tr>\n",
       "    <tr>\n",
       "      <th>15</th>\n",
       "      <td>transcriptional_cis_regulatory_region</td>\n",
       "      <td>1935</td>\n",
       "    </tr>\n",
       "    <tr>\n",
       "      <th>16</th>\n",
       "      <td>protein_binding_site</td>\n",
       "      <td>1416</td>\n",
       "    </tr>\n",
       "    <tr>\n",
       "      <th>17</th>\n",
       "      <td>snoRNA</td>\n",
       "      <td>1300</td>\n",
       "    </tr>\n",
       "    <tr>\n",
       "      <th>18</th>\n",
       "      <td>region</td>\n",
       "      <td>709</td>\n",
       "    </tr>\n",
       "    <tr>\n",
       "      <th>19</th>\n",
       "      <td>tRNA</td>\n",
       "      <td>691</td>\n",
       "    </tr>\n",
       "  </tbody>\n",
       "</table>\n",
       "</div>"
      ],
      "text/plain": [
       "                                     Type    Count\n",
       "0                                    exon  2301289\n",
       "1                                     CDS  1836136\n",
       "2                                    mRNA   144447\n",
       "3                                   match   107863\n",
       "4                       biological_region    83821\n",
       "5                                enhancer    81572\n",
       "6                                    gene    47876\n",
       "7                                 lnc_RNA    32088\n",
       "8                              cDNA_match    25870\n",
       "9                              pseudogene    19251\n",
       "10                             transcript    14995\n",
       "11                               silencer     4917\n",
       "12                                  miRNA     3218\n",
       "13                     primary_transcript     2139\n",
       "14                       sequence_feature     1964\n",
       "15  transcriptional_cis_regulatory_region     1935\n",
       "16                   protein_binding_site     1416\n",
       "17                                 snoRNA     1300\n",
       "18                                 region      709\n",
       "19                                   tRNA      691"
      ]
     },
     "execution_count": 13,
     "metadata": {},
     "output_type": "execute_result"
    }
   ],
   "source": [
    "type_counts = data['Type'].value_counts().reset_index()\n",
    "type_counts.columns = ['Type', 'Count']\n",
    "type_counts.head(20)"
   ]
  },
  {
   "cell_type": "code",
   "execution_count": 14,
   "id": "014b56f3",
   "metadata": {},
   "outputs": [
    {
     "data": {
      "text/plain": [
       "(4718553, 8)"
      ]
     },
     "execution_count": 14,
     "metadata": {},
     "output_type": "execute_result"
    }
   ],
   "source": [
    "data.shape"
   ]
  },
  {
   "cell_type": "code",
   "execution_count": 15,
   "id": "95417b8f",
   "metadata": {},
   "outputs": [
    {
     "name": "stdout",
     "output_type": "stream",
     "text": [
      "True     112580\n",
      "False     56676\n",
      "dtype: int64\n"
     ]
    },
    {
     "data": {
      "text/plain": [
       "(56676, 8)"
      ]
     },
     "execution_count": 15,
     "metadata": {},
     "output_type": "execute_result"
    }
   ],
   "source": [
    "data_chr_1_BestRefSeq = data[(data['Seqid']=='NC_000001.11') & (data['Source']=='BestRefSeq')]\n",
    "data_chr_1_BestRefSeq.head(30)\n",
    "\n",
    "duplicate_counts = data_chr_1_BestRefSeq.duplicated().value_counts()\n",
    "print(duplicate_counts)\n",
    "df_no_duplicates = data_chr_1_BestRefSeq.drop_duplicates()\n",
    "df_no_duplicates.head(30)\n",
    "df_no_duplicates.shape"
   ]
  },
  {
   "cell_type": "code",
   "execution_count": 16,
   "id": "a539e807",
   "metadata": {},
   "outputs": [
    {
     "data": {
      "text/plain": [
       "169256"
      ]
     },
     "execution_count": 16,
     "metadata": {},
     "output_type": "execute_result"
    }
   ],
   "source": [
    "112580 + 56676 "
   ]
  },
  {
   "cell_type": "code",
   "execution_count": 17,
   "id": "f8d209d1",
   "metadata": {},
   "outputs": [
    {
     "data": {
      "text/html": [
       "<div>\n",
       "<style scoped>\n",
       "    .dataframe tbody tr th:only-of-type {\n",
       "        vertical-align: middle;\n",
       "    }\n",
       "\n",
       "    .dataframe tbody tr th {\n",
       "        vertical-align: top;\n",
       "    }\n",
       "\n",
       "    .dataframe thead th {\n",
       "        text-align: right;\n",
       "    }\n",
       "</style>\n",
       "<table border=\"1\" class=\"dataframe\">\n",
       "  <thead>\n",
       "    <tr style=\"text-align: right;\">\n",
       "      <th></th>\n",
       "      <th>Type</th>\n",
       "      <th>Count</th>\n",
       "    </tr>\n",
       "  </thead>\n",
       "  <tbody>\n",
       "    <tr>\n",
       "      <th>0</th>\n",
       "      <td>exon</td>\n",
       "      <td>27855</td>\n",
       "    </tr>\n",
       "    <tr>\n",
       "      <th>1</th>\n",
       "      <td>CDS</td>\n",
       "      <td>22309</td>\n",
       "    </tr>\n",
       "    <tr>\n",
       "      <th>2</th>\n",
       "      <td>mRNA</td>\n",
       "      <td>3123</td>\n",
       "    </tr>\n",
       "    <tr>\n",
       "      <th>3</th>\n",
       "      <td>gene</td>\n",
       "      <td>1687</td>\n",
       "    </tr>\n",
       "    <tr>\n",
       "      <th>4</th>\n",
       "      <td>lnc_RNA</td>\n",
       "      <td>601</td>\n",
       "    </tr>\n",
       "    <tr>\n",
       "      <th>5</th>\n",
       "      <td>transcript</td>\n",
       "      <td>495</td>\n",
       "    </tr>\n",
       "    <tr>\n",
       "      <th>6</th>\n",
       "      <td>miRNA</td>\n",
       "      <td>235</td>\n",
       "    </tr>\n",
       "    <tr>\n",
       "      <th>7</th>\n",
       "      <td>primary_transcript</td>\n",
       "      <td>157</td>\n",
       "    </tr>\n",
       "    <tr>\n",
       "      <th>8</th>\n",
       "      <td>pseudogene</td>\n",
       "      <td>119</td>\n",
       "    </tr>\n",
       "    <tr>\n",
       "      <th>9</th>\n",
       "      <td>snoRNA</td>\n",
       "      <td>47</td>\n",
       "    </tr>\n",
       "    <tr>\n",
       "      <th>10</th>\n",
       "      <td>snRNA</td>\n",
       "      <td>20</td>\n",
       "    </tr>\n",
       "    <tr>\n",
       "      <th>11</th>\n",
       "      <td>rRNA</td>\n",
       "      <td>17</td>\n",
       "    </tr>\n",
       "    <tr>\n",
       "      <th>12</th>\n",
       "      <td>ncRNA</td>\n",
       "      <td>8</td>\n",
       "    </tr>\n",
       "    <tr>\n",
       "      <th>13</th>\n",
       "      <td>antisense_RNA</td>\n",
       "      <td>3</td>\n",
       "    </tr>\n",
       "  </tbody>\n",
       "</table>\n",
       "</div>"
      ],
      "text/plain": [
       "                  Type  Count\n",
       "0                 exon  27855\n",
       "1                  CDS  22309\n",
       "2                 mRNA   3123\n",
       "3                 gene   1687\n",
       "4              lnc_RNA    601\n",
       "5           transcript    495\n",
       "6                miRNA    235\n",
       "7   primary_transcript    157\n",
       "8           pseudogene    119\n",
       "9               snoRNA     47\n",
       "10               snRNA     20\n",
       "11                rRNA     17\n",
       "12               ncRNA      8\n",
       "13       antisense_RNA      3"
      ]
     },
     "execution_count": 17,
     "metadata": {},
     "output_type": "execute_result"
    }
   ],
   "source": [
    "type_counts2 = df_no_duplicates['Type'].value_counts().reset_index()\n",
    "type_counts2.columns = ['Type', 'Count']\n",
    "type_counts2.head(20)"
   ]
  },
  {
   "cell_type": "code",
   "execution_count": 185,
   "id": "cac12178",
   "metadata": {},
   "outputs": [
    {
     "data": {
      "image/png": "[encoded data removed]",
      "text/plain": [
       "<Figure size 1440x144 with 1 Axes>"
      ]
     },
     "metadata": {
      "needs_background": "light"
     },
     "output_type": "display_data"
    },
    {
     "data": {
      "text/html": [
       "<div>\n",
       "<style scoped>\n",
       "    .dataframe tbody tr th:only-of-type {\n",
       "        vertical-align: middle;\n",
       "    }\n",
       "\n",
       "    .dataframe tbody tr th {\n",
       "        vertical-align: top;\n",
       "    }\n",
       "\n",
       "    .dataframe thead th {\n",
       "        text-align: right;\n",
       "    }\n",
       "</style>\n",
       "<table border=\"1\" class=\"dataframe\">\n",
       "  <thead>\n",
       "    <tr style=\"text-align: right;\">\n",
       "      <th></th>\n",
       "      <th>Seqid</th>\n",
       "      <th>Source</th>\n",
       "      <th>Type</th>\n",
       "      <th>Start</th>\n",
       "      <th>End</th>\n",
       "      <th>Score</th>\n",
       "      <th>Strand</th>\n",
       "      <th>Phase</th>\n",
       "    </tr>\n",
       "  </thead>\n",
       "  <tbody>\n",
       "    <tr>\n",
       "      <th>7376</th>\n",
       "      <td>NC_000001.11</td>\n",
       "      <td>BestRefSeq</td>\n",
       "      <td>pseudogene</td>\n",
       "      <td>1699939</td>\n",
       "      <td>1701808</td>\n",
       "      <td>NaN</td>\n",
       "      <td>+</td>\n",
       "      <td>NaN</td>\n",
       "    </tr>\n",
       "    <tr>\n",
       "      <th>7377</th>\n",
       "      <td>NC_000001.11</td>\n",
       "      <td>BestRefSeq</td>\n",
       "      <td>transcript</td>\n",
       "      <td>1699939</td>\n",
       "      <td>1701808</td>\n",
       "      <td>NaN</td>\n",
       "      <td>+</td>\n",
       "      <td>NaN</td>\n",
       "    </tr>\n",
       "    <tr>\n",
       "      <th>7378</th>\n",
       "      <td>NC_000001.11</td>\n",
       "      <td>BestRefSeq</td>\n",
       "      <td>exon</td>\n",
       "      <td>1699939</td>\n",
       "      <td>1700072</td>\n",
       "      <td>NaN</td>\n",
       "      <td>+</td>\n",
       "      <td>NaN</td>\n",
       "    </tr>\n",
       "    <tr>\n",
       "      <th>7379</th>\n",
       "      <td>NC_000001.11</td>\n",
       "      <td>BestRefSeq</td>\n",
       "      <td>exon</td>\n",
       "      <td>1700347</td>\n",
       "      <td>1700514</td>\n",
       "      <td>NaN</td>\n",
       "      <td>+</td>\n",
       "      <td>NaN</td>\n",
       "    </tr>\n",
       "    <tr>\n",
       "      <th>7380</th>\n",
       "      <td>NC_000001.11</td>\n",
       "      <td>BestRefSeq</td>\n",
       "      <td>exon</td>\n",
       "      <td>1700907</td>\n",
       "      <td>1701071</td>\n",
       "      <td>NaN</td>\n",
       "      <td>+</td>\n",
       "      <td>NaN</td>\n",
       "    </tr>\n",
       "    <tr>\n",
       "      <th>7381</th>\n",
       "      <td>NC_000001.11</td>\n",
       "      <td>BestRefSeq</td>\n",
       "      <td>exon</td>\n",
       "      <td>1701148</td>\n",
       "      <td>1701258</td>\n",
       "      <td>NaN</td>\n",
       "      <td>+</td>\n",
       "      <td>NaN</td>\n",
       "    </tr>\n",
       "    <tr>\n",
       "      <th>7382</th>\n",
       "      <td>NC_000001.11</td>\n",
       "      <td>BestRefSeq</td>\n",
       "      <td>exon</td>\n",
       "      <td>1701361</td>\n",
       "      <td>1701487</td>\n",
       "      <td>NaN</td>\n",
       "      <td>+</td>\n",
       "      <td>NaN</td>\n",
       "    </tr>\n",
       "    <tr>\n",
       "      <th>7383</th>\n",
       "      <td>NC_000001.11</td>\n",
       "      <td>BestRefSeq</td>\n",
       "      <td>exon</td>\n",
       "      <td>1701608</td>\n",
       "      <td>1701808</td>\n",
       "      <td>NaN</td>\n",
       "      <td>+</td>\n",
       "      <td>NaN</td>\n",
       "    </tr>\n",
       "    <tr>\n",
       "      <th>7384</th>\n",
       "      <td>NC_000001.11</td>\n",
       "      <td>BestRefSeq</td>\n",
       "      <td>gene</td>\n",
       "      <td>1702379</td>\n",
       "      <td>1724357</td>\n",
       "      <td>NaN</td>\n",
       "      <td>-</td>\n",
       "      <td>NaN</td>\n",
       "    </tr>\n",
       "    <tr>\n",
       "      <th>7385</th>\n",
       "      <td>NC_000001.11</td>\n",
       "      <td>BestRefSeq</td>\n",
       "      <td>transcript</td>\n",
       "      <td>1702379</td>\n",
       "      <td>1724357</td>\n",
       "      <td>NaN</td>\n",
       "      <td>-</td>\n",
       "      <td>NaN</td>\n",
       "    </tr>\n",
       "    <tr>\n",
       "      <th>7386</th>\n",
       "      <td>NC_000001.11</td>\n",
       "      <td>BestRefSeq</td>\n",
       "      <td>exon</td>\n",
       "      <td>1724258</td>\n",
       "      <td>1724357</td>\n",
       "      <td>NaN</td>\n",
       "      <td>-</td>\n",
       "      <td>NaN</td>\n",
       "    </tr>\n",
       "    <tr>\n",
       "      <th>7387</th>\n",
       "      <td>NC_000001.11</td>\n",
       "      <td>BestRefSeq</td>\n",
       "      <td>exon</td>\n",
       "      <td>1722708</td>\n",
       "      <td>1722831</td>\n",
       "      <td>NaN</td>\n",
       "      <td>-</td>\n",
       "      <td>NaN</td>\n",
       "    </tr>\n",
       "    <tr>\n",
       "      <th>7388</th>\n",
       "      <td>NC_000001.11</td>\n",
       "      <td>BestRefSeq</td>\n",
       "      <td>exon</td>\n",
       "      <td>1721596</td>\n",
       "      <td>1721711</td>\n",
       "      <td>NaN</td>\n",
       "      <td>-</td>\n",
       "      <td>NaN</td>\n",
       "    </tr>\n",
       "    <tr>\n",
       "      <th>7389</th>\n",
       "      <td>NC_000001.11</td>\n",
       "      <td>BestRefSeq</td>\n",
       "      <td>exon</td>\n",
       "      <td>1719328</td>\n",
       "      <td>1719455</td>\n",
       "      <td>NaN</td>\n",
       "      <td>-</td>\n",
       "      <td>NaN</td>\n",
       "    </tr>\n",
       "    <tr>\n",
       "      <th>7390</th>\n",
       "      <td>NC_000001.11</td>\n",
       "      <td>BestRefSeq</td>\n",
       "      <td>exon</td>\n",
       "      <td>1716346</td>\n",
       "      <td>1716478</td>\n",
       "      <td>NaN</td>\n",
       "      <td>-</td>\n",
       "      <td>NaN</td>\n",
       "    </tr>\n",
       "    <tr>\n",
       "      <th>7391</th>\n",
       "      <td>NC_000001.11</td>\n",
       "      <td>BestRefSeq</td>\n",
       "      <td>exon</td>\n",
       "      <td>1712264</td>\n",
       "      <td>1712400</td>\n",
       "      <td>NaN</td>\n",
       "      <td>-</td>\n",
       "      <td>NaN</td>\n",
       "    </tr>\n",
       "    <tr>\n",
       "      <th>7392</th>\n",
       "      <td>NC_000001.11</td>\n",
       "      <td>BestRefSeq</td>\n",
       "      <td>exon</td>\n",
       "      <td>1709518</td>\n",
       "      <td>1709640</td>\n",
       "      <td>NaN</td>\n",
       "      <td>-</td>\n",
       "      <td>NaN</td>\n",
       "    </tr>\n",
       "    <tr>\n",
       "      <th>7393</th>\n",
       "      <td>NC_000001.11</td>\n",
       "      <td>BestRefSeq</td>\n",
       "      <td>exon</td>\n",
       "      <td>1709038</td>\n",
       "      <td>1709133</td>\n",
       "      <td>NaN</td>\n",
       "      <td>-</td>\n",
       "      <td>NaN</td>\n",
       "    </tr>\n",
       "    <tr>\n",
       "      <th>7394</th>\n",
       "      <td>NC_000001.11</td>\n",
       "      <td>BestRefSeq</td>\n",
       "      <td>exon</td>\n",
       "      <td>1708794</td>\n",
       "      <td>1708952</td>\n",
       "      <td>NaN</td>\n",
       "      <td>-</td>\n",
       "      <td>NaN</td>\n",
       "    </tr>\n",
       "    <tr>\n",
       "      <th>7395</th>\n",
       "      <td>NC_000001.11</td>\n",
       "      <td>BestRefSeq</td>\n",
       "      <td>exon</td>\n",
       "      <td>1708180</td>\n",
       "      <td>1708245</td>\n",
       "      <td>NaN</td>\n",
       "      <td>-</td>\n",
       "      <td>NaN</td>\n",
       "    </tr>\n",
       "    <tr>\n",
       "      <th>7396</th>\n",
       "      <td>NC_000001.11</td>\n",
       "      <td>BestRefSeq</td>\n",
       "      <td>exon</td>\n",
       "      <td>1707525</td>\n",
       "      <td>1707584</td>\n",
       "      <td>NaN</td>\n",
       "      <td>-</td>\n",
       "      <td>NaN</td>\n",
       "    </tr>\n",
       "    <tr>\n",
       "      <th>7397</th>\n",
       "      <td>NC_000001.11</td>\n",
       "      <td>BestRefSeq</td>\n",
       "      <td>exon</td>\n",
       "      <td>1705642</td>\n",
       "      <td>1705732</td>\n",
       "      <td>NaN</td>\n",
       "      <td>-</td>\n",
       "      <td>NaN</td>\n",
       "    </tr>\n",
       "    <tr>\n",
       "      <th>7398</th>\n",
       "      <td>NC_000001.11</td>\n",
       "      <td>BestRefSeq</td>\n",
       "      <td>exon</td>\n",
       "      <td>1704904</td>\n",
       "      <td>1705025</td>\n",
       "      <td>NaN</td>\n",
       "      <td>-</td>\n",
       "      <td>NaN</td>\n",
       "    </tr>\n",
       "    <tr>\n",
       "      <th>7399</th>\n",
       "      <td>NC_000001.11</td>\n",
       "      <td>BestRefSeq</td>\n",
       "      <td>exon</td>\n",
       "      <td>1704550</td>\n",
       "      <td>1704655</td>\n",
       "      <td>NaN</td>\n",
       "      <td>-</td>\n",
       "      <td>NaN</td>\n",
       "    </tr>\n",
       "    <tr>\n",
       "      <th>7400</th>\n",
       "      <td>NC_000001.11</td>\n",
       "      <td>BestRefSeq</td>\n",
       "      <td>exon</td>\n",
       "      <td>1704223</td>\n",
       "      <td>1704344</td>\n",
       "      <td>NaN</td>\n",
       "      <td>-</td>\n",
       "      <td>NaN</td>\n",
       "    </tr>\n",
       "    <tr>\n",
       "      <th>7401</th>\n",
       "      <td>NC_000001.11</td>\n",
       "      <td>BestRefSeq</td>\n",
       "      <td>exon</td>\n",
       "      <td>1704039</td>\n",
       "      <td>1704146</td>\n",
       "      <td>NaN</td>\n",
       "      <td>-</td>\n",
       "      <td>NaN</td>\n",
       "    </tr>\n",
       "    <tr>\n",
       "      <th>7402</th>\n",
       "      <td>NC_000001.11</td>\n",
       "      <td>BestRefSeq</td>\n",
       "      <td>exon</td>\n",
       "      <td>1703824</td>\n",
       "      <td>1703940</td>\n",
       "      <td>NaN</td>\n",
       "      <td>-</td>\n",
       "      <td>NaN</td>\n",
       "    </tr>\n",
       "    <tr>\n",
       "      <th>7403</th>\n",
       "      <td>NC_000001.11</td>\n",
       "      <td>BestRefSeq</td>\n",
       "      <td>exon</td>\n",
       "      <td>1703476</td>\n",
       "      <td>1703624</td>\n",
       "      <td>NaN</td>\n",
       "      <td>-</td>\n",
       "      <td>NaN</td>\n",
       "    </tr>\n",
       "    <tr>\n",
       "      <th>7404</th>\n",
       "      <td>NC_000001.11</td>\n",
       "      <td>BestRefSeq</td>\n",
       "      <td>exon</td>\n",
       "      <td>1703080</td>\n",
       "      <td>1703269</td>\n",
       "      <td>NaN</td>\n",
       "      <td>-</td>\n",
       "      <td>NaN</td>\n",
       "    </tr>\n",
       "    <tr>\n",
       "      <th>7405</th>\n",
       "      <td>NC_000001.11</td>\n",
       "      <td>BestRefSeq</td>\n",
       "      <td>exon</td>\n",
       "      <td>1702379</td>\n",
       "      <td>1702999</td>\n",
       "      <td>NaN</td>\n",
       "      <td>-</td>\n",
       "      <td>NaN</td>\n",
       "    </tr>\n",
       "  </tbody>\n",
       "</table>\n",
       "</div>"
      ],
      "text/plain": [
       "             Seqid      Source        Type    Start      End Score Strand  \\\n",
       "7376  NC_000001.11  BestRefSeq  pseudogene  1699939  1701808   NaN      +   \n",
       "7377  NC_000001.11  BestRefSeq  transcript  1699939  1701808   NaN      +   \n",
       "7378  NC_000001.11  BestRefSeq        exon  1699939  1700072   NaN      +   \n",
       "7379  NC_000001.11  BestRefSeq        exon  1700347  1700514   NaN      +   \n",
       "7380  NC_000001.11  BestRefSeq        exon  1700907  1701071   NaN      +   \n",
       "7381  NC_000001.11  BestRefSeq        exon  1701148  1701258   NaN      +   \n",
       "7382  NC_000001.11  BestRefSeq        exon  1701361  1701487   NaN      +   \n",
       "7383  NC_000001.11  BestRefSeq        exon  1701608  1701808   NaN      +   \n",
       "7384  NC_000001.11  BestRefSeq        gene  1702379  1724357   NaN      -   \n",
       "7385  NC_000001.11  BestRefSeq  transcript  1702379  1724357   NaN      -   \n",
       "7386  NC_000001.11  BestRefSeq        exon  1724258  1724357   NaN      -   \n",
       "7387  NC_000001.11  BestRefSeq        exon  1722708  1722831   NaN      -   \n",
       "7388  NC_000001.11  BestRefSeq        exon  1721596  1721711   NaN      -   \n",
       "7389  NC_000001.11  BestRefSeq        exon  1719328  1719455   NaN      -   \n",
       "7390  NC_000001.11  BestRefSeq        exon  1716346  1716478   NaN      -   \n",
       "7391  NC_000001.11  BestRefSeq        exon  1712264  1712400   NaN      -   \n",
       "7392  NC_000001.11  BestRefSeq        exon  1709518  1709640   NaN      -   \n",
       "7393  NC_000001.11  BestRefSeq        exon  1709038  1709133   NaN      -   \n",
       "7394  NC_000001.11  BestRefSeq        exon  1708794  1708952   NaN      -   \n",
       "7395  NC_000001.11  BestRefSeq        exon  1708180  1708245   NaN      -   \n",
       "7396  NC_000001.11  BestRefSeq        exon  1707525  1707584   NaN      -   \n",
       "7397  NC_000001.11  BestRefSeq        exon  1705642  1705732   NaN      -   \n",
       "7398  NC_000001.11  BestRefSeq        exon  1704904  1705025   NaN      -   \n",
       "7399  NC_000001.11  BestRefSeq        exon  1704550  1704655   NaN      -   \n",
       "7400  NC_000001.11  BestRefSeq        exon  1704223  1704344   NaN      -   \n",
       "7401  NC_000001.11  BestRefSeq        exon  1704039  1704146   NaN      -   \n",
       "7402  NC_000001.11  BestRefSeq        exon  1703824  1703940   NaN      -   \n",
       "7403  NC_000001.11  BestRefSeq        exon  1703476  1703624   NaN      -   \n",
       "7404  NC_000001.11  BestRefSeq        exon  1703080  1703269   NaN      -   \n",
       "7405  NC_000001.11  BestRefSeq        exon  1702379  1702999   NaN      -   \n",
       "\n",
       "     Phase  \n",
       "7376   NaN  \n",
       "7377   NaN  \n",
       "7378   NaN  \n",
       "7379   NaN  \n",
       "7380   NaN  \n",
       "7381   NaN  \n",
       "7382   NaN  \n",
       "7383   NaN  \n",
       "7384   NaN  \n",
       "7385   NaN  \n",
       "7386   NaN  \n",
       "7387   NaN  \n",
       "7388   NaN  \n",
       "7389   NaN  \n",
       "7390   NaN  \n",
       "7391   NaN  \n",
       "7392   NaN  \n",
       "7393   NaN  \n",
       "7394   NaN  \n",
       "7395   NaN  \n",
       "7396   NaN  \n",
       "7397   NaN  \n",
       "7398   NaN  \n",
       "7399   NaN  \n",
       "7400   NaN  \n",
       "7401   NaN  \n",
       "7402   NaN  \n",
       "7403   NaN  \n",
       "7404   NaN  \n",
       "7405   NaN  "
      ]
     },
     "execution_count": 185,
     "metadata": {},
     "output_type": "execute_result"
    }
   ],
   "source": [
    "import pandas as pd\n",
    "import matplotlib.pyplot as plt\n",
    "\n",
    "# # Пример данных\n",
    "# data = {\n",
    "#     'Type': ['exon', 'cds', 'gene', 'exon', 'cds'],\n",
    "#     'Start': [100, 200, 300, 400, 500],\n",
    "#     'End': [150, 250, 350, 450, 550]\n",
    "# }\n",
    "\n",
    "# df = pd.DataFrame(data)\n",
    "\n",
    "# Задание цветов для каждого типа элемента\n",
    "color = (0.5, 0.2, 0.3)\n",
    "type_colors = {\n",
    "    'exon': 'blue',\n",
    "    'cds': 'red',\n",
    "    'gene': 'orange',\n",
    "    'pseudogene': 'orange',\n",
    "    'transcript':color,\n",
    "    'primary_transcript':color,\n",
    "    'miRNA':color,\n",
    "    'lnc_RNA':color,\n",
    "    'mRNA':color,\n",
    "    'CDS':'red',\n",
    "    'snoRNA':color,\n",
    "    'enhancer':color,\n",
    "    'biological_region':color,\n",
    "    'silencer':color,\n",
    "    'epigenetically_modified_region':color,\n",
    "    \n",
    "}\n",
    "\n",
    "# Создание графика\n",
    "fig, ax = plt.subplots()\n",
    "\n",
    "a = 1230\n",
    "dd = df_no_duplicates.iloc[0+a:a+57]\n",
    "\n",
    "# Отрисовка элементов\n",
    "for index, row in dd.iterrows():\n",
    "    y = row['Type'] \n",
    "    x_start = int(row['Start'])\n",
    "    x_end = int(row['End'])\n",
    "    ax.plot([x_start, x_end], [y, y], color=type_colors[row['Type']], linewidth=20, marker='|',alpha =0.2, solid_capstyle='butt' )\n",
    "\n",
    "\n",
    "\n",
    "    \n",
    "    \n",
    "# Настройка осей и меток\n",
    "# ax.set_xlabel('Position')\n",
    "ax.set_ylabel('Type')\n",
    "ax.set_yticks(dd['Type'].unique())\n",
    "ax.set_yticklabels(dd['Type'].unique())\n",
    "\n",
    "fig.set_size_inches(20, 2)\n",
    "#ax.grid(True)\n",
    "\n",
    "# Отображение графика\n",
    "plt.savefig('graph_chromosome.png', dpi=700,facecolor='white')\n",
    "plt.show()\n",
    "\n",
    "\n",
    "dd.head(30)\n"
   ]
  },
  {
   "cell_type": "code",
   "execution_count": 19,
   "id": "a79d13af-22ea-49ff-ae79-59327029be7b",
   "metadata": {},
   "outputs": [
    {
     "name": "stderr",
     "output_type": "stream",
     "text": [
      "/var/folders/dy/76wm8jgj50vc8kygzhcz93jw0000gn/T/ipykernel_23842/4273512516.py:3: UserWarning: Boolean Series key will be reindexed to match DataFrame index.\n",
      "  cds = df_no_duplicates[(data['Type']=='CDS') & (data['Seqid']=='NC_000001.11') & (data['Source']=='BestRefSeq')]\n",
      "/var/folders/dy/76wm8jgj50vc8kygzhcz93jw0000gn/T/ipykernel_23842/4273512516.py:11: SettingWithCopyWarning: \n",
      "A value is trying to be set on a copy of a slice from a DataFrame.\n",
      "Try using .loc[row_indexer,col_indexer] = value instead\n",
      "\n",
      "See the caveats in the documentation: https://pandas.pydata.org/pandas-docs/stable/user_guide/indexing.html#returning-a-view-versus-a-copy\n",
      "  cds.loc[:, 'Start'] = cds.loc[:, 'Start'].astype('int')\n",
      "/var/folders/dy/76wm8jgj50vc8kygzhcz93jw0000gn/T/ipykernel_23842/4273512516.py:12: SettingWithCopyWarning: \n",
      "A value is trying to be set on a copy of a slice from a DataFrame.\n",
      "Try using .loc[row_indexer,col_indexer] = value instead\n",
      "\n",
      "See the caveats in the documentation: https://pandas.pydata.org/pandas-docs/stable/user_guide/indexing.html#returning-a-view-versus-a-copy\n",
      "  cds.loc[:, 'End'] = cds.loc[:, 'End'].astype('int')\n"
     ]
    }
   ],
   "source": [
    "# exons = data[(data['Type']=='exon') & (data['Seqid']=='NC_000001.11') & (data['Source']=='BestRefSeq')]\n",
    "# genes = data[(data['Type']=='gene') & (data['Seqid']=='NC_000001.11') & (data['Source']=='BestRefSeq')]\n",
    "cds = df_no_duplicates[(data['Type']=='CDS') & (data['Seqid']=='NC_000001.11') & (data['Source']=='BestRefSeq')]\n",
    "\n",
    "# genes.loc[:, 'Start'] = genes.loc[:, 'Start'].astype('int')\n",
    "# genes.loc[:, 'End'] = genes.loc[:, 'End'].astype('int')\n",
    "\n",
    "# exons.loc[:, 'Start'] = exons.loc[:, 'Start'].astype('int')\n",
    "# exons.loc[:, 'End'] = exons.loc[:, 'End'].astype('int')\n",
    "\n",
    "cds.loc[:, 'Start'] = cds.loc[:, 'Start'].astype('int')\n",
    "cds.loc[:, 'End'] = cds.loc[:, 'End'].astype('int')"
   ]
  },
  {
   "cell_type": "code",
   "execution_count": 34,
   "id": "ddb71a8a-17f6-483e-b6bb-96a8eadd240e",
   "metadata": {},
   "outputs": [],
   "source": [
    "cds.to_csv('cds.csv', index=False)"
   ]
  },
  {
   "cell_type": "code",
   "execution_count": 35,
   "id": "3b362144-91d6-43b2-a5b1-71be3b02cf21",
   "metadata": {},
   "outputs": [
    {
     "data": {
      "text/plain": [
       "(22309, 8)"
      ]
     },
     "execution_count": 35,
     "metadata": {},
     "output_type": "execute_result"
    }
   ],
   "source": [
    "cds.shape"
   ]
  },
  {
   "cell_type": "code",
   "execution_count": 36,
   "id": "c9d64d16",
   "metadata": {},
   "outputs": [],
   "source": [
    "# cds_short = cds[:40000]\n",
    "# print (cds_short.shape)\n",
    "# cds_short.head()"
   ]
  },
  {
   "cell_type": "code",
   "execution_count": null,
   "id": "5ff7ccbb",
   "metadata": {},
   "outputs": [],
   "source": []
  },
  {
   "cell_type": "code",
   "execution_count": null,
   "id": "36d1c462",
   "metadata": {},
   "outputs": [],
   "source": []
  },
  {
   "cell_type": "code",
   "execution_count": null,
   "id": "fb450372",
   "metadata": {},
   "outputs": [],
   "source": []
  },
  {
   "cell_type": "code",
   "execution_count": 37,
   "id": "78b014ed",
   "metadata": {},
   "outputs": [],
   "source": [
    "cds_short = cds"
   ]
  },
  {
   "cell_type": "code",
   "execution_count": 38,
   "id": "4af36a56",
   "metadata": {},
   "outputs": [],
   "source": [
    "\n",
    "    \n",
    "segments = []\n",
    "for _, row in cds_short.iterrows():\n",
    "    start = row['Start']\n",
    "    end = row['End']\n",
    "    segment = sequence[start-1:end]  # Извлечение отрезка, индексы начинаются с 0\n",
    "    segments.append(segment)\n",
    "\n",
    "#print(segments)\n"
   ]
  },
  {
   "cell_type": "code",
   "execution_count": 39,
   "id": "812968b8",
   "metadata": {},
   "outputs": [
    {
     "data": {
      "text/html": [
       "<div>\n",
       "<style scoped>\n",
       "    .dataframe tbody tr th:only-of-type {\n",
       "        vertical-align: middle;\n",
       "    }\n",
       "\n",
       "    .dataframe tbody tr th {\n",
       "        vertical-align: top;\n",
       "    }\n",
       "\n",
       "    .dataframe thead th {\n",
       "        text-align: right;\n",
       "    }\n",
       "</style>\n",
       "<table border=\"1\" class=\"dataframe\">\n",
       "  <thead>\n",
       "    <tr style=\"text-align: right;\">\n",
       "      <th></th>\n",
       "      <th>Seqid</th>\n",
       "      <th>Source</th>\n",
       "      <th>Type</th>\n",
       "      <th>Start</th>\n",
       "      <th>End</th>\n",
       "      <th>Score</th>\n",
       "      <th>Strand</th>\n",
       "      <th>Phase</th>\n",
       "      <th>segments</th>\n",
       "    </tr>\n",
       "  </thead>\n",
       "  <tbody>\n",
       "    <tr>\n",
       "      <th>50</th>\n",
       "      <td>NC_000001.11</td>\n",
       "      <td>BestRefSeq</td>\n",
       "      <td>CDS</td>\n",
       "      <td>65565</td>\n",
       "      <td>65573</td>\n",
       "      <td>NaN</td>\n",
       "      <td>+</td>\n",
       "      <td>0</td>\n",
       "      <td>ATGAAGAAG</td>\n",
       "    </tr>\n",
       "    <tr>\n",
       "      <th>51</th>\n",
       "      <td>NC_000001.11</td>\n",
       "      <td>BestRefSeq</td>\n",
       "      <td>CDS</td>\n",
       "      <td>69037</td>\n",
       "      <td>70008</td>\n",
       "      <td>NaN</td>\n",
       "      <td>+</td>\n",
       "      <td>0</td>\n",
       "      <td>GTAACTGCAGAGGCTATTTCCTGGAATGAATCAACGAGTGAAACGA...</td>\n",
       "    </tr>\n",
       "    <tr>\n",
       "      <th>285</th>\n",
       "      <td>NC_000001.11</td>\n",
       "      <td>BestRefSeq</td>\n",
       "      <td>CDS</td>\n",
       "      <td>450740</td>\n",
       "      <td>451678</td>\n",
       "      <td>NaN</td>\n",
       "      <td>-</td>\n",
       "      <td>0</td>\n",
       "      <td>TTATGAGATCCTCTTGTAAATCACTAGCTGTTTGCATACTCTCTTT...</td>\n",
       "    </tr>\n",
       "    <tr>\n",
       "      <th>362</th>\n",
       "      <td>NC_000001.11</td>\n",
       "      <td>BestRefSeq</td>\n",
       "      <td>CDS</td>\n",
       "      <td>685716</td>\n",
       "      <td>686654</td>\n",
       "      <td>NaN</td>\n",
       "      <td>-</td>\n",
       "      <td>0</td>\n",
       "      <td>TTATGAGATCCTCTTGTAAATCACTAGCTGTTTGCATACTCTCTTT...</td>\n",
       "    </tr>\n",
       "    <tr>\n",
       "      <th>557</th>\n",
       "      <td>NC_000001.11</td>\n",
       "      <td>BestRefSeq</td>\n",
       "      <td>CDS</td>\n",
       "      <td>924432</td>\n",
       "      <td>924948</td>\n",
       "      <td>NaN</td>\n",
       "      <td>+</td>\n",
       "      <td>0</td>\n",
       "      <td>ATGCCGGCGGTCAAGAAGGAGTTCCCGGGCCGCGAGGACCTGGCCC...</td>\n",
       "    </tr>\n",
       "  </tbody>\n",
       "</table>\n",
       "</div>"
      ],
      "text/plain": [
       "            Seqid      Source Type   Start     End Score Strand Phase  \\\n",
       "50   NC_000001.11  BestRefSeq  CDS   65565   65573   NaN      +     0   \n",
       "51   NC_000001.11  BestRefSeq  CDS   69037   70008   NaN      +     0   \n",
       "285  NC_000001.11  BestRefSeq  CDS  450740  451678   NaN      -     0   \n",
       "362  NC_000001.11  BestRefSeq  CDS  685716  686654   NaN      -     0   \n",
       "557  NC_000001.11  BestRefSeq  CDS  924432  924948   NaN      +     0   \n",
       "\n",
       "                                              segments  \n",
       "50                                           ATGAAGAAG  \n",
       "51   GTAACTGCAGAGGCTATTTCCTGGAATGAATCAACGAGTGAAACGA...  \n",
       "285  TTATGAGATCCTCTTGTAAATCACTAGCTGTTTGCATACTCTCTTT...  \n",
       "362  TTATGAGATCCTCTTGTAAATCACTAGCTGTTTGCATACTCTCTTT...  \n",
       "557  ATGCCGGCGGTCAAGAAGGAGTTCCCGGGCCGCGAGGACCTGGCCC...  "
      ]
     },
     "execution_count": 39,
     "metadata": {},
     "output_type": "execute_result"
    }
   ],
   "source": [
    "cds_short = cds_short.copy()\n",
    "cds_short.loc[:, 'segments'] = segments\n",
    "cds_short.head()"
   ]
  },
  {
   "cell_type": "code",
   "execution_count": 40,
   "id": "f3f59d92",
   "metadata": {},
   "outputs": [
    {
     "data": {
      "text/html": [
       "<div>\n",
       "<style scoped>\n",
       "    .dataframe tbody tr th:only-of-type {\n",
       "        vertical-align: middle;\n",
       "    }\n",
       "\n",
       "    .dataframe tbody tr th {\n",
       "        vertical-align: top;\n",
       "    }\n",
       "\n",
       "    .dataframe thead th {\n",
       "        text-align: right;\n",
       "    }\n",
       "</style>\n",
       "<table border=\"1\" class=\"dataframe\">\n",
       "  <thead>\n",
       "    <tr style=\"text-align: right;\">\n",
       "      <th></th>\n",
       "      <th>Seqid</th>\n",
       "      <th>Source</th>\n",
       "      <th>Type</th>\n",
       "      <th>Start</th>\n",
       "      <th>End</th>\n",
       "      <th>Score</th>\n",
       "      <th>Strand</th>\n",
       "      <th>Phase</th>\n",
       "      <th>segments</th>\n",
       "      <th>segment_length</th>\n",
       "    </tr>\n",
       "  </thead>\n",
       "  <tbody>\n",
       "    <tr>\n",
       "      <th>50</th>\n",
       "      <td>NC_000001.11</td>\n",
       "      <td>BestRefSeq</td>\n",
       "      <td>CDS</td>\n",
       "      <td>65565</td>\n",
       "      <td>65573</td>\n",
       "      <td>NaN</td>\n",
       "      <td>+</td>\n",
       "      <td>0</td>\n",
       "      <td>ATGAAGAAG</td>\n",
       "      <td>9</td>\n",
       "    </tr>\n",
       "    <tr>\n",
       "      <th>51</th>\n",
       "      <td>NC_000001.11</td>\n",
       "      <td>BestRefSeq</td>\n",
       "      <td>CDS</td>\n",
       "      <td>69037</td>\n",
       "      <td>70008</td>\n",
       "      <td>NaN</td>\n",
       "      <td>+</td>\n",
       "      <td>0</td>\n",
       "      <td>GTAACTGCAGAGGCTATTTCCTGGAATGAATCAACGAGTGAAACGA...</td>\n",
       "      <td>972</td>\n",
       "    </tr>\n",
       "    <tr>\n",
       "      <th>285</th>\n",
       "      <td>NC_000001.11</td>\n",
       "      <td>BestRefSeq</td>\n",
       "      <td>CDS</td>\n",
       "      <td>450740</td>\n",
       "      <td>451678</td>\n",
       "      <td>NaN</td>\n",
       "      <td>-</td>\n",
       "      <td>0</td>\n",
       "      <td>TTATGAGATCCTCTTGTAAATCACTAGCTGTTTGCATACTCTCTTT...</td>\n",
       "      <td>939</td>\n",
       "    </tr>\n",
       "    <tr>\n",
       "      <th>362</th>\n",
       "      <td>NC_000001.11</td>\n",
       "      <td>BestRefSeq</td>\n",
       "      <td>CDS</td>\n",
       "      <td>685716</td>\n",
       "      <td>686654</td>\n",
       "      <td>NaN</td>\n",
       "      <td>-</td>\n",
       "      <td>0</td>\n",
       "      <td>TTATGAGATCCTCTTGTAAATCACTAGCTGTTTGCATACTCTCTTT...</td>\n",
       "      <td>939</td>\n",
       "    </tr>\n",
       "    <tr>\n",
       "      <th>557</th>\n",
       "      <td>NC_000001.11</td>\n",
       "      <td>BestRefSeq</td>\n",
       "      <td>CDS</td>\n",
       "      <td>924432</td>\n",
       "      <td>924948</td>\n",
       "      <td>NaN</td>\n",
       "      <td>+</td>\n",
       "      <td>0</td>\n",
       "      <td>ATGCCGGCGGTCAAGAAGGAGTTCCCGGGCCGCGAGGACCTGGCCC...</td>\n",
       "      <td>517</td>\n",
       "    </tr>\n",
       "  </tbody>\n",
       "</table>\n",
       "</div>"
      ],
      "text/plain": [
       "            Seqid      Source Type   Start     End Score Strand Phase  \\\n",
       "50   NC_000001.11  BestRefSeq  CDS   65565   65573   NaN      +     0   \n",
       "51   NC_000001.11  BestRefSeq  CDS   69037   70008   NaN      +     0   \n",
       "285  NC_000001.11  BestRefSeq  CDS  450740  451678   NaN      -     0   \n",
       "362  NC_000001.11  BestRefSeq  CDS  685716  686654   NaN      -     0   \n",
       "557  NC_000001.11  BestRefSeq  CDS  924432  924948   NaN      +     0   \n",
       "\n",
       "                                              segments  segment_length  \n",
       "50                                           ATGAAGAAG               9  \n",
       "51   GTAACTGCAGAGGCTATTTCCTGGAATGAATCAACGAGTGAAACGA...             972  \n",
       "285  TTATGAGATCCTCTTGTAAATCACTAGCTGTTTGCATACTCTCTTT...             939  \n",
       "362  TTATGAGATCCTCTTGTAAATCACTAGCTGTTTGCATACTCTCTTT...             939  \n",
       "557  ATGCCGGCGGTCAAGAAGGAGTTCCCGGGCCGCGAGGACCTGGCCC...             517  "
      ]
     },
     "execution_count": 40,
     "metadata": {},
     "output_type": "execute_result"
    }
   ],
   "source": [
    "cds_short['segment_length'] = cds_short['segments'].str.len()\n",
    "cds_short.head()"
   ]
  },
  {
   "cell_type": "code",
   "execution_count": 41,
   "id": "11e57f06",
   "metadata": {},
   "outputs": [
    {
     "name": "stdout",
     "output_type": "stream",
     "text": [
      "Четные значения: 10982\n",
      "Нечетные значения: 11327\n"
     ]
    }
   ],
   "source": [
    "even_count = len(cds_short[cds_short['segment_length'] % 2 == 0])\n",
    "odd_count = len(cds_short[cds_short['segment_length'] % 2 != 0])\n",
    "\n",
    "print(\"Четные значения:\", even_count)\n",
    "print(\"Нечетные значения:\", odd_count)\n"
   ]
  },
  {
   "cell_type": "code",
   "execution_count": 42,
   "id": "6b581f9d",
   "metadata": {},
   "outputs": [
    {
     "name": "stdout",
     "output_type": "stream",
     "text": [
      "Максимальная длина:  12048\n",
      "Минимальная длина:  1\n",
      "Средняя длина:  167.95647496526067\n"
     ]
    }
   ],
   "source": [
    "lengths = [len(segment) for segment in segments]\n",
    "\n",
    "max_length = max(lengths)\n",
    "min_length = min(lengths)\n",
    "average_length = sum(lengths) / len(lengths)\n",
    "\n",
    "print(\"Максимальная длина: \", max_length)\n",
    "print(\"Минимальная длина: \", min_length)\n",
    "print(\"Средняя длина: \", average_length)"
   ]
  },
  {
   "cell_type": "code",
   "execution_count": 43,
   "id": "f8297b69",
   "metadata": {},
   "outputs": [
    {
     "data": {
      "text/plain": [
       "22309"
      ]
     },
     "execution_count": 43,
     "metadata": {},
     "output_type": "execute_result"
    }
   ],
   "source": [
    "len(lengths)"
   ]
  },
  {
   "cell_type": "code",
   "execution_count": 44,
   "id": "bb8559c6",
   "metadata": {},
   "outputs": [
    {
     "data": {
      "image/png": "[encoded data removed]",
      "text/plain": [
       "<Figure size 432x288 with 1 Axes>"
      ]
     },
     "metadata": {
      "needs_background": "light"
     },
     "output_type": "display_data"
    }
   ],
   "source": [
    "import matplotlib.pyplot as plt\n",
    "\n",
    "lengths = [len(segment) for segment in segments]\n",
    "\n",
    "# Построение гистограммы\n",
    "plt.hist(lengths, bins=100)\n",
    "plt.xlabel('Длина')\n",
    "plt.ylabel('Количество элементов')\n",
    "plt.title('Распределение длин элементов')\n",
    "plt.show()"
   ]
  },
  {
   "cell_type": "code",
   "execution_count": 45,
   "id": "8a12b59c",
   "metadata": {},
   "outputs": [
    {
     "data": {
      "image/png": "[encoded data removed]",
      "text/plain": [
       "<Figure size 432x288 with 1 Axes>"
      ]
     },
     "metadata": {
      "needs_background": "light"
     },
     "output_type": "display_data"
    }
   ],
   "source": [
    "import matplotlib.pyplot as plt\n",
    "\n",
    "lengths = [len(segment) for segment in segments]\n",
    "\n",
    "# Построение гистограммы с логарифмической осью X\n",
    "plt.hist(lengths, bins=1500)\n",
    "plt.xscale('log')\n",
    "plt.xlabel('Длина')\n",
    "plt.ylabel('Количество элементов')\n",
    "plt.title('Распределение длин элементов (логарифмическая ось X)')\n",
    "\n",
    "plt.show()\n"
   ]
  },
  {
   "cell_type": "code",
   "execution_count": 46,
   "id": "e406d651",
   "metadata": {},
   "outputs": [],
   "source": [
    "cds_short = cds_short[(cds_short['segments'].str.len() >= 9) & (cds_short['segments'].str.len() <= 300)]\n"
   ]
  },
  {
   "cell_type": "code",
   "execution_count": 47,
   "id": "f55c05bb",
   "metadata": {},
   "outputs": [
    {
     "name": "stdout",
     "output_type": "stream",
     "text": [
      "(20562, 10)\n"
     ]
    },
    {
     "data": {
      "text/html": [
       "<div>\n",
       "<style scoped>\n",
       "    .dataframe tbody tr th:only-of-type {\n",
       "        vertical-align: middle;\n",
       "    }\n",
       "\n",
       "    .dataframe tbody tr th {\n",
       "        vertical-align: top;\n",
       "    }\n",
       "\n",
       "    .dataframe thead th {\n",
       "        text-align: right;\n",
       "    }\n",
       "</style>\n",
       "<table border=\"1\" class=\"dataframe\">\n",
       "  <thead>\n",
       "    <tr style=\"text-align: right;\">\n",
       "      <th></th>\n",
       "      <th>Seqid</th>\n",
       "      <th>Source</th>\n",
       "      <th>Type</th>\n",
       "      <th>Start</th>\n",
       "      <th>End</th>\n",
       "      <th>Score</th>\n",
       "      <th>Strand</th>\n",
       "      <th>Phase</th>\n",
       "      <th>segments</th>\n",
       "      <th>segment_length</th>\n",
       "    </tr>\n",
       "  </thead>\n",
       "  <tbody>\n",
       "    <tr>\n",
       "      <th>50</th>\n",
       "      <td>NC_000001.11</td>\n",
       "      <td>BestRefSeq</td>\n",
       "      <td>CDS</td>\n",
       "      <td>65565</td>\n",
       "      <td>65573</td>\n",
       "      <td>NaN</td>\n",
       "      <td>+</td>\n",
       "      <td>0</td>\n",
       "      <td>ATGAAGAAG</td>\n",
       "      <td>9</td>\n",
       "    </tr>\n",
       "    <tr>\n",
       "      <th>558</th>\n",
       "      <td>NC_000001.11</td>\n",
       "      <td>BestRefSeq</td>\n",
       "      <td>CDS</td>\n",
       "      <td>925922</td>\n",
       "      <td>926013</td>\n",
       "      <td>NaN</td>\n",
       "      <td>+</td>\n",
       "      <td>2</td>\n",
       "      <td>GGAAAAGTCTGAAGACGCTTATGTCCAAGGGGATCCTGCAGGTGCA...</td>\n",
       "      <td>92</td>\n",
       "    </tr>\n",
       "    <tr>\n",
       "      <th>559</th>\n",
       "      <td>NC_000001.11</td>\n",
       "      <td>BestRefSeq</td>\n",
       "      <td>CDS</td>\n",
       "      <td>930155</td>\n",
       "      <td>930336</td>\n",
       "      <td>NaN</td>\n",
       "      <td>+</td>\n",
       "      <td>0</td>\n",
       "      <td>AACCGGGGGCGGCTGGCAGACAAGAGGACAGTCGCCCTGCCTGCCG...</td>\n",
       "      <td>182</td>\n",
       "    </tr>\n",
       "    <tr>\n",
       "      <th>560</th>\n",
       "      <td>NC_000001.11</td>\n",
       "      <td>BestRefSeq</td>\n",
       "      <td>CDS</td>\n",
       "      <td>931039</td>\n",
       "      <td>931089</td>\n",
       "      <td>NaN</td>\n",
       "      <td>+</td>\n",
       "      <td>1</td>\n",
       "      <td>AGTCCACACCCACTGGGACGTGAACATCTCTTTCCGAGAGGCGTCC...</td>\n",
       "      <td>51</td>\n",
       "    </tr>\n",
       "    <tr>\n",
       "      <th>561</th>\n",
       "      <td>NC_000001.11</td>\n",
       "      <td>BestRefSeq</td>\n",
       "      <td>CDS</td>\n",
       "      <td>935772</td>\n",
       "      <td>935896</td>\n",
       "      <td>NaN</td>\n",
       "      <td>+</td>\n",
       "      <td>1</td>\n",
       "      <td>CCAGGACGGCAACCTTCCCACCCTCATATCCAGCGTCCACCGCAGC...</td>\n",
       "      <td>125</td>\n",
       "    </tr>\n",
       "  </tbody>\n",
       "</table>\n",
       "</div>"
      ],
      "text/plain": [
       "            Seqid      Source Type   Start     End Score Strand Phase  \\\n",
       "50   NC_000001.11  BestRefSeq  CDS   65565   65573   NaN      +     0   \n",
       "558  NC_000001.11  BestRefSeq  CDS  925922  926013   NaN      +     2   \n",
       "559  NC_000001.11  BestRefSeq  CDS  930155  930336   NaN      +     0   \n",
       "560  NC_000001.11  BestRefSeq  CDS  931039  931089   NaN      +     1   \n",
       "561  NC_000001.11  BestRefSeq  CDS  935772  935896   NaN      +     1   \n",
       "\n",
       "                                              segments  segment_length  \n",
       "50                                           ATGAAGAAG               9  \n",
       "558  GGAAAAGTCTGAAGACGCTTATGTCCAAGGGGATCCTGCAGGTGCA...              92  \n",
       "559  AACCGGGGGCGGCTGGCAGACAAGAGGACAGTCGCCCTGCCTGCCG...             182  \n",
       "560  AGTCCACACCCACTGGGACGTGAACATCTCTTTCCGAGAGGCGTCC...              51  \n",
       "561  CCAGGACGGCAACCTTCCCACCCTCATATCCAGCGTCCACCGCAGC...             125  "
      ]
     },
     "execution_count": 47,
     "metadata": {},
     "output_type": "execute_result"
    }
   ],
   "source": [
    "print (cds_short.shape)\n",
    "cds_short.head()"
   ]
  },
  {
   "cell_type": "code",
   "execution_count": null,
   "id": "565175d2",
   "metadata": {},
   "outputs": [],
   "source": []
  },
  {
   "cell_type": "code",
   "execution_count": null,
   "id": "6307be7f",
   "metadata": {},
   "outputs": [],
   "source": []
  },
  {
   "cell_type": "code",
   "execution_count": null,
   "id": "0cf6304f",
   "metadata": {},
   "outputs": [],
   "source": []
  },
  {
   "cell_type": "code",
   "execution_count": null,
   "id": "23d3ba5b",
   "metadata": {},
   "outputs": [],
   "source": []
  },
  {
   "cell_type": "code",
   "execution_count": null,
   "id": "b7af87ed",
   "metadata": {},
   "outputs": [],
   "source": []
  },
  {
   "cell_type": "code",
   "execution_count": null,
   "id": "19ffc207",
   "metadata": {},
   "outputs": [],
   "source": []
  },
  {
   "cell_type": "code",
   "execution_count": null,
   "id": "e40d8222",
   "metadata": {},
   "outputs": [],
   "source": [
    "# новый парсер как бы"
   ]
  },
  {
   "cell_type": "code",
   "execution_count": null,
   "id": "5e0e1862",
   "metadata": {},
   "outputs": [],
   "source": []
  },
  {
   "cell_type": "code",
   "execution_count": 148,
   "id": "e961d283",
   "metadata": {},
   "outputs": [
    {
     "data": {
      "text/plain": [
       "248956422"
      ]
     },
     "execution_count": 148,
     "metadata": {},
     "output_type": "execute_result"
    }
   ],
   "source": [
    "len(sequence)"
   ]
  },
  {
   "cell_type": "code",
   "execution_count": 152,
   "id": "5ff98d6a",
   "metadata": {},
   "outputs": [],
   "source": [
    "import pandas as pd\n",
    "\n",
    "def slice_sequence(sequence1, chunk_length, step):\n",
    "    chunks = []\n",
    "    for i in range(0, len(sequence1), step):\n",
    "        start = i\n",
    "        end = min(i + chunk_length, len(sequence1))\n",
    "        chunk = sequence1[start:end]\n",
    "        chunks.append((start, end, chunk))\n",
    "    df = pd.DataFrame(chunks, columns=['Start', 'End', 'Sequence'])\n",
    "    return df\n",
    "\n",
    "\n",
    "# Пример использования\n",
    "sequence_tr = sequence[0:248900000]\n",
    "chunk_length = 1000\n",
    "step = 700\n",
    "\n",
    "\n",
    "result_df = slice_sequence(sequence_tr, chunk_length, step)\n",
    "result_df.tail()\n",
    "data_test = result_df\n"
   ]
  },
  {
   "cell_type": "code",
   "execution_count": 151,
   "id": "82a9fc32",
   "metadata": {},
   "outputs": [
    {
     "data": {
      "text/plain": [
       "(20562, 10)"
      ]
     },
     "execution_count": 151,
     "metadata": {},
     "output_type": "execute_result"
    }
   ],
   "source": [
    "cds_short.shape"
   ]
  },
  {
   "cell_type": "code",
   "execution_count": 153,
   "id": "a3e2fb78",
   "metadata": {},
   "outputs": [
    {
     "name": "stdout",
     "output_type": "stream",
     "text": [
      "            Start        End  \\\n",
      "15          10500      11500   \n",
      "16          11200      12200   \n",
      "17          11900      12900   \n",
      "18          12600      13600   \n",
      "19          13300      14300   \n",
      "...           ...        ...   \n",
      "355567  248896900  248897900   \n",
      "355568  248897600  248898600   \n",
      "355569  248898300  248899300   \n",
      "355570  248899000  248900000   \n",
      "355571  248899700  248900000   \n",
      "\n",
      "                                                 Sequence  Inside_Check  \\\n",
      "15      TCTGACCTGAGGAGAACTGTGCTCCGCCTTCAGAGTACCACCGAAA...             0   \n",
      "16      GCTTGCTCACGGTGCTGTGCCAGGGCGCCCCCTGCTGGCGACTAGG...             0   \n",
      "17      TTCTTTCTGTTCATGTGTATTTGCTGTCTCTTAGCCCAGACTTCCC...             0   \n",
      "18      GTCTCCCCCCAGGTGTGTGGTGATGCCAGGCATGCCCTTCCCCAGC...             0   \n",
      "19      ACGCTGTTGGCCTGGATCTGAGCCCTGGTGGAGGTCAAAGCCACCT...             0   \n",
      "...                                                   ...           ...   \n",
      "355567  ATCACACTTTTCCCATGGATCTTTGCAACCCATAGATCAGGATGTA...             0   \n",
      "355568  AGTCAGCAGCTGCTCGGGAAGGCACAGAGATGCAGGAGTTTTTGCA...             0   \n",
      "355569  CTCCAGACACCTCCAGCAGCATTTGGGCTTGAATCAGGTCAATGTT...             0   \n",
      "355570  CAAAGAAGGGCATTACATAATGGTAAAGGGTTCAATTAAACAAGAG...             0   \n",
      "355571  AGACAAGAAATAACCAAGATCAGAGTAGAAATAAAGGTGATAGAGA...             0   \n",
      "\n",
      "        Inside_Count Start_f End_f  \n",
      "15                 0       0     0  \n",
      "16                 0       0     0  \n",
      "17                 0       0     0  \n",
      "18                 0       0     0  \n",
      "19                 0       0     0  \n",
      "...              ...     ...   ...  \n",
      "355567             0       0     0  \n",
      "355568             0       0     0  \n",
      "355569             0       0     0  \n",
      "355570             0       0     0  \n",
      "355571             0       0     0  \n",
      "\n",
      "[329069 rows x 7 columns]\n"
     ]
    }
   ],
   "source": [
    "import pandas as pd\n",
    "import numpy as np\n",
    "\n",
    "# Пример данных\n",
    "df1 = data_test\n",
    "df2 = cds_short[0:20000]\n",
    "\n",
    "# Функция для проверки наличия второго датафрейма внутри первого\n",
    "def check_inside(row):\n",
    "    inside = df2.loc[(df2['Start']-1 >= row['Start']) & (df2['End']-1 <= row['End'])]\n",
    "    count = len(inside)\n",
    "    if count > 0:\n",
    "        start_f = inside['Start'].tolist()\n",
    "        end_f = inside['End'].tolist()\n",
    "    else:\n",
    "        count = 0\n",
    "        start_f = [0]\n",
    "        end_f = [0]\n",
    "    row['Inside_Check'] = int(count > 0)\n",
    "    row['Inside_Count'] = count\n",
    "    row['Start_f'] = np.nan if count == 0 else start_f\n",
    "    row['End_f'] = np.nan if count == 0 else end_f\n",
    "    return row\n",
    "\n",
    "# Применение функции к каждой строке первого датафрейма\n",
    "df1 = df1.apply(check_inside, axis=1)\n",
    "\n",
    "# Замена значений в столбце Inside_Check\n",
    "# df1['Inside_Check'] = df1['Inside_Check'].map({True: 1, False: 0})\n",
    "\n",
    "# Заполнение нулями вместо np.nan\n",
    "df1['Start_f'] = df1['Start_f'].fillna(0)\n",
    "df1['End_f'] = df1['End_f'].fillna(0)\n",
    "\n",
    "# print(df1)\n",
    "\n",
    "# print (df1)\n",
    "\n",
    "df1 = df1.loc[~df1['Sequence'].str.contains('N')]\n",
    "print(df1)\n",
    "\n"
   ]
  },
  {
   "cell_type": "code",
   "execution_count": 154,
   "id": "92acaf5c",
   "metadata": {},
   "outputs": [],
   "source": [
    "df1.to_csv('from_parser_2__reserve_whole_h1.csv', index=False)"
   ]
  },
  {
   "cell_type": "code",
   "execution_count": 161,
   "id": "b65f49a6",
   "metadata": {},
   "outputs": [
    {
     "name": "stdout",
     "output_type": "stream",
     "text": [
      "            Start        End  \\\n",
      "1874      1311800    1312800   \n",
      "1934      1353800    1354800   \n",
      "2321      1624700    1625700   \n",
      "3698      2588600    2589600   \n",
      "9232      6462400    6463400   \n",
      "24252    16976400   16977400   \n",
      "33991    23793700   23794700   \n",
      "39087    27360900   27361900   \n",
      "51684    36178800   36179800   \n",
      "51685    36179500   36180500   \n",
      "57577    40303900   40304900   \n",
      "61949    43364300   43365300   \n",
      "62815    43970500   43971500   \n",
      "64762    45333400   45334400   \n",
      "65175    45622500   45623500   \n",
      "67048    46933600   46934600   \n",
      "67349    47144300   47145300   \n",
      "100357   70249900   70250900   \n",
      "156115  109280500  109281500   \n",
      "215013  150509100  150510100   \n",
      "215081  150556700  150557700   \n",
      "219128  153389600  153390600   \n",
      "219129  153390300  153391300   \n",
      "220491  154343700  154344700   \n",
      "221623  155136100  155137100   \n",
      "221625  155137500  155138500   \n",
      "221714  155199800  155200800   \n",
      "222301  155610700  155611700   \n",
      "223207  156244900  156245900   \n",
      "229998  160998600  160999600   \n",
      "229999  160999300  161000300   \n",
      "230235  161164500  161165500   \n",
      "231038  161726600  161727600   \n",
      "281179  196825300  196826300   \n",
      "291231  203861700  203862700   \n",
      "304017  212811900  212812900   \n",
      "\n",
      "                                                 Sequence  Inside_Check  \\\n",
      "1874    GCCCAGGGTCTGTCCAGCTGGGAGAGGGCAGAGGTGGCGGCTGGGT...             1   \n",
      "1934    GGACAGGCAGGGCTCTGAGATGGGCTGAGGTCGCCCCCGCCGCTCA...             1   \n",
      "2321    GGGCCTGCTCCACTGCATCGCTCTCCCAAGTGGCTCAAGATGGGAA...             1   \n",
      "3698    GGAGGGCTGCTGGTGGTCAGCAAAGGTGGGTCGAGGGAGGGGCCTC...             1   \n",
      "9232    TCCTTCCATTGAACTGTTAGCTCCTGTGTACGAATCTGAACTCCAG...             1   \n",
      "24252   GGGCAAGGGCCAAAGACCTCCAGCCCACCAGCACCACCCCCTACTC...             1   \n",
      "33991   CCAGGCCTAGGATCCCTGTGACCCTCAACATGAAGATGGTGATGCC...             1   \n",
      "39087   TCCCAGTCCCGCGTCCTCACCTCCAACATCTCCCCCGCGCCCTCCG...             1   \n",
      "51684   AGCAGGAGCGGCTGCAGAAGCAGGTGCCCCCGGCGGGCGGGAAGCG...             1   \n",
      "51685   CCTCTTCAAAGCAGAAGCAGGACAGCAAGGAGGCCAACGCCAACGG...             1   \n",
      "57577   CCGCCCTTCCCTAGGCCGCGCGCTCACCTTCTCGCCTTTCTCTCCG...             1   \n",
      "61949   GTAAGTCAGGCCAAGCCCCTCACCAGCTGAATGGCTGTCATGTGCT...             1   \n",
      "62815   GCTTTGAAGGTTGAGTGGGAGCTCCTGGAAGATTGCTTTAAAGAAG...             1   \n",
      "64762   TCGCCTGCCTACCCGTCTTCTCCATGGTAGGTCCCGTTTCTCTTGG...             1   \n",
      "65175   TTCTCCTCCCAGGACTGACCACCGCTGGCGAGAGGCCCTCCTGTTC...             1   \n",
      "67048   TCCTGATAAGCCTCTTTTGCACTGACCCCATGAGGAAAGAAACACA...             1   \n",
      "67349   CTCCTGGGGGCTGCTGACGGTCTCAGCTCTGCCTGGTAACCATTGT...             1   \n",
      "100357  TTTAAGATCACACTGTATTTTAAAACCTAGTTTGCACATTTGTGAT...             1   \n",
      "156115  TTAACAAAAGAAATGAGTTAGCAGCAAGTTTAACTGACCTCGAAAA...             1   \n",
      "215013  AGGGTGGGTGGAGGAGGTGGATTGGGTAGGCTCCAACCAGCTCAAG...             1   \n",
      "215081  ACCGTCTTTCGATATAACCGTCCTCCCAGGGAGGAGGGCAAAGGGG...             1   \n",
      "219128  TGTCTCTCTCTCACACACACACACACAGACACACACACACACACCC...             1   \n",
      "219129  ATAGCCATCTATGAAGGGTGGCAGGGAGGACCGCTGGCCCAGGGCA...             1   \n",
      "220491  ATTACTACAGTCAGACAACTTAACACATCAGCCAGCTCCCATAGTT...             1   \n",
      "221623  TGGGATCGGGTCGAGGGGACCGGGGTACAAGGGCGAGGCTGGTCAC...             1   \n",
      "221625  TAACTCTAGCAGGGAAGTCAGAGTGCACATCTGGAAGTAAGGGTAC...             1   \n",
      "221714  TACCTGTCTTCATTAGTATCACAGACATCCCCCACCAGGTCGCTGT...             1   \n",
      "222301  CTCGAGGGGCCCACGACAGTTGCTCAAGAGCCATTTCGGGAATAGG...             1   \n",
      "223207  CACAGCCCGAGCTGTCAAAGGAAAACCAAGGCTGCTGGGGAGGGAC...             1   \n",
      "229998  CAGGATTCCTTCCTGATCCCTCAAAGAAATGGGGAATAAACACTTT...             1   \n",
      "229999  TGCCTTCAACCCATTCCCCTAGGCCCACTTCAGCTTCAAACCACAT...             1   \n",
      "230235  ATATTAACCTAACACTGTTTGCCATTTATTCAGGTGTGTGACCGAT...             1   \n",
      "231038  CTTGGTCTGTGGGTCTGCAAGGAGCCCTCGCGGGAAGCAGGAAGGA...             1   \n",
      "281179  GTACTCCTAGTTAGTGATGCTTTTCATTCCTAATTTGTACACTGGA...             1   \n",
      "291231  GGTGCAGCCCATCGTATCCTACGCAGGATGTCAGGACTAGGAGGTT...             1   \n",
      "304017  CCATGTTGGCCAGGCTAGTCTTGAACTCCTGACCTTATGTTCTGTC...             1   \n",
      "\n",
      "        Inside_Count                                            Start_f  \\\n",
      "1874               5      [1312593, 1312440, 1312226, 1312018, 1311859]   \n",
      "1934               5      [1354354, 1354193, 1354030, 1353848, 1353848]   \n",
      "2321               5      [1624795, 1624991, 1625286, 1625546, 1625558]   \n",
      "3698               5      [2588922, 2589410, 2588954, 2588954, 2588957]   \n",
      "9232               5      [6462629, 6463072, 6462863, 6462629, 6463065]   \n",
      "24252              5  [16977109, 16976897, 16976708, 16976501, 16977...   \n",
      "33991              5  [23793705, 23793860, 23794063, 23794224, 23794...   \n",
      "39087              5  [27361705, 27361520, 27361346, 27361157, 27360...   \n",
      "51684              5  [36178921, 36179262, 36179512, 36179666, 36179...   \n",
      "51685              5  [36179512, 36179666, 36179874, 36180248, 36179...   \n",
      "57577              5  [40304794, 40304476, 40304320, 40304064, 40303...   \n",
      "61949              5  [43364928, 43364738, 43364542, 43364324, 43364...   \n",
      "62815              5  [43971181, 43970596, 43970966, 43970630, 43970...   \n",
      "64762              5  [45333413, 45333413, 45333413, 45333413, 45333...   \n",
      "65175              5  [45623217, 45622955, 45622751, 45622549, 45623...   \n",
      "67048              5  [46934453, 46933946, 46934453, 46934176, 46933...   \n",
      "67349              5  [47144357, 47144550, 47144837, 47144357, 47144...   \n",
      "100357             5  [70249931, 70250365, 70250608, 70249952, 70250...   \n",
      "156115             5  [109281137, 109280777, 109281108, 109280777, 1...   \n",
      "215013             5  [150509531, 150509661, 150509922, 150509661, 1...   \n",
      "215081             5  [150556939, 150557150, 150557494, 150556939, 1...   \n",
      "219128             5  [153390395, 153390103, 153390395, 153390395, 1...   \n",
      "219129             5  [153390395, 153391041, 153390395, 153390395, 1...   \n",
      "220491             5  [154343893, 154344143, 154344395, 154343893, 1...   \n",
      "221623             5  [155136299, 155136315, 155136828, 155136299, 1...   \n",
      "221625             5  [155137561, 155137979, 155138180, 155137579, 1...   \n",
      "221714             5  [155200451, 155199995, 155199804, 155199982, 1...   \n",
      "222301             5  [155611216, 155611427, 155611039, 155611216, 1...   \n",
      "223207             5  [156245535, 156245142, 156245142, 156245535, 1...   \n",
      "229998             5  [160999396, 160999043, 160998871, 160998871, 1...   \n",
      "229999             5  [160999876, 160999640, 160999396, 160999640, 1...   \n",
      "230235             5  [161164534, 161164835, 161165029, 161165357, 1...   \n",
      "231038             5  [161726703, 161726807, 161727247, 161726848, 1...   \n",
      "281179             5  [196825477, 196825528, 196825639, 196825642, 1...   \n",
      "291231             5  [203861728, 203862182, 203862196, 203861922, 2...   \n",
      "304017             5  [212812227, 212812248, 212812251, 212812248, 2...   \n",
      "\n",
      "                                                    End_f  \n",
      "1874        [1312700, 1312501, 1312368, 1312147, 1311924]  \n",
      "1934        [1354509, 1354232, 1354106, 1353946, 1353928]  \n",
      "2321        [1624901, 1625185, 1625428, 1625653, 1625653]  \n",
      "3698        [2589040, 2589427, 2589040, 2589040, 2589040]  \n",
      "9232        [6462663, 6463127, 6462970, 6462666, 6463147]  \n",
      "24252   [16977195, 16976923, 16976794, 16976545, 16977...  \n",
      "33991   [23793752, 23793930, 23794136, 23794325, 23794...  \n",
      "39087   [27361867, 27361627, 27361395, 27361252, 27361...  \n",
      "51684   [36179025, 36179315, 36179557, 36179756, 36179...  \n",
      "51685   [36179557, 36179756, 36180067, 36180258, 36179...  \n",
      "57577   [40304847, 40304529, 40304391, 40304099, 40303...  \n",
      "61949   [43365002, 43364794, 43364647, 43364460, 43365...  \n",
      "62815   [43971220, 43970708, 43971189, 43970708, 43970...  \n",
      "64762   [45333561, 45333564, 45333594, 45333603, 45333...  \n",
      "65175   [45623412, 45623117, 45622834, 45622667, 45623...  \n",
      "67048   [46934559, 46934131, 46934559, 46934366, 46934...  \n",
      "67349   [47144463, 47144740, 47144970, 47144463, 47144...  \n",
      "100357  [70250047, 70250503, 70250805, 70250047, 70250...  \n",
      "156115  [109281251, 109281046, 109281251, 109280969, 1...  \n",
      "215013  [150509581, 150509762, 150510002, 150509756, 1...  \n",
      "215081  [150557050, 150557335, 150557623, 150556976, 1...  \n",
      "219128  [153390557, 153390243, 153390571, 153390574, 1...  \n",
      "219129  [153390557, 153391073, 153390571, 153390574, 1...  \n",
      "220491  [154344057, 154344254, 154344500, 154344039, 1...  \n",
      "221623  [155136376, 155136376, 155136951, 155136396, 1...  \n",
      "221625  [155137722, 155138098, 155138281, 155137722, 1...  \n",
      "221714  [155200610, 155200113, 155199856, 155200113, 1...  \n",
      "222301  [155611291, 155611603, 155611108, 155611291, 1...  \n",
      "223207  [156245646, 156245238, 156245238, 156245661, 1...  \n",
      "229998  [160999408, 160999091, 160998906, 160998891, 1...  \n",
      "229999  [160999978, 160999747, 160999408, 160999717, 1...  \n",
      "230235  [161164612, 161164942, 161165143, 161165447, 1...  \n",
      "231038  [161726993, 161726993, 161727313, 161726993, 1...  \n",
      "281179  [196825671, 196825671, 196825671, 196825671, 1...  \n",
      "291231  [203861743, 203862222, 203862222, 203861955, 2...  \n",
      "304017  [212812328, 212812328, 212812328, 212812328, 2...  \n"
     ]
    }
   ],
   "source": [
    "print (df1.loc[df1['Inside_Count'] ==5])"
   ]
  },
  {
   "cell_type": "code",
   "execution_count": 162,
   "id": "ad963475",
   "metadata": {},
   "outputs": [],
   "source": [
    "import pandas as pd\n",
    "\n",
    "# # Пример данных\n",
    "# df1 = pd.DataFrame({'Start': [100, 200, 300], 'End': [500, 600, 700]})\n",
    "\n",
    "# Добавление столбца 'Mask' со строками из 0 длиной 1000\n",
    "df1['Mask'] = '0' * 1000\n",
    "\n",
    "# Функция для замены части нулей на единицы\n",
    "def replace_with_ones(row):\n",
    "    if row['Inside_Check'] == 1 and isinstance(row['Start_f'], list) and isinstance(row['End_f'], list):\n",
    "        sequence_list = list(row['Mask'])\n",
    "        for start_f, end_f in zip(row['Start_f'], row['End_f']):\n",
    "            start_in = start_f - row['Start']\n",
    "            end_in = end_f - row['Start']\n",
    "            sequence_list[start_in: end_in+1] = '1' * (end_in - start_in + 1)\n",
    "        sequence = ''.join(sequence_list)\n",
    "        return sequence\n",
    "    return row['Mask']\n",
    "\n",
    "# Применение функции к каждой строке датафрейма\n",
    "df1['Mask'] = df1.apply(replace_with_ones, axis=1)\n",
    "\n",
    "# Замена значений в столбце Inside_Check на 1 и 0\n",
    "df1['Inside_Check'] = df1['Inside_Check'].apply(lambda x: 1 if x else 0)\n",
    "\n",
    "# print(df1)\n"
   ]
  },
  {
   "cell_type": "code",
   "execution_count": 163,
   "id": "b9c65954",
   "metadata": {},
   "outputs": [
    {
     "name": "stdout",
     "output_type": "stream",
     "text": [
      "0     309230\n",
      "1      15721\n",
      "2       3246\n",
      "3        674\n",
      "4        148\n",
      "5         36\n",
      "6          6\n",
      "8          3\n",
      "9          2\n",
      "7          2\n",
      "11         1\n",
      "Name: Inside_Count, dtype: int64\n",
      "            Start        End  \\\n",
      "93          65100      66100   \n",
      "1328       929600     930600   \n",
      "1329       930300     931300   \n",
      "1330       931000     932000   \n",
      "1336       935200     936200   \n",
      "...           ...        ...   \n",
      "338230  236761000  236762000   \n",
      "338231  236761700  236762700   \n",
      "338232  236762400  236763400   \n",
      "338279  236795300  236796300   \n",
      "338290  236803000  236804000   \n",
      "\n",
      "                                                 Sequence  Inside_Check  \\\n",
      "93      AATTTTTCTATATTTTCTCCGCAAGTTGGTCATAAAAGTTCTAAGC...             1   \n",
      "1328    GGATTGGCAGGCAGATACACGGAGGGAACGTGCGCATTTGAGTGCA...             1   \n",
      "1329    GGAGGATGGTCCGCACATCCGTATCATGAAGAGAAGGTACTTGGAC...             1   \n",
      "1330    TCCAGAGCAACATGGACCTTCTGCTTCCCTTCCTGCAGAGTCCACA...             1   \n",
      "1336    CAGCGGGAGGTTGGAGCACGCAGCCCTGGTGCCTGGTGCGAGCTGC...             1   \n",
      "...                                                   ...           ...   \n",
      "338230  CCACTTTGCCCCAGGGTGAAGCCGAATTTGCCCGCATTATGACCCT...             1   \n",
      "338231  ATTGTAATATTTTACCCCCCAAACAATAAAAACATCTCTATGTATA...             1   \n",
      "338232  GACTGTTTATGTTGTGGTGTTTCTGCAACTGACTGCAAACACGTGT...             1   \n",
      "338279  CGCGCTCTGAAAGGTTCTAAATGTCTGCGGGGCTCAGAGCCGGATG...             1   \n",
      "338290  GGGAGAAGGTCAAAGCTAATATTTTAAAGAATAGTTTGGAATTATT...             1   \n",
      "\n",
      "        Inside_Count      Start_f        End_f  \\\n",
      "93                 1      [65565]      [65573]   \n",
      "1328               1     [930155]     [930336]   \n",
      "1329               1     [931039]     [931089]   \n",
      "1330               1     [931039]     [931089]   \n",
      "1336               1     [935772]     [935896]   \n",
      "...              ...          ...          ...   \n",
      "338230             1  [236761015]  [236761173]   \n",
      "338231             1  [236762461]  [236762619]   \n",
      "338232             1  [236762461]  [236762619]   \n",
      "338279             1  [236795704]  [236795737]   \n",
      "338290             1  [236803428]  [236803642]   \n",
      "\n",
      "                                                     Mask  \n",
      "93      0000000000000000000000000000000000000000000000...  \n",
      "1328    0000000000000000000000000000000000000000000000...  \n",
      "1329    0000000000000000000000000000000000000000000000...  \n",
      "1330    0000000000000000000000000000000000000001111111...  \n",
      "1336    0000000000000000000000000000000000000000000000...  \n",
      "...                                                   ...  \n",
      "338230  0000000000000001111111111111111111111111111111...  \n",
      "338231  0000000000000000000000000000000000000000000000...  \n",
      "338232  0000000000000000000000000000000000000000000000...  \n",
      "338279  0000000000000000000000000000000000000000000000...  \n",
      "338290  0000000000000000000000000000000000000000000000...  \n",
      "\n",
      "[15721 rows x 8 columns]\n"
     ]
    }
   ],
   "source": [
    "count_per_value = df1['Inside_Count'].value_counts()\n",
    "print(count_per_value)\n",
    "\n",
    "print (df1.loc[df1['Inside_Count'] == 1])"
   ]
  },
  {
   "cell_type": "code",
   "execution_count": 165,
   "id": "88bd2ea5",
   "metadata": {},
   "outputs": [
    {
     "data": {
      "image/png": "[encoded data removed]",
      "text/plain": [
       "<Figure size 432x288 with 1 Axes>"
      ]
     },
     "metadata": {
      "needs_background": "light"
     },
     "output_type": "display_data"
    }
   ],
   "source": [
    "import pandas as pd\n",
    "import matplotlib.pyplot as plt\n",
    "\n",
    "count_per_value = df1['Inside_Count'].value_counts()\n",
    "\n",
    "# Создание графика\n",
    "plt.bar(count_per_value.index, count_per_value.values)\n",
    "\n",
    "# Настройка осей и заголовка\n",
    "plt.xlabel('Inside_Count')\n",
    "plt.ylabel('Count')\n",
    "plt.title('Frequency of Inside_Count')\n",
    "\n",
    "# Установка логарифмического масштаба по оси y\n",
    "plt.yscale('log')\n",
    "\n",
    "# Показ графика\n",
    "plt.show()\n"
   ]
  },
  {
   "cell_type": "code",
   "execution_count": 118,
   "id": "badd7b6a",
   "metadata": {},
   "outputs": [
    {
     "name": "stdout",
     "output_type": "stream",
     "text": [
      "0000000000000000000000000000000000000000000000000000000000000000000000000000000000000000000000000000000000000000000000000000000000000000000000000000000000000000000000000000000000000000000000000000000000000000000000000000000000000000000000000000000000000000000000000000000000000000000000000000000000000000000000000000000000000000000000000000000000000000000000000000000000000000000000000000000000000000000000000000000000000000000000000000000000000000000000000000000001111111110000000000000000000000000000000000000000000000000000000000000000000000000000000000000000000000000000000000000000000000000000000000000000000000000000000000000000000000000000000000000000000000000000000000000000000000000000000000000000000000000000000000000000000000000000000000000000000000000000000000000000000000000000000000000000000000000000000000000000000000000000000000000000000000000000000000000000000000000000000000000000000000000000000000000000000000000000000000000000000000000000000000000000000000000000000000000000000000\n"
     ]
    }
   ],
   "source": [
    "nom = 93\n",
    "print (df1.loc[nom].Mask)"
   ]
  },
  {
   "cell_type": "code",
   "execution_count": 119,
   "id": "d381aa6a",
   "metadata": {},
   "outputs": [
    {
     "name": "stdout",
     "output_type": "stream",
     "text": [
      "AATTTTTCTATATTTTCTCCGCAAGTTGGTCATAAAAGTTCTAAGCATTCCTCTTTTTATAAAATCGAAGCATTATTACTTACTCTCTTGTTAACCTATCTGGATTTTAATTTTGTAACTTTATTATATTTGTTTTGCTGTGATTCTTTAAAAAGCACCTTTAGACTCAGTGAGATAGCAAAAATATCCAAATAGGCCAAAAAATTGTGGCAATGTCCTCTCACTCAGGAAAATTCTGTGTGTTTTCTCTAATGGCCAAGGGAAAACTTGTGAGACTATAAAAGTTAGTCTCAGTACACAAAGCTCAGACTGGCTATTCCCAGATCTCTTCAGGTACATCTAGTCCATTCATAAAGGGCTTTTAATTAACCAAGTGGTTTACTAAAAAGGACAATTCACTACATATTATTCTCTTACAGTTTTTATGCCTCATTCTGTGAAAATTGCTGTAGTCTCTTCCAGTTATGAAGAAGGTAGGTGGAAACAAAGACAAAACACATATATTAGAAGAATGAATGAAATTGTAGCATTTTATTGACAATGAGATGGTTCTATTAGTAGGAATCTATTCTGCATAATTCCATTTTGTGTTTACCTTCTGGAAAAATGAAAGGATTCTGTATGGTTAACTTAAATACTTAGAGAAATTAATATGAATAATGTTAGCAAGAATAACCCTTGTTATAAGTATTATGCTGGCAACAATTGTCGAGTCCTCCTCCTCACTCTTCTGGGCTAATTTGTTCTTTTCTCCCCATTTAATAGTCCTTTTCCCCATCTTTCCCCAGGTCCGGTGTTTTCTTACCCACCTCCTTCCCTCCTTTTTATAATACCAGTGAAACTTGGTTTGGAGCATTTCTTTCACATAAAGGTACAAATCATACTGCTAGAGTTGTGAGGATTTTTACAGCTTTTGAAAGAATAAACTCATTTTAAAAACAGGAAAGCTAAGGCCCAGAGATTTTTAAATGATATTCCCATGATCACACTGTGAATTTGT\n"
     ]
    }
   ],
   "source": [
    "print (df1.loc[nom].Sequence)"
   ]
  },
  {
   "cell_type": "code",
   "execution_count": 120,
   "id": "31bd4f44",
   "metadata": {},
   "outputs": [
    {
     "name": "stdout",
     "output_type": "stream",
     "text": [
      "A0A0T0T0T0T0T0C0T0A0T0A0T0T0T0T0C0T0C0C0G0C0A0A0G0T0T0G0G0T0C0A0T0A0A0A0A0G0T0T0C0T0A0A0G0C0A0T0T0C0C0T0C0T0T0T0T0T0A0T0A0A0A0A0T0C0G0A0A0G0C0A0T0T0A0T0T0A0C0T0T0A0C0T0C0T0C0T0T0G0T0T0A0A0C0C0T0A0T0C0T0G0G0A0T0T0T0T0A0A0T0T0T0T0G0T0A0A0C0T0T0T0A0T0T0A0T0A0T0T0T0G0T0T0T0T0G0C0T0G0T0G0A0T0T0C0T0T0T0A0A0A0A0A0G0C0A0C0C0T0T0T0A0G0A0C0T0C0A0G0T0G0A0G0A0T0A0G0C0A0A0A0A0A0T0A0T0C0C0A0A0A0T0A0G0G0C0C0A0A0A0A0A0A0T0T0G0T0G0G0C0A0A0T0G0T0C0C0T0C0T0C0A0C0T0C0A0G0G0A0A0A0A0T0T0C0T0G0T0G0T0G0T0T0T0T0C0T0C0T0A0A0T0G0G0C0C0A0A0G0G0G0A0A0A0A0C0T0T0G0T0G0A0G0A0C0T0A0T0A0A0A0A0G0T0T0A0G0T0C0T0C0A0G0T0A0C0A0C0A0A0A0G0C0T0C0A0G0A0C0T0G0G0C0T0A0T0T0C0C0C0A0G0A0T0C0T0C0T0T0C0A0G0G0T0A0C0A0T0C0T0A0G0T0C0C0A0T0T0C0A0T0A0A0A0G0G0G0C0T0T0T0T0A0A0T0T0A0A0C0C0A0A0G0T0G0G0T0T0T0A0C0T0A0A0A0A0A0G0G0A0C0A0A0T0T0C0A0C0T0A0C0A0T0A0T0T0A0T0T0C0T0C0T0T0A0C0A0G0T0T0T0T0T0A0T0G0C0C0T0C0A0T0T0C0T0G0T0G0A0A0A0A0T0T0G0C0T0G0T0A0G0T0C0T0C0T0T0C0C0A0G0T0T0A0T1G1A1A1G1A1A1G1G1T0A0G0G0T0G0G0A0A0A0C0A0A0A0G0A0C0A0A0A0A0C0A0C0A0T0A0T0A0T0T0A0G0A0A0G0A0A0T0G0A0A0T0G0A0A0A0T0T0G0T0A0G0C0A0T0T0T0T0A0T0T0G0A0C0A0A0T0G0A0G0A0T0G0G0T0T0C0T0A0T0T0A0G0T0A0G0G0A0A0T0C0T0A0T0T0C0T0G0C0A0T0A0A0T0T0C0C0A0T0T0T0T0G0T0G0T0T0T0A0C0C0T0T0C0T0G0G0A0A0A0A0A0T0G0A0A0A0G0G0A0T0T0C0T0G0T0A0T0G0G0T0T0A0A0C0T0T0A0A0A0T0A0C0T0T0A0G0A0G0A0A0A0T0T0A0A0T0A0T0G0A0A0T0A0A0T0G0T0T0A0G0C0A0A0G0A0A0T0A0A0C0C0C0T0T0G0T0T0A0T0A0A0G0T0A0T0T0A0T0G0C0T0G0G0C0A0A0C0A0A0T0T0G0T0C0G0A0G0T0C0C0T0C0C0T0C0C0T0C0A0C0T0C0T0T0C0T0G0G0G0C0T0A0A0T0T0T0G0T0T0C0T0T0T0T0C0T0C0C0C0C0A0T0T0T0A0A0T0A0G0T0C0C0T0T0T0T0C0C0C0C0A0T0C0T0T0T0C0C0C0C0A0G0G0T0C0C0G0G0T0G0T0T0T0T0C0T0T0A0C0C0C0A0C0C0T0C0C0T0T0C0C0C0T0C0C0T0T0T0T0T0A0T0A0A0T0A0C0C0A0G0T0G0A0A0A0C0T0T0G0G0T0T0T0G0G0A0G0C0A0T0T0T0C0T0T0T0C0A0C0A0T0A0A0A0G0G0T0A0C0A0A0A0T0C0A0T0A0C0T0G0C0T0A0G0A0G0T0T0G0T0G0A0G0G0A0T0T0T0T0T0A0C0A0G0C0T0T0T0T0G0A0A0A0G0A0A0T0A0A0A0C0T0C0A0T0T0T0T0A0A0A0A0A0C0A0G0G0A0A0A0G0C0T0A0A0G0G0C0C0C0A0G0A0G0A0T0T0T0T0T0A0A0A0T0G0A0T0A0T0T0C0C0C0A0T0G0A0T0C0A0C0A0C0T0G0T0G0A0A0T0T0T0G0T0\n"
     ]
    }
   ],
   "source": [
    "result = \"\"\n",
    "\n",
    "nom = 93\n",
    "\n",
    "\n",
    "for i in range(len(df1.loc[nom].Sequence)):\n",
    "    result += df1.loc[nom].Sequence[i] + df1.loc[nom].Mask[i]\n",
    "\n",
    "print(result)"
   ]
  },
  {
   "cell_type": "code",
   "execution_count": 166,
   "id": "2d2e9c02",
   "metadata": {},
   "outputs": [],
   "source": [
    "df1['Mask'] = df1['Mask'].apply(lambda x: '[' + ', '.join(x) + ']')"
   ]
  },
  {
   "cell_type": "code",
   "execution_count": 130,
   "id": "547f19fc",
   "metadata": {},
   "outputs": [
    {
     "name": "stdout",
     "output_type": "stream",
     "text": [
      "[0, 0, 0, 0, 0, 0, 0, 0, 0, 0, 0, 0, 0, 0, 0, 0, 0, 0, 0, 0, 0, 0, 0, 0, 0, 0, 0, 0, 0, 0, 0, 0, 0, 0, 0, 0, 0, 0, 0, 0, 0, 0, 0, 0, 0, 0, 0, 0, 0, 0, 0, 0, 0, 0, 0, 0, 0, 0, 0, 0, 0, 0, 0, 0, 0, 0, 0, 0, 0, 0, 0, 0, 0, 0, 0, 0, 0, 0, 0, 0, 0, 0, 0, 0, 0, 0, 0, 0, 0, 0, 0, 0, 0, 0, 0, 0, 0, 0, 0, 0, 0, 0, 0, 0, 0, 0, 0, 0, 0, 0, 0, 0, 0, 0, 0, 0, 0, 0, 0, 0, 0, 0, 0, 0, 0, 0, 0, 0, 0, 0, 0, 0, 0, 0, 0, 0, 0, 0, 0, 0, 0, 0, 0, 0, 0, 0, 0, 0, 0, 0, 0, 0, 0, 0, 0, 0, 0, 0, 0, 0, 0, 0, 0, 0, 0, 0, 0, 0, 0, 0, 0, 0, 0, 0, 0, 0, 0, 0, 0, 0, 0, 0, 0, 0, 0, 0, 0, 0, 0, 0, 0, 0, 0, 0, 0, 0, 0, 0, 0, 0, 0, 0, 0, 0, 0, 0, 0, 0, 0, 0, 0, 0, 0, 0, 0, 0, 0, 0, 0, 0, 0, 0, 0, 0, 0, 0, 0, 0, 0, 0, 0, 0, 0, 0, 0, 0, 0, 0, 0, 0, 0, 0, 0, 0, 0, 0, 0, 0, 0, 0, 0, 0, 0, 0, 0, 0, 0, 0, 0, 0, 0, 0, 0, 0, 0, 0, 0, 0, 0, 0, 0, 0, 0, 0, 0, 0, 0, 0, 0, 0, 0, 0, 0, 0, 0, 0, 0, 0, 0, 0, 0, 0, 0, 0, 0, 0, 0, 0, 0, 0, 0, 0, 0, 0, 0, 0, 0, 0, 0, 0, 0, 0, 0, 0, 0, 0, 0, 0, 0, 0, 0, 0, 0, 0, 0, 0, 0, 0, 0, 0, 0, 0, 0, 0, 0, 0, 0, 0, 0, 0, 0, 0, 0, 0, 0, 0, 0, 0, 0, 0, 0, 0, 0, 0, 0, 0, 0, 0, 0, 0, 0, 0, 0, 0, 0, 0, 0, 0, 0, 0, 0, 0, 0, 0, 0, 0, 0, 0, 0, 0, 0, 0, 0, 0, 0, 0, 0, 0, 0, 0, 0, 0, 0, 0, 0, 0, 0, 0, 0, 0, 0, 0, 0, 0, 0, 0, 0, 0, 0, 0, 0, 0, 0, 0, 0, 0, 0, 0, 0, 0, 0, 0, 0, 0, 0, 0, 0, 0, 0, 0, 0, 0, 0, 0, 0, 0, 0, 0, 0, 0, 0, 0, 0, 0, 0, 0, 0, 0, 0, 0, 0, 0, 0, 0, 0, 0, 0, 0, 0, 0, 0, 0, 0, 0, 0, 0, 0, 0, 0, 0, 0, 0, 0, 0, 0, 0, 0, 0, 0, 0, 0, 0, 0, 0, 0, 0, 0, 0, 0, 0, 0, 0, 0, 0, 0, 0, 0, 0, 0, 0, 0, 0, 0, 0, 0, 0, 0, 0, 0, 0, 0, 0, 0, 0, 0, 0, 0, 0, 0, 0, 0, 0, 0, 0, 0, 0, 0, 0, 0, 0, 0, 0, 0, 0, 0, 0, 0, 0, 0, 0, 0, 0, 0, 0, 0, 0, 0, 0, 0, 0, 0, 0, 0, 0, 0, 0, 0, 0, 0, 0, 0, 0, 0, 0, 0, 0, 0, 0, 0, 0, 0, 0, 0, 0, 0, 0, 0, 0, 0, 0, 0, 0, 0, 0, 0, 0, 0, 0, 0, 0, 0, 0, 0, 0, 0, 0, 0, 0, 0, 0, 0, 0, 0, 0, 0, 0, 0, 0, 0, 0, 0, 0, 0, 0, 0, 0, 0, 0, 0, 0, 0, 0, 0, 0, 0, 0, 0, 0, 0, 0, 0, 0, 0, 0, 0, 0, 0, 0, 0, 0, 0, 0, 0, 0, 0, 0, 0, 0, 0, 0, 0, 0, 0, 0, 0, 0, 0, 0, 0, 0, 0, 0, 0, 0, 0, 0, 0, 0, 0, 0, 0, 0, 0, 0, 0, 0, 0, 0, 0, 0, 0, 0, 0, 0, 0, 0, 0, 0, 0, 0, 0, 0, 0, 0, 0, 0, 0, 0, 0, 0, 0, 0, 0, 0, 0, 0, 0, 0, 0, 0, 0, 0, 0, 0, 0, 0, 0, 0, 0, 0, 0, 0, 0, 0, 0, 0, 0, 0, 0, 0, 0, 0, 0, 0, 0, 0, 0, 0, 0, 0, 0, 0, 0, 0, 0, 0, 0, 0, 0, 0, 0, 0, 0, 0, 0, 0, 0, 0, 0, 0, 0, 0, 0, 0, 0, 0, 0, 0, 0, 0, 0, 0, 0, 0, 0, 0, 0, 0, 0, 0, 0, 0, 0, 0, 0, 0, 0, 0, 0, 0, 0, 0, 0, 0, 0, 0, 0, 0, 0, 0, 0, 0, 0, 0, 0, 0, 0, 0, 0, 0, 0, 0, 0, 0, 0, 0, 0, 0, 0, 0, 0, 0, 0, 0, 0, 0, 0, 0, 0, 0, 0, 0, 0, 0, 0, 0, 0, 0, 0, 0, 0, 0, 0, 0, 0, 0, 0, 0, 0, 0, 0, 0, 0, 0, 0, 0, 0, 0, 0, 0, 0, 0, 0, 0, 0, 0, 0, 0, 0, 0, 0, 0, 0, 0, 0, 0, 0, 0, 0, 0, 0, 0, 0, 0, 0, 0, 0, 0, 0, 0, 0, 0, 0, 0, 0, 0, 0, 0, 0, 0, 0, 0, 0, 0, 0, 0, 0, 0, 0, 0, 0, 0, 0, 0, 0, 0, 0, 0, 0, 0, 0, 0, 0, 0, 0, 0, 0, 0, 0, 0, 0, 0, 0, 0, 0, 0, 0, 0, 0, 0, 0, 0, 0, 0, 0, 0, 0, 0, 0, 0, 0, 0, 0, 0, 0, 0, 0, 0, 0, 0, 0, 0, 0, 0, 0, 0, 0, 0, 0, 0, 0, 0, 0, 0, 0, 0, 0, 0, 0, 0, 0, 0, 0, 0, 0, 0, 0, 0, 0, 0, 0, 0, 0, 0, 0, 0, 0, 0, 0, 0]\n",
      "(1909,)\n",
      "3000\n"
     ]
    }
   ],
   "source": [
    "a = df1['Mask'].apply(lambda x: '[' + ', '.join(x) + ']')\n",
    "print(a.loc[15])\n",
    "print(a.shape)\n",
    "print(len(a.loc[15]))"
   ]
  },
  {
   "cell_type": "code",
   "execution_count": 122,
   "id": "c25a3252",
   "metadata": {},
   "outputs": [
    {
     "name": "stdout",
     "output_type": "stream",
     "text": [
      "15      0000000000000000000000000000000000000000000000...\n",
      "16      0000000000000000000000000000000000000000000000...\n",
      "17      0000000000000000000000000000000000000000000000...\n",
      "18      0000000000000000000000000000000000000000000000...\n",
      "19      0000000000000000000000000000000000000000000000...\n",
      "                              ...                        \n",
      "2138    0000000000000000000000000000000000000000000000...\n",
      "2139    0000000000000000000000000000000000000000000000...\n",
      "2140    0000000000000000000000000000000000000000000000...\n",
      "2141    0000000000000000000000000000000000000000000000...\n",
      "2142    0000000000000000000000000000000000000000000000...\n",
      "Name: Mask, Length: 1909, dtype: object\n"
     ]
    }
   ],
   "source": [
    "print(df1['Mask'])"
   ]
  },
  {
   "cell_type": "code",
   "execution_count": 167,
   "id": "024d44d1",
   "metadata": {},
   "outputs": [
    {
     "data": {
      "text/html": [
       "<div>\n",
       "<style scoped>\n",
       "    .dataframe tbody tr th:only-of-type {\n",
       "        vertical-align: middle;\n",
       "    }\n",
       "\n",
       "    .dataframe tbody tr th {\n",
       "        vertical-align: top;\n",
       "    }\n",
       "\n",
       "    .dataframe thead th {\n",
       "        text-align: right;\n",
       "    }\n",
       "</style>\n",
       "<table border=\"1\" class=\"dataframe\">\n",
       "  <thead>\n",
       "    <tr style=\"text-align: right;\">\n",
       "      <th></th>\n",
       "      <th>Start</th>\n",
       "      <th>End</th>\n",
       "      <th>Sequence</th>\n",
       "      <th>Inside_Check</th>\n",
       "      <th>Inside_Count</th>\n",
       "      <th>Start_f</th>\n",
       "      <th>End_f</th>\n",
       "      <th>Mask</th>\n",
       "    </tr>\n",
       "  </thead>\n",
       "  <tbody>\n",
       "    <tr>\n",
       "      <th>15</th>\n",
       "      <td>10500</td>\n",
       "      <td>11500</td>\n",
       "      <td>TCTGACCTGAGGAGAACTGTGCTCCGCCTTCAGAGTACCACCGAAA...</td>\n",
       "      <td>0</td>\n",
       "      <td>0</td>\n",
       "      <td>0</td>\n",
       "      <td>0</td>\n",
       "      <td>[0, 0, 0, 0, 0, 0, 0, 0, 0, 0, 0, 0, 0, 0, 0, ...</td>\n",
       "    </tr>\n",
       "    <tr>\n",
       "      <th>16</th>\n",
       "      <td>11200</td>\n",
       "      <td>12200</td>\n",
       "      <td>GCTTGCTCACGGTGCTGTGCCAGGGCGCCCCCTGCTGGCGACTAGG...</td>\n",
       "      <td>0</td>\n",
       "      <td>0</td>\n",
       "      <td>0</td>\n",
       "      <td>0</td>\n",
       "      <td>[0, 0, 0, 0, 0, 0, 0, 0, 0, 0, 0, 0, 0, 0, 0, ...</td>\n",
       "    </tr>\n",
       "    <tr>\n",
       "      <th>17</th>\n",
       "      <td>11900</td>\n",
       "      <td>12900</td>\n",
       "      <td>TTCTTTCTGTTCATGTGTATTTGCTGTCTCTTAGCCCAGACTTCCC...</td>\n",
       "      <td>0</td>\n",
       "      <td>0</td>\n",
       "      <td>0</td>\n",
       "      <td>0</td>\n",
       "      <td>[0, 0, 0, 0, 0, 0, 0, 0, 0, 0, 0, 0, 0, 0, 0, ...</td>\n",
       "    </tr>\n",
       "    <tr>\n",
       "      <th>18</th>\n",
       "      <td>12600</td>\n",
       "      <td>13600</td>\n",
       "      <td>GTCTCCCCCCAGGTGTGTGGTGATGCCAGGCATGCCCTTCCCCAGC...</td>\n",
       "      <td>0</td>\n",
       "      <td>0</td>\n",
       "      <td>0</td>\n",
       "      <td>0</td>\n",
       "      <td>[0, 0, 0, 0, 0, 0, 0, 0, 0, 0, 0, 0, 0, 0, 0, ...</td>\n",
       "    </tr>\n",
       "    <tr>\n",
       "      <th>19</th>\n",
       "      <td>13300</td>\n",
       "      <td>14300</td>\n",
       "      <td>ACGCTGTTGGCCTGGATCTGAGCCCTGGTGGAGGTCAAAGCCACCT...</td>\n",
       "      <td>0</td>\n",
       "      <td>0</td>\n",
       "      <td>0</td>\n",
       "      <td>0</td>\n",
       "      <td>[0, 0, 0, 0, 0, 0, 0, 0, 0, 0, 0, 0, 0, 0, 0, ...</td>\n",
       "    </tr>\n",
       "  </tbody>\n",
       "</table>\n",
       "</div>"
      ],
      "text/plain": [
       "    Start    End                                           Sequence  \\\n",
       "15  10500  11500  TCTGACCTGAGGAGAACTGTGCTCCGCCTTCAGAGTACCACCGAAA...   \n",
       "16  11200  12200  GCTTGCTCACGGTGCTGTGCCAGGGCGCCCCCTGCTGGCGACTAGG...   \n",
       "17  11900  12900  TTCTTTCTGTTCATGTGTATTTGCTGTCTCTTAGCCCAGACTTCCC...   \n",
       "18  12600  13600  GTCTCCCCCCAGGTGTGTGGTGATGCCAGGCATGCCCTTCCCCAGC...   \n",
       "19  13300  14300  ACGCTGTTGGCCTGGATCTGAGCCCTGGTGGAGGTCAAAGCCACCT...   \n",
       "\n",
       "    Inside_Check  Inside_Count Start_f End_f  \\\n",
       "15             0             0       0     0   \n",
       "16             0             0       0     0   \n",
       "17             0             0       0     0   \n",
       "18             0             0       0     0   \n",
       "19             0             0       0     0   \n",
       "\n",
       "                                                 Mask  \n",
       "15  [0, 0, 0, 0, 0, 0, 0, 0, 0, 0, 0, 0, 0, 0, 0, ...  \n",
       "16  [0, 0, 0, 0, 0, 0, 0, 0, 0, 0, 0, 0, 0, 0, 0, ...  \n",
       "17  [0, 0, 0, 0, 0, 0, 0, 0, 0, 0, 0, 0, 0, 0, 0, ...  \n",
       "18  [0, 0, 0, 0, 0, 0, 0, 0, 0, 0, 0, 0, 0, 0, 0, ...  \n",
       "19  [0, 0, 0, 0, 0, 0, 0, 0, 0, 0, 0, 0, 0, 0, 0, ...  "
      ]
     },
     "execution_count": 167,
     "metadata": {},
     "output_type": "execute_result"
    }
   ],
   "source": [
    "df1.head()"
   ]
  },
  {
   "cell_type": "code",
   "execution_count": 168,
   "id": "ba197990",
   "metadata": {},
   "outputs": [],
   "source": [
    "df1.to_csv('frp2_h1_wholl(seq mask).csv', index=False)\n"
   ]
  },
  {
   "cell_type": "code",
   "execution_count": null,
   "id": "383343f6",
   "metadata": {},
   "outputs": [],
   "source": []
  },
  {
   "cell_type": "code",
   "execution_count": 176,
   "id": "1113e2ab",
   "metadata": {},
   "outputs": [
    {
     "name": "stdout",
     "output_type": "stream",
     "text": [
      "          Start        End                                           Sequence  \\\n",
      "0     206769500  206770500  AGCTACTTTCTGTACTTTCTGTTTCCTTTGTCACTCTCCCCAGCAT...   \n",
      "1      16124500   16125500  CGACTGGGGCATGGGCAGGACACTCCTGCAGCACCGGTCCCTGAGT...   \n",
      "2     232441300  232442300  TTATTGGGGGAATCTTTGCAACTTCCATCTTTCTGCAGAGCTCTTT...   \n",
      "3     203042700  203043700  ACCTCAGCTCACTGCAACCTCCGCCTCCCGGGTTCAAGTGATTCTC...   \n",
      "4      93447900   93448900  CAGGAGGAGACTCGACCAGCGAGAGGGGCCAGCGAGGGTGACCAGG...   \n",
      "...         ...        ...                                                ...   \n",
      "4995  161203000  161204000  TGGCATTAAAAAATCCAGGACATTGGCTGGGCGCGGTGGCTCACAC...   \n",
      "4996  201068700  201069700  TCTCTGTTAAAAATACAAAAAATTAGCTGGGTGTGGTGGCAGACGC...   \n",
      "4997  220139500  220140500  ACTACTTTGGGAGGCCGAGGTGGGAGGATTGCTTGAGGCCAGGTGT...   \n",
      "4998  212347800  212348800  CTCCCACAGTGCTGGGATTACAGGCGTGAGCCACCATGCCCAGCCT...   \n",
      "4999  223756400  223757400  TGGGCTGGAGCTGGCTCCTCCCGGCTCCCAAAGCCCATCTCTTTTC...   \n",
      "\n",
      "      Inside_Check  Inside_Count                 Start_f  \\\n",
      "0                1             1             [206769829]   \n",
      "1                1             1              [16125215]   \n",
      "2                1             1             [232441768]   \n",
      "3                1             1             [203043397]   \n",
      "4                1             1              [93448282]   \n",
      "...            ...           ...                     ...   \n",
      "4995             1             1             [161203437]   \n",
      "4996             1             2  [201069472, 201069137]   \n",
      "4997             1             1             [220140183]   \n",
      "4998             1             1             [212348389]   \n",
      "4999             1             1             [223757369]   \n",
      "\n",
      "                       End_f  \\\n",
      "0                [206769894]   \n",
      "1                 [16125320]   \n",
      "2                [232441868]   \n",
      "3                [203043498]   \n",
      "4                 [93448305]   \n",
      "...                      ...   \n",
      "4995             [161203543]   \n",
      "4996  [201069601, 201069196]   \n",
      "4997             [220140289]   \n",
      "4998             [212348497]   \n",
      "4999             [223757380]   \n",
      "\n",
      "                                                   Mask  \n",
      "0     [0, 0, 0, 0, 0, 0, 0, 0, 0, 0, 0, 0, 0, 0, 0, ...  \n",
      "1     [0, 0, 0, 0, 0, 0, 0, 0, 0, 0, 0, 0, 0, 0, 0, ...  \n",
      "2     [0, 0, 0, 0, 0, 0, 0, 0, 0, 0, 0, 0, 0, 0, 0, ...  \n",
      "3     [0, 0, 0, 0, 0, 0, 0, 0, 0, 0, 0, 0, 0, 0, 0, ...  \n",
      "4     [0, 0, 0, 0, 0, 0, 0, 0, 0, 0, 0, 0, 0, 0, 0, ...  \n",
      "...                                                 ...  \n",
      "4995  [0, 0, 0, 0, 0, 0, 0, 0, 0, 0, 0, 0, 0, 0, 0, ...  \n",
      "4996  [0, 0, 0, 0, 0, 0, 0, 0, 0, 0, 0, 0, 0, 0, 0, ...  \n",
      "4997  [0, 0, 0, 0, 0, 0, 0, 0, 0, 0, 0, 0, 0, 0, 0, ...  \n",
      "4998  [0, 0, 0, 0, 0, 0, 0, 0, 0, 0, 0, 0, 0, 0, 0, ...  \n",
      "4999  [0, 0, 0, 0, 0, 0, 0, 0, 0, 0, 0, 0, 0, 0, 0, ...  \n",
      "\n",
      "[5000 rows x 8 columns]\n"
     ]
    }
   ],
   "source": [
    "import pandas as pd\n",
    "\n",
    "# Создание пустого датафрейма df3\n",
    "df3 = pd.DataFrame()\n",
    "\n",
    "# Фильтрация строк с Inside_Count равным 0\n",
    "df_zero = df1[df1['Inside_Count'] == 0]\n",
    "\n",
    "# Фильтрация строк с Inside_Count не равным 0\n",
    "df_nonzero = df1[df1['Inside_Count'] != 0]\n",
    "\n",
    "# Определение минимальной длины для пропорции\n",
    "min_length = min(len(df_zero), len(df_nonzero))\n",
    "\n",
    "min_length = 5000\n",
    "\n",
    "# Задание пропорции\n",
    "proportion_0 = 0  # Здесь можно задать желаемую пропорцию\n",
    "proportion_1 = 1\n",
    "\n",
    "# Вычисление числа строк для каждого типа\n",
    "count_zero = int(min_length * proportion_0)\n",
    "count_nonzero = int(min_length * proportion_1)\n",
    "\n",
    "# Случайная выборка строк с пропорцией\n",
    "df_zero_sample = df_zero.sample(n=count_zero, random_state=42)\n",
    "df_nonzero_sample = df_nonzero.sample(n=count_nonzero, random_state=42)\n",
    "\n",
    "# Объединение выбранных строк в df3\n",
    "df3 = pd.concat([df_nonzero_sample,df_zero_sample], ignore_index=True)\n",
    "\n",
    "# Вывод df3\n",
    "print(df3)\n"
   ]
  },
  {
   "cell_type": "code",
   "execution_count": 147,
   "id": "9e9ceb69",
   "metadata": {},
   "outputs": [],
   "source": []
  },
  {
   "cell_type": "code",
   "execution_count": null,
   "id": "a329beb5",
   "metadata": {},
   "outputs": [],
   "source": []
  },
  {
   "cell_type": "code",
   "execution_count": null,
   "id": "67bead97",
   "metadata": {},
   "outputs": [],
   "source": []
  },
  {
   "cell_type": "code",
   "execution_count": 177,
   "id": "d74bb2b4",
   "metadata": {},
   "outputs": [],
   "source": [
    "df3.to_csv('frp_h2__5k_1to0.csv', index=False)"
   ]
  },
  {
   "cell_type": "code",
   "execution_count": null,
   "id": "16e30d6b",
   "metadata": {},
   "outputs": [],
   "source": []
  },
  {
   "cell_type": "code",
   "execution_count": null,
   "id": "ba8cd824",
   "metadata": {},
   "outputs": [],
   "source": []
  },
  {
   "cell_type": "code",
   "execution_count": null,
   "id": "e71915b6",
   "metadata": {},
   "outputs": [],
   "source": []
  },
  {
   "cell_type": "code",
   "execution_count": null,
   "id": "63204869",
   "metadata": {},
   "outputs": [],
   "source": []
  },
  {
   "cell_type": "code",
   "execution_count": null,
   "id": "f3ba603d",
   "metadata": {},
   "outputs": [],
   "source": []
  },
  {
   "cell_type": "code",
   "execution_count": 220,
   "id": "b562a5c1",
   "metadata": {},
   "outputs": [
    {
     "data": {
      "text/plain": [
       "0.9216907974360123"
      ]
     },
     "execution_count": 220,
     "metadata": {},
     "output_type": "execute_result"
    }
   ],
   "source": [
    "20562/22309"
   ]
  },
  {
   "attachments": {},
   "cell_type": "markdown",
   "id": "8640ea0b",
   "metadata": {},
   "source": [
    "# Получение значения 'End' из датафрейма cds_short\n",
    "end_value = cds_short['End']\n",
    "\n",
    "#print (type(end_value))\n",
    "#print ((end_value))\n",
    "\n",
    "after_segment_length = []\n",
    "# Вычисление длины отрезков\n",
    "after_segment_length = 1000 - cds_short['segment_length']\n",
    "#print(after_segment_length)\n",
    "\n",
    "after_segment_length_ch = after_segment_length.apply(lambda x: x + 1 if x % 2 != 0 else x)   \n",
    "after_segment_length_ch = after_segment_length_ch * 0.5\n",
    "print(after_segment_length_ch)\n",
    "\n",
    "pre_segment_length = after_segment_length\n",
    "pre_segment_length_ch = pre_segment_length.apply(lambda x: x - 1 if x % 2 != 0 else x)\n",
    "pre_segment_length_ch = pre_segment_length_ch * 0.5\n",
    "print(pre_segment_length_ch)"
   ]
  },
  {
   "attachments": {},
   "cell_type": "markdown",
   "id": "d1460ecd",
   "metadata": {},
   "source": [
    "cds_short['pre_s_l'] = pre_segment_length_ch\n",
    "cds_short['after_s_l'] = after_segment_length_ch\n",
    "cds_short.head(10)"
   ]
  },
  {
   "attachments": {},
   "cell_type": "markdown",
   "id": "fd9a7a28",
   "metadata": {},
   "source": [
    "segments[0]"
   ]
  },
  {
   "cell_type": "code",
   "execution_count": 224,
   "id": "c954d66b",
   "metadata": {},
   "outputs": [],
   "source": [
    "import random\n",
    "\n",
    "def extract_segment(sequence, start, stop, length):\n",
    "    # Вычисление максимально возможного отступа\n",
    "    max_offset = length - (stop - start)\n",
    "\n",
    "    # Генерация случайного отступа\n",
    "    offset = random.randint(0, max_offset)\n",
    "\n",
    "    # Вычисление границ внутреннего отрезка\n",
    "    inner_start = start - offset\n",
    "    inner_end = inner_start + length\n",
    "\n",
    "    # Извлечение отрезка\n",
    "    segment = sequence[inner_start :inner_end ]\n",
    "\n",
    "    # Создание маски\n",
    "    mask = [0] * (length)\n",
    "    mask[start - inner_start-1:stop - inner_start] = [1] * (stop - start + 1)\n",
    "\n",
    "    return segment, mask\n"
   ]
  },
  {
   "cell_type": "code",
   "execution_count": 269,
   "id": "5c203f5c",
   "metadata": {},
   "outputs": [
    {
     "name": "stdout",
     "output_type": "stream",
     "text": [
      "GGTTTACTAAAAAGGACAATTCACTACATATTATTCTCTTACAGTTTTTATGCCTCATTCTGTGAAAATTGCTGTAGTCTCTTCCAGTTATGAAGAAGGTAGGTGGAAACAAAGACAAAACACATATATTAGAAGAATGAATGAAATTGTAGCATTTTATTGACAATGAGATGGTTCTATTAGTAGGAATCTATTCTGCATAATTCCATTTTGTGTTTACCTTCTGGAAAAATGAAAGGATTCTGTATGGTTAACTTAAATACTTAGAGAAATTAATATGAATAATGTTAGCAAGAATAACCCTTGTTATAAGTATTATGCTGGCAACAATTGTCGAGTCCTCCTCCTCACTCTTCTGGGCTAATTTGTTCTTTTCTCCCCATTTAATAGTCCTTTTCCCCATCTTTCCCCAGGTCCGGTGTTTTCTTACCCACCTCCTTCCCTCCTTTTTATAATACCAGTGAAACTTGGTTTGGAGCATTTCTTTCACATAAAGGTACAAATCATACTGCTAGAGTTGTGAGGATTTTTACAGCTTTTGAAAGAATAAACTCATTTTAAAAACAGGAAAGCTAAGGCCCAGAGATTTTTAAATGATATTCCCATGATCACACTGTGAATTTGTGCCAGAACCCAAATGCCTACTCCCATCTCACTGAGACTTACTATAAGGACATAAGGCATTTATATATATATATATTATATATACTATATATTTATATATATTACATATTATATATATAATATATATTATATAATATATATTATATTATATAATATATAATATAAATATAATATAAATTATATTATATAATATATAATATAAATATAATATAAATTATATAAATATAATATATATTTTATTATATAATATAATATATATTATATAAATATAATATATAAATTATATAATATAATATATATTATATAATATAATATATTTTATTATATAAATATATATTATATTATATAATATATATTTTATTATATAATATATATT\n",
      "[0, 0, 0, 0, 0, 0, 0, 0, 0, 0, 0, 0, 0, 0, 0, 0, 0, 0, 0, 0, 0, 0, 0, 0, 0, 0, 0, 0, 0, 0, 0, 0, 0, 0, 0, 0, 0, 0, 0, 0, 0, 0, 0, 0, 0, 0, 0, 0, 0, 0, 0, 0, 0, 0, 0, 0, 0, 0, 0, 0, 0, 0, 0, 0, 0, 0, 0, 0, 0, 0, 0, 0, 0, 0, 0, 0, 0, 0, 0, 0, 0, 0, 0, 0, 0, 0, 0, 0, 0, 1, 1, 1, 1, 1, 1, 1, 1, 1, 0, 0, 0, 0, 0, 0, 0, 0, 0, 0, 0, 0, 0, 0, 0, 0, 0, 0, 0, 0, 0, 0, 0, 0, 0, 0, 0, 0, 0, 0, 0, 0, 0, 0, 0, 0, 0, 0, 0, 0, 0, 0, 0, 0, 0, 0, 0, 0, 0, 0, 0, 0, 0, 0, 0, 0, 0, 0, 0, 0, 0, 0, 0, 0, 0, 0, 0, 0, 0, 0, 0, 0, 0, 0, 0, 0, 0, 0, 0, 0, 0, 0, 0, 0, 0, 0, 0, 0, 0, 0, 0, 0, 0, 0, 0, 0, 0, 0, 0, 0, 0, 0, 0, 0, 0, 0, 0, 0, 0, 0, 0, 0, 0, 0, 0, 0, 0, 0, 0, 0, 0, 0, 0, 0, 0, 0, 0, 0, 0, 0, 0, 0, 0, 0, 0, 0, 0, 0, 0, 0, 0, 0, 0, 0, 0, 0, 0, 0, 0, 0, 0, 0, 0, 0, 0, 0, 0, 0, 0, 0, 0, 0, 0, 0, 0, 0, 0, 0, 0, 0, 0, 0, 0, 0, 0, 0, 0, 0, 0, 0, 0, 0, 0, 0, 0, 0, 0, 0, 0, 0, 0, 0, 0, 0, 0, 0, 0, 0, 0, 0, 0, 0, 0, 0, 0, 0, 0, 0, 0, 0, 0, 0, 0, 0, 0, 0, 0, 0, 0, 0, 0, 0, 0, 0, 0, 0, 0, 0, 0, 0, 0, 0, 0, 0, 0, 0, 0, 0, 0, 0, 0, 0, 0, 0, 0, 0, 0, 0, 0, 0, 0, 0, 0, 0, 0, 0, 0, 0, 0, 0, 0, 0, 0, 0, 0, 0, 0, 0, 0, 0, 0, 0, 0, 0, 0, 0, 0, 0, 0, 0, 0, 0, 0, 0, 0, 0, 0, 0, 0, 0, 0, 0, 0, 0, 0, 0, 0, 0, 0, 0, 0, 0, 0, 0, 0, 0, 0, 0, 0, 0, 0, 0, 0, 0, 0, 0, 0, 0, 0, 0, 0, 0, 0, 0, 0, 0, 0, 0, 0, 0, 0, 0, 0, 0, 0, 0, 0, 0, 0, 0, 0, 0, 0, 0, 0, 0, 0, 0, 0, 0, 0, 0, 0, 0, 0, 0, 0, 0, 0, 0, 0, 0, 0, 0, 0, 0, 0, 0, 0, 0, 0, 0, 0, 0, 0, 0, 0, 0, 0, 0, 0, 0, 0, 0, 0, 0, 0, 0, 0, 0, 0, 0, 0, 0, 0, 0, 0, 0, 0, 0, 0, 0, 0, 0, 0, 0, 0, 0, 0, 0, 0, 0, 0, 0, 0, 0, 0, 0, 0, 0, 0, 0, 0, 0, 0, 0, 0, 0, 0, 0, 0, 0, 0, 0, 0, 0, 0, 0, 0, 0, 0, 0, 0, 0, 0, 0, 0, 0, 0, 0, 0, 0, 0, 0, 0, 0, 0, 0, 0, 0, 0, 0, 0, 0, 0, 0, 0, 0, 0, 0, 0, 0, 0, 0, 0, 0, 0, 0, 0, 0, 0, 0, 0, 0, 0, 0, 0, 0, 0, 0, 0, 0, 0, 0, 0, 0, 0, 0, 0, 0, 0, 0, 0, 0, 0, 0, 0, 0, 0, 0, 0, 0, 0, 0, 0, 0, 0, 0, 0, 0, 0, 0, 0, 0, 0, 0, 0, 0, 0, 0, 0, 0, 0, 0, 0, 0, 0, 0, 0, 0, 0, 0, 0, 0, 0, 0, 0, 0, 0, 0, 0, 0, 0, 0, 0, 0, 0, 0, 0, 0, 0, 0, 0, 0, 0, 0, 0, 0, 0, 0, 0, 0, 0, 0, 0, 0, 0, 0, 0, 0, 0, 0, 0, 0, 0, 0, 0, 0, 0, 0, 0, 0, 0, 0, 0, 0, 0, 0, 0, 0, 0, 0, 0, 0, 0, 0, 0, 0, 0, 0, 0, 0, 0, 0, 0, 0, 0, 0, 0, 0, 0, 0, 0, 0, 0, 0, 0, 0, 0, 0, 0, 0, 0, 0, 0, 0, 0, 0, 0, 0, 0, 0, 0, 0, 0, 0, 0, 0, 0, 0, 0, 0, 0, 0, 0, 0, 0, 0, 0, 0, 0, 0, 0, 0, 0, 0, 0, 0, 0, 0, 0, 0, 0, 0, 0, 0, 0, 0, 0, 0, 0, 0, 0, 0, 0, 0, 0, 0, 0, 0, 0, 0, 0, 0, 0, 0, 0, 0, 0, 0, 0, 0, 0, 0, 0, 0, 0, 0, 0, 0, 0, 0, 0, 0, 0, 0, 0, 0, 0, 0, 0, 0, 0, 0, 0, 0, 0, 0, 0, 0, 0, 0, 0, 0, 0, 0, 0, 0, 0, 0, 0, 0, 0, 0, 0, 0, 0, 0, 0, 0, 0, 0, 0, 0, 0, 0, 0, 0, 0, 0, 0, 0, 0, 0, 0, 0, 0, 0, 0, 0, 0, 0, 0, 0, 0, 0, 0, 0, 0, 0, 0, 0, 0, 0, 0, 0, 0, 0, 0, 0, 0, 0, 0, 0, 0, 0, 0, 0, 0, 0, 0, 0, 0, 0, 0, 0, 0, 0, 0, 0, 0, 0, 0, 0, 0, 0, 0, 0, 0, 0, 0, 0, 0, 0, 0, 0, 0, 0, 0, 0, 0, 0, 0, 0, 0, 0, 0, 0, 0, 0, 0, 0, 0, 0, 0, 0, 0, 0, 0, 0, 0, 0, 0, 0, 0, 0, 0, 0, 0, 0, 0, 0, 0, 0, 0, 0, 0, 0, 0, 0, 0, 0, 0, 0, 0, 0, 0, 0, 0, 0, 0, 0, 0, 0, 0, 0, 0, 0, 0, 0, 0, 0, 0, 0, 0, 0, 0, 0, 0, 0, 0, 0]\n"
     ]
    }
   ],
   "source": [
    "\n",
    "segments = []\n",
    "masks = []\n",
    "for _, row in cds_short.iterrows():\n",
    "    start = row[\"Start\"]\n",
    "    stop = row[\"End\"]\n",
    "    segment, mask = extract_segment(sequence, start, stop, 1000)\n",
    "    #segment = extract_segment(sequence, start, stop, 1001)\n",
    "    segments.append(segment)\n",
    "    masks.append(mask)\n",
    "\n",
    "# Вывод отрезков\n",
    "# for segment in segments:\n",
    "#     print(segment)\n",
    "#     print(mask)\n",
    "\n",
    "\n",
    "\n",
    "\n",
    "print(segments[0])\n",
    "print(masks[0])\n",
    "\n",
    "#ATGAAGAAG"
   ]
  },
  {
   "cell_type": "code",
   "execution_count": 270,
   "id": "0c9bb698-eacb-4d8e-b4a5-39cc51a8c382",
   "metadata": {},
   "outputs": [
    {
     "data": {
      "text/plain": [
       "'AACCAAAAGCTTTTTATTCTCCTCTAGGGGGATGAGAGGGGGGCTCGTTAACTTGCACAAGAGGCTAGATGGCGGGTGGGGCAGCTGGGTGCCTGCTGTGGATCTCTTCTGCACACACGCACCAGGGCCAGTGTCAGAGCTCCCCTGTGCCCCTGTCCCGCCACAGCCAGGCGTGATGTCCTCTGCGCTGAAGGCTGGGGCTGCCAGGGCTGGGCAAGGCCTGTACTCACCAGGACCAAGGGCCCCCTGAGAGATGGTGGGTGCGGTCCAGGCTGAGCTGGAGCAGGGGCTGGGTTCCCCTTCCATTCCTTGAGATGCAGGTGGGCACTCACTACCCTCCCGCAGGTGACCTGTTGGGCAAGAGGCTGGGCCGCTCCCCCCGTATCAGCAGCGACTGCTTTTCAGAGAAGAGGGCACGAAGCGAATCGCCTCAAGGTAAGAGCGTGGCTGGGACGAGAGACAGGTCACCAGGGGAGGGGGCAGTCCCTGAGGGTCCCCTGGACCTCGAGCAGGCACTCTAGAGGGGCGTGGTCCTCGGCAGTGCCTGGAGAAACCTCTCACCCCGGGTCCTCCCCAGCAGAGGCGCTGCTGCTGCCGCGGGAGCTGGGGCCCAGCATGGCCCCGGAGGACCATTACCGCCGGCTTGTGTCAGCACTGAGCGAGGCCAGCACCTTTGAGGACCCTCAGCGCCTCTACCACCTGGGCCTCCCCAGCCACGGTGAGGACCCACCCTGGCATGATCCCCCTCATCACCTCCCCAGCCACGGTGAGGACCCACCCTGGCATGATCTCCCCTCATCACCTCCCCAGCCACATGTACTCGGCCATTCCTGTTGCTGAGGCCCTGCTGACACCAAGGCCAGGCTGGATGCAGGTCCCTCTGCCACACGTCCTGCCCCATGCCCCCTGGGGCGGGCCACACCTCCATGTCCCCTAGGTCCCCAGGGTCATGACTAGCTCACATTTTATATAGAGAGAAATGGAGTCTGGGGTGGACCCA'"
      ]
     },
     "execution_count": 270,
     "metadata": {},
     "output_type": "execute_result"
    }
   ],
   "source": [
    "segments[5]\n"
   ]
  },
  {
   "cell_type": "code",
   "execution_count": 271,
   "id": "e5d8336a-219d-4c1f-9e0b-608ea4b01815",
   "metadata": {},
   "outputs": [
    {
     "name": "stdout",
     "output_type": "stream",
     "text": [
      "GGTTTACTAAAAAGGACAATTCACTACATATTATTCTCTTACAGTTTTTATGCCTCATTCTGTGAAAATTGCTGTAGTCTCTTCCAGTT_____[ATGAAGAAG]_____GTAGGTGGAAACAAAGACAAAACACATATATTAGAAGAATGAATGAAATTGTAGCATTTTATTGACAATGAGATGGTTCTATTAGTAGGAATCTATTCTGCATAATTCCATTTTGTGTTTACCTTCTGGAAAAATGAAAGGATTCTGTATGGTTAACTTAAATACTTAGAGAAATTAATATGAATAATGTTAGCAAGAATAACCCTTGTTATAAGTATTATGCTGGCAACAATTGTCGAGTCCTCCTCCTCACTCTTCTGGGCTAATTTGTTCTTTTCTCCCCATTTAATAGTCCTTTTCCCCATCTTTCCCCAGGTCCGGTGTTTTCTTACCCACCTCCTTCCCTCCTTTTTATAATACCAGTGAAACTTGGTTTGGAGCATTTCTTTCACATAAAGGTACAAATCATACTGCTAGAGTTGTGAGGATTTTTACAGCTTTTGAAAGAATAAACTCATTTTAAAAACAGGAAAGCTAAGGCCCAGAGATTTTTAAATGATATTCCCATGATCACACTGTGAATTTGTGCCAGAACCCAAATGCCTACTCCCATCTCACTGAGACTTACTATAAGGACATAAGGCATTTATATATATATATATTATATATACTATATATTTATATATATTACATATTATATATATAATATATATTATATAATATATATTATATTATATAATATATAATATAAATATAATATAAATTATATTATATAATATATAATATAAATATAATATAAATTATATAAATATAATATATATTTTATTATATAATATAATATATATTATATAAATATAATATATAAATTATATAATATAATATATATTATATAATATAATATATTTTATTATATAAATATATATTATATTATATAATATATATTTTATTATATAATATATATT"
     ]
    }
   ],
   "source": [
    "def print_sequence_with_mask(sequence, mask):\n",
    "    # Проверка длины последовательности и маски\n",
    "    if len(sequence) != len(mask):\n",
    "        raise ValueError(\"Длина последовательности и маски должна быть одинаковой.\")\n",
    "\n",
    "    # Вывод последовательности с обведенной в квадратные скобки последовательностью символов\n",
    "    is_prev_masked = False  # Флаг для отслеживания предыдущего символа\n",
    "    for char, is_masked in zip(sequence, mask):\n",
    "        if is_masked:\n",
    "            if not is_prev_masked:  # Если предыдущий символ не был обведен, начинаем новую последовательность\n",
    "                print('_____[', end=\"\")\n",
    "            print(char, end=\"\")\n",
    "            is_prev_masked = True\n",
    "        else:\n",
    "            if is_prev_masked:  # Если предыдущий символ был обведен, заканчиваем текущую последовательность\n",
    "                print(']_____', end=\"\")\n",
    "            print(char, end=\"\")\n",
    "            is_prev_masked = False\n",
    "\n",
    "    if is_prev_masked:  # Если последний символ в последовательности был обведен, заканчиваем последовательность\n",
    "        print(']______', end=\"\")\n",
    "\n",
    "\n",
    "# Пример использования\n",
    "seg = segments[0]\n",
    "ma = masks[0]\n",
    "\n",
    "print_sequence_with_mask(seg, ma)\n"
   ]
  },
  {
   "cell_type": "code",
   "execution_count": null,
   "id": "c7f785a0-0404-4e50-b98e-a74ffdbea453",
   "metadata": {},
   "outputs": [],
   "source": []
  },
  {
   "cell_type": "code",
   "execution_count": 272,
   "id": "b75d7682",
   "metadata": {},
   "outputs": [
    {
     "data": {
      "text/html": [
       "<div>\n",
       "<style scoped>\n",
       "    .dataframe tbody tr th:only-of-type {\n",
       "        vertical-align: middle;\n",
       "    }\n",
       "\n",
       "    .dataframe tbody tr th {\n",
       "        vertical-align: top;\n",
       "    }\n",
       "\n",
       "    .dataframe thead th {\n",
       "        text-align: right;\n",
       "    }\n",
       "</style>\n",
       "<table border=\"1\" class=\"dataframe\">\n",
       "  <thead>\n",
       "    <tr style=\"text-align: right;\">\n",
       "      <th></th>\n",
       "      <th>Seqid</th>\n",
       "      <th>Source</th>\n",
       "      <th>Type</th>\n",
       "      <th>Start</th>\n",
       "      <th>End</th>\n",
       "      <th>Score</th>\n",
       "      <th>Strand</th>\n",
       "      <th>Phase</th>\n",
       "      <th>segments</th>\n",
       "      <th>segment_length</th>\n",
       "      <th>pre_s_l</th>\n",
       "      <th>after_s_l</th>\n",
       "      <th>markered</th>\n",
       "      <th>masks</th>\n",
       "    </tr>\n",
       "  </thead>\n",
       "  <tbody>\n",
       "    <tr>\n",
       "      <th>50</th>\n",
       "      <td>NC_000001.11</td>\n",
       "      <td>BestRefSeq</td>\n",
       "      <td>CDS</td>\n",
       "      <td>65565</td>\n",
       "      <td>65573</td>\n",
       "      <td>NaN</td>\n",
       "      <td>+</td>\n",
       "      <td>0</td>\n",
       "      <td>ATGAAGAAG</td>\n",
       "      <td>9</td>\n",
       "      <td>495.0</td>\n",
       "      <td>496.0</td>\n",
       "      <td>GGTTTACTAAAAAGGACAATTCACTACATATTATTCTCTTACAGTT...</td>\n",
       "      <td>[0, 0, 0, 0, 0, 0, 0, 0, 0, 0, 0, 0, 0, 0, 0, ...</td>\n",
       "    </tr>\n",
       "    <tr>\n",
       "      <th>558</th>\n",
       "      <td>NC_000001.11</td>\n",
       "      <td>BestRefSeq</td>\n",
       "      <td>CDS</td>\n",
       "      <td>925922</td>\n",
       "      <td>926013</td>\n",
       "      <td>NaN</td>\n",
       "      <td>+</td>\n",
       "      <td>2</td>\n",
       "      <td>GGAAAAGTCTGAAGACGCTTATGTCCAAGGGGATCCTGCAGGTGCA...</td>\n",
       "      <td>92</td>\n",
       "      <td>454.0</td>\n",
       "      <td>454.0</td>\n",
       "      <td>CCTGTTTTGGCGCCTGCGGGCGCCTGGGCCCAAGGGTGCGACGCGG...</td>\n",
       "      <td>[0, 0, 0, 0, 0, 0, 0, 0, 0, 0, 0, 0, 0, 0, 0, ...</td>\n",
       "    </tr>\n",
       "    <tr>\n",
       "      <th>559</th>\n",
       "      <td>NC_000001.11</td>\n",
       "      <td>BestRefSeq</td>\n",
       "      <td>CDS</td>\n",
       "      <td>930155</td>\n",
       "      <td>930336</td>\n",
       "      <td>NaN</td>\n",
       "      <td>+</td>\n",
       "      <td>0</td>\n",
       "      <td>AACCGGGGGCGGCTGGCAGACAAGAGGACAGTCGCCCTGCCTGCCG...</td>\n",
       "      <td>182</td>\n",
       "      <td>409.0</td>\n",
       "      <td>409.0</td>\n",
       "      <td>CCCGTCTCTCGGCTCTCCTCTGGGTCTCTGGCCAGCTGTGGCTCCT...</td>\n",
       "      <td>[0, 0, 0, 0, 0, 0, 0, 0, 0, 0, 0, 0, 0, 0, 0, ...</td>\n",
       "    </tr>\n",
       "    <tr>\n",
       "      <th>560</th>\n",
       "      <td>NC_000001.11</td>\n",
       "      <td>BestRefSeq</td>\n",
       "      <td>CDS</td>\n",
       "      <td>931039</td>\n",
       "      <td>931089</td>\n",
       "      <td>NaN</td>\n",
       "      <td>+</td>\n",
       "      <td>1</td>\n",
       "      <td>AGTCCACACCCACTGGGACGTGAACATCTCTTTCCGAGAGGCGTCC...</td>\n",
       "      <td>51</td>\n",
       "      <td>474.0</td>\n",
       "      <td>475.0</td>\n",
       "      <td>GTGGCCCAGCGGGGCACTGACCCGAGACAGGTCTGCGCACGCCCTG...</td>\n",
       "      <td>[0, 0, 0, 0, 0, 0, 0, 0, 0, 0, 0, 0, 0, 0, 0, ...</td>\n",
       "    </tr>\n",
       "    <tr>\n",
       "      <th>561</th>\n",
       "      <td>NC_000001.11</td>\n",
       "      <td>BestRefSeq</td>\n",
       "      <td>CDS</td>\n",
       "      <td>935772</td>\n",
       "      <td>935896</td>\n",
       "      <td>NaN</td>\n",
       "      <td>+</td>\n",
       "      <td>1</td>\n",
       "      <td>CCAGGACGGCAACCTTCCCACCCTCATATCCAGCGTCCACCGCAGC...</td>\n",
       "      <td>125</td>\n",
       "      <td>437.0</td>\n",
       "      <td>438.0</td>\n",
       "      <td>TGTGGATGTGGGATTGGGCTGAATTAGCAAGAAGAGGAGAAATGAG...</td>\n",
       "      <td>[0, 0, 0, 0, 0, 0, 0, 0, 0, 0, 0, 0, 0, 0, 0, ...</td>\n",
       "    </tr>\n",
       "    <tr>\n",
       "      <th>...</th>\n",
       "      <td>...</td>\n",
       "      <td>...</td>\n",
       "      <td>...</td>\n",
       "      <td>...</td>\n",
       "      <td>...</td>\n",
       "      <td>...</td>\n",
       "      <td>...</td>\n",
       "      <td>...</td>\n",
       "      <td>...</td>\n",
       "      <td>...</td>\n",
       "      <td>...</td>\n",
       "      <td>...</td>\n",
       "      <td>...</td>\n",
       "      <td>...</td>\n",
       "    </tr>\n",
       "    <tr>\n",
       "      <th>409970</th>\n",
       "      <td>NC_000001.11</td>\n",
       "      <td>BestRefSeq</td>\n",
       "      <td>CDS</td>\n",
       "      <td>248856288</td>\n",
       "      <td>248856422</td>\n",
       "      <td>NaN</td>\n",
       "      <td>-</td>\n",
       "      <td>1</td>\n",
       "      <td>TCATCTGGGGAGGAGCTGTAGGTCCATAAGCTGGCATCACTGAGCA...</td>\n",
       "      <td>135</td>\n",
       "      <td>432.0</td>\n",
       "      <td>433.0</td>\n",
       "      <td>GCCTCTAGTTCTTTTTGCCTTCCCCAAAACCCACCCTTCCCTCCAC...</td>\n",
       "      <td>[0, 0, 0, 0, 0, 0, 0, 0, 0, 0, 0, 0, 0, 0, 0, ...</td>\n",
       "    </tr>\n",
       "    <tr>\n",
       "      <th>409971</th>\n",
       "      <td>NC_000001.11</td>\n",
       "      <td>BestRefSeq</td>\n",
       "      <td>CDS</td>\n",
       "      <td>248855725</td>\n",
       "      <td>248855943</td>\n",
       "      <td>NaN</td>\n",
       "      <td>-</td>\n",
       "      <td>1</td>\n",
       "      <td>CTGGCCAGGGCCTCAGTCTGCTGGGCCGCTTGAGGGGTCCTGCTGA...</td>\n",
       "      <td>219</td>\n",
       "      <td>390.0</td>\n",
       "      <td>391.0</td>\n",
       "      <td>GCCGGGGTTGGAGCAGACTGGGCCTGACTCCCAGTGCTACGGGCAG...</td>\n",
       "      <td>[0, 0, 0, 0, 0, 0, 0, 0, 0, 0, 0, 0, 0, 0, 0, ...</td>\n",
       "    </tr>\n",
       "    <tr>\n",
       "      <th>410036</th>\n",
       "      <td>NC_000001.11</td>\n",
       "      <td>BestRefSeq</td>\n",
       "      <td>CDS</td>\n",
       "      <td>248856288</td>\n",
       "      <td>248856334</td>\n",
       "      <td>NaN</td>\n",
       "      <td>-</td>\n",
       "      <td>0</td>\n",
       "      <td>TCATCTGGGGAGGAGCTGTAGGTCCATAAGCTGGCATCACTGAGCAT</td>\n",
       "      <td>47</td>\n",
       "      <td>476.0</td>\n",
       "      <td>477.0</td>\n",
       "      <td>AACCCCAACTTGCTCATCTGGGGAGGAGCTGTAGGTCCATAAGCTG...</td>\n",
       "      <td>[0, 0, 0, 0, 0, 0, 0, 0, 0, 0, 0, 0, 0, 1, 1, ...</td>\n",
       "    </tr>\n",
       "    <tr>\n",
       "      <th>410057</th>\n",
       "      <td>NC_000001.11</td>\n",
       "      <td>BestRefSeq</td>\n",
       "      <td>CDS</td>\n",
       "      <td>248858131</td>\n",
       "      <td>248858321</td>\n",
       "      <td>NaN</td>\n",
       "      <td>-</td>\n",
       "      <td>0</td>\n",
       "      <td>CGGTCCAACAGGAACTTGGCGAGCTGCGAGTGCAGGGAGAAGCCCA...</td>\n",
       "      <td>191</td>\n",
       "      <td>404.0</td>\n",
       "      <td>405.0</td>\n",
       "      <td>CACCCCCTGCCATCCCCTACCTACCTGCACAGAGGACACAGCCTGA...</td>\n",
       "      <td>[0, 0, 0, 0, 0, 0, 0, 0, 0, 0, 0, 0, 0, 0, 0, ...</td>\n",
       "    </tr>\n",
       "    <tr>\n",
       "      <th>410213</th>\n",
       "      <td>NC_000001.11</td>\n",
       "      <td>BestRefSeq</td>\n",
       "      <td>CDS</td>\n",
       "      <td>248913863</td>\n",
       "      <td>248913879</td>\n",
       "      <td>NaN</td>\n",
       "      <td>+</td>\n",
       "      <td>0</td>\n",
       "      <td>ATGGCTTCAACATCCAG</td>\n",
       "      <td>17</td>\n",
       "      <td>491.0</td>\n",
       "      <td>492.0</td>\n",
       "      <td>TCCAGTTCTGGTTTTATACTCCTTCCCTGCACATAGTATCTGCTGA...</td>\n",
       "      <td>[0, 0, 0, 0, 0, 0, 0, 0, 0, 0, 0, 0, 0, 0, 0, ...</td>\n",
       "    </tr>\n",
       "  </tbody>\n",
       "</table>\n",
       "<p>20562 rows × 14 columns</p>\n",
       "</div>"
      ],
      "text/plain": [
       "               Seqid      Source Type      Start        End Score Strand  \\\n",
       "50      NC_000001.11  BestRefSeq  CDS      65565      65573   NaN      +   \n",
       "558     NC_000001.11  BestRefSeq  CDS     925922     926013   NaN      +   \n",
       "559     NC_000001.11  BestRefSeq  CDS     930155     930336   NaN      +   \n",
       "560     NC_000001.11  BestRefSeq  CDS     931039     931089   NaN      +   \n",
       "561     NC_000001.11  BestRefSeq  CDS     935772     935896   NaN      +   \n",
       "...              ...         ...  ...        ...        ...   ...    ...   \n",
       "409970  NC_000001.11  BestRefSeq  CDS  248856288  248856422   NaN      -   \n",
       "409971  NC_000001.11  BestRefSeq  CDS  248855725  248855943   NaN      -   \n",
       "410036  NC_000001.11  BestRefSeq  CDS  248856288  248856334   NaN      -   \n",
       "410057  NC_000001.11  BestRefSeq  CDS  248858131  248858321   NaN      -   \n",
       "410213  NC_000001.11  BestRefSeq  CDS  248913863  248913879   NaN      +   \n",
       "\n",
       "       Phase                                           segments  \\\n",
       "50         0                                          ATGAAGAAG   \n",
       "558        2  GGAAAAGTCTGAAGACGCTTATGTCCAAGGGGATCCTGCAGGTGCA...   \n",
       "559        0  AACCGGGGGCGGCTGGCAGACAAGAGGACAGTCGCCCTGCCTGCCG...   \n",
       "560        1  AGTCCACACCCACTGGGACGTGAACATCTCTTTCCGAGAGGCGTCC...   \n",
       "561        1  CCAGGACGGCAACCTTCCCACCCTCATATCCAGCGTCCACCGCAGC...   \n",
       "...      ...                                                ...   \n",
       "409970     1  TCATCTGGGGAGGAGCTGTAGGTCCATAAGCTGGCATCACTGAGCA...   \n",
       "409971     1  CTGGCCAGGGCCTCAGTCTGCTGGGCCGCTTGAGGGGTCCTGCTGA...   \n",
       "410036     0    TCATCTGGGGAGGAGCTGTAGGTCCATAAGCTGGCATCACTGAGCAT   \n",
       "410057     0  CGGTCCAACAGGAACTTGGCGAGCTGCGAGTGCAGGGAGAAGCCCA...   \n",
       "410213     0                                  ATGGCTTCAACATCCAG   \n",
       "\n",
       "        segment_length  pre_s_l  after_s_l  \\\n",
       "50                   9    495.0      496.0   \n",
       "558                 92    454.0      454.0   \n",
       "559                182    409.0      409.0   \n",
       "560                 51    474.0      475.0   \n",
       "561                125    437.0      438.0   \n",
       "...                ...      ...        ...   \n",
       "409970             135    432.0      433.0   \n",
       "409971             219    390.0      391.0   \n",
       "410036              47    476.0      477.0   \n",
       "410057             191    404.0      405.0   \n",
       "410213              17    491.0      492.0   \n",
       "\n",
       "                                                 markered  \\\n",
       "50      GGTTTACTAAAAAGGACAATTCACTACATATTATTCTCTTACAGTT...   \n",
       "558     CCTGTTTTGGCGCCTGCGGGCGCCTGGGCCCAAGGGTGCGACGCGG...   \n",
       "559     CCCGTCTCTCGGCTCTCCTCTGGGTCTCTGGCCAGCTGTGGCTCCT...   \n",
       "560     GTGGCCCAGCGGGGCACTGACCCGAGACAGGTCTGCGCACGCCCTG...   \n",
       "561     TGTGGATGTGGGATTGGGCTGAATTAGCAAGAAGAGGAGAAATGAG...   \n",
       "...                                                   ...   \n",
       "409970  GCCTCTAGTTCTTTTTGCCTTCCCCAAAACCCACCCTTCCCTCCAC...   \n",
       "409971  GCCGGGGTTGGAGCAGACTGGGCCTGACTCCCAGTGCTACGGGCAG...   \n",
       "410036  AACCCCAACTTGCTCATCTGGGGAGGAGCTGTAGGTCCATAAGCTG...   \n",
       "410057  CACCCCCTGCCATCCCCTACCTACCTGCACAGAGGACACAGCCTGA...   \n",
       "410213  TCCAGTTCTGGTTTTATACTCCTTCCCTGCACATAGTATCTGCTGA...   \n",
       "\n",
       "                                                    masks  \n",
       "50      [0, 0, 0, 0, 0, 0, 0, 0, 0, 0, 0, 0, 0, 0, 0, ...  \n",
       "558     [0, 0, 0, 0, 0, 0, 0, 0, 0, 0, 0, 0, 0, 0, 0, ...  \n",
       "559     [0, 0, 0, 0, 0, 0, 0, 0, 0, 0, 0, 0, 0, 0, 0, ...  \n",
       "560     [0, 0, 0, 0, 0, 0, 0, 0, 0, 0, 0, 0, 0, 0, 0, ...  \n",
       "561     [0, 0, 0, 0, 0, 0, 0, 0, 0, 0, 0, 0, 0, 0, 0, ...  \n",
       "...                                                   ...  \n",
       "409970  [0, 0, 0, 0, 0, 0, 0, 0, 0, 0, 0, 0, 0, 0, 0, ...  \n",
       "409971  [0, 0, 0, 0, 0, 0, 0, 0, 0, 0, 0, 0, 0, 0, 0, ...  \n",
       "410036  [0, 0, 0, 0, 0, 0, 0, 0, 0, 0, 0, 0, 0, 1, 1, ...  \n",
       "410057  [0, 0, 0, 0, 0, 0, 0, 0, 0, 0, 0, 0, 0, 0, 0, ...  \n",
       "410213  [0, 0, 0, 0, 0, 0, 0, 0, 0, 0, 0, 0, 0, 0, 0, ...  \n",
       "\n",
       "[20562 rows x 14 columns]"
      ]
     },
     "execution_count": 272,
     "metadata": {},
     "output_type": "execute_result"
    }
   ],
   "source": [
    "cds_short['markered'] = segments\n",
    "cds_short['masks'] = masks\n",
    "cds_short"
   ]
  },
  {
   "cell_type": "code",
   "execution_count": 229,
   "id": "54c2cba3",
   "metadata": {},
   "outputs": [
    {
     "data": {
      "text/plain": [
       "20562"
      ]
     },
     "execution_count": 229,
     "metadata": {},
     "output_type": "execute_result"
    }
   ],
   "source": [
    "len(cds_short)"
   ]
  },
  {
   "cell_type": "code",
   "execution_count": 230,
   "id": "94281ebf",
   "metadata": {},
   "outputs": [
    {
     "data": {
      "text/plain": [
       "66.82312151885212"
      ]
     },
     "execution_count": 230,
     "metadata": {},
     "output_type": "execute_result"
    }
   ],
   "source": [
    "248956422/(167*22309)"
   ]
  },
  {
   "cell_type": "code",
   "execution_count": 231,
   "id": "14055db3",
   "metadata": {},
   "outputs": [
    {
     "data": {
      "text/plain": [
       "355652.03142857144"
      ]
     },
     "execution_count": 231,
     "metadata": {},
     "output_type": "execute_result"
    }
   ],
   "source": [
    "248956422/700\n"
   ]
  },
  {
   "cell_type": "code",
   "execution_count": 260,
   "id": "ac81ec80",
   "metadata": {},
   "outputs": [
    {
     "name": "stdout",
     "output_type": "stream",
     "text": [
      "20562\n",
      "19137\n"
     ]
    }
   ],
   "source": [
    "import pandas as pd\n",
    "import random\n",
    "\n",
    "# # Создаем пример DataFrame с диапазонами\n",
    "# df = pd.DataFrame({'старт': [100, 300, 500],\n",
    "#                    'конец': [200, 400, 600]})\n",
    "\n",
    "# Генерируем 10 случайных чисел\n",
    "random_numbers = [random.randint(1, 248956422) for _ in range(len(cds_short))]\n",
    "print (len(random_numbers))\n",
    "# Проверяем, чтобы случайные числа не попали ни в один диапазон из DataFrame\n",
    "filtered_numbers = [num for num in random_numbers if all(num < start-1000 or num > stop for start, stop in zip(cds_short['Start'], cds_short['End']))]\n",
    "\n",
    "# Выводим отфильтрованные числа\n",
    "print(len(filtered_numbers))"
   ]
  },
  {
   "cell_type": "code",
   "execution_count": null,
   "id": "8a1dddae",
   "metadata": {},
   "outputs": [],
   "source": []
  },
  {
   "cell_type": "code",
   "execution_count": null,
   "id": "a80374b8",
   "metadata": {},
   "outputs": [],
   "source": []
  },
  {
   "attachments": {},
   "cell_type": "markdown",
   "id": "b2041940",
   "metadata": {},
   "source": [
    "import random\n",
    "\n",
    "def extract_random_segment(sequence, length):\n",
    "    # Генерация случайной позиции начала отрезка\n",
    "    start = random.randint(0, len(sequence) - length)\n",
    "\n",
    "    # Вычисление позиции конца отрезка\n",
    "    end = start + length\n",
    "\n",
    "    # Извлечение отрезка\n",
    "    segment = sequence[start:end]\n",
    "\n",
    "    return segment"
   ]
  },
  {
   "cell_type": "code",
   "execution_count": 261,
   "id": "129f9cd3",
   "metadata": {},
   "outputs": [],
   "source": [
    "import random\n",
    "\n",
    "def extract_random_segment(sequence, length, strt):\n",
    "    # Генерация случайной позиции начала отрезка\n",
    "    #start = random.randint(0, len(sequence) - length)\n",
    "    start = strt\n",
    "    # Вычисление позиции конца отрезка\n",
    "    end = start + length\n",
    "\n",
    "    # Извлечение отрезка\n",
    "    segment = sequence[start:end]\n",
    "\n",
    "    return segment"
   ]
  },
  {
   "attachments": {},
   "cell_type": "markdown",
   "id": "96acc6cc",
   "metadata": {},
   "source": [
    "rand_segments = []\n",
    "for _ in range(len(cds_short)):  \n",
    "    segment = extract_random_segment(sequence, len(segments[5]))\n",
    "    rand_segments.append(segment)\n",
    "    \n",
    "#for segment in rand_segments:\n",
    "#    print(segment, \"           /n\")"
   ]
  },
  {
   "cell_type": "code",
   "execution_count": 262,
   "id": "6f425a7a",
   "metadata": {},
   "outputs": [],
   "source": [
    "rand_segments = []\n",
    "for i in range(len(filtered_numbers)):  \n",
    "    segment = extract_random_segment(sequence, 1000, filtered_numbers[i])\n",
    "    rand_segments.append(segment)\n",
    "    \n",
    "#for segment in rand_segments:\n",
    "#    print(segment, \"           /n\")"
   ]
  },
  {
   "cell_type": "code",
   "execution_count": 265,
   "id": "d3e28270",
   "metadata": {},
   "outputs": [
    {
     "data": {
      "text/plain": [
       "19137"
      ]
     },
     "execution_count": 265,
     "metadata": {},
     "output_type": "execute_result"
    }
   ],
   "source": [
    "len(rand_segments)\n",
    "#rand_segments.shape"
   ]
  },
  {
   "cell_type": "code",
   "execution_count": 273,
   "id": "c4f77d74",
   "metadata": {},
   "outputs": [],
   "source": [
    "true_segments = []\n",
    "true_segments = cds_short[\"markered\"].tolist()\n",
    "#true_segments.head(5)"
   ]
  },
  {
   "cell_type": "code",
   "execution_count": 274,
   "id": "e268ed19-6623-425b-8e63-80008a967fef",
   "metadata": {},
   "outputs": [],
   "source": [
    "true_masks = cds_short[\"masks\"].tolist()\n",
    "#true_masks[5]"
   ]
  },
  {
   "cell_type": "code",
   "execution_count": 275,
   "id": "2de2cf9e-a792-48e6-96bf-6f09528558ff",
   "metadata": {},
   "outputs": [
    {
     "data": {
      "text/plain": [
       "1000"
      ]
     },
     "execution_count": 275,
     "metadata": {},
     "output_type": "execute_result"
    }
   ],
   "source": [
    "len(true_masks[6])"
   ]
  },
  {
   "cell_type": "code",
   "execution_count": 277,
   "id": "da553cd4-7d74-4f44-9d43-562bc3f07262",
   "metadata": {},
   "outputs": [
    {
     "name": "stdout",
     "output_type": "stream",
     "text": [
      "[0, 0, 0, 0, 0, 0, 0, 0, 0, 0, 0, 0, 0, 0, 0, 0, 0, 0, 0, 0, 0, 0, 0, 0, 0, 0, 0, 0, 0, 0, 0, 0, 0, 0, 0, 0, 0, 0, 0, 0, 0, 0, 0, 0, 0, 0, 0, 0, 0, 0, 0, 0, 0, 0, 0, 0, 0, 0, 0, 0, 0, 0, 0, 0, 0, 0, 0, 0, 0, 0, 0, 0, 0, 0, 0, 0, 0, 0, 0, 0, 0, 0, 0, 0, 0, 0, 0, 0, 0, 0, 0, 0, 0, 0, 0, 0, 0, 0, 0, 0, 0, 0, 0, 0, 0, 0, 0, 0, 0, 0, 0, 0, 0, 0, 0, 0, 0, 0, 0, 0, 0, 0, 0, 0, 0, 0, 0, 0, 0, 0, 0, 0, 0, 0, 0, 0, 0, 0, 0, 0, 0, 0, 0, 0, 0, 0, 0, 0, 0, 0, 0, 0, 0, 0, 0, 0, 0, 0, 0, 0, 0, 0, 0, 0, 0, 0, 0, 0, 0, 0, 0, 0, 0, 0, 0, 0, 0, 0, 0, 0, 0, 0, 0, 0, 0, 0, 0, 0, 0, 0, 0, 0, 0, 0, 0, 0, 0, 0, 0, 0, 0, 0, 0, 0, 0, 0, 0, 0, 0, 0, 0, 0, 0, 0, 0, 0, 0, 0, 0, 0, 0, 0, 0, 0, 0, 0, 0, 0, 0, 0, 0, 0, 0, 0, 0, 0, 0, 0, 0, 0, 0, 0, 0, 0, 0, 0, 0, 0, 0, 0, 0, 0, 0, 0, 0, 0, 0, 0, 0, 0, 0, 0, 0, 0, 0, 0, 0, 0, 0, 0, 0, 0, 0, 0, 0, 0, 0, 0, 0, 0, 0, 0, 0, 0, 0, 0, 0, 0, 0, 0, 0, 0, 0, 0, 0, 0, 0, 0, 0, 0, 0, 0, 0, 0, 0, 0, 0, 0, 0, 0, 0, 0, 0, 0, 0, 0, 0, 0, 0, 0, 0, 0, 0, 0, 0, 0, 0, 0, 0, 0, 0, 0, 0, 0, 0, 0, 0, 0, 0, 0, 0, 0, 0, 0, 0, 0, 0, 0, 0, 0, 0, 0, 0, 0, 0, 0, 0, 0, 0, 0, 0, 0, 0, 0, 0, 0, 0, 0, 0, 0, 0, 0, 0, 0, 0, 0, 0, 0, 0, 0, 0, 0, 0, 0, 0, 0, 0, 0, 0, 0, 0, 0, 0, 0, 0, 0, 0, 0, 0, 0, 0, 0, 0, 0, 0, 0, 0, 0, 0, 0, 0, 0, 0, 0, 0, 0, 0, 0, 0, 0, 0, 0, 0, 0, 0, 0, 0, 0, 0, 0, 0, 0, 0, 0, 0, 0, 0, 0, 0, 0, 0, 0, 0, 0, 0, 0, 0, 0, 0, 0, 0, 0, 0, 0, 0, 0, 0, 0, 0, 0, 0, 0, 0, 0, 0, 0, 0, 0, 0, 0, 0, 0, 0, 0, 0, 0, 0, 0, 0, 0, 0, 0, 0, 0, 0, 0, 0, 0, 0, 0, 0, 0, 0, 0, 0, 0, 0, 0, 0, 0, 0, 0, 0, 0, 0, 0, 0, 0, 0, 0, 0, 0, 0, 0, 0, 0, 0, 0, 0, 0, 0, 0, 0, 0, 0, 0, 0, 0, 0, 0, 0, 0, 0, 0, 0, 0, 0, 0, 0, 0, 0, 0, 0, 0, 0, 0, 0, 0, 0, 0, 0, 0, 0, 0, 0, 0, 0, 0, 0, 0, 0, 0, 0, 0, 0, 0, 0, 0, 0, 0, 0, 0, 0, 0, 0, 0, 0, 0, 0, 0, 0, 0, 0, 0, 0, 0, 0, 0, 0, 0, 0, 0, 0, 0, 0, 0, 0, 0, 0, 0, 0, 0, 0, 0, 0, 0, 0, 0, 0, 0, 0, 0, 0, 0, 0, 0, 0, 0, 0, 0, 0, 0, 0, 0, 0, 0, 0, 0, 0, 0, 0, 0, 0, 0, 0, 0, 0, 0, 0, 0, 0, 0, 0, 0, 0, 0, 0, 0, 0, 0, 0, 0, 0, 0, 0, 0, 0, 0, 0, 0, 0, 0, 0, 0, 0, 0, 0, 0, 0, 0, 0, 0, 0, 0, 0, 0, 0, 0, 0, 0, 0, 0, 0, 0, 0, 0, 0, 0, 0, 0, 0, 0, 0, 0, 0, 0, 0, 0, 0, 0, 0, 0, 0, 0, 0, 0, 0, 0, 0, 0, 0, 0, 0, 0, 0, 0, 0, 0, 0, 0, 0, 0, 0, 0, 0, 0, 0, 0, 0, 0, 0, 0, 0, 0, 0, 0, 0, 0, 0, 0, 0, 0, 0, 0, 0, 0, 0, 0, 0, 0, 0, 0, 0, 0, 0, 0, 0, 0, 0, 0, 0, 0, 0, 0, 0, 0, 0, 0, 0, 0, 0, 0, 0, 0, 0, 0, 0, 0, 0, 0, 0, 0, 0, 0, 0, 0, 0, 0, 0, 0, 0, 0, 0, 0, 0, 0, 0, 0, 0, 0, 0, 0, 0, 0, 0, 0, 0, 0, 0, 0, 0, 0, 0, 0, 0, 0, 0, 0, 0, 0, 0, 0, 0, 0, 0, 0, 0, 0, 0, 0, 0, 0, 0, 0, 0, 0, 0, 0, 0, 0, 0, 0, 0, 0, 0, 0, 0, 0, 0, 0, 0, 0, 0, 0, 0, 0, 0, 0, 0, 0, 0, 0, 0, 0, 0, 0, 0, 0, 0, 0, 0, 0, 0, 0, 0, 0, 0, 0, 0, 0, 0, 0, 0, 0, 0, 0, 0, 0, 0, 0, 0, 0, 0, 0, 0, 0, 0, 0, 0, 0, 0, 0, 0, 0, 0, 0, 0, 0, 0, 0, 0, 0, 0, 0, 0, 0, 0, 0, 0, 0, 0, 0, 0, 0, 0, 0, 0, 0, 0, 0, 0, 0, 0, 0, 0, 0, 0, 0, 0, 0, 0, 0, 0, 0, 0, 0, 0, 0, 0, 0, 0, 0, 0, 0, 0, 0, 0, 0, 0, 0, 0, 0, 0, 0, 0, 0, 0, 0, 0, 0, 0, 0, 0, 0, 0, 0, 0, 0, 0, 0, 0, 0, 0, 0, 0, 0, 0, 0, 0, 0, 0, 0, 0, 0, 0, 0, 0, 0, 0, 0]\n"
     ]
    }
   ],
   "source": [
    "def create_mask_array(true_masks):\n",
    "    mask_length = len(true_masks[5])  # Длина каждой маски\n",
    "    num_masks = len(rand_segments)  # Количество масок\n",
    "    mask_array = [[0] * mask_length for _ in range(num_masks)]  # Создание массива масок из нулей\n",
    "\n",
    "    return mask_array\n",
    "\n",
    "# Пример использования\n",
    "#true_masks = [10, 8, 12, 6, 15, 7]  # Длина каждой маски\n",
    "\n",
    "false_masks = create_mask_array(true_masks)\n",
    "print(false_masks[924])"
   ]
  },
  {
   "cell_type": "code",
   "execution_count": 278,
   "id": "e16e6e00",
   "metadata": {},
   "outputs": [
    {
     "name": "stdout",
     "output_type": "stream",
     "text": [
      "                                             Предложение Метка  \\\n",
      "0      GGTTTACTAAAAAGGACAATTCACTACATATTATTCTCTTACAGTT...     1   \n",
      "1      CCTGTTTTGGCGCCTGCGGGCGCCTGGGCCCAAGGGTGCGACGCGG...     1   \n",
      "2      CCCGTCTCTCGGCTCTCCTCTGGGTCTCTGGCCAGCTGTGGCTCCT...     1   \n",
      "3      GTGGCCCAGCGGGGCACTGACCCGAGACAGGTCTGCGCACGCCCTG...     1   \n",
      "4      TGTGGATGTGGGATTGGGCTGAATTAGCAAGAAGAGGAGAAATGAG...     1   \n",
      "...                                                  ...   ...   \n",
      "39694  TTGTAATTAAGACATAAGTGTGCACTGAGAAATAGATATACCAATG...     0   \n",
      "39695  TCTCTAGAGGTGTTGAGGTTGGACCCACCCACCCTGCTGCTACCAT...     0   \n",
      "39696  NNNNNNNNNNNNNNNNNNNNNNNNNNNNNNNNNNNNNNNNNNNNNN...     0   \n",
      "39697  TCCTGGTAACGCCCTCTTCCAGGAGCTTCCAGGACAACACACGTAC...     0   \n",
      "39698  TTGGAGGGAGGAGGTGGCATTTTTCCCTATTACCCAACAGGATTTG...     0   \n",
      "\n",
      "                                                   Маски  \n",
      "0      [0, 0, 0, 0, 0, 0, 0, 0, 0, 0, 0, 0, 0, 0, 0, ...  \n",
      "1      [0, 0, 0, 0, 0, 0, 0, 0, 0, 0, 0, 0, 0, 0, 0, ...  \n",
      "2      [0, 0, 0, 0, 0, 0, 0, 0, 0, 0, 0, 0, 0, 0, 0, ...  \n",
      "3      [0, 0, 0, 0, 0, 0, 0, 0, 0, 0, 0, 0, 0, 0, 0, ...  \n",
      "4      [0, 0, 0, 0, 0, 0, 0, 0, 0, 0, 0, 0, 0, 0, 0, ...  \n",
      "...                                                  ...  \n",
      "39694  [0, 0, 0, 0, 0, 0, 0, 0, 0, 0, 0, 0, 0, 0, 0, ...  \n",
      "39695  [0, 0, 0, 0, 0, 0, 0, 0, 0, 0, 0, 0, 0, 0, 0, ...  \n",
      "39696  [0, 0, 0, 0, 0, 0, 0, 0, 0, 0, 0, 0, 0, 0, 0, ...  \n",
      "39697  [0, 0, 0, 0, 0, 0, 0, 0, 0, 0, 0, 0, 0, 0, 0, ...  \n",
      "39698  [0, 0, 0, 0, 0, 0, 0, 0, 0, 0, 0, 0, 0, 0, 0, ...  \n",
      "\n",
      "[39699 rows x 3 columns]\n"
     ]
    }
   ],
   "source": [
    "# Создание датафрейма\n",
    "df = pd.DataFrame({\n",
    "    \"Предложение\": true_segments + rand_segments,\n",
    "    \"Метка\": [\"1\"] * len(cds_short) + [\"0\"] * len(rand_segments),\n",
    "    \"Маски\": true_masks + false_masks\n",
    "})\n",
    "print(df)"
   ]
  },
  {
   "cell_type": "code",
   "execution_count": 279,
   "id": "9c4bdd49",
   "metadata": {},
   "outputs": [
    {
     "ename": "ValueError",
     "evalue": "Количество предложений в массивах не совпадает",
     "output_type": "error",
     "traceback": [
      "\u001b[0;31m---------------------------------------------------------------------------\u001b[0m",
      "\u001b[0;31mValueError\u001b[0m                                Traceback (most recent call last)",
      "\u001b[0;32m/var/folders/dy/76wm8jgj50vc8kygzhcz93jw0000gn/T/ipykernel_4424/659054448.py\u001b[0m in \u001b[0;36m<module>\u001b[0;34m\u001b[0m\n\u001b[1;32m      1\u001b[0m \u001b[0;31m# Проверка на равенство длин массивов\u001b[0m\u001b[0;34m\u001b[0m\u001b[0;34m\u001b[0m\u001b[0m\n\u001b[1;32m      2\u001b[0m \u001b[0;32mif\u001b[0m \u001b[0mlen\u001b[0m\u001b[0;34m(\u001b[0m\u001b[0mcds_short\u001b[0m\u001b[0;34m[\u001b[0m\u001b[0;34m'markered'\u001b[0m\u001b[0;34m]\u001b[0m\u001b[0;34m)\u001b[0m \u001b[0;34m!=\u001b[0m \u001b[0mlen\u001b[0m\u001b[0;34m(\u001b[0m\u001b[0mrand_segments\u001b[0m\u001b[0;34m)\u001b[0m\u001b[0;34m:\u001b[0m\u001b[0;34m\u001b[0m\u001b[0;34m\u001b[0m\u001b[0m\n\u001b[0;32m----> 3\u001b[0;31m     \u001b[0;32mraise\u001b[0m \u001b[0mValueError\u001b[0m\u001b[0;34m(\u001b[0m\u001b[0;34m\"Количество предложений в массивах не совпадает\"\u001b[0m\u001b[0;34m)\u001b[0m\u001b[0;34m\u001b[0m\u001b[0;34m\u001b[0m\u001b[0m\n\u001b[0m",
      "\u001b[0;31mValueError\u001b[0m: Количество предложений в массивах не совпадает"
     ]
    }
   ],
   "source": [
    "# Проверка на равенство длин массивов\n",
    "if len(cds_short['markered']) != len(rand_segments):\n",
    "    raise ValueError(\"Количество предложений в массивах не совпадает\")"
   ]
  },
  {
   "cell_type": "code",
   "execution_count": 280,
   "id": "bdf6cc9a",
   "metadata": {},
   "outputs": [
    {
     "data": {
      "text/plain": [
       "19137"
      ]
     },
     "execution_count": 280,
     "metadata": {},
     "output_type": "execute_result"
    }
   ],
   "source": [
    "len(rand_segments)"
   ]
  },
  {
   "cell_type": "code",
   "execution_count": 281,
   "id": "56208e38-ec84-4839-a7f9-b2270a537818",
   "metadata": {},
   "outputs": [
    {
     "data": {
      "text/plain": [
       "(38089, 3)"
      ]
     },
     "execution_count": 281,
     "metadata": {},
     "output_type": "execute_result"
    }
   ],
   "source": [
    "# Условие фильтрации для символа \"N\"\n",
    "condition = df['Предложение'].str.contains('N')\n",
    "\n",
    "\n",
    "# Фильтрация датафрейма\n",
    "filtered_df = df[~condition]\n",
    "filtered_df.shape\n",
    "\n"
   ]
  },
  {
   "cell_type": "code",
   "execution_count": 282,
   "id": "9c19d7ba-61a1-4801-9020-c5778d9a7af6",
   "metadata": {},
   "outputs": [
    {
     "data": {
      "text/plain": [
       "(38089, 3)"
      ]
     },
     "execution_count": 282,
     "metadata": {},
     "output_type": "execute_result"
    }
   ],
   "source": [
    "# Условие фильтрации для символа \"N\"\n",
    "condition1 = filtered_df['Предложение'].str.contains('R')\n",
    "\n",
    "\n",
    "# Фильтрация датафрейма\n",
    "filtered_df1 = filtered_df[~condition1]\n",
    "filtered_df1.shape"
   ]
  },
  {
   "cell_type": "code",
   "execution_count": 283,
   "id": "37d01f81-f126-4998-b9f5-1188352c6862",
   "metadata": {},
   "outputs": [],
   "source": [
    "df_fin = filtered_df1"
   ]
  },
  {
   "cell_type": "code",
   "execution_count": 284,
   "id": "84db2689-c76e-45eb-b503-a2e7fb31d483",
   "metadata": {},
   "outputs": [
    {
     "data": {
      "text/html": [
       "<div>\n",
       "<style scoped>\n",
       "    .dataframe tbody tr th:only-of-type {\n",
       "        vertical-align: middle;\n",
       "    }\n",
       "\n",
       "    .dataframe tbody tr th {\n",
       "        vertical-align: top;\n",
       "    }\n",
       "\n",
       "    .dataframe thead th {\n",
       "        text-align: right;\n",
       "    }\n",
       "</style>\n",
       "<table border=\"1\" class=\"dataframe\">\n",
       "  <thead>\n",
       "    <tr style=\"text-align: right;\">\n",
       "      <th></th>\n",
       "      <th>Предложение</th>\n",
       "      <th>Метка</th>\n",
       "      <th>Маски</th>\n",
       "    </tr>\n",
       "  </thead>\n",
       "  <tbody>\n",
       "    <tr>\n",
       "      <th>39692</th>\n",
       "      <td>AGAACTACCCTAGTTGACCTAGAGATTACAAATAAATATGTATATT...</td>\n",
       "      <td>0</td>\n",
       "      <td>[0, 0, 0, 0, 0, 0, 0, 0, 0, 0, 0, 0, 0, 0, 0, ...</td>\n",
       "    </tr>\n",
       "    <tr>\n",
       "      <th>39694</th>\n",
       "      <td>TTGTAATTAAGACATAAGTGTGCACTGAGAAATAGATATACCAATG...</td>\n",
       "      <td>0</td>\n",
       "      <td>[0, 0, 0, 0, 0, 0, 0, 0, 0, 0, 0, 0, 0, 0, 0, ...</td>\n",
       "    </tr>\n",
       "    <tr>\n",
       "      <th>39695</th>\n",
       "      <td>TCTCTAGAGGTGTTGAGGTTGGACCCACCCACCCTGCTGCTACCAT...</td>\n",
       "      <td>0</td>\n",
       "      <td>[0, 0, 0, 0, 0, 0, 0, 0, 0, 0, 0, 0, 0, 0, 0, ...</td>\n",
       "    </tr>\n",
       "    <tr>\n",
       "      <th>39697</th>\n",
       "      <td>TCCTGGTAACGCCCTCTTCCAGGAGCTTCCAGGACAACACACGTAC...</td>\n",
       "      <td>0</td>\n",
       "      <td>[0, 0, 0, 0, 0, 0, 0, 0, 0, 0, 0, 0, 0, 0, 0, ...</td>\n",
       "    </tr>\n",
       "    <tr>\n",
       "      <th>39698</th>\n",
       "      <td>TTGGAGGGAGGAGGTGGCATTTTTCCCTATTACCCAACAGGATTTG...</td>\n",
       "      <td>0</td>\n",
       "      <td>[0, 0, 0, 0, 0, 0, 0, 0, 0, 0, 0, 0, 0, 0, 0, ...</td>\n",
       "    </tr>\n",
       "  </tbody>\n",
       "</table>\n",
       "</div>"
      ],
      "text/plain": [
       "                                             Предложение Метка  \\\n",
       "39692  AGAACTACCCTAGTTGACCTAGAGATTACAAATAAATATGTATATT...     0   \n",
       "39694  TTGTAATTAAGACATAAGTGTGCACTGAGAAATAGATATACCAATG...     0   \n",
       "39695  TCTCTAGAGGTGTTGAGGTTGGACCCACCCACCCTGCTGCTACCAT...     0   \n",
       "39697  TCCTGGTAACGCCCTCTTCCAGGAGCTTCCAGGACAACACACGTAC...     0   \n",
       "39698  TTGGAGGGAGGAGGTGGCATTTTTCCCTATTACCCAACAGGATTTG...     0   \n",
       "\n",
       "                                                   Маски  \n",
       "39692  [0, 0, 0, 0, 0, 0, 0, 0, 0, 0, 0, 0, 0, 0, 0, ...  \n",
       "39694  [0, 0, 0, 0, 0, 0, 0, 0, 0, 0, 0, 0, 0, 0, 0, ...  \n",
       "39695  [0, 0, 0, 0, 0, 0, 0, 0, 0, 0, 0, 0, 0, 0, 0, ...  \n",
       "39697  [0, 0, 0, 0, 0, 0, 0, 0, 0, 0, 0, 0, 0, 0, 0, ...  \n",
       "39698  [0, 0, 0, 0, 0, 0, 0, 0, 0, 0, 0, 0, 0, 0, 0, ...  "
      ]
     },
     "execution_count": 284,
     "metadata": {},
     "output_type": "execute_result"
    }
   ],
   "source": [
    "df_fin.head()\n",
    "df_fin.tail()"
   ]
  },
  {
   "cell_type": "code",
   "execution_count": 166,
   "id": "dd0857e4-b31d-4455-892e-75a48f867bfc",
   "metadata": {},
   "outputs": [
    {
     "ename": "ValueError",
     "evalue": "malformed node or string: [0, 0, 0, 0, 0, 0, 0, 0, 0, 0, 0, 0, 0, 0, 0, 0, 0, 0, 0, 0, 0, 0, 0, 0, 0, 0, 0, 0, 0, 0, 0, 0, 0, 0, 0, 0, 0, 0, 0, 1, 1, 1, 1, 1, 1, 1, 1, 1, 0, 0, 0, 0, 0, 0, 0, 0, 0, 0, 0, 0, 0, 0, 0, 0, 0, 0, 0, 0, 0, 0, 0, 0, 0, 0, 0, 0, 0, 0, 0, 0, 0, 0, 0, 0, 0, 0, 0, 0, 0, 0, 0, 0, 0, 0, 0, 0, 0, 0, 0, 0, 0, 0, 0, 0, 0, 0, 0, 0, 0, 0, 0, 0, 0, 0, 0, 0, 0, 0, 0, 0, 0, 0, 0, 0, 0, 0, 0, 0, 0, 0, 0, 0, 0, 0, 0, 0, 0, 0, 0, 0, 0, 0, 0, 0, 0, 0, 0, 0, 0, 0, 0, 0, 0, 0, 0, 0, 0, 0, 0, 0, 0, 0, 0, 0, 0, 0, 0, 0, 0, 0, 0, 0, 0, 0, 0, 0, 0, 0, 0, 0, 0, 0, 0, 0, 0, 0, 0, 0, 0, 0, 0, 0, 0, 0, 0, 0, 0, 0, 0, 0, 0, 0, 0, 0, 0, 0, 0, 0, 0, 0, 0, 0, 0, 0, 0, 0, 0, 0, 0, 0, 0, 0, 0, 0, 0, 0, 0, 0, 0, 0, 0, 0, 0, 0, 0, 0, 0, 0, 0, 0, 0, 0, 0, 0, 0, 0, 0, 0, 0, 0, 0, 0, 0, 0, 0, 0, 0, 0, 0, 0, 0, 0, 0, 0, 0, 0, 0, 0, 0, 0, 0, 0, 0, 0, 0, 0, 0, 0, 0, 0, 0, 0, 0, 0, 0, 0, 0, 0, 0, 0, 0, 0, 0, 0, 0, 0, 0, 0, 0, 0, 0, 0, 0, 0, 0, 0, 0, 0, 0, 0, 0, 0, 0, 0, 0, 0, 0, 0, 0, 0, 0, 0, 0, 0, 0, 0, 0, 0, 0, 0, 0, 0, 0, 0, 0, 0, 0, 0, 0, 0, 0, 0, 0, 0, 0, 0, 0, 0, 0, 0, 0, 0, 0, 0, 0, 0, 0, 0, 0, 0, 0, 0, 0, 0, 0, 0, 0, 0, 0, 0, 0, 0, 0, 0, 0, 0, 0, 0, 0, 0, 0, 0, 0, 0, 0, 0, 0, 0, 0, 0, 0, 0, 0, 0, 0, 0, 0, 0, 0, 0, 0]",
     "output_type": "error",
     "traceback": [
      "\u001b[0;31m---------------------------------------------------------------------------\u001b[0m",
      "\u001b[0;31mValueError\u001b[0m                                Traceback (most recent call last)",
      "\u001b[0;32m/var/folders/dy/76wm8jgj50vc8kygzhcz93jw0000gn/T/ipykernel_18211/2847863887.py\u001b[0m in \u001b[0;36m<module>\u001b[0;34m\u001b[0m\n\u001b[1;32m      7\u001b[0m \u001b[0;34m\u001b[0m\u001b[0m\n\u001b[1;32m      8\u001b[0m \u001b[0;31m# Применение функции к каждой строке датафрейма\u001b[0m\u001b[0;34m\u001b[0m\u001b[0;34m\u001b[0m\u001b[0m\n\u001b[0;32m----> 9\u001b[0;31m \u001b[0mmask_lengths\u001b[0m \u001b[0;34m=\u001b[0m \u001b[0mdf_fin\u001b[0m\u001b[0;34m[\u001b[0m\u001b[0;34m'Маски'\u001b[0m\u001b[0;34m]\u001b[0m\u001b[0;34m.\u001b[0m\u001b[0mapply\u001b[0m\u001b[0;34m(\u001b[0m\u001b[0mcheck_mask_length\u001b[0m\u001b[0;34m)\u001b[0m\u001b[0;34m\u001b[0m\u001b[0;34m\u001b[0m\u001b[0m\n\u001b[0m\u001b[1;32m     10\u001b[0m \u001b[0;34m\u001b[0m\u001b[0m\n\u001b[1;32m     11\u001b[0m \u001b[0;31m# Фильтрация датафрейма по условию\u001b[0m\u001b[0;34m\u001b[0m\u001b[0;34m\u001b[0m\u001b[0m\n",
      "\u001b[0;32m~/opt/anaconda3/lib/python3.9/site-packages/pandas/core/series.py\u001b[0m in \u001b[0;36mapply\u001b[0;34m(self, func, convert_dtype, args, **kwargs)\u001b[0m\n\u001b[1;32m   4431\u001b[0m         \u001b[0mdtype\u001b[0m\u001b[0;34m:\u001b[0m \u001b[0mfloat64\u001b[0m\u001b[0;34m\u001b[0m\u001b[0;34m\u001b[0m\u001b[0m\n\u001b[1;32m   4432\u001b[0m         \"\"\"\n\u001b[0;32m-> 4433\u001b[0;31m         \u001b[0;32mreturn\u001b[0m \u001b[0mSeriesApply\u001b[0m\u001b[0;34m(\u001b[0m\u001b[0mself\u001b[0m\u001b[0;34m,\u001b[0m \u001b[0mfunc\u001b[0m\u001b[0;34m,\u001b[0m \u001b[0mconvert_dtype\u001b[0m\u001b[0;34m,\u001b[0m \u001b[0margs\u001b[0m\u001b[0;34m,\u001b[0m \u001b[0mkwargs\u001b[0m\u001b[0;34m)\u001b[0m\u001b[0;34m.\u001b[0m\u001b[0mapply\u001b[0m\u001b[0;34m(\u001b[0m\u001b[0;34m)\u001b[0m\u001b[0;34m\u001b[0m\u001b[0;34m\u001b[0m\u001b[0m\n\u001b[0m\u001b[1;32m   4434\u001b[0m \u001b[0;34m\u001b[0m\u001b[0m\n\u001b[1;32m   4435\u001b[0m     def _reduce(\n",
      "\u001b[0;32m~/opt/anaconda3/lib/python3.9/site-packages/pandas/core/apply.py\u001b[0m in \u001b[0;36mapply\u001b[0;34m(self)\u001b[0m\n\u001b[1;32m   1080\u001b[0m             \u001b[0;32mreturn\u001b[0m \u001b[0mself\u001b[0m\u001b[0;34m.\u001b[0m\u001b[0mapply_str\u001b[0m\u001b[0;34m(\u001b[0m\u001b[0;34m)\u001b[0m\u001b[0;34m\u001b[0m\u001b[0;34m\u001b[0m\u001b[0m\n\u001b[1;32m   1081\u001b[0m \u001b[0;34m\u001b[0m\u001b[0m\n\u001b[0;32m-> 1082\u001b[0;31m         \u001b[0;32mreturn\u001b[0m \u001b[0mself\u001b[0m\u001b[0;34m.\u001b[0m\u001b[0mapply_standard\u001b[0m\u001b[0;34m(\u001b[0m\u001b[0;34m)\u001b[0m\u001b[0;34m\u001b[0m\u001b[0;34m\u001b[0m\u001b[0m\n\u001b[0m\u001b[1;32m   1083\u001b[0m \u001b[0;34m\u001b[0m\u001b[0m\n\u001b[1;32m   1084\u001b[0m     \u001b[0;32mdef\u001b[0m \u001b[0magg\u001b[0m\u001b[0;34m(\u001b[0m\u001b[0mself\u001b[0m\u001b[0;34m)\u001b[0m\u001b[0;34m:\u001b[0m\u001b[0;34m\u001b[0m\u001b[0;34m\u001b[0m\u001b[0m\n",
      "\u001b[0;32m~/opt/anaconda3/lib/python3.9/site-packages/pandas/core/apply.py\u001b[0m in \u001b[0;36mapply_standard\u001b[0;34m(self)\u001b[0m\n\u001b[1;32m   1135\u001b[0m                 \u001b[0;31m# List[Union[Callable[..., Any], str]]]]]\"; expected\u001b[0m\u001b[0;34m\u001b[0m\u001b[0;34m\u001b[0m\u001b[0m\n\u001b[1;32m   1136\u001b[0m                 \u001b[0;31m# \"Callable[[Any], Any]\"\u001b[0m\u001b[0;34m\u001b[0m\u001b[0;34m\u001b[0m\u001b[0m\n\u001b[0;32m-> 1137\u001b[0;31m                 mapped = lib.map_infer(\n\u001b[0m\u001b[1;32m   1138\u001b[0m                     \u001b[0mvalues\u001b[0m\u001b[0;34m,\u001b[0m\u001b[0;34m\u001b[0m\u001b[0;34m\u001b[0m\u001b[0m\n\u001b[1;32m   1139\u001b[0m                     \u001b[0mf\u001b[0m\u001b[0;34m,\u001b[0m  \u001b[0;31m# type: ignore[arg-type]\u001b[0m\u001b[0;34m\u001b[0m\u001b[0;34m\u001b[0m\u001b[0m\n",
      "\u001b[0;32m~/opt/anaconda3/lib/python3.9/site-packages/pandas/_libs/lib.pyx\u001b[0m in \u001b[0;36mpandas._libs.lib.map_infer\u001b[0;34m()\u001b[0m\n",
      "\u001b[0;32m/var/folders/dy/76wm8jgj50vc8kygzhcz93jw0000gn/T/ipykernel_18211/2847863887.py\u001b[0m in \u001b[0;36mcheck_mask_length\u001b[0;34m(mask_data)\u001b[0m\n\u001b[1;32m      4\u001b[0m \u001b[0;31m# Функция для проверки длины элемента в столбце \"Маски\"\u001b[0m\u001b[0;34m\u001b[0m\u001b[0;34m\u001b[0m\u001b[0m\n\u001b[1;32m      5\u001b[0m \u001b[0;32mdef\u001b[0m \u001b[0mcheck_mask_length\u001b[0m\u001b[0;34m(\u001b[0m\u001b[0mmask_data\u001b[0m\u001b[0;34m)\u001b[0m\u001b[0;34m:\u001b[0m\u001b[0;34m\u001b[0m\u001b[0;34m\u001b[0m\u001b[0m\n\u001b[0;32m----> 6\u001b[0;31m     \u001b[0;32mreturn\u001b[0m \u001b[0mlen\u001b[0m\u001b[0;34m(\u001b[0m\u001b[0mast\u001b[0m\u001b[0;34m.\u001b[0m\u001b[0mliteral_eval\u001b[0m\u001b[0;34m(\u001b[0m\u001b[0mmask_data\u001b[0m\u001b[0;34m)\u001b[0m\u001b[0;34m)\u001b[0m \u001b[0;34m<=\u001b[0m \u001b[0mlen\u001b[0m\u001b[0;34m(\u001b[0m\u001b[0mtrue_masks\u001b[0m\u001b[0;34m[\u001b[0m\u001b[0;36m6\u001b[0m\u001b[0;34m]\u001b[0m\u001b[0;34m)\u001b[0m\u001b[0;34m\u001b[0m\u001b[0;34m\u001b[0m\u001b[0m\n\u001b[0m\u001b[1;32m      7\u001b[0m \u001b[0;34m\u001b[0m\u001b[0m\n\u001b[1;32m      8\u001b[0m \u001b[0;31m# Применение функции к каждой строке датафрейма\u001b[0m\u001b[0;34m\u001b[0m\u001b[0;34m\u001b[0m\u001b[0m\n",
      "\u001b[0;32m~/opt/anaconda3/lib/python3.9/ast.py\u001b[0m in \u001b[0;36mliteral_eval\u001b[0;34m(node_or_string)\u001b[0m\n\u001b[1;32m    103\u001b[0m                     \u001b[0;32mreturn\u001b[0m \u001b[0mleft\u001b[0m \u001b[0;34m-\u001b[0m \u001b[0mright\u001b[0m\u001b[0;34m\u001b[0m\u001b[0;34m\u001b[0m\u001b[0m\n\u001b[1;32m    104\u001b[0m         \u001b[0;32mreturn\u001b[0m \u001b[0m_convert_signed_num\u001b[0m\u001b[0;34m(\u001b[0m\u001b[0mnode\u001b[0m\u001b[0;34m)\u001b[0m\u001b[0;34m\u001b[0m\u001b[0;34m\u001b[0m\u001b[0m\n\u001b[0;32m--> 105\u001b[0;31m     \u001b[0;32mreturn\u001b[0m \u001b[0m_convert\u001b[0m\u001b[0;34m(\u001b[0m\u001b[0mnode_or_string\u001b[0m\u001b[0;34m)\u001b[0m\u001b[0;34m\u001b[0m\u001b[0;34m\u001b[0m\u001b[0m\n\u001b[0m\u001b[1;32m    106\u001b[0m \u001b[0;34m\u001b[0m\u001b[0m\n\u001b[1;32m    107\u001b[0m \u001b[0;34m\u001b[0m\u001b[0m\n",
      "\u001b[0;32m~/opt/anaconda3/lib/python3.9/ast.py\u001b[0m in \u001b[0;36m_convert\u001b[0;34m(node)\u001b[0m\n\u001b[1;32m    102\u001b[0m                 \u001b[0;32melse\u001b[0m\u001b[0;34m:\u001b[0m\u001b[0;34m\u001b[0m\u001b[0;34m\u001b[0m\u001b[0m\n\u001b[1;32m    103\u001b[0m                     \u001b[0;32mreturn\u001b[0m \u001b[0mleft\u001b[0m \u001b[0;34m-\u001b[0m \u001b[0mright\u001b[0m\u001b[0;34m\u001b[0m\u001b[0;34m\u001b[0m\u001b[0m\n\u001b[0;32m--> 104\u001b[0;31m         \u001b[0;32mreturn\u001b[0m \u001b[0m_convert_signed_num\u001b[0m\u001b[0;34m(\u001b[0m\u001b[0mnode\u001b[0m\u001b[0;34m)\u001b[0m\u001b[0;34m\u001b[0m\u001b[0;34m\u001b[0m\u001b[0m\n\u001b[0m\u001b[1;32m    105\u001b[0m     \u001b[0;32mreturn\u001b[0m \u001b[0m_convert\u001b[0m\u001b[0;34m(\u001b[0m\u001b[0mnode_or_string\u001b[0m\u001b[0;34m)\u001b[0m\u001b[0;34m\u001b[0m\u001b[0;34m\u001b[0m\u001b[0m\n\u001b[1;32m    106\u001b[0m \u001b[0;34m\u001b[0m\u001b[0m\n",
      "\u001b[0;32m~/opt/anaconda3/lib/python3.9/ast.py\u001b[0m in \u001b[0;36m_convert_signed_num\u001b[0;34m(node)\u001b[0m\n\u001b[1;32m     76\u001b[0m             \u001b[0;32melse\u001b[0m\u001b[0;34m:\u001b[0m\u001b[0;34m\u001b[0m\u001b[0;34m\u001b[0m\u001b[0m\n\u001b[1;32m     77\u001b[0m                 \u001b[0;32mreturn\u001b[0m \u001b[0;34m-\u001b[0m \u001b[0moperand\u001b[0m\u001b[0;34m\u001b[0m\u001b[0;34m\u001b[0m\u001b[0m\n\u001b[0;32m---> 78\u001b[0;31m         \u001b[0;32mreturn\u001b[0m \u001b[0m_convert_num\u001b[0m\u001b[0;34m(\u001b[0m\u001b[0mnode\u001b[0m\u001b[0;34m)\u001b[0m\u001b[0;34m\u001b[0m\u001b[0;34m\u001b[0m\u001b[0m\n\u001b[0m\u001b[1;32m     79\u001b[0m     \u001b[0;32mdef\u001b[0m \u001b[0m_convert\u001b[0m\u001b[0;34m(\u001b[0m\u001b[0mnode\u001b[0m\u001b[0;34m)\u001b[0m\u001b[0;34m:\u001b[0m\u001b[0;34m\u001b[0m\u001b[0;34m\u001b[0m\u001b[0m\n\u001b[1;32m     80\u001b[0m         \u001b[0;32mif\u001b[0m \u001b[0misinstance\u001b[0m\u001b[0;34m(\u001b[0m\u001b[0mnode\u001b[0m\u001b[0;34m,\u001b[0m \u001b[0mConstant\u001b[0m\u001b[0;34m)\u001b[0m\u001b[0;34m:\u001b[0m\u001b[0;34m\u001b[0m\u001b[0;34m\u001b[0m\u001b[0m\n",
      "\u001b[0;32m~/opt/anaconda3/lib/python3.9/ast.py\u001b[0m in \u001b[0;36m_convert_num\u001b[0;34m(node)\u001b[0m\n\u001b[1;32m     67\u001b[0m     \u001b[0;32mdef\u001b[0m \u001b[0m_convert_num\u001b[0m\u001b[0;34m(\u001b[0m\u001b[0mnode\u001b[0m\u001b[0;34m)\u001b[0m\u001b[0;34m:\u001b[0m\u001b[0;34m\u001b[0m\u001b[0;34m\u001b[0m\u001b[0m\n\u001b[1;32m     68\u001b[0m         \u001b[0;32mif\u001b[0m \u001b[0;32mnot\u001b[0m \u001b[0misinstance\u001b[0m\u001b[0;34m(\u001b[0m\u001b[0mnode\u001b[0m\u001b[0;34m,\u001b[0m \u001b[0mConstant\u001b[0m\u001b[0;34m)\u001b[0m \u001b[0;32mor\u001b[0m \u001b[0mtype\u001b[0m\u001b[0;34m(\u001b[0m\u001b[0mnode\u001b[0m\u001b[0;34m.\u001b[0m\u001b[0mvalue\u001b[0m\u001b[0;34m)\u001b[0m \u001b[0;32mnot\u001b[0m \u001b[0;32min\u001b[0m \u001b[0;34m(\u001b[0m\u001b[0mint\u001b[0m\u001b[0;34m,\u001b[0m \u001b[0mfloat\u001b[0m\u001b[0;34m,\u001b[0m \u001b[0mcomplex\u001b[0m\u001b[0;34m)\u001b[0m\u001b[0;34m:\u001b[0m\u001b[0;34m\u001b[0m\u001b[0;34m\u001b[0m\u001b[0m\n\u001b[0;32m---> 69\u001b[0;31m             \u001b[0m_raise_malformed_node\u001b[0m\u001b[0;34m(\u001b[0m\u001b[0mnode\u001b[0m\u001b[0;34m)\u001b[0m\u001b[0;34m\u001b[0m\u001b[0;34m\u001b[0m\u001b[0m\n\u001b[0m\u001b[1;32m     70\u001b[0m         \u001b[0;32mreturn\u001b[0m \u001b[0mnode\u001b[0m\u001b[0;34m.\u001b[0m\u001b[0mvalue\u001b[0m\u001b[0;34m\u001b[0m\u001b[0;34m\u001b[0m\u001b[0m\n\u001b[1;32m     71\u001b[0m     \u001b[0;32mdef\u001b[0m \u001b[0m_convert_signed_num\u001b[0m\u001b[0;34m(\u001b[0m\u001b[0mnode\u001b[0m\u001b[0;34m)\u001b[0m\u001b[0;34m:\u001b[0m\u001b[0;34m\u001b[0m\u001b[0;34m\u001b[0m\u001b[0m\n",
      "\u001b[0;32m~/opt/anaconda3/lib/python3.9/ast.py\u001b[0m in \u001b[0;36m_raise_malformed_node\u001b[0;34m(node)\u001b[0m\n\u001b[1;32m     64\u001b[0m         \u001b[0mnode_or_string\u001b[0m \u001b[0;34m=\u001b[0m \u001b[0mnode_or_string\u001b[0m\u001b[0;34m.\u001b[0m\u001b[0mbody\u001b[0m\u001b[0;34m\u001b[0m\u001b[0;34m\u001b[0m\u001b[0m\n\u001b[1;32m     65\u001b[0m     \u001b[0;32mdef\u001b[0m \u001b[0m_raise_malformed_node\u001b[0m\u001b[0;34m(\u001b[0m\u001b[0mnode\u001b[0m\u001b[0;34m)\u001b[0m\u001b[0;34m:\u001b[0m\u001b[0;34m\u001b[0m\u001b[0;34m\u001b[0m\u001b[0m\n\u001b[0;32m---> 66\u001b[0;31m         \u001b[0;32mraise\u001b[0m \u001b[0mValueError\u001b[0m\u001b[0;34m(\u001b[0m\u001b[0;34mf'malformed node or string: {node!r}'\u001b[0m\u001b[0;34m)\u001b[0m\u001b[0;34m\u001b[0m\u001b[0;34m\u001b[0m\u001b[0m\n\u001b[0m\u001b[1;32m     67\u001b[0m     \u001b[0;32mdef\u001b[0m \u001b[0m_convert_num\u001b[0m\u001b[0;34m(\u001b[0m\u001b[0mnode\u001b[0m\u001b[0;34m)\u001b[0m\u001b[0;34m:\u001b[0m\u001b[0;34m\u001b[0m\u001b[0;34m\u001b[0m\u001b[0m\n\u001b[1;32m     68\u001b[0m         \u001b[0;32mif\u001b[0m \u001b[0;32mnot\u001b[0m \u001b[0misinstance\u001b[0m\u001b[0;34m(\u001b[0m\u001b[0mnode\u001b[0m\u001b[0;34m,\u001b[0m \u001b[0mConstant\u001b[0m\u001b[0;34m)\u001b[0m \u001b[0;32mor\u001b[0m \u001b[0mtype\u001b[0m\u001b[0;34m(\u001b[0m\u001b[0mnode\u001b[0m\u001b[0;34m.\u001b[0m\u001b[0mvalue\u001b[0m\u001b[0;34m)\u001b[0m \u001b[0;32mnot\u001b[0m \u001b[0;32min\u001b[0m \u001b[0;34m(\u001b[0m\u001b[0mint\u001b[0m\u001b[0;34m,\u001b[0m \u001b[0mfloat\u001b[0m\u001b[0;34m,\u001b[0m \u001b[0mcomplex\u001b[0m\u001b[0;34m)\u001b[0m\u001b[0;34m:\u001b[0m\u001b[0;34m\u001b[0m\u001b[0;34m\u001b[0m\u001b[0m\n",
      "\u001b[0;31mValueError\u001b[0m: malformed node or string: [0, 0, 0, 0, 0, 0, 0, 0, 0, 0, 0, 0, 0, 0, 0, 0, 0, 0, 0, 0, 0, 0, 0, 0, 0, 0, 0, 0, 0, 0, 0, 0, 0, 0, 0, 0, 0, 0, 0, 1, 1, 1, 1, 1, 1, 1, 1, 1, 0, 0, 0, 0, 0, 0, 0, 0, 0, 0, 0, 0, 0, 0, 0, 0, 0, 0, 0, 0, 0, 0, 0, 0, 0, 0, 0, 0, 0, 0, 0, 0, 0, 0, 0, 0, 0, 0, 0, 0, 0, 0, 0, 0, 0, 0, 0, 0, 0, 0, 0, 0, 0, 0, 0, 0, 0, 0, 0, 0, 0, 0, 0, 0, 0, 0, 0, 0, 0, 0, 0, 0, 0, 0, 0, 0, 0, 0, 0, 0, 0, 0, 0, 0, 0, 0, 0, 0, 0, 0, 0, 0, 0, 0, 0, 0, 0, 0, 0, 0, 0, 0, 0, 0, 0, 0, 0, 0, 0, 0, 0, 0, 0, 0, 0, 0, 0, 0, 0, 0, 0, 0, 0, 0, 0, 0, 0, 0, 0, 0, 0, 0, 0, 0, 0, 0, 0, 0, 0, 0, 0, 0, 0, 0, 0, 0, 0, 0, 0, 0, 0, 0, 0, 0, 0, 0, 0, 0, 0, 0, 0, 0, 0, 0, 0, 0, 0, 0, 0, 0, 0, 0, 0, 0, 0, 0, 0, 0, 0, 0, 0, 0, 0, 0, 0, 0, 0, 0, 0, 0, 0, 0, 0, 0, 0, 0, 0, 0, 0, 0, 0, 0, 0, 0, 0, 0, 0, 0, 0, 0, 0, 0, 0, 0, 0, 0, 0, 0, 0, 0, 0, 0, 0, 0, 0, 0, 0, 0, 0, 0, 0, 0, 0, 0, 0, 0, 0, 0, 0, 0, 0, 0, 0, 0, 0, 0, 0, 0, 0, 0, 0, 0, 0, 0, 0, 0, 0, 0, 0, 0, 0, 0, 0, 0, 0, 0, 0, 0, 0, 0, 0, 0, 0, 0, 0, 0, 0, 0, 0, 0, 0, 0, 0, 0, 0, 0, 0, 0, 0, 0, 0, 0, 0, 0, 0, 0, 0, 0, 0, 0, 0, 0, 0, 0, 0, 0, 0, 0, 0, 0, 0, 0, 0, 0, 0, 0, 0, 0, 0, 0, 0, 0, 0, 0, 0, 0, 0, 0, 0, 0, 0, 0, 0, 0, 0, 0, 0, 0, 0, 0, 0, 0, 0, 0, 0, 0, 0, 0, 0, 0, 0, 0, 0]"
     ]
    }
   ],
   "source": [
    "# len(true_masks[6])\n",
    "import ast\n",
    "\n",
    "# Функция для проверки длины элемента в столбце \"Маски\"\n",
    "def check_mask_length(mask_data):\n",
    "    return len(ast.literal_eval(mask_data)) <= len(true_masks[6])\n",
    "\n",
    "# Применение функции к каждой строке датафрейма\n",
    "mask_lengths = df_fin['Маски'].apply(check_mask_length)\n",
    "\n",
    "# Фильтрация датафрейма по условию\n",
    "filtered_df = df_fin[mask_lengths]\n",
    "\n",
    "# Вывод отфильтрованного датафрейма\n",
    "print(filtered_df)"
   ]
  },
  {
   "cell_type": "code",
   "execution_count": 285,
   "id": "66861019-906d-4e57-b49c-0dab2e38d893",
   "metadata": {},
   "outputs": [],
   "source": [
    "df_fin.to_csv('data_1000_20k19k.csv', index=False)"
   ]
  },
  {
   "cell_type": "code",
   "execution_count": null,
   "id": "de32e4ee-e576-49eb-80c8-646e4fc62647",
   "metadata": {},
   "outputs": [],
   "source": []
  },
  {
   "cell_type": "code",
   "execution_count": null,
   "id": "5f3926d3-a8fd-4819-8b63-88b34070b601",
   "metadata": {},
   "outputs": [],
   "source": []
  },
  {
   "cell_type": "code",
   "execution_count": null,
   "id": "2cac0e6e-0507-4f1b-911a-0bb05553e8f9",
   "metadata": {
    "tags": []
   },
   "outputs": [],
   "source": []
  },
  {
   "cell_type": "code",
   "execution_count": null,
   "id": "14aa5bac-de22-4afa-bd31-36a8dc4af0f0",
   "metadata": {},
   "outputs": [],
   "source": []
  },
  {
   "cell_type": "code",
   "execution_count": null,
   "id": "3806be3c-7887-4591-869f-41d20a3ef064",
   "metadata": {},
   "outputs": [],
   "source": []
  },
  {
   "cell_type": "code",
   "execution_count": null,
   "id": "113acb8b-b4d1-41ef-b590-70dde9948206",
   "metadata": {},
   "outputs": [],
   "source": []
  },
  {
   "cell_type": "code",
   "execution_count": 35,
   "id": "2088164e",
   "metadata": {},
   "outputs": [
    {
     "name": "stdout",
     "output_type": "stream",
     "text": [
      "Размер тренировочного набора: (15302, 2)\n",
      "Размер тестового набора: (3826, 2)\n"
     ]
    }
   ],
   "source": [
    "import pandas as pd\n",
    "from sklearn.model_selection import train_test_split\n",
    "\n",
    "\n",
    "# Разделение данных на тренировочный и тестовый наборы\n",
    "train_df, test_df = train_test_split(df, test_size=0.2, random_state=42)\n",
    "\n",
    "# Вывод размерности тренировочного и тестового наборов\n",
    "print(\"Размер тренировочного набора:\", train_df.shape)\n",
    "print(\"Размер тестового набора:\", test_df.shape)"
   ]
  },
  {
   "attachments": {},
   "cell_type": "markdown",
   "id": "f29dc1c8",
   "metadata": {},
   "source": [
    "# от сюда перехожу в начало сети 2"
   ]
  },
  {
   "cell_type": "code",
   "execution_count": null,
   "id": "eb2acdc0",
   "metadata": {},
   "outputs": [],
   "source": []
  },
  {
   "cell_type": "code",
   "execution_count": 36,
   "id": "6d4eeccb",
   "metadata": {},
   "outputs": [
    {
     "name": "stdout",
     "output_type": "stream",
     "text": [
      "Requirement already satisfied: tensorflow in /Users/polilya/opt/anaconda3/lib/python3.9/site-packages (2.12.0)\n",
      "Requirement already satisfied: typing-extensions>=3.6.6 in /Users/polilya/opt/anaconda3/lib/python3.9/site-packages (from tensorflow) (4.1.1)\n",
      "Requirement already satisfied: astunparse>=1.6.0 in /Users/polilya/opt/anaconda3/lib/python3.9/site-packages (from tensorflow) (1.6.3)\n",
      "Requirement already satisfied: opt-einsum>=2.3.2 in /Users/polilya/opt/anaconda3/lib/python3.9/site-packages (from tensorflow) (3.3.0)\n",
      "Requirement already satisfied: numpy<1.24,>=1.22 in /Users/polilya/opt/anaconda3/lib/python3.9/site-packages (from tensorflow) (1.22.4)\n",
      "Requirement already satisfied: tensorflow-estimator<2.13,>=2.12.0 in /Users/polilya/opt/anaconda3/lib/python3.9/site-packages (from tensorflow) (2.12.0)\n",
      "Requirement already satisfied: setuptools in /Users/polilya/opt/anaconda3/lib/python3.9/site-packages (from tensorflow) (61.2.0)\n",
      "Requirement already satisfied: packaging in /Users/polilya/opt/anaconda3/lib/python3.9/site-packages (from tensorflow) (21.3)\n",
      "Requirement already satisfied: keras<2.13,>=2.12.0 in /Users/polilya/opt/anaconda3/lib/python3.9/site-packages (from tensorflow) (2.12.0)\n",
      "Requirement already satisfied: h5py>=2.9.0 in /Users/polilya/opt/anaconda3/lib/python3.9/site-packages (from tensorflow) (3.6.0)\n",
      "Requirement already satisfied: google-pasta>=0.1.1 in /Users/polilya/opt/anaconda3/lib/python3.9/site-packages (from tensorflow) (0.2.0)\n",
      "Requirement already satisfied: jax>=0.3.15 in /Users/polilya/opt/anaconda3/lib/python3.9/site-packages (from tensorflow) (0.4.10)\n",
      "Requirement already satisfied: tensorboard<2.13,>=2.12 in /Users/polilya/opt/anaconda3/lib/python3.9/site-packages (from tensorflow) (2.12.3)\n",
      "Requirement already satisfied: libclang>=13.0.0 in /Users/polilya/opt/anaconda3/lib/python3.9/site-packages (from tensorflow) (16.0.0)\n",
      "Requirement already satisfied: gast<=0.4.0,>=0.2.1 in /Users/polilya/opt/anaconda3/lib/python3.9/site-packages (from tensorflow) (0.4.0)\n",
      "Requirement already satisfied: protobuf!=4.21.0,!=4.21.1,!=4.21.2,!=4.21.3,!=4.21.4,!=4.21.5,<5.0.0dev,>=3.20.3 in /Users/polilya/opt/anaconda3/lib/python3.9/site-packages (from tensorflow) (4.23.2)\n",
      "Requirement already satisfied: wrapt<1.15,>=1.11.0 in /Users/polilya/opt/anaconda3/lib/python3.9/site-packages (from tensorflow) (1.12.1)\n",
      "Requirement already satisfied: termcolor>=1.1.0 in /Users/polilya/opt/anaconda3/lib/python3.9/site-packages (from tensorflow) (2.3.0)\n",
      "Requirement already satisfied: tensorflow-io-gcs-filesystem>=0.23.1 in /Users/polilya/opt/anaconda3/lib/python3.9/site-packages (from tensorflow) (0.32.0)\n",
      "Requirement already satisfied: six>=1.12.0 in /Users/polilya/opt/anaconda3/lib/python3.9/site-packages (from tensorflow) (1.16.0)\n",
      "Requirement already satisfied: grpcio<2.0,>=1.24.3 in /Users/polilya/opt/anaconda3/lib/python3.9/site-packages (from tensorflow) (1.54.2)\n",
      "Requirement already satisfied: flatbuffers>=2.0 in /Users/polilya/opt/anaconda3/lib/python3.9/site-packages (from tensorflow) (23.5.26)\n",
      "Requirement already satisfied: absl-py>=1.0.0 in /Users/polilya/opt/anaconda3/lib/python3.9/site-packages (from tensorflow) (1.4.0)\n",
      "Requirement already satisfied: wheel<1.0,>=0.23.0 in /Users/polilya/opt/anaconda3/lib/python3.9/site-packages (from astunparse>=1.6.0->tensorflow) (0.37.1)\n",
      "Requirement already satisfied: ml-dtypes>=0.1.0 in /Users/polilya/opt/anaconda3/lib/python3.9/site-packages (from jax>=0.3.15->tensorflow) (0.1.0)\n",
      "Requirement already satisfied: scipy>=1.7 in /Users/polilya/opt/anaconda3/lib/python3.9/site-packages (from jax>=0.3.15->tensorflow) (1.7.3)\n",
      "Requirement already satisfied: tensorboard-data-server<0.8.0,>=0.7.0 in /Users/polilya/opt/anaconda3/lib/python3.9/site-packages (from tensorboard<2.13,>=2.12->tensorflow) (0.7.0)\n",
      "Requirement already satisfied: google-auth<3,>=1.6.3 in /Users/polilya/opt/anaconda3/lib/python3.9/site-packages (from tensorboard<2.13,>=2.12->tensorflow) (2.19.0)\n",
      "Requirement already satisfied: google-auth-oauthlib<1.1,>=0.5 in /Users/polilya/opt/anaconda3/lib/python3.9/site-packages (from tensorboard<2.13,>=2.12->tensorflow) (1.0.0)\n",
      "Requirement already satisfied: werkzeug>=1.0.1 in /Users/polilya/opt/anaconda3/lib/python3.9/site-packages (from tensorboard<2.13,>=2.12->tensorflow) (2.0.3)\n",
      "Requirement already satisfied: markdown>=2.6.8 in /Users/polilya/opt/anaconda3/lib/python3.9/site-packages (from tensorboard<2.13,>=2.12->tensorflow) (3.3.4)\n",
      "Requirement already satisfied: requests<3,>=2.21.0 in /Users/polilya/opt/anaconda3/lib/python3.9/site-packages (from tensorboard<2.13,>=2.12->tensorflow) (2.27.1)\n",
      "Requirement already satisfied: pyparsing!=3.0.5,>=2.0.2 in /Users/polilya/opt/anaconda3/lib/python3.9/site-packages (from packaging->tensorflow) (3.0.4)\n",
      "Requirement already satisfied: urllib3<2.0 in /Users/polilya/opt/anaconda3/lib/python3.9/site-packages (from google-auth<3,>=1.6.3->tensorboard<2.13,>=2.12->tensorflow) (1.26.9)\n",
      "Requirement already satisfied: cachetools<6.0,>=2.0.0 in /Users/polilya/opt/anaconda3/lib/python3.9/site-packages (from google-auth<3,>=1.6.3->tensorboard<2.13,>=2.12->tensorflow) (4.2.2)\n",
      "Requirement already satisfied: pyasn1-modules>=0.2.1 in /Users/polilya/opt/anaconda3/lib/python3.9/site-packages (from google-auth<3,>=1.6.3->tensorboard<2.13,>=2.12->tensorflow) (0.2.8)\n",
      "Requirement already satisfied: rsa<5,>=3.1.4 in /Users/polilya/opt/anaconda3/lib/python3.9/site-packages (from google-auth<3,>=1.6.3->tensorboard<2.13,>=2.12->tensorflow) (4.7.2)\n",
      "Requirement already satisfied: requests-oauthlib>=0.7.0 in /Users/polilya/opt/anaconda3/lib/python3.9/site-packages (from google-auth-oauthlib<1.1,>=0.5->tensorboard<2.13,>=2.12->tensorflow) (1.3.1)\n",
      "Requirement already satisfied: idna<4,>=2.5 in /Users/polilya/opt/anaconda3/lib/python3.9/site-packages (from requests<3,>=2.21.0->tensorboard<2.13,>=2.12->tensorflow) (3.3)\n",
      "Requirement already satisfied: certifi>=2017.4.17 in /Users/polilya/opt/anaconda3/lib/python3.9/site-packages (from requests<3,>=2.21.0->tensorboard<2.13,>=2.12->tensorflow) (2022.9.24)\n",
      "Requirement already satisfied: charset-normalizer~=2.0.0 in /Users/polilya/opt/anaconda3/lib/python3.9/site-packages (from requests<3,>=2.21.0->tensorboard<2.13,>=2.12->tensorflow) (2.0.4)\n",
      "Requirement already satisfied: pyasn1<0.5.0,>=0.4.6 in /Users/polilya/opt/anaconda3/lib/python3.9/site-packages (from pyasn1-modules>=0.2.1->google-auth<3,>=1.6.3->tensorboard<2.13,>=2.12->tensorflow) (0.4.8)\n",
      "Requirement already satisfied: oauthlib>=3.0.0 in /Users/polilya/opt/anaconda3/lib/python3.9/site-packages (from requests-oauthlib>=0.7.0->google-auth-oauthlib<1.1,>=0.5->tensorboard<2.13,>=2.12->tensorflow) (3.2.2)\n"
     ]
    },
    {
     "name": "stderr",
     "output_type": "stream",
     "text": [
      "2023-05-30 13:46:33.949831: I tensorflow/core/platform/cpu_feature_guard.cc:182] This TensorFlow binary is optimized to use available CPU instructions in performance-critical operations.\n",
      "To enable the following instructions: AVX2 FMA, in other operations, rebuild TensorFlow with the appropriate compiler flags.\n"
     ]
    }
   ],
   "source": [
    "!pip install tensorflow\n",
    "\n",
    "\n",
    "import numpy as np\n",
    "import pandas as pd\n",
    "from tensorflow.keras.models import Sequential\n",
    "from tensorflow.keras.layers import Dense, LSTM, Embedding, Dropout\n",
    "from tensorflow.keras.preprocessing.sequence import pad_sequences\n",
    "from sklearn.model_selection import train_test_split\n",
    "from sklearn.preprocessing import LabelEncoder"
   ]
  },
  {
   "cell_type": "code",
   "execution_count": 37,
   "id": "9214af23",
   "metadata": {},
   "outputs": [
    {
     "name": "stdout",
     "output_type": "stream",
     "text": [
      "Requirement already satisfied: hmmlearn in /Users/polilya/opt/anaconda3/lib/python3.9/site-packages (0.3.0)\n",
      "Requirement already satisfied: numpy>=1.10 in /Users/polilya/opt/anaconda3/lib/python3.9/site-packages (from hmmlearn) (1.22.4)\n",
      "Requirement already satisfied: scikit-learn!=0.22.0,>=0.16 in /Users/polilya/opt/anaconda3/lib/python3.9/site-packages (from hmmlearn) (1.0.2)\n",
      "Requirement already satisfied: scipy>=0.19 in /Users/polilya/opt/anaconda3/lib/python3.9/site-packages (from hmmlearn) (1.7.3)\n",
      "Requirement already satisfied: joblib>=0.11 in /Users/polilya/opt/anaconda3/lib/python3.9/site-packages (from scikit-learn!=0.22.0,>=0.16->hmmlearn) (1.1.0)\n",
      "Requirement already satisfied: threadpoolctl>=2.0.0 in /Users/polilya/opt/anaconda3/lib/python3.9/site-packages (from scikit-learn!=0.22.0,>=0.16->hmmlearn) (2.2.0)\n"
     ]
    }
   ],
   "source": [
    "!pip install hmmlearn\n"
   ]
  },
  {
   "cell_type": "code",
   "execution_count": 38,
   "id": "685d3422",
   "metadata": {},
   "outputs": [
    {
     "name": "stdout",
     "output_type": "stream",
     "text": [
      "Requirement already satisfied: sklearn in /Users/polilya/opt/anaconda3/lib/python3.9/site-packages (0.0.post1)\n"
     ]
    }
   ],
   "source": [
    "!pip install sklearn\n",
    "from sklearn.preprocessing import OneHotEncoder"
   ]
  },
  {
   "cell_type": "code",
   "execution_count": 39,
   "id": "a0fe180f",
   "metadata": {},
   "outputs": [
    {
     "name": "stderr",
     "output_type": "stream",
     "text": [
      "MultinomialHMM has undergone major changes. The previous version was implementing a CategoricalHMM (a special case of MultinomialHMM). This new implementation follows the standard definition for a Multinomial distribution (e.g. as in https://en.wikipedia.org/wiki/Multinomial_distribution). See these issues for details:\n",
      "https://github.com/hmmlearn/hmmlearn/issues/335\n",
      "https://github.com/hmmlearn/hmmlearn/issues/340\n"
     ]
    }
   ],
   "source": [
    "from hmmlearn import hmm\n",
    "import numpy as np\n",
    "\n",
    "# Создание модели HMM\n",
    "model = hmm.MultinomialHMM(n_components=2)  # Количество скрытых состояний равно 2\n",
    "\n",
    "# Обучающие данные\n",
    "# sentences = [\"This is a positive sentence\",\n",
    "#              \"This is a negative sentence\",\n",
    "#              \"Another positive sentence\"]\n",
    "sentences = train_df[\"Предложение\"]\n",
    "\n",
    "# Создание словаря уникальных токенов (отрезков по 3 символа)\n",
    "tokens = set()\n",
    "for sentence in sentences:\n",
    "    for i in range(len(sentence) - 2):\n",
    "        token = sentence[i:i+3].lower()\n",
    "        tokens.add(token)\n",
    "\n",
    "# Создание индекса токенов в словаре\n",
    "token2idx = {token: idx for idx, token in enumerate(tokens)}\n",
    "\n"
   ]
  },
  {
   "cell_type": "code",
   "execution_count": 40,
   "id": "e55a1a6f",
   "metadata": {},
   "outputs": [
    {
     "name": "stdout",
     "output_type": "stream",
     "text": [
      "Token: aac, Count: 184838\n",
      "Token: acc, Count: 201561\n",
      "Token: cca, Count: 328127\n",
      "Token: cat, Count: 232046\n",
      "Token: atg, Count: 234035\n",
      "Token: tgc, Count: 242806\n",
      "Token: gca, Count: 244030\n",
      "Token: tgg, Count: 322247\n",
      "Token: ggt, Count: 200408\n",
      "Token: gtg, Count: 254639\n",
      "Token: ggc, Count: 275793\n",
      "Token: cag, Count: 379910\n",
      "Token: agg, Count: 335078\n",
      "Token: gcg, Count: 73383\n",
      "Token: cgt, Count: 56651\n",
      "Token: gta, Count: 134195\n",
      "Token: tat, Count: 194428\n",
      "Token: ata, Count: 196023\n",
      "Token: tag, Count: 154107\n",
      "Token: agt, Count: 211186\n",
      "Token: gtc, Count: 163144\n",
      "Token: tcc, Count: 269960\n",
      "Token: ccc, Count: 330053\n",
      "Token: agc, Count: 249778\n",
      "Token: gct, Count: 247811\n",
      "Token: cta, Count: 154178\n",
      "Token: tac, Count: 134044\n",
      "Token: act, Count: 214492\n",
      "Token: ctg, Count: 374119\n",
      "Token: tgt, Count: 261730\n",
      "Token: ggg, Count: 331023\n",
      "Token: gcc, Count: 275917\n",
      "Token: ccg, Count: 89811\n",
      "Token: cga, Count: 49925\n",
      "Token: gag, Count: 302456\n",
      "Token: gga, Count: 273606\n",
      "Token: aga, Count: 309692\n",
      "Token: gac, Count: 167207\n",
      "Token: ctc, Count: 299917\n",
      "Token: tca, Count: 268176\n",
      "Token: cac, Count: 263010\n",
      "Token: ctt, Count: 264237\n",
      "Token: ttg, Count: 231500\n",
      "Token: tga, Count: 267539\n",
      "Token: gaa, Count: 257680\n",
      "Token: gtt, Count: 178015\n",
      "Token: cgg, Count: 92620\n",
      "Token: gat, Count: 173257\n",
      "Token: atc, Count: 170097\n",
      "Token: cct, Count: 329492\n",
      "Token: aca, Count: 273989\n",
      "Token: acg, Count: 58909\n",
      "Token: aaa, Count: 415839\n",
      "Token: aag, Count: 269177\n",
      "Token: aat, Count: 253603\n",
      "Token: taa, Count: 210826\n",
      "Token: cgc, Count: 72450\n",
      "Token: ttc, Count: 254789\n",
      "Token: caa, Count: 239129\n",
      "Token: tct, Count: 300293\n",
      "Token: tcg, Count: 49570\n",
      "Token: ttt, Count: 400504\n",
      "Token: tta, Count: 208933\n",
      "Token: att, Count: 253019\n",
      "Token: nnn, Count: 575652\n",
      "Token: ccn, Count: 1\n",
      "Token: cna, Count: 2\n",
      "Token: naa, Count: 3\n",
      "Token: ctn, Count: 1\n",
      "Token: tnn, Count: 2\n",
      "Token: nng, Count: 1\n",
      "Token: nga, Count: 2\n",
      "Token: acn, Count: 1\n",
      "Token: cnt, Count: 1\n",
      "Token: ntt, Count: 1\n",
      "Token: tgn, Count: 1\n",
      "Token: gna, Count: 1\n",
      "Token: gan, Count: 1\n",
      "Token: ang, Count: 1\n",
      "Token: ttn, Count: 1\n",
      "Token: tng, Count: 1\n",
      "Token: ngg, Count: 1\n",
      "Token: can, Count: 1\n",
      "Token: ann, Count: 2\n",
      "Token: aan, Count: 1\n",
      "Token: nnt, Count: 1\n",
      "Token: nta, Count: 1\n",
      "Token: atn, Count: 2\n",
      "Token: nnc, Count: 1\n",
      "Token: ncc, Count: 1\n",
      "Token: gcn, Count: 1\n",
      "Token: nag, Count: 1\n",
      "Token: cgn, Count: 1\n",
      "Token: gnn, Count: 1\n",
      "Token: nna, Count: 1\n",
      "Token: tnc, Count: 1\n",
      "Token: nca, Count: 1\n"
     ]
    }
   ],
   "source": [
    "# Создание словаря уникальных токенов и подсчет повторений\n",
    "token_counts = {}\n",
    "for sentence in sentences:\n",
    "    for i in range(len(sentence) - 2):\n",
    "        token = sentence[i:i+3].lower()\n",
    "        if token in token_counts:\n",
    "            token_counts[token] += 1\n",
    "        else:\n",
    "            token_counts[token] = 1\n",
    "\n",
    "# Вывод словаря уникальных токенов и количества повторений\n",
    "for token, count in token_counts.items():\n",
    "    print(f\"Token: {token}, Count: {count}\")"
   ]
  },
  {
   "attachments": {},
   "cell_type": "markdown",
   "id": "51ec19c2",
   "metadata": {},
   "source": [
    "\n",
    "# Создание обучающих последовательностей\n",
    "X_train = []\n",
    "for sentence in sentences:\n",
    "    seq = [token2idx[sentence[i:i+3].lower()] for i in range(len(sentence) - 2)]\n",
    "    X_train.append(seq)\n",
    "\n",
    "# Преобразование в numpy массив\n",
    "X_train = np.array(X_train)\n",
    "\n",
    "# Метки классов\n",
    "#y_train = np.array([1, 0, 1])  # 1 - positive, 0 - negative\n",
    "y_train =train_df[\"Метка\"]\n",
    "\n",
    "\n",
    "\n",
    "\n",
    "encoder = OneHotEncoder(sparse=False)\n",
    "X_train_encoded = encoder.fit_transform(X_train)\n",
    "X_test_encoded = encoder.transform(X_test)\n",
    "\n",
    "\n",
    "\n",
    "# Обучение модели на обучающих данных\n",
    "model.fit(X_train_encoded)\n",
    "\n",
    "# Новые предложения для классификации\n",
    "# new_sentences = [\"This is a positive example\",\n",
    "#                  \"This is a negative example\"]\n",
    "new_sentences = test_df[\"Предложение\"]\n",
    "\n",
    "# Преобразование новых предложений в последовательности токенов\n",
    "X_test = []\n",
    "for sentence in new_sentences:\n",
    "    seq = [token2idx[sentence[i:i+3].lower()] for i in range(len(sentence) - 2)]\n",
    "    X_test.append(seq)\n",
    "\n",
    "# Преобразование в numpy массив\n",
    "X_test = np.array(X_test)\n",
    "\n",
    "# Классификация новых предложений\n",
    "# y_pred = model.predict(X_test)\n",
    "y_pred = model.predict(X_test_encoded)\n",
    "\n",
    "# Вывод предсказанных меток классов\n",
    "for sentence, label in zip(new_sentences, y_pred):\n",
    "    sentiment = \"positive\" if label == 1 else \"negative\"\n",
    "    print(f\"Sentence: {sentence}, Sentiment: {sentiment}\")\n",
    "    \n",
    "    \n",
    "    \n",
    "    \n",
    "    \n",
    "# # Получение предсказанных меток от модели HMM\n",
    "# predicted_labels = hmm_model.predict(sentences)\n",
    "\n",
    "# # Подсчет правильно классифицированных предложений\n",
    "# correct_count = 0\n",
    "# for i in range(len(sentences)):\n",
    "#     if predicted_labels[i] == true_labels[i]:\n",
    "#         correct_count += 1\n",
    "\n",
    "# # Вычисление Accuracy\n",
    "# accuracy = correct_count / len(sentences)\n",
    "# print(\"Accuracy:\", accuracy)"
   ]
  },
  {
   "cell_type": "code",
   "execution_count": null,
   "id": "aca181d2",
   "metadata": {},
   "outputs": [],
   "source": []
  },
  {
   "cell_type": "code",
   "execution_count": null,
   "id": "b0b41279",
   "metadata": {},
   "outputs": [],
   "source": []
  },
  {
   "cell_type": "code",
   "execution_count": null,
   "id": "4f359b01",
   "metadata": {},
   "outputs": [],
   "source": []
  },
  {
   "cell_type": "code",
   "execution_count": null,
   "id": "7c7e5a6c",
   "metadata": {},
   "outputs": [],
   "source": []
  },
  {
   "cell_type": "code",
   "execution_count": null,
   "id": "cb14d1a1-2d50-4e85-b336-b3fd847720c7",
   "metadata": {},
   "outputs": [],
   "source": []
  },
  {
   "cell_type": "code",
   "execution_count": 41,
   "id": "8f26c1e8-d48f-44df-90e1-bc96f3d3dfc3",
   "metadata": {},
   "outputs": [
    {
     "name": "stderr",
     "output_type": "stream",
     "text": [
      "MultinomialHMM has undergone major changes. The previous version was implementing a CategoricalHMM (a special case of MultinomialHMM). This new implementation follows the standard definition for a Multinomial distribution (e.g. as in https://en.wikipedia.org/wiki/Multinomial_distribution). See these issues for details:\n",
      "https://github.com/hmmlearn/hmmlearn/issues/335\n",
      "https://github.com/hmmlearn/hmmlearn/issues/340\n",
      "Even though the 'startprob_' attribute is set, it will be overwritten during initialization because 'init_params' contains 's'\n",
      "Even though the 'transmat_' attribute is set, it will be overwritten during initialization because 'init_params' contains 't'\n",
      "Even though the 'startprob_' attribute is set, it will be overwritten during initialization because 'init_params' contains 's'\n",
      "Even though the 'transmat_' attribute is set, it will be overwritten during initialization because 'init_params' contains 't'\n",
      "Even though the 'startprob_' attribute is set, it will be overwritten during initialization because 'init_params' contains 's'\n",
      "Even though the 'transmat_' attribute is set, it will be overwritten during initialization because 'init_params' contains 't'\n",
      "Even though the 'startprob_' attribute is set, it will be overwritten during initialization because 'init_params' contains 's'\n",
      "Even though the 'transmat_' attribute is set, it will be overwritten during initialization because 'init_params' contains 't'\n",
      "Even though the 'startprob_' attribute is set, it will be overwritten during initialization because 'init_params' contains 's'\n",
      "Even though the 'transmat_' attribute is set, it will be overwritten during initialization because 'init_params' contains 't'\n",
      "Even though the 'startprob_' attribute is set, it will be overwritten during initialization because 'init_params' contains 's'\n",
      "Even though the 'transmat_' attribute is set, it will be overwritten during initialization because 'init_params' contains 't'\n",
      "Even though the 'startprob_' attribute is set, it will be overwritten during initialization because 'init_params' contains 's'\n",
      "Even though the 'transmat_' attribute is set, it will be overwritten during initialization because 'init_params' contains 't'\n",
      "Even though the 'startprob_' attribute is set, it will be overwritten during initialization because 'init_params' contains 's'\n",
      "Even though the 'transmat_' attribute is set, it will be overwritten during initialization because 'init_params' contains 't'\n",
      "Even though the 'startprob_' attribute is set, it will be overwritten during initialization because 'init_params' contains 's'\n",
      "Even though the 'transmat_' attribute is set, it will be overwritten during initialization because 'init_params' contains 't'\n"
     ]
    },
    {
     "name": "stdout",
     "output_type": "stream",
     "text": [
      "Эпоха 1\n",
      "Предсказанные метки: [0 1]\n",
      "Истинные метки: [True, False]\n",
      "Ошибка классификации: 1.0\n",
      "-----------------------\n",
      "Эпоха 2\n",
      "Предсказанные метки: [0 0]\n",
      "Истинные метки: [True, False]\n",
      "Ошибка классификации: 0.5\n",
      "-----------------------\n",
      "Эпоха 3\n",
      "Предсказанные метки: [0 0]\n",
      "Истинные метки: [True, False]\n",
      "Ошибка классификации: 0.5\n",
      "-----------------------\n",
      "Эпоха 4\n",
      "Предсказанные метки: [0 1]\n",
      "Истинные метки: [True, False]\n",
      "Ошибка классификации: 1.0\n",
      "-----------------------\n",
      "Эпоха 5\n",
      "Предсказанные метки: [0 1]\n",
      "Истинные метки: [True, False]\n",
      "Ошибка классификации: 1.0\n",
      "-----------------------\n",
      "Эпоха 6\n",
      "Предсказанные метки: [1 0]\n",
      "Истинные метки: [True, False]\n",
      "Ошибка классификации: 0.0\n",
      "-----------------------\n",
      "Эпоха 7\n",
      "Предсказанные метки: [0 1]\n",
      "Истинные метки: [True, False]\n",
      "Ошибка классификации: 1.0\n",
      "-----------------------\n",
      "Эпоха 8\n",
      "Предсказанные метки: [0 0]\n",
      "Истинные метки: [True, False]\n",
      "Ошибка классификации: 0.5\n",
      "-----------------------\n",
      "Эпоха 9\n",
      "Предсказанные метки: [0 1]\n",
      "Истинные метки: [True, False]\n",
      "Ошибка классификации: 1.0\n",
      "-----------------------\n",
      "Эпоха 10\n",
      "Предсказанные метки: [0 1]\n",
      "Истинные метки: [True, False]\n",
      "Ошибка классификации: 1.0\n",
      "-----------------------\n"
     ]
    }
   ],
   "source": [
    "import numpy as np\n",
    "from hmmlearn import hmm\n",
    "\n",
    "# Создание модели HMM\n",
    "model = hmm.MultinomialHMM(n_components=2)\n",
    "\n",
    "# Обучающие данные\n",
    "X_train = [\n",
    "    [0, 1, 0, 1, 0, 1],  # Предложение 1\n",
    "    [1, 0, 1, 0, 1, 0],  # Предложение 2\n",
    "    [0, 0, 1, 1, 0, 0],  # Предложение 3\n",
    "    [1, 1, 0, 0, 1, 1]   # Предложение 4\n",
    "]\n",
    "\n",
    "# Истинные метки для обучающих данных\n",
    "y_train = [True, False, True, False]\n",
    "\n",
    "# Максимальное количество эпох\n",
    "max_epochs = 10\n",
    "\n",
    "# Обучение модели на обучающих данных\n",
    "for epoch in range(max_epochs):\n",
    "    model.fit(X_train)\n",
    "    \n",
    "    # Новые предложения для классификации\n",
    "    X_test = [\n",
    "        [0, 1, 1, 0, 0, 1],  # Предложение 5\n",
    "        [1, 0, 0, 1, 1, 0]   # Предложение 6\n",
    "    ]\n",
    "\n",
    "    # Истинные метки для новых предложений\n",
    "    y_test = [True, False]\n",
    "\n",
    "    # Классификация новых предложений\n",
    "    predicted_labels = model.predict(X_test)\n",
    "\n",
    "    # Вычисление ошибочной классификации\n",
    "    error_count = sum(1 for true_label, predicted_label in zip(y_test, predicted_labels) if true_label != predicted_label)\n",
    "    classification_error = error_count / len(y_test)\n",
    "\n",
    "    # Вывод результатов\n",
    "    print(f\"Эпоха {epoch+1}\")\n",
    "    print(\"Предсказанные метки:\", predicted_labels)\n",
    "    print(\"Истинные метки:\", y_test)\n",
    "    print(\"Ошибка классификации:\", classification_error)\n",
    "    print(\"-----------------------\")\n"
   ]
  },
  {
   "cell_type": "code",
   "execution_count": null,
   "id": "44d83fde",
   "metadata": {},
   "outputs": [],
   "source": []
  },
  {
   "cell_type": "code",
   "execution_count": 42,
   "id": "9d80d798",
   "metadata": {},
   "outputs": [
    {
     "ename": "ImportError",
     "evalue": "cannot import name 'pad_sequences' from 'keras.preprocessing.sequence' (/Users/polilya/opt/anaconda3/lib/python3.9/site-packages/keras/preprocessing/sequence.py)",
     "output_type": "error",
     "traceback": [
      "\u001b[0;31m---------------------------------------------------------------------------\u001b[0m",
      "\u001b[0;31mImportError\u001b[0m                               Traceback (most recent call last)",
      "\u001b[0;32m/var/folders/dy/76wm8jgj50vc8kygzhcz93jw0000gn/T/ipykernel_12453/571723660.py\u001b[0m in \u001b[0;36m<module>\u001b[0;34m\u001b[0m\n\u001b[1;32m      1\u001b[0m \u001b[0;32mfrom\u001b[0m \u001b[0msklearn\u001b[0m\u001b[0;34m.\u001b[0m\u001b[0mpreprocessing\u001b[0m \u001b[0;32mimport\u001b[0m \u001b[0mLabelEncoder\u001b[0m\u001b[0;34m\u001b[0m\u001b[0;34m\u001b[0m\u001b[0m\n\u001b[1;32m      2\u001b[0m \u001b[0;31m#from tensorflow.keras.preprocessing.sequence import pad_sequences\u001b[0m\u001b[0;34m\u001b[0m\u001b[0;34m\u001b[0m\u001b[0m\n\u001b[0;32m----> 3\u001b[0;31m \u001b[0;32mfrom\u001b[0m \u001b[0mkeras\u001b[0m\u001b[0;34m.\u001b[0m\u001b[0mpreprocessing\u001b[0m\u001b[0;34m.\u001b[0m\u001b[0msequence\u001b[0m \u001b[0;32mimport\u001b[0m \u001b[0mpad_sequences\u001b[0m\u001b[0;34m\u001b[0m\u001b[0;34m\u001b[0m\u001b[0m\n\u001b[0m",
      "\u001b[0;31mImportError\u001b[0m: cannot import name 'pad_sequences' from 'keras.preprocessing.sequence' (/Users/polilya/opt/anaconda3/lib/python3.9/site-packages/keras/preprocessing/sequence.py)"
     ]
    }
   ],
   "source": [
    "from sklearn.preprocessing import LabelEncoder\n",
    "#from tensorflow.keras.preprocessing.sequence import pad_sequences\n",
    "from keras.preprocessing.sequence import pad_sequences"
   ]
  },
  {
   "cell_type": "code",
   "execution_count": null,
   "id": "822820b2",
   "metadata": {},
   "outputs": [],
   "source": [
    "# Загрузка предобработанного датасета\n",
    "\n",
    "\n",
    "# Разделение признаков и меток\n",
    "X = df['Предложение'].values\n",
    "y = df['Метка'].values\n",
    "\n",
    "# Преобразование меток в числовой формат\n",
    "label_encoder = LabelEncoder()\n",
    "y = label_encoder.fit_transform(y)\n",
    "\n",
    "# Разделение на обучающую и тестовую выборки\n",
    "X_train, X_test, y_train, y_test = train_test_split(X, y, test_size=0.2, random_state=42)\n",
    "\n",
    "# Преобразование геномных последовательностей в числовые последовательности\n",
    "# В зависимости от структуры ваших данных, может потребоваться дополнительная предобработка\n",
    "\n",
    "# Заполнение и выравнивание последовательностей до одинаковой длины\n",
    "max_sequence_length = max(len(seq) for seq in X_train)\n",
    "X_train = pad_sequences(X_train, maxlen=max_sequence_length)\n",
    "X_test = pad_sequences(X_test, maxlen=max_sequence_length)\n",
    "\n",
    "# Создание модели RNN\n",
    "model = Sequential()\n",
    "model.add(Embedding(input_dim=500, output_dim=32, input_length=max_sequence_length))\n",
    "model.add(LSTM(64))\n",
    "model.add(Dropout(0.5))\n",
    "model.add(Dense(1, activation='sigmoid'))\n",
    "\n",
    "# Компиляция модели\n",
    "model.compile(loss='binary_crossentropy', optimizer='adam', metrics=['accuracy'])\n",
    "\n",
    "# Обучение модели\n",
    "model.fit(X_train, y_train, validation_data=(X_test, y_test), epochs=3, batch_size=32)\n",
    "\n",
    "# Оценка модели\n",
    "loss, accuracy = model.evaluate(X_test, y_test)\n",
    "print(\"Потери:\", loss)\n",
    "print(\"Точность:\", accuracy)"
   ]
  },
  {
   "attachments": {},
   "cell_type": "markdown",
   "id": "cea43cc6",
   "metadata": {},
   "source": [
    "# начало сети 2"
   ]
  },
  {
   "cell_type": "code",
   "execution_count": null,
   "id": "eaf7ef62",
   "metadata": {},
   "outputs": [],
   "source": []
  },
  {
   "cell_type": "code",
   "execution_count": 48,
   "id": "a41794e7",
   "metadata": {},
   "outputs": [],
   "source": [
    "# Гиперпараметры для настройки модели\n",
    "EPOCHS = 6\n",
    "BATCH_SIZE = 256\n",
    "LR = 2e-4\n",
    "# EMBED_DIM = 32\n",
    "# HIDDEN_DIM = 32\n",
    "TARGET_DIM = 2\n",
    "# N_LAYER = 2\n",
    "DROPOUT_PROB = 0.71"
   ]
  },
  {
   "cell_type": "code",
   "execution_count": null,
   "id": "385f5c82",
   "metadata": {},
   "outputs": [],
   "source": []
  },
  {
   "cell_type": "code",
   "execution_count": 49,
   "id": "668bb91b",
   "metadata": {},
   "outputs": [
    {
     "name": "stdout",
     "output_type": "stream",
     "text": [
      "Requirement already satisfied: DataLoader in /Users/polilya/opt/anaconda3/lib/python3.9/site-packages (2.0)\n"
     ]
    }
   ],
   "source": [
    "\n",
    "\n",
    "!pip install DataLoader\n",
    "#from torch.utils.data import Dataset\n",
    "\n",
    "\n",
    "import torch\n",
    "from torch.utils.data import Dataset, DataLoader"
   ]
  },
  {
   "cell_type": "code",
   "execution_count": 50,
   "id": "824ff5d2",
   "metadata": {},
   "outputs": [
    {
     "data": {
      "text/plain": [
       "(1791, 3)"
      ]
     },
     "execution_count": 50,
     "metadata": {},
     "output_type": "execute_result"
    }
   ],
   "source": [
    "# Условие фильтрации для символа \"N\"\n",
    "condition = df['Предложение'].str.contains('N')\n",
    "\n",
    "\n",
    "# Фильтрация датафрейма\n",
    "filtered_df = df[~condition]\n",
    "filtered_df.shape\n",
    "\n"
   ]
  },
  {
   "cell_type": "code",
   "execution_count": 51,
   "id": "64aa7a39",
   "metadata": {},
   "outputs": [
    {
     "data": {
      "text/plain": [
       "(1791, 3)"
      ]
     },
     "execution_count": 51,
     "metadata": {},
     "output_type": "execute_result"
    }
   ],
   "source": [
    "# Условие фильтрации для символа \"N\"\n",
    "condition = filtered_df['Предложение'].str.contains('R')\n",
    "# Фильтрация датафрейма\n",
    "filtered_df1 = filtered_df[~condition]\n",
    "filtered_df1.shape\n",
    "\n",
    "\n"
   ]
  },
  {
   "cell_type": "code",
   "execution_count": 52,
   "id": "76bd1de9",
   "metadata": {},
   "outputs": [],
   "source": [
    "X = filtered_df1['Предложение'].values\n",
    "y = filtered_df1['Метка'].values"
   ]
  },
  {
   "attachments": {},
   "cell_type": "markdown",
   "id": "41e68479",
   "metadata": {},
   "source": [
    "data = df['Предложение'].values\n",
    "labels = df['Метка'].values\n",
    "dataset = df"
   ]
  },
  {
   "cell_type": "code",
   "execution_count": 53,
   "id": "fa5a8c4d",
   "metadata": {},
   "outputs": [],
   "source": [
    "import numpy as np\n",
    "\n",
    "# Сохранение данных в файлы\n",
    "np.save('X.npy', X)\n",
    "np.save('y.npy', y)"
   ]
  },
  {
   "cell_type": "code",
   "execution_count": 54,
   "id": "4a3df61c",
   "metadata": {},
   "outputs": [
    {
     "data": {
      "text/plain": [
       "array(['1', '1', '1', ..., '0', '0', '0'], dtype=object)"
      ]
     },
     "execution_count": 54,
     "metadata": {},
     "output_type": "execute_result"
    }
   ],
   "source": [
    "y"
   ]
  },
  {
   "cell_type": "code",
   "execution_count": 55,
   "id": "cde7f773",
   "metadata": {},
   "outputs": [],
   "source": [
    "import numpy as np\n",
    "\n",
    "# Загрузка данных из файлов с разрешением pickle\n",
    "X = np.load('X.npy', allow_pickle=True)\n",
    "y = np.load('y.npy', allow_pickle=True)\n"
   ]
  },
  {
   "cell_type": "code",
   "execution_count": 56,
   "id": "34bc8a41",
   "metadata": {},
   "outputs": [],
   "source": [
    "import torch\n",
    "from torch.utils.data import Dataset, DataLoader\n",
    "\n"
   ]
  },
  {
   "cell_type": "code",
   "execution_count": 57,
   "id": "a9310d2c",
   "metadata": {},
   "outputs": [],
   "source": [
    "class Data(Dataset):\n",
    "    def __init__(self, X, y):\n",
    "        self.X = self._process_sequences(X)\n",
    "        self.y = torch.from_numpy(y.astype(np.float32))\n",
    "        self.len = self.X.shape[0]\n",
    "       \n",
    "    def __getitem__(self, index):\n",
    "        return self.X[index], self.y[index]\n",
    "   \n",
    "    def __len__(self):\n",
    "        return self.len\n",
    "    \n",
    "    def _process_sequences(self, sequences):\n",
    "        alphabet = \"ACGT\"\n",
    "        char_to_index = {char: index for index, char in enumerate(alphabet)}\n",
    "\n",
    "        one_hot_vectors = []\n",
    "        for sequence in sequences:\n",
    "            sequence_one_hot = []\n",
    "            for char in sequence:\n",
    "                vector = [0] * 4\n",
    "                vector[char_to_index[char]] = 1\n",
    "                sequence_one_hot.append(vector)\n",
    "            one_hot_vectors.append(sequence_one_hot)\n",
    "            \n",
    "        return torch.tensor(one_hot_vectors, dtype=torch.float32)\n"
   ]
  },
  {
   "cell_type": "code",
   "execution_count": 58,
   "id": "a7c72869",
   "metadata": {},
   "outputs": [],
   "source": [
    "from sklearn.model_selection import train_test_split\n",
    "\n",
    "batch_size = BATCH_SIZE\n",
    "# Разделение данных на обучающий и тестовый наборы\n",
    "X_train, X_test, y_train, y_test = train_test_split(X, y, test_size=0.2, random_state=42)\n",
    "\n",
    "# Создание объектов Dataset для обучающего и тестового наборов\n",
    "train_dataset = Data(X_train, y_train)\n",
    "test_dataset = Data(X_test, y_test)\n",
    "\n",
    "# Создание DataLoader для обучающего и тестового наборов\n",
    "train_dataloader = DataLoader(train_dataset, batch_size=batch_size, shuffle=True)\n",
    "test_dataloader = DataLoader(test_dataset, batch_size=batch_size, shuffle=False)\n"
   ]
  },
  {
   "cell_type": "code",
   "execution_count": 59,
   "id": "3cffc7dc",
   "metadata": {},
   "outputs": [
    {
     "data": {
      "text/plain": [
       "(1432,)"
      ]
     },
     "execution_count": 59,
     "metadata": {},
     "output_type": "execute_result"
    }
   ],
   "source": [
    "y_train.shape"
   ]
  },
  {
   "cell_type": "code",
   "execution_count": 60,
   "id": "2b621259",
   "metadata": {},
   "outputs": [
    {
     "name": "stdout",
     "output_type": "stream",
     "text": [
      "Epoch: 1/6, Train Loss: 4.4940, Train Accuracy: 121.1508, Val Loss: 1.4031, Val Accuracy: 108.4652\n",
      "Epoch: 2/6, Train Loss: 4.3789, Train Accuracy: 120.9232, Val Loss: 1.4011, Val Accuracy: 108.4652\n",
      "Epoch: 3/6, Train Loss: 4.3742, Train Accuracy: 120.9693, Val Loss: 1.3995, Val Accuracy: 108.4652\n",
      "Epoch: 4/6, Train Loss: 4.3738, Train Accuracy: 121.3128, Val Loss: 1.3980, Val Accuracy: 108.4652\n",
      "Epoch: 5/6, Train Loss: 4.3446, Train Accuracy: 121.1550, Val Loss: 1.3965, Val Accuracy: 108.4652\n",
      "Epoch: 6/6, Train Loss: 4.3617, Train Accuracy: 121.2207, Val Loss: 1.3952, Val Accuracy: 108.4652\n"
     ]
    }
   ],
   "source": [
    "import torch\n",
    "import torch.nn as nn\n",
    "import torch.optim as optim\n",
    "\n",
    "# Определяем модель\n",
    "class ConvNet(nn.Module):\n",
    "    def __init__(self, input_size, hidden_sizes, output_size, window_sizes, paddings, dropout_rate):\n",
    "        super(ConvNet, self).__init__()\n",
    "        self.convs = nn.ModuleList([\n",
    "            nn.Conv1d(in_channels=input_size, out_channels=64, kernel_size=window_size, padding=padding)\n",
    "            for window_size, padding in zip(window_sizes, paddings)\n",
    "        ])\n",
    "\n",
    "        layers = []\n",
    "        prev_size = len(window_sizes) * 64\n",
    "        for hidden_size in hidden_sizes:\n",
    "            layers.append(nn.Linear(prev_size, hidden_size))\n",
    "            layers.append(nn.Sigmoid())\n",
    "            layers.append(nn.Dropout(dropout_rate))\n",
    "            prev_size = hidden_size\n",
    "        layers.append(nn.Linear(prev_size, output_size))\n",
    "        layers.append(nn.Sigmoid())\n",
    "\n",
    "        self.fc = nn.Sequential(*layers)\n",
    "\n",
    "    def forward(self, x):\n",
    "        x = x.permute(0, 2, 1)\n",
    "        out = []\n",
    "        for conv in self.convs:\n",
    "            conv_out = torch.relu(conv(x))\n",
    "            conv_out, _ = torch.max(conv_out, dim=2)\n",
    "            out.append(conv_out)\n",
    "        out = torch.cat(out, dim=1)\n",
    "        out = out.view(out.size(0), -1)\n",
    "        out = self.fc(out)\n",
    "        return out\n",
    "\n",
    "# Вспомогательная функция для обучения модели\n",
    "def train(model, dataloader, optimizer, criterion):\n",
    "    model.train()\n",
    "    running_loss = 0.0\n",
    "    correct = 0\n",
    "    total = 0\n",
    "\n",
    "    for inputs, labels in dataloader:\n",
    "        optimizer.zero_grad()\n",
    "        outputs = model(inputs)\n",
    "        labels = labels.unsqueeze(1)  # Изменение размерности labels\n",
    "        loss = criterion(outputs, labels)\n",
    "        loss.backward()\n",
    "        optimizer.step()\n",
    "\n",
    "        running_loss += loss.item()\n",
    "        predicted = (outputs >= 0.5).squeeze().long()\n",
    "        total += labels.size(0)\n",
    "        correct += (predicted == labels).sum().item()\n",
    "\n",
    "    accuracy = correct / total\n",
    "    return running_loss, accuracy\n",
    "# Вспомогательная функция для проверки модели\n",
    "def evaluate(model, dataloader, criterion):\n",
    "    model.eval()\n",
    "    running_loss = 0.0\n",
    "    correct = 0\n",
    "    total = 0\n",
    "\n",
    "    with torch.no_grad():\n",
    "        for inputs, labels in dataloader:\n",
    "            outputs = model(inputs)\n",
    "            labels = labels.unsqueeze(1)\n",
    "            loss = criterion(outputs, labels)\n",
    "            \n",
    "            running_loss += loss.item()\n",
    "            predicted = (outputs >= 0.5).squeeze().long()\n",
    "            total += labels.size(0)\n",
    "            correct += (predicted == labels).sum().item()\n",
    "\n",
    "    accuracy = correct / total\n",
    "    return running_loss, accuracy\n",
    "\n",
    "# Задаем параметры модели и обучения\n",
    "input_size = 4  # Размерность входных данных\n",
    "hidden_sizes = [100, 149, 490]  # Список размерностей скрытых слоев\n",
    "output_size = 1  # Размерность выходных данных (бинарная классификация)\n",
    "window_sizes = [3, 4, 5]  # Размеры окон\n",
    "paddings = [0, 0, 0]  # Отступы от первого символа\n",
    "dropout_rate = 0.71  # Коэффициент dropout\n",
    "learning_rate = 0.000289  # Скорость обучения\n",
    "num_epochs = 6  # Количество эпох\n",
    "\n",
    "    \n",
    "\n",
    "#dataset = MyDataset(data, labels)\n",
    "\n",
    "# Создаем DataLoader\n",
    "batch_size = 256\n",
    "shuffle = True\n",
    "#dataloader = DataLoader(dataset, batch_size=batch_size, shuffle=shuffle)\n",
    "\n",
    "\n",
    "\n",
    "# Создаем модель\n",
    "model = ConvNet(input_size, hidden_sizes, output_size, window_sizes, paddings, dropout_rate)\n",
    "\n",
    "# Оптимизатор и функция потерь\n",
    "optimizer = optim.SGD(model.parameters(), lr=learning_rate)\n",
    "criterion = nn.BCELoss()\n",
    "\n",
    "# Цикл обучения\n",
    "for epoch in range(num_epochs):\n",
    "    # Обучение\n",
    "    train_loss, train_accuracy = train(model, train_dataloader, optimizer, criterion)\n",
    "\n",
    "    # Проверка\n",
    "    val_loss, val_accuracy = evaluate(model, test_dataloader, criterion)\n",
    "\n",
    "    # Вывод результатов\n",
    "    print(f\"Epoch: {epoch+1}/{num_epochs}, Train Loss: {train_loss:.4f}, Train Accuracy: {train_accuracy:.4f}, Val Loss: {val_loss:.4f}, Val Accuracy: {val_accuracy:.4f}\")\n"
   ]
  },
  {
   "cell_type": "code",
   "execution_count": 21,
   "id": "49596507",
   "metadata": {},
   "outputs": [
    {
     "data": {
      "text/plain": [
       "<torch.utils.data.dataloader.DataLoader at 0x7fdee1d39f40>"
      ]
     },
     "execution_count": 21,
     "metadata": {},
     "output_type": "execute_result"
    }
   ],
   "source": [
    "train_dataloader"
   ]
  },
  {
   "cell_type": "code",
   "execution_count": 35,
   "id": "4a65394a",
   "metadata": {},
   "outputs": [
    {
     "name": "stdout",
     "output_type": "stream",
     "text": [
      "<__main__.Data object at 0x7fde8f94c0d0>\n"
     ]
    },
    {
     "data": {
      "text/plain": [
       "array(['1', '1', '1', ..., '0', '0', '0'], dtype=object)"
      ]
     },
     "execution_count": 35,
     "metadata": {},
     "output_type": "execute_result"
    }
   ],
   "source": [
    "print(test_dataset)\n",
    "y"
   ]
  },
  {
   "cell_type": "code",
   "execution_count": 25,
   "id": "79448e06",
   "metadata": {},
   "outputs": [
    {
     "ename": "NameError",
     "evalue": "name 'labels' is not defined",
     "output_type": "error",
     "traceback": [
      "\u001b[0;31m---------------------------------------------------------------------------\u001b[0m",
      "\u001b[0;31mNameError\u001b[0m                                 Traceback (most recent call last)",
      "\u001b[0;32m/var/folders/dy/76wm8jgj50vc8kygzhcz93jw0000gn/T/ipykernel_12520/2098733894.py\u001b[0m in \u001b[0;36m<module>\u001b[0;34m\u001b[0m\n\u001b[0;32m----> 1\u001b[0;31m \u001b[0mlabels\u001b[0m\u001b[0;34m\u001b[0m\u001b[0;34m\u001b[0m\u001b[0m\n\u001b[0m",
      "\u001b[0;31mNameError\u001b[0m: name 'labels' is not defined"
     ]
    }
   ],
   "source": [
    "labels"
   ]
  },
  {
   "attachments": {},
   "cell_type": "markdown",
   "id": "9793ffc8",
   "metadata": {},
   "source": [
    "# попытка модель 3 - работает"
   ]
  },
  {
   "cell_type": "code",
   "execution_count": 108,
   "id": "a74cc970",
   "metadata": {},
   "outputs": [],
   "source": [
    "# Гиперпараметры для настройки модели\n",
    "EPOCHS = 15\n",
    "BATCH_SIZE = 128\n",
    "LR = 1e-3\n",
    "# EMBED_DIM = 32\n",
    "# HIDDEN_DIM = 32\n",
    "TARGET_DIM = 2\n",
    "# N_LAYER = 2\n",
    "DROPOUT_PROB = 0.2"
   ]
  },
  {
   "cell_type": "code",
   "execution_count": 109,
   "id": "2866a2a8",
   "metadata": {},
   "outputs": [],
   "source": [
    "import numpy as np\n",
    "\n",
    "# Загрузка данных из файлов с разрешением pickle\n",
    "X = np.load('X.npy', allow_pickle=True)\n",
    "y = np.load('y.npy', allow_pickle=True)\n",
    "\n",
    "\n",
    "#train_df, test_df = train_test_split(df, test_size=0.2, random_state=42)\n",
    "\n",
    "import torch\n",
    "from torch.utils.data import Dataset, DataLoader\n",
    "\n",
    "\n"
   ]
  },
  {
   "cell_type": "code",
   "execution_count": 110,
   "id": "e1701cd9",
   "metadata": {},
   "outputs": [
    {
     "data": {
      "text/plain": [
       "numpy.ndarray"
      ]
     },
     "execution_count": 110,
     "metadata": {},
     "output_type": "execute_result"
    }
   ],
   "source": [
    "type(X)"
   ]
  },
  {
   "cell_type": "code",
   "execution_count": 124,
   "id": "e6daaf9e-cf99-4292-8774-7d6932dd377e",
   "metadata": {},
   "outputs": [],
   "source": [
    "import torch\n",
    "import torch.nn as nn\n",
    "import torch.optim as optim\n",
    "\n",
    "class DNASequenceClassifier(nn.Module):\n",
    "    def __init__(self, input_size, hidden_size, num_classes):\n",
    "        super(DNASequenceClassifier, self).__init__()\n",
    "        self.conv1 = nn.Conv1d(input_size, hidden_size, kernel_size=3, padding=1)\n",
    "        self.relu = nn.ReLU()\n",
    "        self.fc1 = nn.Linear(hidden_size, hidden_size)\n",
    "        # self.fc2 = nn.Linear(hidden_size/2, num_classes)\n",
    "        \n",
    "    def forward(self, x):\n",
    "        x = self.conv1(x)\n",
    "        x = self.relu(x)\n",
    "        x = torch.mean(x, dim=2)  # Усредняем по временным шагам\n",
    "        x = self.fc1(x)\n",
    "        # x = self.fc2(x)\n",
    "        return x\n",
    "\n"
   ]
  },
  {
   "cell_type": "code",
   "execution_count": null,
   "id": "46b2fd4d-8f92-43ed-a343-beb77c2635ea",
   "metadata": {},
   "outputs": [],
   "source": []
  },
  {
   "cell_type": "code",
   "execution_count": 125,
   "id": "2b9e7281",
   "metadata": {},
   "outputs": [],
   "source": [
    "import numpy as np\n",
    "import torch\n",
    "from sklearn.model_selection import train_test_split\n",
    "\n",
    "# Последовательности ДНК и метки классов\n",
    "sequences = X\n",
    "labels = y\n",
    "\n",
    "# Создание словаря для кодирования\n",
    "dictionary = {'A': 0, 'C': 1, 'G': 2, 'T': 3}\n",
    "\n",
    "# Преобразование последовательностей ДНК в векторы one-hot\n",
    "max_sequence_length = max(len(seq) for seq in sequences)\n",
    "num_classes = 2  # Количество классов (0 и 1)\n",
    "\n",
    "encoded_sequences = np.zeros((len(sequences), max_sequence_length, len(dictionary)), dtype=np.float32)\n",
    "for i, seq in enumerate(sequences):\n",
    "    for j, nucleotide in enumerate(seq):\n",
    "        encoded_sequences[i, j, dictionary[nucleotide]] = 1.0\n",
    "\n",
    "# Преобразование меток классов в числовой формат\n",
    "encoded_labels = np.array([int(label) for label in labels])\n",
    "\n",
    "# Разделение данных на тренировочную и тестовую выборки\n",
    "train_data, test_data, train_labels, test_labels = train_test_split(encoded_sequences, encoded_labels, test_size=0.2, random_state=42)\n",
    "\n",
    "# Преобразование в тензоры PyTorch\n",
    "train_data = torch.tensor(train_data)\n",
    "train_labels = torch.tensor(train_labels)\n",
    "test_data = torch.tensor(test_data)\n",
    "test_labels = torch.tensor(test_labels)\n"
   ]
  },
  {
   "cell_type": "code",
   "execution_count": null,
   "id": "730b5779",
   "metadata": {},
   "outputs": [],
   "source": []
  },
  {
   "cell_type": "code",
   "execution_count": 126,
   "id": "7de5e477",
   "metadata": {},
   "outputs": [
    {
     "name": "stdout",
     "output_type": "stream",
     "text": [
      "tensor([[1., 0., 0., 0.],\n",
      "        [0., 1., 0., 0.],\n",
      "        [1., 0., 0., 0.],\n",
      "        ...,\n",
      "        [1., 0., 0., 0.],\n",
      "        [0., 0., 0., 1.],\n",
      "        [1., 0., 0., 0.]])\n",
      "tensor(0)\n"
     ]
    }
   ],
   "source": [
    "print (train_data[5])\n",
    "print (train_labels[5])"
   ]
  },
  {
   "cell_type": "code",
   "execution_count": 127,
   "id": "4535068a",
   "metadata": {},
   "outputs": [],
   "source": [
    "def train_model(model, train_data, train_labels, test_data, test_labels, num_epochs, batch_size):\n",
    "    criterion = nn.CrossEntropyLoss()\n",
    "    optimizer = optim.Adam(model.parameters())\n",
    "    \n",
    "    model.train()  # Переводим модель в режим обучения\n",
    "    \n",
    "    train_dataset = torch.utils.data.TensorDataset(train_data, train_labels)\n",
    "    train_dataloader = torch.utils.data.DataLoader(train_dataset, batch_size=batch_size, shuffle=True)\n",
    "    \n",
    "    test_dataset = torch.utils.data.TensorDataset(test_data, test_labels)\n",
    "    test_dataloader = torch.utils.data.DataLoader(test_dataset, batch_size=batch_size, shuffle=False)\n",
    "    \n",
    "    for epoch in range(num_epochs):\n",
    "        for batch_data, batch_labels in train_dataloader:\n",
    "            optimizer.zero_grad()\n",
    "            outputs = model(batch_data)\n",
    "            loss = criterion(outputs, batch_labels)\n",
    "            loss.backward()\n",
    "            optimizer.step()\n",
    "            \n",
    "        print(f'Epoch [{epoch+1}/{num_epochs}], Training Loss: {loss.item()}')\n",
    "        \n",
    "        # Оценка модели на тестовой выборке\n",
    "        accuracy = evaluate_model(model, test_dataloader)\n",
    "        print(f'Epoch [{epoch+1}/{num_epochs}], Test Accuracy: {accuracy:.2%}')\n",
    "    \n",
    "    print('Training finished.')\n",
    "\n",
    "\n",
    "def evaluate_model(model, dataloader):\n",
    "    model.eval()  # Переводим модель в режим оценки (необязательно, если только оцениваем точность)\n",
    "    \n",
    "    correct = 0\n",
    "    total = 0\n",
    "    \n",
    "    with torch.no_grad():  # Отключаем вычисление градиентов для оценки\n",
    "        for batch_data, batch_labels in dataloader:\n",
    "            outputs = model(batch_data)\n",
    "            _, predicted = torch.max(outputs.data, 1)\n",
    "            total += batch_labels.size(0)\n",
    "            correct += (predicted == batch_labels).sum().item()\n",
    "    \n",
    "    accuracy = correct / total\n",
    "    return accuracy\n"
   ]
  },
  {
   "cell_type": "code",
   "execution_count": 132,
   "id": "137d4f21-2a07-49f0-8522-e1d2f8023977",
   "metadata": {},
   "outputs": [
    {
     "name": "stdout",
     "output_type": "stream",
     "text": [
      "Collecting torchsummary\n",
      "  Downloading torchsummary-1.5.1-py3-none-any.whl (2.8 kB)\n",
      "Installing collected packages: torchsummary\n",
      "Successfully installed torchsummary-1.5.1\n"
     ]
    }
   ],
   "source": [
    "!pip install torchsummary"
   ]
  },
  {
   "cell_type": "code",
   "execution_count": 133,
   "id": "0c4c2b05-9182-4917-b0ce-b0d41f3c4ccc",
   "metadata": {},
   "outputs": [],
   "source": [
    "from torchsummary import summary"
   ]
  },
  {
   "cell_type": "code",
   "execution_count": 134,
   "id": "9cc522a1",
   "metadata": {},
   "outputs": [
    {
     "ename": "TypeError",
     "evalue": "'int' object is not iterable",
     "output_type": "error",
     "traceback": [
      "\u001b[0;31m---------------------------------------------------------------------------\u001b[0m",
      "\u001b[0;31mTypeError\u001b[0m                                 Traceback (most recent call last)",
      "\u001b[0;32m/var/folders/dy/76wm8jgj50vc8kygzhcz93jw0000gn/T/ipykernel_18211/2012382318.py\u001b[0m in \u001b[0;36m<module>\u001b[0;34m\u001b[0m\n\u001b[1;32m      4\u001b[0m \u001b[0mnum_classes\u001b[0m \u001b[0;34m=\u001b[0m \u001b[0;36m2\u001b[0m\u001b[0;34m\u001b[0m\u001b[0;34m\u001b[0m\u001b[0m\n\u001b[1;32m      5\u001b[0m \u001b[0mmodel\u001b[0m \u001b[0;34m=\u001b[0m \u001b[0mDNASequenceClassifier\u001b[0m\u001b[0;34m(\u001b[0m\u001b[0minput_size\u001b[0m\u001b[0;34m,\u001b[0m \u001b[0mhidden_size\u001b[0m\u001b[0;34m,\u001b[0m \u001b[0mnum_classes\u001b[0m\u001b[0;34m)\u001b[0m\u001b[0;34m\u001b[0m\u001b[0;34m\u001b[0m\u001b[0m\n\u001b[0;32m----> 6\u001b[0;31m \u001b[0msummary\u001b[0m\u001b[0;34m(\u001b[0m\u001b[0mmodel\u001b[0m\u001b[0;34m,\u001b[0m \u001b[0minput_size\u001b[0m\u001b[0;34m=\u001b[0m\u001b[0minput_size\u001b[0m\u001b[0;34m)\u001b[0m\u001b[0;34m\u001b[0m\u001b[0;34m\u001b[0m\u001b[0m\n\u001b[0m\u001b[1;32m      7\u001b[0m \u001b[0;31m# Обучение модели\u001b[0m\u001b[0;34m\u001b[0m\u001b[0;34m\u001b[0m\u001b[0m\n\u001b[1;32m      8\u001b[0m \u001b[0mnum_epochs\u001b[0m \u001b[0;34m=\u001b[0m \u001b[0;36m20\u001b[0m\u001b[0;34m\u001b[0m\u001b[0;34m\u001b[0m\u001b[0m\n",
      "\u001b[0;32m~/opt/anaconda3/lib/python3.9/site-packages/torchsummary/torchsummary.py\u001b[0m in \u001b[0;36msummary\u001b[0;34m(model, input_size, batch_size, device)\u001b[0m\n\u001b[1;32m     58\u001b[0m \u001b[0;34m\u001b[0m\u001b[0m\n\u001b[1;32m     59\u001b[0m     \u001b[0;31m# batch_size of 2 for batchnorm\u001b[0m\u001b[0;34m\u001b[0m\u001b[0;34m\u001b[0m\u001b[0m\n\u001b[0;32m---> 60\u001b[0;31m     \u001b[0mx\u001b[0m \u001b[0;34m=\u001b[0m \u001b[0;34m[\u001b[0m\u001b[0mtorch\u001b[0m\u001b[0;34m.\u001b[0m\u001b[0mrand\u001b[0m\u001b[0;34m(\u001b[0m\u001b[0;36m2\u001b[0m\u001b[0;34m,\u001b[0m \u001b[0;34m*\u001b[0m\u001b[0min_size\u001b[0m\u001b[0;34m)\u001b[0m\u001b[0;34m.\u001b[0m\u001b[0mtype\u001b[0m\u001b[0;34m(\u001b[0m\u001b[0mdtype\u001b[0m\u001b[0;34m)\u001b[0m \u001b[0;32mfor\u001b[0m \u001b[0min_size\u001b[0m \u001b[0;32min\u001b[0m \u001b[0minput_size\u001b[0m\u001b[0;34m]\u001b[0m\u001b[0;34m\u001b[0m\u001b[0;34m\u001b[0m\u001b[0m\n\u001b[0m\u001b[1;32m     61\u001b[0m     \u001b[0;31m# print(type(x[0]))\u001b[0m\u001b[0;34m\u001b[0m\u001b[0;34m\u001b[0m\u001b[0m\n\u001b[1;32m     62\u001b[0m \u001b[0;34m\u001b[0m\u001b[0m\n",
      "\u001b[0;31mTypeError\u001b[0m: 'int' object is not iterable"
     ]
    }
   ],
   "source": [
    "\n",
    "\n",
    "# Создание модели\n",
    "input_size = train_data.size(1)\n",
    "hidden_size = 128\n",
    "num_classes = 2\n",
    "model = DNASequenceClassifier(input_size, hidden_size, num_classes)\n",
    "summary(model, input_size=input_size)\n",
    "# Обучение модели\n",
    "num_epochs = 20\n",
    "batch_size = 64\n",
    "train_model(model, train_data, train_labels, test_data, test_labels, num_epochs=num_epochs, batch_size=batch_size)\n",
    "\n",
    "#train_model(model, train_data, train_labels, num_epochs, batch_size)\n"
   ]
  },
  {
   "cell_type": "code",
   "execution_count": 136,
   "id": "fb74ef6f-89d4-448e-a1b7-4f8d96338446",
   "metadata": {},
   "outputs": [
    {
     "ename": "TypeError",
     "evalue": "unsupported operand type(s) for %: 'tuple' and 'int'",
     "output_type": "error",
     "traceback": [
      "\u001b[0;31m---------------------------------------------------------------------------\u001b[0m",
      "\u001b[0;31mTypeError\u001b[0m                                 Traceback (most recent call last)",
      "\u001b[0;32m/var/folders/dy/76wm8jgj50vc8kygzhcz93jw0000gn/T/ipykernel_18211/4638922.py\u001b[0m in \u001b[0;36m<module>\u001b[0;34m\u001b[0m\n\u001b[1;32m      6\u001b[0m \u001b[0;34m\u001b[0m\u001b[0m\n\u001b[1;32m      7\u001b[0m \u001b[0;31m# Создайте экземпляр модели\u001b[0m\u001b[0;34m\u001b[0m\u001b[0;34m\u001b[0m\u001b[0m\n\u001b[0;32m----> 8\u001b[0;31m \u001b[0mmodel\u001b[0m \u001b[0;34m=\u001b[0m \u001b[0mDNASequenceClassifier\u001b[0m\u001b[0;34m(\u001b[0m\u001b[0minput_size\u001b[0m\u001b[0;34m,\u001b[0m \u001b[0mhidden_size\u001b[0m\u001b[0;34m,\u001b[0m \u001b[0mnum_classes\u001b[0m\u001b[0;34m)\u001b[0m\u001b[0;34m\u001b[0m\u001b[0;34m\u001b[0m\u001b[0m\n\u001b[0m\u001b[1;32m      9\u001b[0m \u001b[0;34m\u001b[0m\u001b[0m\n\u001b[1;32m     10\u001b[0m \u001b[0;31m# Получите сводку модели\u001b[0m\u001b[0;34m\u001b[0m\u001b[0;34m\u001b[0m\u001b[0m\n",
      "\u001b[0;32m/var/folders/dy/76wm8jgj50vc8kygzhcz93jw0000gn/T/ipykernel_18211/2904272818.py\u001b[0m in \u001b[0;36m__init__\u001b[0;34m(self, input_size, hidden_size, num_classes)\u001b[0m\n\u001b[1;32m      6\u001b[0m     \u001b[0;32mdef\u001b[0m \u001b[0m__init__\u001b[0m\u001b[0;34m(\u001b[0m\u001b[0mself\u001b[0m\u001b[0;34m,\u001b[0m \u001b[0minput_size\u001b[0m\u001b[0;34m,\u001b[0m \u001b[0mhidden_size\u001b[0m\u001b[0;34m,\u001b[0m \u001b[0mnum_classes\u001b[0m\u001b[0;34m)\u001b[0m\u001b[0;34m:\u001b[0m\u001b[0;34m\u001b[0m\u001b[0;34m\u001b[0m\u001b[0m\n\u001b[1;32m      7\u001b[0m         \u001b[0msuper\u001b[0m\u001b[0;34m(\u001b[0m\u001b[0mDNASequenceClassifier\u001b[0m\u001b[0;34m,\u001b[0m \u001b[0mself\u001b[0m\u001b[0;34m)\u001b[0m\u001b[0;34m.\u001b[0m\u001b[0m__init__\u001b[0m\u001b[0;34m(\u001b[0m\u001b[0;34m)\u001b[0m\u001b[0;34m\u001b[0m\u001b[0;34m\u001b[0m\u001b[0m\n\u001b[0;32m----> 8\u001b[0;31m         \u001b[0mself\u001b[0m\u001b[0;34m.\u001b[0m\u001b[0mconv1\u001b[0m \u001b[0;34m=\u001b[0m \u001b[0mnn\u001b[0m\u001b[0;34m.\u001b[0m\u001b[0mConv1d\u001b[0m\u001b[0;34m(\u001b[0m\u001b[0minput_size\u001b[0m\u001b[0;34m,\u001b[0m \u001b[0mhidden_size\u001b[0m\u001b[0;34m,\u001b[0m \u001b[0mkernel_size\u001b[0m\u001b[0;34m=\u001b[0m\u001b[0;36m3\u001b[0m\u001b[0;34m,\u001b[0m \u001b[0mpadding\u001b[0m\u001b[0;34m=\u001b[0m\u001b[0;36m1\u001b[0m\u001b[0;34m)\u001b[0m\u001b[0;34m\u001b[0m\u001b[0;34m\u001b[0m\u001b[0m\n\u001b[0m\u001b[1;32m      9\u001b[0m         \u001b[0mself\u001b[0m\u001b[0;34m.\u001b[0m\u001b[0mrelu\u001b[0m \u001b[0;34m=\u001b[0m \u001b[0mnn\u001b[0m\u001b[0;34m.\u001b[0m\u001b[0mReLU\u001b[0m\u001b[0;34m(\u001b[0m\u001b[0;34m)\u001b[0m\u001b[0;34m\u001b[0m\u001b[0;34m\u001b[0m\u001b[0m\n\u001b[1;32m     10\u001b[0m         \u001b[0mself\u001b[0m\u001b[0;34m.\u001b[0m\u001b[0mfc1\u001b[0m \u001b[0;34m=\u001b[0m \u001b[0mnn\u001b[0m\u001b[0;34m.\u001b[0m\u001b[0mLinear\u001b[0m\u001b[0;34m(\u001b[0m\u001b[0mhidden_size\u001b[0m\u001b[0;34m,\u001b[0m \u001b[0mhidden_size\u001b[0m\u001b[0;34m)\u001b[0m\u001b[0;34m\u001b[0m\u001b[0;34m\u001b[0m\u001b[0m\n",
      "\u001b[0;32m~/opt/anaconda3/lib/python3.9/site-packages/torch/nn/modules/conv.py\u001b[0m in \u001b[0;36m__init__\u001b[0;34m(self, in_channels, out_channels, kernel_size, stride, padding, dilation, groups, bias, padding_mode, device, dtype)\u001b[0m\n\u001b[1;32m    298\u001b[0m         \u001b[0mpadding_\u001b[0m \u001b[0;34m=\u001b[0m \u001b[0mpadding\u001b[0m \u001b[0;32mif\u001b[0m \u001b[0misinstance\u001b[0m\u001b[0;34m(\u001b[0m\u001b[0mpadding\u001b[0m\u001b[0;34m,\u001b[0m \u001b[0mstr\u001b[0m\u001b[0;34m)\u001b[0m \u001b[0;32melse\u001b[0m \u001b[0m_single\u001b[0m\u001b[0;34m(\u001b[0m\u001b[0mpadding\u001b[0m\u001b[0;34m)\u001b[0m\u001b[0;34m\u001b[0m\u001b[0;34m\u001b[0m\u001b[0m\n\u001b[1;32m    299\u001b[0m         \u001b[0mdilation_\u001b[0m \u001b[0;34m=\u001b[0m \u001b[0m_single\u001b[0m\u001b[0;34m(\u001b[0m\u001b[0mdilation\u001b[0m\u001b[0;34m)\u001b[0m\u001b[0;34m\u001b[0m\u001b[0;34m\u001b[0m\u001b[0m\n\u001b[0;32m--> 300\u001b[0;31m         super(Conv1d, self).__init__(\n\u001b[0m\u001b[1;32m    301\u001b[0m             \u001b[0min_channels\u001b[0m\u001b[0;34m,\u001b[0m \u001b[0mout_channels\u001b[0m\u001b[0;34m,\u001b[0m \u001b[0mkernel_size_\u001b[0m\u001b[0;34m,\u001b[0m \u001b[0mstride_\u001b[0m\u001b[0;34m,\u001b[0m \u001b[0mpadding_\u001b[0m\u001b[0;34m,\u001b[0m \u001b[0mdilation_\u001b[0m\u001b[0;34m,\u001b[0m\u001b[0;34m\u001b[0m\u001b[0;34m\u001b[0m\u001b[0m\n\u001b[1;32m    302\u001b[0m             False, _single(0), groups, bias, padding_mode, **factory_kwargs)\n",
      "\u001b[0;32m~/opt/anaconda3/lib/python3.9/site-packages/torch/nn/modules/conv.py\u001b[0m in \u001b[0;36m__init__\u001b[0;34m(self, in_channels, out_channels, kernel_size, stride, padding, dilation, transposed, output_padding, groups, bias, padding_mode, device, dtype)\u001b[0m\n\u001b[1;32m     87\u001b[0m         \u001b[0;32mif\u001b[0m \u001b[0mgroups\u001b[0m \u001b[0;34m<=\u001b[0m \u001b[0;36m0\u001b[0m\u001b[0;34m:\u001b[0m\u001b[0;34m\u001b[0m\u001b[0;34m\u001b[0m\u001b[0m\n\u001b[1;32m     88\u001b[0m             \u001b[0;32mraise\u001b[0m \u001b[0mValueError\u001b[0m\u001b[0;34m(\u001b[0m\u001b[0;34m'groups must be a positive integer'\u001b[0m\u001b[0;34m)\u001b[0m\u001b[0;34m\u001b[0m\u001b[0;34m\u001b[0m\u001b[0m\n\u001b[0;32m---> 89\u001b[0;31m         \u001b[0;32mif\u001b[0m \u001b[0min_channels\u001b[0m \u001b[0;34m%\u001b[0m \u001b[0mgroups\u001b[0m \u001b[0;34m!=\u001b[0m \u001b[0;36m0\u001b[0m\u001b[0;34m:\u001b[0m\u001b[0;34m\u001b[0m\u001b[0;34m\u001b[0m\u001b[0m\n\u001b[0m\u001b[1;32m     90\u001b[0m             \u001b[0;32mraise\u001b[0m \u001b[0mValueError\u001b[0m\u001b[0;34m(\u001b[0m\u001b[0;34m'in_channels must be divisible by groups'\u001b[0m\u001b[0;34m)\u001b[0m\u001b[0;34m\u001b[0m\u001b[0;34m\u001b[0m\u001b[0m\n\u001b[1;32m     91\u001b[0m         \u001b[0;32mif\u001b[0m \u001b[0mout_channels\u001b[0m \u001b[0;34m%\u001b[0m \u001b[0mgroups\u001b[0m \u001b[0;34m!=\u001b[0m \u001b[0;36m0\u001b[0m\u001b[0;34m:\u001b[0m\u001b[0;34m\u001b[0m\u001b[0;34m\u001b[0m\u001b[0m\n",
      "\u001b[0;31mTypeError\u001b[0m: unsupported operand type(s) for %: 'tuple' and 'int'"
     ]
    }
   ],
   "source": [
    "# Определите размерность входных данных для модели\n",
    "batch_size = 64\n",
    "input_channels = 4\n",
    "input_length= 401\n",
    "input_size = (batch_size, input_channels, input_length)\n",
    "\n",
    "# Создайте экземпляр модели\n",
    "model = DNASequenceClassifier(input_size, hidden_size, num_classes)\n",
    "\n",
    "# Получите сводку модели\n",
    "summary(model, input_size=input_size)"
   ]
  },
  {
   "cell_type": "code",
   "execution_count": null,
   "id": "9c0a0f8d-9a68-4225-9518-f030c4ab7990",
   "metadata": {},
   "outputs": [],
   "source": []
  },
  {
   "attachments": {},
   "cell_type": "markdown",
   "id": "7c71f418-ff7d-4a50-9b5a-a5f9f7284327",
   "metadata": {},
   "source": [
    "#### train_data.shape"
   ]
  },
  {
   "attachments": {},
   "cell_type": "markdown",
   "id": "503a02a9",
   "metadata": {},
   "source": [
    "# Модель 4 - создана из модели 3 - равботает, градкам - не работает"
   ]
  },
  {
   "cell_type": "code",
   "execution_count": 70,
   "id": "80b48333",
   "metadata": {},
   "outputs": [],
   "source": [
    "import torch\n",
    "import torch.nn.functional as F\n",
    "import numpy as np\n",
    "import matplotlib.pyplot as plt\n",
    "\n",
    "class DNASequenceClassifier(nn.Module):\n",
    "    def __init__(self, input_size, hidden_size, num_classes):\n",
    "        super(DNASequenceClassifier, self).__init__()\n",
    "        self.conv1 = nn.Conv1d(input_size, hidden_size, kernel_size=3, padding=1)\n",
    "        self.conv2 = nn.Conv1d(hidden_size, hidden_size, kernel_size=6, padding=2)\n",
    "        self.conv3 = nn.Conv1d(hidden_size, hidden_size, kernel_size=9, padding=3)\n",
    "        self.relu = nn.ReLU()\n",
    "        self.fc = nn.Linear(hidden_size, num_classes)\n",
    "        \n",
    "    def forward(self, x):\n",
    "        x = self.conv1(x)\n",
    "        x = self.relu(x)\n",
    "        \n",
    "        x = self.conv2(x)\n",
    "        x = self.relu(x)\n",
    "        \n",
    "        x = self.conv3(x)\n",
    "        x = self.relu(x)\n",
    "        \n",
    "        x = torch.mean(x, dim=2)  # Усредняем по временным шагам\n",
    "        x = self.fc(x)\n",
    "        return x\n",
    "    \n",
    "    def get_gradcam(self, input_data, target_class):\n",
    "        self.eval()\n",
    "        \n",
    "        # Включаем отслеживание градиентов для входных данных\n",
    "        input_data.requires_grad = True\n",
    "        \n",
    "        # Проходим вперед по модели\n",
    "        output = self(input_data)\n",
    "        \n",
    "        # Обнуляем градиенты\n",
    "        self.zero_grad()\n",
    "        \n",
    "        # Вычисляем градиенты относительно выхода модели\n",
    "        output[:, target_class].backward()\n",
    "        \n",
    "        # Получаем градиенты входных данных\n",
    "        gradients = input_data.grad.squeeze()\n",
    "        \n",
    "        # Усредняем градиенты по всему временному измерению\n",
    "        pooled_gradients = torch.mean(gradients, dim=1)\n",
    "        \n",
    "        # Получаем активации последнего сверточного слоя\n",
    "        activations = self.conv3(self.conv2(self.conv1(input_data)))\n",
    "        \n",
    "        # Умножаем активации на усредненные градиенты\n",
    "        weighted_activations = activations * pooled_gradients.unsqueeze(1)\n",
    "        \n",
    "        # Усредняем активации по всему временному измерению\n",
    "        importance = torch.mean(weighted_activations, dim=1).squeeze()\n",
    "        \n",
    "        # Применяем ReLU и нормализуем важность признаков\n",
    "        importance = F.relu(importance)\n",
    "        importance /= torch.max(importance)\n",
    "        \n",
    "        return importance\n"
   ]
  },
  {
   "cell_type": "code",
   "execution_count": null,
   "id": "a40d3752",
   "metadata": {},
   "outputs": [],
   "source": []
  },
  {
   "cell_type": "code",
   "execution_count": 71,
   "id": "283eb5fd",
   "metadata": {},
   "outputs": [
    {
     "name": "stdout",
     "output_type": "stream",
     "text": [
      "Epoch [1/5], Training Loss: 0.39467501640319824\n",
      "Epoch [1/5], Test Accuracy: 88.58%\n",
      "Epoch [2/5], Training Loss: 0.06102399900555611\n",
      "Epoch [2/5], Test Accuracy: 90.81%\n",
      "Epoch [3/5], Training Loss: 0.09392276406288147\n",
      "Epoch [3/5], Test Accuracy: 89.42%\n",
      "Epoch [4/5], Training Loss: 0.02321048639714718\n",
      "Epoch [4/5], Test Accuracy: 88.86%\n",
      "Epoch [5/5], Training Loss: 0.0014815424801781774\n",
      "Epoch [5/5], Test Accuracy: 89.14%\n",
      "Training finished.\n"
     ]
    }
   ],
   "source": [
    "input_size = train_data.size(1)\n",
    "hidden_size = 128\n",
    "num_classes = 2\n",
    "model4 = DNASequenceClassifier(input_size, hidden_size, num_classes)\n",
    "\n",
    "# Обучение модели\n",
    "num_epochs = 5\n",
    "batch_size = 32\n",
    "train_model(model4, train_data, train_labels, test_data, test_labels, num_epochs=num_epochs, batch_size=batch_size)\n",
    "\n"
   ]
  },
  {
   "cell_type": "code",
   "execution_count": 72,
   "id": "61f22926",
   "metadata": {},
   "outputs": [
    {
     "ename": "RuntimeError",
     "evalue": "The size of tensor a (128) must match the size of tensor b (401) at non-singleton dimension 1",
     "output_type": "error",
     "traceback": [
      "\u001b[0;31m---------------------------------------------------------------------------\u001b[0m",
      "\u001b[0;31mRuntimeError\u001b[0m                              Traceback (most recent call last)",
      "\u001b[0;32m/var/folders/dy/76wm8jgj50vc8kygzhcz93jw0000gn/T/ipykernel_18211/1789282782.py\u001b[0m in \u001b[0;36m<module>\u001b[0;34m\u001b[0m\n\u001b[1;32m     12\u001b[0m \u001b[0;34m\u001b[0m\u001b[0m\n\u001b[1;32m     13\u001b[0m \u001b[0;31m# Вычисляем Grad-CAM\u001b[0m\u001b[0;34m\u001b[0m\u001b[0;34m\u001b[0m\u001b[0m\n\u001b[0;32m---> 14\u001b[0;31m \u001b[0mgradcam\u001b[0m \u001b[0;34m=\u001b[0m \u001b[0mmodel4\u001b[0m\u001b[0;34m.\u001b[0m\u001b[0mget_gradcam\u001b[0m\u001b[0;34m(\u001b[0m\u001b[0mexample_data\u001b[0m\u001b[0;34m,\u001b[0m \u001b[0mtarget_class\u001b[0m\u001b[0;34m)\u001b[0m\u001b[0;34m\u001b[0m\u001b[0;34m\u001b[0m\u001b[0m\n\u001b[0m\u001b[1;32m     15\u001b[0m \u001b[0;34m\u001b[0m\u001b[0m\n\u001b[1;32m     16\u001b[0m \u001b[0;31m# Визуализация карты активации Grad-CAM\u001b[0m\u001b[0;34m\u001b[0m\u001b[0;34m\u001b[0m\u001b[0m\n",
      "\u001b[0;32m/var/folders/dy/76wm8jgj50vc8kygzhcz93jw0000gn/T/ipykernel_18211/1708189830.py\u001b[0m in \u001b[0;36mget_gradcam\u001b[0;34m(self, input_data, target_class)\u001b[0m\n\u001b[1;32m     52\u001b[0m \u001b[0;34m\u001b[0m\u001b[0m\n\u001b[1;32m     53\u001b[0m         \u001b[0;31m# Умножаем активации на усредненные градиенты\u001b[0m\u001b[0;34m\u001b[0m\u001b[0;34m\u001b[0m\u001b[0m\n\u001b[0;32m---> 54\u001b[0;31m         \u001b[0mweighted_activations\u001b[0m \u001b[0;34m=\u001b[0m \u001b[0mactivations\u001b[0m \u001b[0;34m*\u001b[0m \u001b[0mpooled_gradients\u001b[0m\u001b[0;34m.\u001b[0m\u001b[0munsqueeze\u001b[0m\u001b[0;34m(\u001b[0m\u001b[0;36m1\u001b[0m\u001b[0;34m)\u001b[0m\u001b[0;34m\u001b[0m\u001b[0;34m\u001b[0m\u001b[0m\n\u001b[0m\u001b[1;32m     55\u001b[0m \u001b[0;34m\u001b[0m\u001b[0m\n\u001b[1;32m     56\u001b[0m         \u001b[0;31m# Усредняем активации по всему временному измерению\u001b[0m\u001b[0;34m\u001b[0m\u001b[0;34m\u001b[0m\u001b[0m\n",
      "\u001b[0;31mRuntimeError\u001b[0m: The size of tensor a (128) must match the size of tensor b (401) at non-singleton dimension 1"
     ]
    }
   ],
   "source": [
    "# Предполагается, что у вас уже есть экземпляр модели DNASequenceClassifier с инициализированными весами\n",
    "\n",
    "# Переводим модель в режим оценки\n",
    "model4.eval()\n",
    "\n",
    "# Выбираем пример из тестовой выборки\n",
    "example_index = 0\n",
    "example_data = test_data[example_index].unsqueeze(0)  # Добавляем размерность пакета\n",
    "\n",
    "# Определяем целевой класс, для которого будем вычислять Grad-CAM\n",
    "target_class = test_labels[example_index]\n",
    "\n",
    "# Вычисляем Grad-CAM\n",
    "gradcam = model4.get_gradcam(example_data, target_class)\n",
    "\n",
    "# Визуализация карты активации Grad-CAM\n",
    "plt.imshow(gradcam, cmap='jet')\n",
    "plt.axis('off')\n",
    "plt.show()\n"
   ]
  },
  {
   "cell_type": "code",
   "execution_count": 64,
   "id": "1c55061c",
   "metadata": {},
   "outputs": [
    {
     "ename": "NameError",
     "evalue": "name 'activations' is not defined",
     "output_type": "error",
     "traceback": [
      "\u001b[0;31m---------------------------------------------------------------------------\u001b[0m",
      "\u001b[0;31mNameError\u001b[0m                                 Traceback (most recent call last)",
      "\u001b[0;32m/var/folders/dy/76wm8jgj50vc8kygzhcz93jw0000gn/T/ipykernel_12520/4061838998.py\u001b[0m in \u001b[0;36m<module>\u001b[0;34m\u001b[0m\n\u001b[0;32m----> 1\u001b[0;31m \u001b[0mprint\u001b[0m\u001b[0;34m(\u001b[0m\u001b[0mactivations\u001b[0m\u001b[0;34m.\u001b[0m\u001b[0mshape\u001b[0m\u001b[0;34m)\u001b[0m\u001b[0;34m\u001b[0m\u001b[0;34m\u001b[0m\u001b[0m\n\u001b[0m",
      "\u001b[0;31mNameError\u001b[0m: name 'activations' is not defined"
     ]
    }
   ],
   "source": [
    "print(activations.shape)"
   ]
  },
  {
   "cell_type": "code",
   "execution_count": null,
   "id": "9d36a789",
   "metadata": {},
   "outputs": [],
   "source": []
  },
  {
   "attachments": {},
   "cell_type": "markdown",
   "id": "7bcac1c9",
   "metadata": {},
   "source": [
    "# пример 5 с рнн - работает"
   ]
  },
  {
   "cell_type": "code",
   "execution_count": 137,
   "id": "ca01dd87",
   "metadata": {},
   "outputs": [],
   "source": [
    "import numpy as np\n",
    "\n",
    "# Загрузка данных из файлов с разрешением pickle\n",
    "X = np.load('X.npy', allow_pickle=True)\n",
    "y = np.load('y.npy', allow_pickle=True)\n",
    "\n",
    "\n",
    "#train_df, test_df = train_test_split(df, test_size=0.2, random_state=42)\n",
    "\n",
    "import torch\n",
    "from torch.utils.data import Dataset, DataLoader\n",
    "X_small = X[:1000]\n",
    "y_small = y[:1000]"
   ]
  },
  {
   "cell_type": "code",
   "execution_count": 138,
   "id": "a26034f6",
   "metadata": {},
   "outputs": [],
   "source": [
    "X_small = X[:1000]\n",
    "y_small = y[:1000]"
   ]
  },
  {
   "cell_type": "code",
   "execution_count": 139,
   "id": "44e68a5f",
   "metadata": {},
   "outputs": [
    {
     "data": {
      "text/plain": [
       "(1000,)"
      ]
     },
     "execution_count": 139,
     "metadata": {},
     "output_type": "execute_result"
    }
   ],
   "source": [
    "X_small.shape"
   ]
  },
  {
   "cell_type": "code",
   "execution_count": 146,
   "id": "b9183578",
   "metadata": {},
   "outputs": [],
   "source": [
    "import numpy as np\n",
    "import torch\n",
    "import torch.nn as nn\n",
    "import torch.optim as optim\n",
    "from torch.autograd import Function\n",
    "import matplotlib.pyplot as plt\n",
    "from sklearn.model_selection import train_test_split\n",
    "\n",
    "# Define the DNASequenceClassifier model\n",
    "class DNASequenceClassifier(nn.Module):\n",
    "    def __init__(self, input_size, hidden_size, num_classes):\n",
    "        super(DNASequenceClassifier, self).__init__()\n",
    "        self.hidden_size = hidden_size\n",
    "        self.rnn = nn.GRU(input_size, hidden_size, batch_first=True)\n",
    "        self.fc = nn.Linear(hidden_size, num_classes)\n",
    "        self.dropout = nn.Dropout(0.2) \n",
    "    \n",
    "    def forward(self, x):\n",
    "        _, h_n = self.rnn(x)\n",
    "        h_n = self.dropout( h_n)\n",
    "        out = self.fc(h_n.squeeze(0))\n",
    "        return out\n",
    "\n",
    "class GuidedBackpropReLU(Function):\n",
    "    @staticmethod\n",
    "    def forward(ctx, input):\n",
    "        positive_mask = (input > 0).type_as(input)\n",
    "        output = torch.addcmul(torch.zeros(input.size()).type_as(input), input, positive_mask)\n",
    "        ctx.save_for_backward(output)\n",
    "        return output\n",
    "\n",
    "    @staticmethod\n",
    "    def backward(ctx, grad_output):\n",
    "        output, = ctx.saved_tensors\n",
    "        grad_input = None\n",
    "\n",
    "        positive_mask_1 = (output > 0).type_as(grad_output)\n",
    "        positive_mask_2 = (grad_output > 0).type_as(grad_output)\n",
    "        grad_input = torch.addcmul(torch.zeros(output.size()).type_as(grad_output), torch.addcmul(torch.zeros(output.size()).type_as(grad_output), grad_output, positive_mask_1), positive_mask_2)\n",
    "\n",
    "        return grad_input\n",
    "\n",
    "\n",
    "class GuidedGradCam:\n",
    "    def __init__(self, model, target_layer):\n",
    "        self.model = model\n",
    "        self.target_layer = target_layer\n",
    "        self.gradients = None\n",
    "\n",
    "        self.model.eval()\n",
    "        self.register_hooks()\n",
    "\n",
    "    def register_hooks(self):\n",
    "        target_layer = self.model._modules.get(self.target_layer)\n",
    "\n",
    "        def forward_hook(module, input, output):\n",
    "            self.feature_maps = output\n",
    "\n",
    "        def backward_hook(module, grad_input, grad_output):\n",
    "            self.gradients = grad_output[0]\n",
    "\n",
    "        target_layer.register_forward_hook(forward_hook)\n",
    "        target_layer.register_backward_hook(backward_hook)\n",
    "\n",
    "    def forward(self, x):\n",
    "        return self.model(x)  # Use the model instance directly\n",
    "\n",
    "    def generate(self, target_class):\n",
    "        self.model.zero_grad()\n",
    "        output = self.forward(input)  # Call forward with the input tensor\n",
    "        one_hot = torch.zeros((1, output.size()[-1]), dtype=torch.float32)\n",
    "        one_hot[0][target_class] = 1.0\n",
    "        one_hot = torch.sum(one_hot * output)\n",
    "\n",
    "        one_hot.backward(retain_graph=True)\n",
    "        grads = self.gradients.cpu().data.numpy()\n",
    "        feature_maps = self.feature_maps.cpu().data.numpy()[0]\n",
    "\n",
    "        weights = np.mean(grads, axis=2)\n",
    "        cam = np.zeros(feature_maps.shape[1:], dtype=np.float32)\n",
    "\n",
    "        for i, w in enumerate(weights):\n",
    "            cam += w * feature_maps[i, :]\n",
    "\n",
    "        cam = np.maximum(cam, 0)\n",
    "        cam = cam - np.min(cam)\n",
    "        cam = cam / np.max(cam)\n",
    "\n",
    "        return cam\n",
    "    \n",
    "# Load DNA sequence data and labels (example using DeepBind dataset)\n",
    "sequences = X_small\n",
    "labels = y_small\n",
    "\n",
    "# Create a dictionary for encoding nucleotides\n",
    "dictionary = {'A': 0, 'C': 1, 'G': 2, 'T': 3}\n",
    "\n",
    "# Preprocess the DNA sequences\n",
    "max_sequence_length = max(len(seq) for seq in sequences)\n",
    "num_classes = 2\n",
    "encoded_sequences = np.zeros((len(sequences), max_sequence_length, len(dictionary)), dtype=np.float32)\n",
    "for i, seq in enumerate(sequences):\n",
    "    for j, nucleotide in enumerate(seq):\n",
    "        encoded_sequences[i, j, dictionary[nucleotide]] = 1.0\n",
    "\n",
    "# Convert labels to numerical format\n",
    "encoded_labels = np.array([int(label) for label in labels])\n",
    "\n",
    "# Split the data into training and testing sets\n",
    "train_data, test_data, train_labels, test_labels = train_test_split(encoded_sequences, encoded_labels, test_size=0.2, random_state=42)\n",
    "\n",
    "# Convert data to PyTorch tensors\n",
    "train_data = torch.tensor(train_data)\n",
    "train_labels = torch.tensor(train_labels)\n",
    "test_data = torch.tensor(test_data)\n",
    "test_labels = torch.tensor(test_labels)\n",
    "\n",
    "# Create an instance of the DNASequenceClassifier model\n",
    "input_size = train_data.size(2)\n",
    "hidden_size = 32\n",
    "num_classes = 2\n",
    "model = DNASequenceClassifier(input_size, hidden_size, num_classes)\n",
    "\n",
    "# Define training parameters\n",
    "num_epochs = 30\n",
    "batch_size = 32\n",
    "\n",
    "# Train the model\n",
    "criterion = nn.CrossEntropyLoss()\n",
    "optimizer = optim.Adam(model.parameters(), lr=0.001)\n"
   ]
  },
  {
   "cell_type": "code",
   "execution_count": 147,
   "id": "361e07c3",
   "metadata": {},
   "outputs": [
    {
     "name": "stdout",
     "output_type": "stream",
     "text": [
      "Epoch [1/30], Training Loss: 0.7051407098770142, Test Loss: 0.6922987103462219\n",
      "Epoch [2/30], Training Loss: 0.692827582359314, Test Loss: 0.682148814201355\n",
      "Epoch [3/30], Training Loss: 0.6824594140052795, Test Loss: 0.6721019148826599\n",
      "Epoch [4/30], Training Loss: 0.6722044944763184, Test Loss: 0.6621345281600952\n",
      "Epoch [5/30], Training Loss: 0.6620368361473083, Test Loss: 0.6522217392921448\n",
      "Epoch [6/30], Training Loss: 0.6519299149513245, Test Loss: 0.6423342227935791\n",
      "Epoch [7/30], Training Loss: 0.6418532729148865, Test Loss: 0.6324440240859985\n",
      "Epoch [8/30], Training Loss: 0.6317765712738037, Test Loss: 0.6225271821022034\n",
      "Epoch [9/30], Training Loss: 0.6216743588447571, Test Loss: 0.6125621795654297\n",
      "Epoch [10/30], Training Loss: 0.6115241050720215, Test Loss: 0.6025288105010986\n",
      "Epoch [11/30], Training Loss: 0.6013045907020569, Test Loss: 0.5924069881439209\n",
      "Epoch [12/30], Training Loss: 0.5909948348999023, Test Loss: 0.5821768045425415\n",
      "Epoch [13/30], Training Loss: 0.5805738568305969, Test Loss: 0.5718176364898682\n",
      "Epoch [14/30], Training Loss: 0.5700201988220215, Test Loss: 0.5613098740577698\n",
      "Epoch [15/30], Training Loss: 0.5593130588531494, Test Loss: 0.5506348609924316\n",
      "Epoch [16/30], Training Loss: 0.5484328269958496, Test Loss: 0.5397759079933167\n",
      "Epoch [17/30], Training Loss: 0.5373618602752686, Test Loss: 0.5287185311317444\n",
      "Epoch [18/30], Training Loss: 0.5260844230651855, Test Loss: 0.5174505710601807\n",
      "Epoch [19/30], Training Loss: 0.51458740234375, Test Loss: 0.5059629082679749\n",
      "Epoch [20/30], Training Loss: 0.5028602480888367, Test Loss: 0.4942493140697479\n",
      "Epoch [21/30], Training Loss: 0.490895539522171, Test Loss: 0.4823070466518402\n",
      "Epoch [22/30], Training Loss: 0.4786890745162964, Test Loss: 0.47013717889785767\n",
      "Epoch [23/30], Training Loss: 0.4662402868270874, Test Loss: 0.45774516463279724\n",
      "Epoch [24/30], Training Loss: 0.4535524249076843, Test Loss: 0.4451414942741394\n",
      "Epoch [25/30], Training Loss: 0.4406341314315796, Test Loss: 0.43234309554100037\n",
      "Epoch [26/30], Training Loss: 0.4274997413158417, Test Loss: 0.4193752408027649\n",
      "Epoch [27/30], Training Loss: 0.41417166590690613, Test Loss: 0.40627387166023254\n",
      "Epoch [28/30], Training Loss: 0.4006824195384979, Test Loss: 0.3930879235267639\n",
      "Epoch [29/30], Training Loss: 0.38707730174064636, Test Loss: 0.3798837661743164\n",
      "Epoch [30/30], Training Loss: 0.3734184503555298, Test Loss: 0.36674925684928894\n"
     ]
    },
    {
     "ename": "AttributeError",
     "evalue": "'function' object has no attribute 'dim'",
     "output_type": "error",
     "traceback": [
      "\u001b[0;31m---------------------------------------------------------------------------\u001b[0m",
      "\u001b[0;31mAttributeError\u001b[0m                            Traceback (most recent call last)",
      "\u001b[0;32m/var/folders/dy/76wm8jgj50vc8kygzhcz93jw0000gn/T/ipykernel_18211/1903594262.py\u001b[0m in \u001b[0;36m<module>\u001b[0;34m\u001b[0m\n\u001b[1;32m     28\u001b[0m \u001b[0;34m\u001b[0m\u001b[0m\n\u001b[1;32m     29\u001b[0m \u001b[0;31m# Generate the Guided Grad-CAM visualization\u001b[0m\u001b[0;34m\u001b[0m\u001b[0;34m\u001b[0m\u001b[0m\n\u001b[0;32m---> 30\u001b[0;31m \u001b[0mcam\u001b[0m \u001b[0;34m=\u001b[0m \u001b[0mguided_grad_cam\u001b[0m\u001b[0;34m.\u001b[0m\u001b[0mgenerate\u001b[0m\u001b[0;34m(\u001b[0m\u001b[0mtarget_class\u001b[0m\u001b[0;34m=\u001b[0m\u001b[0msample_label\u001b[0m\u001b[0;34m)\u001b[0m\u001b[0;34m\u001b[0m\u001b[0;34m\u001b[0m\u001b[0m\n\u001b[0m\u001b[1;32m     31\u001b[0m \u001b[0;34m\u001b[0m\u001b[0m\n\u001b[1;32m     32\u001b[0m \u001b[0;34m\u001b[0m\u001b[0m\n",
      "\u001b[0;32m/var/folders/dy/76wm8jgj50vc8kygzhcz93jw0000gn/T/ipykernel_18211/1094515956.py\u001b[0m in \u001b[0;36mgenerate\u001b[0;34m(self, target_class)\u001b[0m\n\u001b[1;32m     68\u001b[0m     \u001b[0;32mdef\u001b[0m \u001b[0mgenerate\u001b[0m\u001b[0;34m(\u001b[0m\u001b[0mself\u001b[0m\u001b[0;34m,\u001b[0m \u001b[0mtarget_class\u001b[0m\u001b[0;34m)\u001b[0m\u001b[0;34m:\u001b[0m\u001b[0;34m\u001b[0m\u001b[0;34m\u001b[0m\u001b[0m\n\u001b[1;32m     69\u001b[0m         \u001b[0mself\u001b[0m\u001b[0;34m.\u001b[0m\u001b[0mmodel\u001b[0m\u001b[0;34m.\u001b[0m\u001b[0mzero_grad\u001b[0m\u001b[0;34m(\u001b[0m\u001b[0;34m)\u001b[0m\u001b[0;34m\u001b[0m\u001b[0;34m\u001b[0m\u001b[0m\n\u001b[0;32m---> 70\u001b[0;31m         \u001b[0moutput\u001b[0m \u001b[0;34m=\u001b[0m \u001b[0mself\u001b[0m\u001b[0;34m.\u001b[0m\u001b[0mforward\u001b[0m\u001b[0;34m(\u001b[0m\u001b[0minput\u001b[0m\u001b[0;34m)\u001b[0m  \u001b[0;31m# Call forward with the input tensor\u001b[0m\u001b[0;34m\u001b[0m\u001b[0;34m\u001b[0m\u001b[0m\n\u001b[0m\u001b[1;32m     71\u001b[0m         \u001b[0mone_hot\u001b[0m \u001b[0;34m=\u001b[0m \u001b[0mtorch\u001b[0m\u001b[0;34m.\u001b[0m\u001b[0mzeros\u001b[0m\u001b[0;34m(\u001b[0m\u001b[0;34m(\u001b[0m\u001b[0;36m1\u001b[0m\u001b[0;34m,\u001b[0m \u001b[0moutput\u001b[0m\u001b[0;34m.\u001b[0m\u001b[0msize\u001b[0m\u001b[0;34m(\u001b[0m\u001b[0;34m)\u001b[0m\u001b[0;34m[\u001b[0m\u001b[0;34m-\u001b[0m\u001b[0;36m1\u001b[0m\u001b[0;34m]\u001b[0m\u001b[0;34m)\u001b[0m\u001b[0;34m,\u001b[0m \u001b[0mdtype\u001b[0m\u001b[0;34m=\u001b[0m\u001b[0mtorch\u001b[0m\u001b[0;34m.\u001b[0m\u001b[0mfloat32\u001b[0m\u001b[0;34m)\u001b[0m\u001b[0;34m\u001b[0m\u001b[0;34m\u001b[0m\u001b[0m\n\u001b[1;32m     72\u001b[0m         \u001b[0mone_hot\u001b[0m\u001b[0;34m[\u001b[0m\u001b[0;36m0\u001b[0m\u001b[0;34m]\u001b[0m\u001b[0;34m[\u001b[0m\u001b[0mtarget_class\u001b[0m\u001b[0;34m]\u001b[0m \u001b[0;34m=\u001b[0m \u001b[0;36m1.0\u001b[0m\u001b[0;34m\u001b[0m\u001b[0;34m\u001b[0m\u001b[0m\n",
      "\u001b[0;32m/var/folders/dy/76wm8jgj50vc8kygzhcz93jw0000gn/T/ipykernel_18211/1094515956.py\u001b[0m in \u001b[0;36mforward\u001b[0;34m(self, x)\u001b[0m\n\u001b[1;32m     64\u001b[0m \u001b[0;34m\u001b[0m\u001b[0m\n\u001b[1;32m     65\u001b[0m     \u001b[0;32mdef\u001b[0m \u001b[0mforward\u001b[0m\u001b[0;34m(\u001b[0m\u001b[0mself\u001b[0m\u001b[0;34m,\u001b[0m \u001b[0mx\u001b[0m\u001b[0;34m)\u001b[0m\u001b[0;34m:\u001b[0m\u001b[0;34m\u001b[0m\u001b[0;34m\u001b[0m\u001b[0m\n\u001b[0;32m---> 66\u001b[0;31m         \u001b[0;32mreturn\u001b[0m \u001b[0mself\u001b[0m\u001b[0;34m.\u001b[0m\u001b[0mmodel\u001b[0m\u001b[0;34m(\u001b[0m\u001b[0mx\u001b[0m\u001b[0;34m)\u001b[0m  \u001b[0;31m# Use the model instance directly\u001b[0m\u001b[0;34m\u001b[0m\u001b[0;34m\u001b[0m\u001b[0m\n\u001b[0m\u001b[1;32m     67\u001b[0m \u001b[0;34m\u001b[0m\u001b[0m\n\u001b[1;32m     68\u001b[0m     \u001b[0;32mdef\u001b[0m \u001b[0mgenerate\u001b[0m\u001b[0;34m(\u001b[0m\u001b[0mself\u001b[0m\u001b[0;34m,\u001b[0m \u001b[0mtarget_class\u001b[0m\u001b[0;34m)\u001b[0m\u001b[0;34m:\u001b[0m\u001b[0;34m\u001b[0m\u001b[0;34m\u001b[0m\u001b[0m\n",
      "\u001b[0;32m~/opt/anaconda3/lib/python3.9/site-packages/torch/nn/modules/module.py\u001b[0m in \u001b[0;36m_call_impl\u001b[0;34m(self, *input, **kwargs)\u001b[0m\n\u001b[1;32m   1192\u001b[0m         if not (self._backward_hooks or self._forward_hooks or self._forward_pre_hooks or _global_backward_hooks\n\u001b[1;32m   1193\u001b[0m                 or _global_forward_hooks or _global_forward_pre_hooks):\n\u001b[0;32m-> 1194\u001b[0;31m             \u001b[0;32mreturn\u001b[0m \u001b[0mforward_call\u001b[0m\u001b[0;34m(\u001b[0m\u001b[0;34m*\u001b[0m\u001b[0minput\u001b[0m\u001b[0;34m,\u001b[0m \u001b[0;34m**\u001b[0m\u001b[0mkwargs\u001b[0m\u001b[0;34m)\u001b[0m\u001b[0;34m\u001b[0m\u001b[0;34m\u001b[0m\u001b[0m\n\u001b[0m\u001b[1;32m   1195\u001b[0m         \u001b[0;31m# Do not call functions when jit is used\u001b[0m\u001b[0;34m\u001b[0m\u001b[0;34m\u001b[0m\u001b[0m\n\u001b[1;32m   1196\u001b[0m         \u001b[0mfull_backward_hooks\u001b[0m\u001b[0;34m,\u001b[0m \u001b[0mnon_full_backward_hooks\u001b[0m \u001b[0;34m=\u001b[0m \u001b[0;34m[\u001b[0m\u001b[0;34m]\u001b[0m\u001b[0;34m,\u001b[0m \u001b[0;34m[\u001b[0m\u001b[0;34m]\u001b[0m\u001b[0;34m\u001b[0m\u001b[0;34m\u001b[0m\u001b[0m\n",
      "\u001b[0;32m/var/folders/dy/76wm8jgj50vc8kygzhcz93jw0000gn/T/ipykernel_18211/1094515956.py\u001b[0m in \u001b[0;36mforward\u001b[0;34m(self, x)\u001b[0m\n\u001b[1;32m     17\u001b[0m \u001b[0;34m\u001b[0m\u001b[0m\n\u001b[1;32m     18\u001b[0m     \u001b[0;32mdef\u001b[0m \u001b[0mforward\u001b[0m\u001b[0;34m(\u001b[0m\u001b[0mself\u001b[0m\u001b[0;34m,\u001b[0m \u001b[0mx\u001b[0m\u001b[0;34m)\u001b[0m\u001b[0;34m:\u001b[0m\u001b[0;34m\u001b[0m\u001b[0;34m\u001b[0m\u001b[0m\n\u001b[0;32m---> 19\u001b[0;31m         \u001b[0m_\u001b[0m\u001b[0;34m,\u001b[0m \u001b[0mh_n\u001b[0m \u001b[0;34m=\u001b[0m \u001b[0mself\u001b[0m\u001b[0;34m.\u001b[0m\u001b[0mrnn\u001b[0m\u001b[0;34m(\u001b[0m\u001b[0mx\u001b[0m\u001b[0;34m)\u001b[0m\u001b[0;34m\u001b[0m\u001b[0;34m\u001b[0m\u001b[0m\n\u001b[0m\u001b[1;32m     20\u001b[0m         \u001b[0mh_n\u001b[0m \u001b[0;34m=\u001b[0m \u001b[0mself\u001b[0m\u001b[0;34m.\u001b[0m\u001b[0mdropout\u001b[0m\u001b[0;34m(\u001b[0m \u001b[0mh_n\u001b[0m\u001b[0;34m)\u001b[0m\u001b[0;34m\u001b[0m\u001b[0;34m\u001b[0m\u001b[0m\n\u001b[1;32m     21\u001b[0m         \u001b[0mout\u001b[0m \u001b[0;34m=\u001b[0m \u001b[0mself\u001b[0m\u001b[0;34m.\u001b[0m\u001b[0mfc\u001b[0m\u001b[0;34m(\u001b[0m\u001b[0mh_n\u001b[0m\u001b[0;34m.\u001b[0m\u001b[0msqueeze\u001b[0m\u001b[0;34m(\u001b[0m\u001b[0;36m0\u001b[0m\u001b[0;34m)\u001b[0m\u001b[0;34m)\u001b[0m\u001b[0;34m\u001b[0m\u001b[0;34m\u001b[0m\u001b[0m\n",
      "\u001b[0;32m~/opt/anaconda3/lib/python3.9/site-packages/torch/nn/modules/module.py\u001b[0m in \u001b[0;36m_call_impl\u001b[0;34m(self, *input, **kwargs)\u001b[0m\n\u001b[1;32m   1192\u001b[0m         if not (self._backward_hooks or self._forward_hooks or self._forward_pre_hooks or _global_backward_hooks\n\u001b[1;32m   1193\u001b[0m                 or _global_forward_hooks or _global_forward_pre_hooks):\n\u001b[0;32m-> 1194\u001b[0;31m             \u001b[0;32mreturn\u001b[0m \u001b[0mforward_call\u001b[0m\u001b[0;34m(\u001b[0m\u001b[0;34m*\u001b[0m\u001b[0minput\u001b[0m\u001b[0;34m,\u001b[0m \u001b[0;34m**\u001b[0m\u001b[0mkwargs\u001b[0m\u001b[0;34m)\u001b[0m\u001b[0;34m\u001b[0m\u001b[0;34m\u001b[0m\u001b[0m\n\u001b[0m\u001b[1;32m   1195\u001b[0m         \u001b[0;31m# Do not call functions when jit is used\u001b[0m\u001b[0;34m\u001b[0m\u001b[0;34m\u001b[0m\u001b[0m\n\u001b[1;32m   1196\u001b[0m         \u001b[0mfull_backward_hooks\u001b[0m\u001b[0;34m,\u001b[0m \u001b[0mnon_full_backward_hooks\u001b[0m \u001b[0;34m=\u001b[0m \u001b[0;34m[\u001b[0m\u001b[0;34m]\u001b[0m\u001b[0;34m,\u001b[0m \u001b[0;34m[\u001b[0m\u001b[0;34m]\u001b[0m\u001b[0;34m\u001b[0m\u001b[0;34m\u001b[0m\u001b[0m\n",
      "\u001b[0;32m~/opt/anaconda3/lib/python3.9/site-packages/torch/nn/modules/rnn.py\u001b[0m in \u001b[0;36mforward\u001b[0;34m(self, input, hx)\u001b[0m\n\u001b[1;32m    924\u001b[0m         \u001b[0;32melse\u001b[0m\u001b[0;34m:\u001b[0m\u001b[0;34m\u001b[0m\u001b[0;34m\u001b[0m\u001b[0m\n\u001b[1;32m    925\u001b[0m             \u001b[0mbatch_sizes\u001b[0m \u001b[0;34m=\u001b[0m \u001b[0;32mNone\u001b[0m\u001b[0;34m\u001b[0m\u001b[0;34m\u001b[0m\u001b[0m\n\u001b[0;32m--> 926\u001b[0;31m             \u001b[0mis_batched\u001b[0m \u001b[0;34m=\u001b[0m \u001b[0minput\u001b[0m\u001b[0;34m.\u001b[0m\u001b[0mdim\u001b[0m\u001b[0;34m(\u001b[0m\u001b[0;34m)\u001b[0m \u001b[0;34m==\u001b[0m \u001b[0;36m3\u001b[0m\u001b[0;34m\u001b[0m\u001b[0;34m\u001b[0m\u001b[0m\n\u001b[0m\u001b[1;32m    927\u001b[0m             \u001b[0mbatch_dim\u001b[0m \u001b[0;34m=\u001b[0m \u001b[0;36m0\u001b[0m \u001b[0;32mif\u001b[0m \u001b[0mself\u001b[0m\u001b[0;34m.\u001b[0m\u001b[0mbatch_first\u001b[0m \u001b[0;32melse\u001b[0m \u001b[0;36m1\u001b[0m\u001b[0;34m\u001b[0m\u001b[0;34m\u001b[0m\u001b[0m\n\u001b[1;32m    928\u001b[0m             \u001b[0;32mif\u001b[0m \u001b[0;32mnot\u001b[0m \u001b[0mis_batched\u001b[0m\u001b[0;34m:\u001b[0m\u001b[0;34m\u001b[0m\u001b[0;34m\u001b[0m\u001b[0m\n",
      "\u001b[0;31mAttributeError\u001b[0m: 'function' object has no attribute 'dim'"
     ]
    }
   ],
   "source": [
    "\n",
    "model.train()\n",
    "for epoch in range(num_epochs):\n",
    "    optimizer.zero_grad()\n",
    "    outputs = model(train_data)\n",
    "    train_loss = criterion(outputs.squeeze(), train_labels)\n",
    "    train_loss.backward()\n",
    "    optimizer.step()\n",
    "    \n",
    "    # Calculate test loss\n",
    "    model.eval()  # Switch to evaluation mode\n",
    "    with torch.no_grad():\n",
    "        test_outputs = model(test_data)\n",
    "        test_loss = criterion(test_outputs.squeeze(), test_labels)\n",
    "    \n",
    "    # Print both train and test loss\n",
    "    print(f'Epoch [{epoch+1}/{num_epochs}], Training Loss: {train_loss.item()}, Test Loss: {test_loss.item()}')\n",
    "\n",
    "# Create an instance of GuidedGradCam\n",
    "guided_grad_cam = GuidedGradCam(model, target_layer='fc')\n",
    "\n",
    "# Select a random test sample\n",
    "sample_idx = np.random.randint(len(test_data))\n",
    "sample_data = test_data[sample_idx].unsqueeze(0)\n",
    "sample_label = test_labels[sample_idx]\n",
    "\n",
    "\n",
    "\n",
    "\n",
    "# Generate the Guided Grad-CAM visualization\n",
    "cam = guided_grad_cam.generate(target_class=sample_label)\n",
    "\n",
    "\n",
    "\n",
    "\n",
    "\n",
    "\n",
    "# Plot the DNA sequence and its corresponding Guided Grad-CAM\n",
    "plt.figure(figsize=(12, 4))\n",
    "plt.subplot(1, 2, 1)\n",
    "plt.imshow(sample_data.squeeze().T, cmap='binary', aspect='auto')\n",
    "plt.title('DNA Sequence')\n",
    "plt.xlabel('Position')\n",
    "plt.ylabel('Nucleotide')\n",
    "plt.subplot(1, 2, 2)\n",
    "plt.imshow(cam, cmap='jet', aspect='auto')\n",
    "plt.title('Guided Grad-CAM')\n",
    "plt.xlabel('Position')\n",
    "plt.ylabel('Importance')\n",
    "plt.colorbar()\n",
    "plt.tight_layout()\n",
    "plt.show()\n",
    "\n"
   ]
  },
  {
   "cell_type": "code",
   "execution_count": null,
   "id": "25092a71",
   "metadata": {},
   "outputs": [],
   "source": [
    "class GuidedGradCam:\n",
    "    # ...\n",
    "\n",
    "    def forward(self, x):\n",
    "        return self.model(x)  # Use the model instance directly\n",
    "\n",
    "    def generate(self, target_class):\n",
    "        self.model.zero_grad()\n",
    "        output = self.forward(x)  # Call forward with the input tensor\n",
    "        one_hot = torch.zeros((1, output.size()[-1]), dtype=torch.float32)\n",
    "        one_hot[0][target_class] = 1.0\n",
    "        one_hot = torch.sum(one_hot * output)\n",
    "\n",
    "        one_hot.backward(retain_graph=True)\n",
    "        grads = self.gradients.cpu().data.numpy()\n",
    "        feature_maps = self.feature_maps.cpu().data.numpy()[0]\n",
    "\n",
    "        weights = np.mean(grads, axis=2)\n",
    "        cam = np.zeros(feature_maps.shape[1:], dtype=np.float32)\n",
    "\n",
    "        for i, w in enumerate(weights):\n",
    "            cam += w * feature_maps[i, :]\n",
    "\n",
    "        cam = np.maximum(cam, 0)\n",
    "        cam = cam - np.min(cam)\n",
    "        cam = cam / np.max(cam)\n",
    "\n",
    "        return cam\n",
    "\n",
    "# ...\n",
    "\n",
    "# Create an instance of GuidedGradCam\n",
    "guided_grad_cam = GuidedGradCam(model, target_layer='fc')\n",
    "\n",
    "# ...\n",
    "\n",
    "# Generate the Guided Grad-CAM visualization\n",
    "cam = guided_grad_cam.generate(target_class=sample_label)\n"
   ]
  },
  {
   "cell_type": "code",
   "execution_count": null,
   "id": "1b4fbd64",
   "metadata": {},
   "outputs": [],
   "source": []
  },
  {
   "cell_type": "code",
   "execution_count": null,
   "id": "561d98c7",
   "metadata": {},
   "outputs": [],
   "source": []
  },
  {
   "attachments": {},
   "cell_type": "markdown",
   "id": "219dd34c",
   "metadata": {},
   "source": [
    "# модель 6 - рекурентная + GradCam"
   ]
  },
  {
   "cell_type": "code",
   "execution_count": null,
   "id": "660af547",
   "metadata": {},
   "outputs": [],
   "source": [
    "import numpy as np\n",
    "import torch\n",
    "import torch.nn as nn\n",
    "import torch.optim as optim\n",
    "from torch.autograd import Function\n",
    "import matplotlib.pyplot as plt\n",
    "from sklearn.model_selection import train_test_split\n",
    "\n",
    "# Define the DNASequenceClassifier model\n",
    "class DNASequenceClassifier(nn.Module):\n",
    "    def __init__(self, input_size, hidden_size, num_classes):\n",
    "        super(DNASequenceClassifier, self).__init__()\n",
    "        self.hidden_size = hidden_size\n",
    "        self.rnn = nn.GRU(input_size, hidden_size, batch_first=True)\n",
    "        self.fc = nn.Linear(hidden_size, num_classes)\n",
    "    \n",
    "    def forward(self, x):\n",
    "        _, h_n = self.rnn(x)\n",
    "        out = self.fc(h_n.squeeze(0))\n",
    "        return out\n",
    "\n",
    "class GuidedBackpropReLU(Function):\n",
    "    @staticmethod\n",
    "    def forward(ctx, input):\n",
    "        positive_mask = (input > 0).type_as(input)\n",
    "        output = torch.addcmul(torch.zeros(input.size()).type_as(input), input, positive_mask)\n",
    "        ctx.save_for_backward(output)\n",
    "        return output\n",
    "\n",
    "    @staticmethod\n",
    "    def backward(ctx, grad_output):\n",
    "        output, = ctx.saved_tensors\n",
    "        grad_input = None\n",
    "\n",
    "        positive_mask_1 = (output > 0).type_as(grad_output)\n",
    "        positive_mask_2 = (grad_output > 0).type_as(grad_output)\n",
    "        grad_input = torch.addcmul(torch.zeros(output.size()).type_as(grad_output), torch.addcmul(torch.zeros(output.size()).type_as(grad_output), grad_output, positive_mask_1), positive_mask_2)\n",
    "\n",
    "        return grad_input\n",
    "\n",
    "\n",
    "class GuidedGradCam:\n",
    "    def __init__(self, model, target_layer):\n",
    "        self.model = model\n",
    "        self.target_layer = target_layer\n",
    "        self.gradients = None\n",
    "\n",
    "        self.model.eval()\n",
    "        self.register_hooks()\n",
    "\n",
    "    def register_hooks(self):\n",
    "        target_layer = self.model._modules.get(self.target_layer)\n",
    "\n",
    "        def forward_hook(module, input, output):\n",
    "            self.feature_maps = output\n",
    "\n",
    "        def backward_hook(module, grad_input, grad_output):\n",
    "            self.gradients = grad_output[0]\n",
    "\n",
    "        target_layer.register_forward_hook(forward_hook)\n",
    "        target_layer.register_backward_hook(backward_hook)\n",
    "\n",
    "    def forward(self, x):\n",
    "        return self.model(x)  # Use the model instance directly\n",
    "\n",
    "    def generate(self, target_class):\n",
    "        self.model.zero_grad()\n",
    "        output = self.forward(input)  # Call forward with the input tensor\n",
    "        one_hot = torch.zeros((1, output.size()[-1]), dtype=torch.float32)\n",
    "        one_hot[0][target_class] = 1.0\n",
    "        one_hot = torch.sum(one_hot * output)\n",
    "\n",
    "        one_hot.backward(retain_graph=True)\n",
    "        grads = self.gradients.cpu().data.numpy()\n",
    "        feature_maps = self.feature_maps.cpu().data.numpy()[0]\n",
    "\n",
    "        weights = np.mean(grads, axis=2)\n",
    "        cam = np.zeros(feature_maps.shape[1:], dtype=np.float32)\n",
    "\n",
    "        for i, w in enumerate(weights):\n",
    "            cam += w * feature_maps[i, :]\n",
    "\n",
    "        cam = np.maximum(cam, 0)\n",
    "        cam = cam - np.min(cam)\n",
    "        cam = cam / np.max(cam)\n",
    "\n",
    "        return cam\n",
    "    \n",
    "# Load DNA sequence data and labels (example using DeepBind dataset)\n",
    "sequences = X_small\n",
    "labels = y_small\n",
    "\n",
    "# Create a dictionary for encoding nucleotides\n",
    "dictionary = {'A': 0, 'C': 1, 'G': 2, 'T': 3}\n",
    "\n",
    "# Preprocess the DNA sequences\n",
    "max_sequence_length = max(len(seq) for seq in sequences)\n",
    "num_classes = 2\n",
    "encoded_sequences = np.zeros((len(sequences), max_sequence_length, len(dictionary)), dtype=np.float32)\n",
    "for i, seq in enumerate(sequences):\n",
    "    for j, nucleotide in enumerate(seq):\n",
    "        encoded_sequences[i, j, dictionary[nucleotide]] = 1.0\n",
    "\n",
    "# Convert labels to numerical format\n",
    "encoded_labels = np.array([int(label) for label in labels])\n",
    "\n",
    "# Split the data into training and testing sets\n",
    "train_data, test_data, train_labels, test_labels = train_test_split(encoded_sequences, encoded_labels, test_size=0.2, random_state=42)\n",
    "\n",
    "# Convert data to PyTorch tensors\n",
    "train_data = torch.tensor(train_data)\n",
    "train_labels = torch.tensor(train_labels)\n",
    "test_data = torch.tensor(test_data)\n",
    "test_labels = torch.tensor(test_labels)\n",
    "\n",
    "# Create an instance of the DNASequenceClassifier model\n",
    "input_size = train_data.size(2)\n",
    "hidden_size = 32\n",
    "num_classes = 2\n",
    "model = DNASequenceClassifier(input_size, hidden_size, num_classes)\n",
    "\n",
    "# Define training parameters\n",
    "num_epochs = 15\n",
    "batch_size = 32\n",
    "\n",
    "# Train the model\n",
    "criterion = nn.CrossEntropyLoss()\n",
    "optimizer = optim.Adam(model.parameters(), lr=0.001)\n",
    "\n"
   ]
  },
  {
   "cell_type": "code",
   "execution_count": 17,
   "id": "58c8a22a",
   "metadata": {},
   "outputs": [
    {
     "data": {
      "text/plain": [
       "1001"
      ]
     },
     "execution_count": 17,
     "metadata": {},
     "output_type": "execute_result"
    }
   ],
   "source": [
    "len(X[0])"
   ]
  },
  {
   "attachments": {},
   "cell_type": "markdown",
   "id": "5c0fcfff",
   "metadata": {},
   "source": [
    "# модель 7 просто рнн лстм - работает но слишком медленно"
   ]
  },
  {
   "cell_type": "code",
   "execution_count": 13,
   "id": "a9ce8e86",
   "metadata": {},
   "outputs": [],
   "source": [
    "import numpy as np\n",
    "\n",
    "# Загрузка данных из файлов с разрешением pickle\n",
    "X = np.load('X.npy', allow_pickle=True)\n",
    "y = np.load('y.npy', allow_pickle=True)\n",
    "\n",
    "\n",
    "#train_df, test_df = train_test_split(df, test_size=0.2, random_state=42)\n",
    "\n",
    "import torch\n",
    "from torch.utils.data import Dataset, DataLoader\n",
    "X_small = X[:1000]\n",
    "y_small = y[:1000]"
   ]
  },
  {
   "cell_type": "code",
   "execution_count": 14,
   "id": "b2371e61",
   "metadata": {},
   "outputs": [],
   "source": [
    "\n",
    "from sklearn.model_selection import train_test_split\n",
    "\n",
    "# Последовательности ДНК и метки классов\n",
    "sequences = X\n",
    "labels = y\n",
    "\n",
    "# Создание словаря для кодирования\n",
    "dictionary = {'A': 0, 'C': 1, 'G': 2, 'T': 3}\n",
    "\n",
    "# Преобразование последовательностей ДНК в векторы one-hot\n",
    "max_sequence_length = max(len(seq) for seq in sequences)\n",
    "num_classes = 2  # Количество классов (0 и 1)\n",
    "\n",
    "encoded_sequences = np.zeros((len(sequences), max_sequence_length, len(dictionary)), dtype=np.float32)\n",
    "for i, seq in enumerate(sequences):\n",
    "    for j, nucleotide in enumerate(seq):\n",
    "        encoded_sequences[i, j, dictionary[nucleotide]] = 1.0\n",
    "\n",
    "# Преобразование меток классов в числовой формат\n",
    "encoded_labels = np.array([int(label) for label in labels])\n",
    "\n",
    "# Разделение данных на тренировочную и тестовую выборки\n",
    "train_data, test_data, train_labels, test_labels = train_test_split(encoded_sequences, encoded_labels, test_size=0.2, random_state=42)\n",
    "\n",
    "# Преобразование в тензоры PyTorch\n",
    "train_data = torch.tensor(train_data)\n",
    "train_labels = torch.tensor(train_labels)\n",
    "test_data = torch.tensor(test_data)\n",
    "test_labels = torch.tensor(test_labels)\n",
    "\n"
   ]
  },
  {
   "cell_type": "code",
   "execution_count": 24,
   "id": "a8ea3831",
   "metadata": {},
   "outputs": [
    {
     "data": {
      "text/plain": [
       "tensor([[0., 1., 0., 0.],\n",
       "        [0., 0., 0., 1.],\n",
       "        [0., 0., 1., 0.],\n",
       "        ...,\n",
       "        [1., 0., 0., 0.],\n",
       "        [1., 0., 0., 0.],\n",
       "        [1., 0., 0., 0.]])"
      ]
     },
     "execution_count": 24,
     "metadata": {},
     "output_type": "execute_result"
    }
   ],
   "source": [
    "train_data[5]"
   ]
  },
  {
   "cell_type": "code",
   "execution_count": 34,
   "id": "fa2c162c",
   "metadata": {},
   "outputs": [],
   "source": [
    "import tensorflow as tf\n",
    "log_dir = \"/Users/polilya/Desktop/пайплайн/try_tens_1.tfevents\"\n",
    "tensorboard_callback = tf.keras.callbacks.TensorBoard(log_dir=log_dir)"
   ]
  },
  {
   "cell_type": "code",
   "execution_count": 30,
   "id": "35d25cef",
   "metadata": {},
   "outputs": [
    {
     "name": "stdout",
     "output_type": "stream",
     "text": [
      "Epoch 1/10\n"
     ]
    },
    {
     "name": "stderr",
     "output_type": "stream",
     "text": [
      "2023-06-01 13:07:18.158596: I tensorflow/core/common_runtime/executor.cc:1197] [/device:CPU:0] (DEBUG INFO) Executor start aborting (this does not indicate an error and you can ignore this message): INVALID_ARGUMENT: You must feed a value for placeholder tensor 'gradients/split_2_grad/concat/split_2/split_dim' with dtype int32\n",
      "\t [[{{node gradients/split_2_grad/concat/split_2/split_dim}}]]\n",
      "2023-06-01 13:07:18.160677: I tensorflow/core/common_runtime/executor.cc:1197] [/device:CPU:0] (DEBUG INFO) Executor start aborting (this does not indicate an error and you can ignore this message): INVALID_ARGUMENT: You must feed a value for placeholder tensor 'gradients/split_grad/concat/split/split_dim' with dtype int32\n",
      "\t [[{{node gradients/split_grad/concat/split/split_dim}}]]\n",
      "2023-06-01 13:07:18.162250: I tensorflow/core/common_runtime/executor.cc:1197] [/device:CPU:0] (DEBUG INFO) Executor start aborting (this does not indicate an error and you can ignore this message): INVALID_ARGUMENT: You must feed a value for placeholder tensor 'gradients/split_1_grad/concat/split_1/split_dim' with dtype int32\n",
      "\t [[{{node gradients/split_1_grad/concat/split_1/split_dim}}]]\n",
      "2023-06-01 13:07:18.552504: I tensorflow/core/common_runtime/executor.cc:1197] [/device:CPU:0] (DEBUG INFO) Executor start aborting (this does not indicate an error and you can ignore this message): INVALID_ARGUMENT: You must feed a value for placeholder tensor 'gradients/split_2_grad/concat/split_2/split_dim' with dtype int32\n",
      "\t [[{{node gradients/split_2_grad/concat/split_2/split_dim}}]]\n",
      "2023-06-01 13:07:18.554482: I tensorflow/core/common_runtime/executor.cc:1197] [/device:CPU:0] (DEBUG INFO) Executor start aborting (this does not indicate an error and you can ignore this message): INVALID_ARGUMENT: You must feed a value for placeholder tensor 'gradients/split_grad/concat/split/split_dim' with dtype int32\n",
      "\t [[{{node gradients/split_grad/concat/split/split_dim}}]]\n",
      "2023-06-01 13:07:18.555978: I tensorflow/core/common_runtime/executor.cc:1197] [/device:CPU:0] (DEBUG INFO) Executor start aborting (this does not indicate an error and you can ignore this message): INVALID_ARGUMENT: You must feed a value for placeholder tensor 'gradients/split_1_grad/concat/split_1/split_dim' with dtype int32\n",
      "\t [[{{node gradients/split_1_grad/concat/split_1/split_dim}}]]\n",
      "2023-06-01 13:07:19.253050: I tensorflow/core/common_runtime/executor.cc:1197] [/device:CPU:0] (DEBUG INFO) Executor start aborting (this does not indicate an error and you can ignore this message): INVALID_ARGUMENT: You must feed a value for placeholder tensor 'gradients/split_2_grad/concat/split_2/split_dim' with dtype int32\n",
      "\t [[{{node gradients/split_2_grad/concat/split_2/split_dim}}]]\n",
      "2023-06-01 13:07:19.255110: I tensorflow/core/common_runtime/executor.cc:1197] [/device:CPU:0] (DEBUG INFO) Executor start aborting (this does not indicate an error and you can ignore this message): INVALID_ARGUMENT: You must feed a value for placeholder tensor 'gradients/split_grad/concat/split/split_dim' with dtype int32\n",
      "\t [[{{node gradients/split_grad/concat/split/split_dim}}]]\n",
      "2023-06-01 13:07:19.256681: I tensorflow/core/common_runtime/executor.cc:1197] [/device:CPU:0] (DEBUG INFO) Executor start aborting (this does not indicate an error and you can ignore this message): INVALID_ARGUMENT: You must feed a value for placeholder tensor 'gradients/split_1_grad/concat/split_1/split_dim' with dtype int32\n",
      "\t [[{{node gradients/split_1_grad/concat/split_1/split_dim}}]]\n"
     ]
    },
    {
     "name": "stdout",
     "output_type": "stream",
     "text": [
      "461/461 [==============================] - 150s 319ms/step - loss: 0.6236 - accuracy: 0.6624\n",
      "Epoch 2/10\n",
      " 17/461 [>.............................] - ETA: 2:10 - loss: 0.6015 - accuracy: 0.7059"
     ]
    },
    {
     "ename": "KeyboardInterrupt",
     "evalue": "",
     "output_type": "error",
     "traceback": [
      "\u001b[0;31m---------------------------------------------------------------------------\u001b[0m",
      "\u001b[0;31mKeyboardInterrupt\u001b[0m                         Traceback (most recent call last)",
      "\u001b[0;32m/var/folders/dy/76wm8jgj50vc8kygzhcz93jw0000gn/T/ipykernel_14812/2535231723.py\u001b[0m in \u001b[0;36m<module>\u001b[0;34m\u001b[0m\n\u001b[1;32m     25\u001b[0m \u001b[0;31m# Компиляция и обучение модели\u001b[0m\u001b[0;34m\u001b[0m\u001b[0;34m\u001b[0m\u001b[0m\n\u001b[1;32m     26\u001b[0m \u001b[0mmodel\u001b[0m\u001b[0;34m.\u001b[0m\u001b[0mcompile\u001b[0m\u001b[0;34m(\u001b[0m\u001b[0mloss\u001b[0m\u001b[0;34m=\u001b[0m\u001b[0;34m'categorical_crossentropy'\u001b[0m\u001b[0;34m,\u001b[0m \u001b[0moptimizer\u001b[0m\u001b[0;34m=\u001b[0m\u001b[0;34m'adam'\u001b[0m\u001b[0;34m,\u001b[0m \u001b[0mmetrics\u001b[0m\u001b[0;34m=\u001b[0m\u001b[0;34m[\u001b[0m\u001b[0;34m'accuracy'\u001b[0m\u001b[0;34m]\u001b[0m\u001b[0;34m)\u001b[0m\u001b[0;34m\u001b[0m\u001b[0;34m\u001b[0m\u001b[0m\n\u001b[0;32m---> 27\u001b[0;31m \u001b[0mmodel\u001b[0m\u001b[0;34m.\u001b[0m\u001b[0mfit\u001b[0m\u001b[0;34m(\u001b[0m\u001b[0mX_train\u001b[0m\u001b[0;34m,\u001b[0m \u001b[0my_train\u001b[0m\u001b[0;34m,\u001b[0m \u001b[0mepochs\u001b[0m\u001b[0;34m=\u001b[0m\u001b[0;36m10\u001b[0m\u001b[0;34m,\u001b[0m \u001b[0mbatch_size\u001b[0m\u001b[0;34m=\u001b[0m\u001b[0;36m32\u001b[0m\u001b[0;34m)\u001b[0m\u001b[0;34m\u001b[0m\u001b[0;34m\u001b[0m\u001b[0m\n\u001b[0m\u001b[1;32m     28\u001b[0m \u001b[0;34m\u001b[0m\u001b[0m\n\u001b[1;32m     29\u001b[0m \u001b[0;31m# После обучения модели можно использовать для предсказания новых данных\u001b[0m\u001b[0;34m\u001b[0m\u001b[0;34m\u001b[0m\u001b[0m\n",
      "\u001b[0;32m~/opt/anaconda3/lib/python3.9/site-packages/keras/utils/traceback_utils.py\u001b[0m in \u001b[0;36merror_handler\u001b[0;34m(*args, **kwargs)\u001b[0m\n\u001b[1;32m     63\u001b[0m         \u001b[0mfiltered_tb\u001b[0m \u001b[0;34m=\u001b[0m \u001b[0;32mNone\u001b[0m\u001b[0;34m\u001b[0m\u001b[0;34m\u001b[0m\u001b[0m\n\u001b[1;32m     64\u001b[0m         \u001b[0;32mtry\u001b[0m\u001b[0;34m:\u001b[0m\u001b[0;34m\u001b[0m\u001b[0;34m\u001b[0m\u001b[0m\n\u001b[0;32m---> 65\u001b[0;31m             \u001b[0;32mreturn\u001b[0m \u001b[0mfn\u001b[0m\u001b[0;34m(\u001b[0m\u001b[0;34m*\u001b[0m\u001b[0margs\u001b[0m\u001b[0;34m,\u001b[0m \u001b[0;34m**\u001b[0m\u001b[0mkwargs\u001b[0m\u001b[0;34m)\u001b[0m\u001b[0;34m\u001b[0m\u001b[0;34m\u001b[0m\u001b[0m\n\u001b[0m\u001b[1;32m     66\u001b[0m         \u001b[0;32mexcept\u001b[0m \u001b[0mException\u001b[0m \u001b[0;32mas\u001b[0m \u001b[0me\u001b[0m\u001b[0;34m:\u001b[0m\u001b[0;34m\u001b[0m\u001b[0;34m\u001b[0m\u001b[0m\n\u001b[1;32m     67\u001b[0m             \u001b[0mfiltered_tb\u001b[0m \u001b[0;34m=\u001b[0m \u001b[0m_process_traceback_frames\u001b[0m\u001b[0;34m(\u001b[0m\u001b[0me\u001b[0m\u001b[0;34m.\u001b[0m\u001b[0m__traceback__\u001b[0m\u001b[0;34m)\u001b[0m\u001b[0;34m\u001b[0m\u001b[0;34m\u001b[0m\u001b[0m\n",
      "\u001b[0;32m~/opt/anaconda3/lib/python3.9/site-packages/keras/engine/training.py\u001b[0m in \u001b[0;36mfit\u001b[0;34m(self, x, y, batch_size, epochs, verbose, callbacks, validation_split, validation_data, shuffle, class_weight, sample_weight, initial_epoch, steps_per_epoch, validation_steps, validation_batch_size, validation_freq, max_queue_size, workers, use_multiprocessing)\u001b[0m\n\u001b[1;32m   1683\u001b[0m                         ):\n\u001b[1;32m   1684\u001b[0m                             \u001b[0mcallbacks\u001b[0m\u001b[0;34m.\u001b[0m\u001b[0mon_train_batch_begin\u001b[0m\u001b[0;34m(\u001b[0m\u001b[0mstep\u001b[0m\u001b[0;34m)\u001b[0m\u001b[0;34m\u001b[0m\u001b[0;34m\u001b[0m\u001b[0m\n\u001b[0;32m-> 1685\u001b[0;31m                             \u001b[0mtmp_logs\u001b[0m \u001b[0;34m=\u001b[0m \u001b[0mself\u001b[0m\u001b[0;34m.\u001b[0m\u001b[0mtrain_function\u001b[0m\u001b[0;34m(\u001b[0m\u001b[0miterator\u001b[0m\u001b[0;34m)\u001b[0m\u001b[0;34m\u001b[0m\u001b[0;34m\u001b[0m\u001b[0m\n\u001b[0m\u001b[1;32m   1686\u001b[0m                             \u001b[0;32mif\u001b[0m \u001b[0mdata_handler\u001b[0m\u001b[0;34m.\u001b[0m\u001b[0mshould_sync\u001b[0m\u001b[0;34m:\u001b[0m\u001b[0;34m\u001b[0m\u001b[0;34m\u001b[0m\u001b[0m\n\u001b[1;32m   1687\u001b[0m                                 \u001b[0mcontext\u001b[0m\u001b[0;34m.\u001b[0m\u001b[0masync_wait\u001b[0m\u001b[0;34m(\u001b[0m\u001b[0;34m)\u001b[0m\u001b[0;34m\u001b[0m\u001b[0;34m\u001b[0m\u001b[0m\n",
      "\u001b[0;32m~/opt/anaconda3/lib/python3.9/site-packages/tensorflow/python/util/traceback_utils.py\u001b[0m in \u001b[0;36merror_handler\u001b[0;34m(*args, **kwargs)\u001b[0m\n\u001b[1;32m    148\u001b[0m     \u001b[0mfiltered_tb\u001b[0m \u001b[0;34m=\u001b[0m \u001b[0;32mNone\u001b[0m\u001b[0;34m\u001b[0m\u001b[0;34m\u001b[0m\u001b[0m\n\u001b[1;32m    149\u001b[0m     \u001b[0;32mtry\u001b[0m\u001b[0;34m:\u001b[0m\u001b[0;34m\u001b[0m\u001b[0;34m\u001b[0m\u001b[0m\n\u001b[0;32m--> 150\u001b[0;31m       \u001b[0;32mreturn\u001b[0m \u001b[0mfn\u001b[0m\u001b[0;34m(\u001b[0m\u001b[0;34m*\u001b[0m\u001b[0margs\u001b[0m\u001b[0;34m,\u001b[0m \u001b[0;34m**\u001b[0m\u001b[0mkwargs\u001b[0m\u001b[0;34m)\u001b[0m\u001b[0;34m\u001b[0m\u001b[0;34m\u001b[0m\u001b[0m\n\u001b[0m\u001b[1;32m    151\u001b[0m     \u001b[0;32mexcept\u001b[0m \u001b[0mException\u001b[0m \u001b[0;32mas\u001b[0m \u001b[0me\u001b[0m\u001b[0;34m:\u001b[0m\u001b[0;34m\u001b[0m\u001b[0;34m\u001b[0m\u001b[0m\n\u001b[1;32m    152\u001b[0m       \u001b[0mfiltered_tb\u001b[0m \u001b[0;34m=\u001b[0m \u001b[0m_process_traceback_frames\u001b[0m\u001b[0;34m(\u001b[0m\u001b[0me\u001b[0m\u001b[0;34m.\u001b[0m\u001b[0m__traceback__\u001b[0m\u001b[0;34m)\u001b[0m\u001b[0;34m\u001b[0m\u001b[0;34m\u001b[0m\u001b[0m\n",
      "\u001b[0;32m~/opt/anaconda3/lib/python3.9/site-packages/tensorflow/python/eager/polymorphic_function/polymorphic_function.py\u001b[0m in \u001b[0;36m__call__\u001b[0;34m(self, *args, **kwds)\u001b[0m\n\u001b[1;32m    892\u001b[0m \u001b[0;34m\u001b[0m\u001b[0m\n\u001b[1;32m    893\u001b[0m       \u001b[0;32mwith\u001b[0m \u001b[0mOptionalXlaContext\u001b[0m\u001b[0;34m(\u001b[0m\u001b[0mself\u001b[0m\u001b[0;34m.\u001b[0m\u001b[0m_jit_compile\u001b[0m\u001b[0;34m)\u001b[0m\u001b[0;34m:\u001b[0m\u001b[0;34m\u001b[0m\u001b[0;34m\u001b[0m\u001b[0m\n\u001b[0;32m--> 894\u001b[0;31m         \u001b[0mresult\u001b[0m \u001b[0;34m=\u001b[0m \u001b[0mself\u001b[0m\u001b[0;34m.\u001b[0m\u001b[0m_call\u001b[0m\u001b[0;34m(\u001b[0m\u001b[0;34m*\u001b[0m\u001b[0margs\u001b[0m\u001b[0;34m,\u001b[0m \u001b[0;34m**\u001b[0m\u001b[0mkwds\u001b[0m\u001b[0;34m)\u001b[0m\u001b[0;34m\u001b[0m\u001b[0;34m\u001b[0m\u001b[0m\n\u001b[0m\u001b[1;32m    895\u001b[0m \u001b[0;34m\u001b[0m\u001b[0m\n\u001b[1;32m    896\u001b[0m       \u001b[0mnew_tracing_count\u001b[0m \u001b[0;34m=\u001b[0m \u001b[0mself\u001b[0m\u001b[0;34m.\u001b[0m\u001b[0mexperimental_get_tracing_count\u001b[0m\u001b[0;34m(\u001b[0m\u001b[0;34m)\u001b[0m\u001b[0;34m\u001b[0m\u001b[0;34m\u001b[0m\u001b[0m\n",
      "\u001b[0;32m~/opt/anaconda3/lib/python3.9/site-packages/tensorflow/python/eager/polymorphic_function/polymorphic_function.py\u001b[0m in \u001b[0;36m_call\u001b[0;34m(self, *args, **kwds)\u001b[0m\n\u001b[1;32m    924\u001b[0m       \u001b[0;31m# In this case we have created variables on the first call, so we run the\u001b[0m\u001b[0;34m\u001b[0m\u001b[0;34m\u001b[0m\u001b[0m\n\u001b[1;32m    925\u001b[0m       \u001b[0;31m# defunned version which is guaranteed to never create variables.\u001b[0m\u001b[0;34m\u001b[0m\u001b[0;34m\u001b[0m\u001b[0m\n\u001b[0;32m--> 926\u001b[0;31m       \u001b[0;32mreturn\u001b[0m \u001b[0mself\u001b[0m\u001b[0;34m.\u001b[0m\u001b[0m_no_variable_creation_fn\u001b[0m\u001b[0;34m(\u001b[0m\u001b[0;34m*\u001b[0m\u001b[0margs\u001b[0m\u001b[0;34m,\u001b[0m \u001b[0;34m**\u001b[0m\u001b[0mkwds\u001b[0m\u001b[0;34m)\u001b[0m  \u001b[0;31m# pylint: disable=not-callable\u001b[0m\u001b[0;34m\u001b[0m\u001b[0;34m\u001b[0m\u001b[0m\n\u001b[0m\u001b[1;32m    927\u001b[0m     \u001b[0;32melif\u001b[0m \u001b[0mself\u001b[0m\u001b[0;34m.\u001b[0m\u001b[0m_variable_creation_fn\u001b[0m \u001b[0;32mis\u001b[0m \u001b[0;32mnot\u001b[0m \u001b[0;32mNone\u001b[0m\u001b[0;34m:\u001b[0m\u001b[0;34m\u001b[0m\u001b[0;34m\u001b[0m\u001b[0m\n\u001b[1;32m    928\u001b[0m       \u001b[0;31m# Release the lock early so that multiple threads can perform the call\u001b[0m\u001b[0;34m\u001b[0m\u001b[0;34m\u001b[0m\u001b[0m\n",
      "\u001b[0;32m~/opt/anaconda3/lib/python3.9/site-packages/tensorflow/python/eager/polymorphic_function/tracing_compiler.py\u001b[0m in \u001b[0;36m__call__\u001b[0;34m(self, *args, **kwargs)\u001b[0m\n\u001b[1;32m    141\u001b[0m       (concrete_function,\n\u001b[1;32m    142\u001b[0m        filtered_flat_args) = self._maybe_define_function(args, kwargs)\n\u001b[0;32m--> 143\u001b[0;31m     return concrete_function._call_flat(\n\u001b[0m\u001b[1;32m    144\u001b[0m         filtered_flat_args, captured_inputs=concrete_function.captured_inputs)  # pylint: disable=protected-access\n\u001b[1;32m    145\u001b[0m \u001b[0;34m\u001b[0m\u001b[0m\n",
      "\u001b[0;32m~/opt/anaconda3/lib/python3.9/site-packages/tensorflow/python/eager/polymorphic_function/monomorphic_function.py\u001b[0m in \u001b[0;36m_call_flat\u001b[0;34m(self, args, captured_inputs, cancellation_manager)\u001b[0m\n\u001b[1;32m   1755\u001b[0m         and executing_eagerly):\n\u001b[1;32m   1756\u001b[0m       \u001b[0;31m# No tape is watching; skip to running the function.\u001b[0m\u001b[0;34m\u001b[0m\u001b[0;34m\u001b[0m\u001b[0m\n\u001b[0;32m-> 1757\u001b[0;31m       return self._build_call_outputs(self._inference_function.call(\n\u001b[0m\u001b[1;32m   1758\u001b[0m           ctx, args, cancellation_manager=cancellation_manager))\n\u001b[1;32m   1759\u001b[0m     forward_backward = self._select_forward_and_backward_functions(\n",
      "\u001b[0;32m~/opt/anaconda3/lib/python3.9/site-packages/tensorflow/python/eager/polymorphic_function/monomorphic_function.py\u001b[0m in \u001b[0;36mcall\u001b[0;34m(self, ctx, args, cancellation_manager)\u001b[0m\n\u001b[1;32m    379\u001b[0m       \u001b[0;32mwith\u001b[0m \u001b[0m_InterpolateFunctionError\u001b[0m\u001b[0;34m(\u001b[0m\u001b[0mself\u001b[0m\u001b[0;34m)\u001b[0m\u001b[0;34m:\u001b[0m\u001b[0;34m\u001b[0m\u001b[0;34m\u001b[0m\u001b[0m\n\u001b[1;32m    380\u001b[0m         \u001b[0;32mif\u001b[0m \u001b[0mcancellation_manager\u001b[0m \u001b[0;32mis\u001b[0m \u001b[0;32mNone\u001b[0m\u001b[0;34m:\u001b[0m\u001b[0;34m\u001b[0m\u001b[0;34m\u001b[0m\u001b[0m\n\u001b[0;32m--> 381\u001b[0;31m           outputs = execute.execute(\n\u001b[0m\u001b[1;32m    382\u001b[0m               \u001b[0mstr\u001b[0m\u001b[0;34m(\u001b[0m\u001b[0mself\u001b[0m\u001b[0;34m.\u001b[0m\u001b[0msignature\u001b[0m\u001b[0;34m.\u001b[0m\u001b[0mname\u001b[0m\u001b[0;34m)\u001b[0m\u001b[0;34m,\u001b[0m\u001b[0;34m\u001b[0m\u001b[0;34m\u001b[0m\u001b[0m\n\u001b[1;32m    383\u001b[0m               \u001b[0mnum_outputs\u001b[0m\u001b[0;34m=\u001b[0m\u001b[0mself\u001b[0m\u001b[0;34m.\u001b[0m\u001b[0m_num_outputs\u001b[0m\u001b[0;34m,\u001b[0m\u001b[0;34m\u001b[0m\u001b[0;34m\u001b[0m\u001b[0m\n",
      "\u001b[0;32m~/opt/anaconda3/lib/python3.9/site-packages/tensorflow/python/eager/execute.py\u001b[0m in \u001b[0;36mquick_execute\u001b[0;34m(op_name, num_outputs, inputs, attrs, ctx, name)\u001b[0m\n\u001b[1;32m     50\u001b[0m   \u001b[0;32mtry\u001b[0m\u001b[0;34m:\u001b[0m\u001b[0;34m\u001b[0m\u001b[0;34m\u001b[0m\u001b[0m\n\u001b[1;32m     51\u001b[0m     \u001b[0mctx\u001b[0m\u001b[0;34m.\u001b[0m\u001b[0mensure_initialized\u001b[0m\u001b[0;34m(\u001b[0m\u001b[0;34m)\u001b[0m\u001b[0;34m\u001b[0m\u001b[0;34m\u001b[0m\u001b[0m\n\u001b[0;32m---> 52\u001b[0;31m     tensors = pywrap_tfe.TFE_Py_Execute(ctx._handle, device_name, op_name,\n\u001b[0m\u001b[1;32m     53\u001b[0m                                         inputs, attrs, num_outputs)\n\u001b[1;32m     54\u001b[0m   \u001b[0;32mexcept\u001b[0m \u001b[0mcore\u001b[0m\u001b[0;34m.\u001b[0m\u001b[0m_NotOkStatusException\u001b[0m \u001b[0;32mas\u001b[0m \u001b[0me\u001b[0m\u001b[0;34m:\u001b[0m\u001b[0;34m\u001b[0m\u001b[0;34m\u001b[0m\u001b[0m\n",
      "\u001b[0;31mKeyboardInterrupt\u001b[0m: "
     ]
    }
   ],
   "source": [
    "import numpy as np\n",
    "from tensorflow.keras.models import Sequential\n",
    "from tensorflow.keras.layers import LSTM, Dense\n",
    "import tensorflow as tf\n",
    "from tensorflow.keras.utils import to_categorical\n",
    "\n",
    "\n",
    "# Преобразование данных NumPy в формат TensorFlow\n",
    "# Предполагая, что у вас есть обучающие данные и соответствующие метки классов\n",
    "X_train =tf.convert_to_tensor(train_data, dtype=tf.float32)  # Форма (n_samples, sequence_length, input_dim)\n",
    "\n",
    "y_train_one_hot = to_categorical(train_labels)\n",
    "y_train =  tf.convert_to_tensor(y_train_one_hot, dtype=tf.float32) # Форма (n_samples, num_classes)\n",
    "\n",
    "sequence_length = len(X[0])\n",
    "input_dim = 4\n",
    "\n",
    "\n",
    "\n",
    "# Создание модели RNN\n",
    "model = Sequential()\n",
    "model.add(LSTM(units=8, input_shape=(sequence_length, input_dim)))\n",
    "model.add(Dense(units=num_classes, activation='softmax'))\n",
    "\n",
    "# Компиляция и обучение модели\n",
    "model.compile(loss='categorical_crossentropy', optimizer='adam', metrics=['accuracy'])\n",
    "model.fit(X_train, y_train, epochs=10, batch_size=32)\n",
    "\n",
    "# После обучения модели можно использовать для предсказания новых данных\n",
    "X_test = test_data  # Форма (n_samples, sequence_length, input_dim)\n",
    "y_pred = model.predict(X_test)\n"
   ]
  },
  {
   "cell_type": "code",
   "execution_count": 27,
   "id": "5cb17c71",
   "metadata": {},
   "outputs": [
    {
     "data": {
      "text/plain": [
       "<tf.Tensor: shape=(14729,), dtype=float32, numpy=array([0., 1., 0., ..., 1., 1., 0.], dtype=float32)>"
      ]
     },
     "execution_count": 27,
     "metadata": {},
     "output_type": "execute_result"
    }
   ],
   "source": [
    "X_train\n",
    "y_train\n"
   ]
  },
  {
   "cell_type": "code",
   "execution_count": 31,
   "id": "563af368",
   "metadata": {},
   "outputs": [
    {
     "data": {
      "text/plain": [
       "ERROR: Failed to launch TensorBoard (exited with 2).\n",
       "Contents of stderr:\n",
       "usage: tensorboard [-h] [--helpfull] [--logdir PATH] [--logdir_spec PATH_SPEC]\n",
       "                   [--host ADDR] [--bind_all] [--port PORT]\n",
       "                   [--reuse_port BOOL] [--load_fast {false,auto,true}]\n",
       "                   [--extra_data_server_flags EXTRA_DATA_SERVER_FLAGS]\n",
       "                   [--grpc_creds_type {local,ssl,ssl_dev}]\n",
       "                   [--grpc_data_provider PORT] [--purge_orphaned_data BOOL]\n",
       "                   [--db URI] [--db_import] [--inspect] [--version_tb]\n",
       "                   [--tag TAG] [--event_file PATH] [--path_prefix PATH]\n",
       "                   [--window_title TEXT] [--max_reload_threads COUNT]\n",
       "                   [--reload_interval SECONDS] [--reload_task TYPE]\n",
       "                   [--reload_multifile BOOL]\n",
       "                   [--reload_multifile_inactive_secs SECONDS]\n",
       "                   [--generic_data TYPE]\n",
       "                   [--samples_per_plugin SAMPLES_PER_PLUGIN]\n",
       "                   [--detect_file_replacement BOOL]\n",
       "                   {serve,dev} ...\n",
       "tensorboard: error: argument {serve,dev}: invalid choice: '--' (choose from 'serve', 'dev')"
      ]
     },
     "metadata": {},
     "output_type": "display_data"
    }
   ],
   "source": [
    "%load_ext tensorboard\n",
    "%tensorboard --/Users/polilya/Desktop/пайплайн/try_tens_1.tfevents"
   ]
  },
  {
   "cell_type": "code",
   "execution_count": 33,
   "id": "c0fa6373",
   "metadata": {},
   "outputs": [
    {
     "ename": "SyntaxError",
     "evalue": "invalid syntax (3873788446.py, line 1)",
     "output_type": "error",
     "traceback": [
      "\u001b[0;36m  File \u001b[0;32m\"/var/folders/dy/76wm8jgj50vc8kygzhcz93jw0000gn/T/ipykernel_14812/3873788446.py\"\u001b[0;36m, line \u001b[0;32m1\u001b[0m\n\u001b[0;31m    TensorBoard 2.6.0 at http://localhost:6006/ (Press CTRL+C to quit)\u001b[0m\n\u001b[0m                ^\u001b[0m\n\u001b[0;31mSyntaxError\u001b[0m\u001b[0;31m:\u001b[0m invalid syntax\n"
     ]
    }
   ],
   "source": []
  },
  {
   "cell_type": "code",
   "execution_count": null,
   "id": "2b33931c",
   "metadata": {},
   "outputs": [],
   "source": []
  },
  {
   "cell_type": "code",
   "execution_count": null,
   "id": "00686367",
   "metadata": {},
   "outputs": [],
   "source": []
  },
  {
   "cell_type": "code",
   "execution_count": null,
   "id": "3140390a",
   "metadata": {},
   "outputs": [],
   "source": []
  },
  {
   "attachments": {},
   "cell_type": "markdown",
   "id": "16270862",
   "metadata": {},
   "source": [
    "# давайте теперь я возьму более сложную разметку файлов"
   ]
  },
  {
   "attachments": {},
   "cell_type": "markdown",
   "id": "1c731b45",
   "metadata": {},
   "source": [
    "а именно сделаю пайплайн\n",
    "    первая нейронная сеть будет находить в наличие или отсутствие кодирующих последовательностей\n",
    "    вторая нейронная сеть будет находить границы этих последовательностей в тех данных, где предыдущая решила, что она есть\n",
    "    \n",
    "    \n",
    "    \n",
    "    \n",
    "вариант 1\n",
    "пускай данные будут все еще старые, то есть кодирующая последовательность находится ровно в центре\n",
    "ее параметры: длинна, место старта ()\n",
    "метрики потерь: расстояние от реального старта до найденного\n",
    "\n",
    "их здорово объединяет дайс метрика. можно реализовать для одномерного"
   ]
  },
  {
   "cell_type": "code",
   "execution_count": null,
   "id": "1e9228f8",
   "metadata": {},
   "outputs": [],
   "source": []
  }
 ],
 "metadata": {
  "kernelspec": {
   "display_name": "Python 3 (ipykernel)",
   "language": "python",
   "name": "python3"
  },
  "language_info": {
   "codemirror_mode": {
    "name": "ipython",
    "version": 3
   },
   "file_extension": ".py",
   "mimetype": "text/x-python",
   "name": "python",
   "nbconvert_exporter": "python",
   "pygments_lexer": "ipython3",
   "version": "3.10.11"
  }
 },
 "nbformat": 4,
 "nbformat_minor": 5
}
